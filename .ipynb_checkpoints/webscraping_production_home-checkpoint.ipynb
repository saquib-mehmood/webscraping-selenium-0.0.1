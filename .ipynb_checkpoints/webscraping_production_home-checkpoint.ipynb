{
 "cells": [
  {
   "cell_type": "markdown",
   "id": "508f8853",
   "metadata": {},
   "source": [
    "# Part-1 CODE-BLOCK\n",
    "- Do not make any changes in the 'CODE-BLOCK'\n",
    "- Execute all cells in sequence\n",
    "- Test-Blocks are disabled but for safety do not try to execute any cell marked as Test-Block"
   ]
  },
  {
   "cell_type": "code",
   "execution_count": 1,
   "id": "f42a824b",
   "metadata": {},
   "outputs": [],
   "source": [
    "# import necessary libraries\n",
    "import time\n",
    "import requests\n",
    "import re\n",
    "import numpy as np\n",
    "import pandas as pd\n",
    "from contextlib import suppress\n",
    "from selenium import webdriver\n",
    "from selenium.webdriver.chrome.service import Service as ChromeService\n",
    "from webdriver_manager.chrome import ChromeDriverManager\n",
    "from selenium.webdriver.support.wait import WebDriverWait \n",
    "from selenium.webdriver.chrome.options import Options\n",
    "from selenium.webdriver.support import expected_conditions as EC\n",
    "from selenium.webdriver.common.by import By\n",
    "\n",
    "# Install webdriver manager to automatically detect driver location\n",
    "service = ChromeService(executable_path=ChromeDriverManager().install())\n",
    "\n",
    "# Set up ChromeDriver options\n",
    "chrome_options = Options()\n",
    "chrome_options.add_argument('--headless') # Run in headless mode to avoid opening a new browser window\n"
   ]
  },
  {
   "cell_type": "code",
   "execution_count": 2,
   "id": "6dfe6572",
   "metadata": {},
   "outputs": [],
   "source": [
    "def extract_hrefs(n=2, sleep = 15):\n",
    "    \"\"\"\n",
    "    Extracts all hrefs from a paginated web url as a list \n",
    "    Args:\n",
    "        n = number of paginated web urls from which hrefs are to be extracted, default = 5\n",
    "        sleep = time in seconds to sleep before quitting the driver, default = 15 sec\n",
    "        url = paginated url from which data is to be extracted\n",
    "    Returns:\n",
    "        (list) containining the hrefs found on each page \n",
    "    \n",
    "    \"\"\"\n",
    "    \n",
    "        # Initialize empty list to store results\n",
    "    all_hrefs = []\n",
    "\n",
    "    \n",
    "    # Loop over n list pages\n",
    "    for i in range(1, n+1):\n",
    "        # Build URL for current list pages having links to company profiles\n",
    "        # Don't uncomment following line of code\n",
    "        url = f\"https://wirmarket.wir.ch/de/members/list/?page={i}&resultAmount=100\"\n",
    "        \n",
    "\n",
    "        # Launch ChromeDriver and load websites\n",
    "        # In order to disable browser windows opening for websites amend the code of the following line:\n",
    "        # driver = webdriver.Chrome(service=service, options = chrome_options)\n",
    "        driver = webdriver.Chrome(service=service)\n",
    "\n",
    "        # Don't uncomment the code on the following line, it is for testing\n",
    "        #   driver.implicitly_wait(20) # seconds\n",
    "        driver.get(url)\n",
    "\n",
    "        # Wait for all anchor elements to be present\n",
    "        # WebDriverWait(driver, 180).until(EC.visiblity_of_all_elements_located((By.CSS_SELECTOR, \"a\")))\n",
    "        # Due to intermittent functionality of WebDriverWait, we introduce sleep() function to get all anchors\n",
    "        # This value is presently set at 15 secs but you may change it depending upon internet speed\n",
    "        time.sleep(sleep)\n",
    "        # Extract hrefs from all anchor elements on current website\n",
    "        hrefs = [a.get_attribute('href') for a in driver.find_elements(By.CSS_SELECTOR, \"a\")]\n",
    "\n",
    "        # Add hrefs to the list of all hrefs\n",
    "        all_hrefs.extend(hrefs) # extend flattens the list so that it is no longer a list of lists\n",
    "\n",
    "        # Close the current browser window\n",
    "        driver.quit()\n",
    "    return all_hrefs\n"
   ]
  },
  {
   "cell_type": "code",
   "execution_count": 3,
   "id": "afd515ac",
   "metadata": {},
   "outputs": [],
   "source": [
    "### Test Block ! DO NOT EXECUTE\n",
    "# url = f\"https://wirmarket.wir.ch/de/members/list/?page={i}&resultAmount=100\"\n",
    "# all_hrefs_list = extract_hrefs(n=2, sleep = 15, \n",
    "#                          url = url)\n",
    "                          \n",
    "# # Check the length of all_hrefs list\n",
    "# # Each list link contains between 400-500 hrefs\n",
    "# print(len(all_hrefs_list))\n",
    "# # Check for duplicates\n",
    "# print(len(set(all_hrefs_list)))\n",
    "\n",
    "# # Test for function extract_hrefs passed"
   ]
  },
  {
   "cell_type": "code",
   "execution_count": 4,
   "id": "9956773f",
   "metadata": {},
   "outputs": [],
   "source": [
    "def unique_urls(urls_list):\n",
    "    \"\"\"\n",
    "    Removes repeated entries of urls in a list which might occur due to use of regex or multiple occurences on a page\n",
    "    Args:\n",
    "        urls_list: list containing urls which might be repetitive entries\n",
    "    Returns: list containing unique urls\n",
    "    \"\"\"\n",
    "    # convert to set\n",
    "    urls_set = set(urls_list)\n",
    "    # convert back to list\n",
    "    unique_urls_list = list(urls_set)\n",
    "    \n",
    "    return unique_urls_list\n"
   ]
  },
  {
   "cell_type": "code",
   "execution_count": 5,
   "id": "d1d716de",
   "metadata": {},
   "outputs": [],
   "source": [
    "# ## Test-Block !DO NOT EXECUTE\n",
    "# unique_hrefs = unique_urls(all_hrefs_list)\n",
    "# print(len(unique_hrefs))\n",
    "\n",
    "# # Test for function unique_urls passed"
   ]
  },
  {
   "cell_type": "code",
   "execution_count": 6,
   "id": "7ccca824",
   "metadata": {},
   "outputs": [],
   "source": [
    "def regex_pattern_urls(pattern, hrefs_list): \n",
    "    \"\"\"\n",
    "    Uses a regex pattern to extract urls of interest out of a list of urls\n",
    "    pattern: regex pattern used for extracting urls from a list of urls\n",
    "    hrefs_list: list of hrefs required to be filtered according to the regex pattern\n",
    "    returns:urls_of_interest a list of urls filtered according to regex pattern provided\n",
    "        \n",
    "    \"\"\"\n",
    "    # Filter the list 'all_hrefs' to keep only the company profile page urls\n",
    "\n",
    "    #import regex library\n",
    "    import re\n",
    "    # regex pattern for company profile pages\n",
    "    # Do not uncomment following line of code\n",
    "#     pattern = r'https:\\/\\/\\w+\\.wir\\.ch\\/de\\/companyProfile\\/profile\\/[0-9A-F]{32}\\/info\\/\\?promo=false$'\n",
    "\n",
    "    urls_of_interest = []\n",
    "\n",
    "    # loop over all_hrefs list extracted above with Selenium to extract company profile urls\n",
    "    for href in hrefs_list:\n",
    "        match = re.search(pattern, str(href))\n",
    "        if match:\n",
    "            url = (match.group())\n",
    "            urls_of_interest.append(url)\n",
    "    return urls_of_interest        "
   ]
  },
  {
   "cell_type": "code",
   "execution_count": 7,
   "id": "970ddf9e",
   "metadata": {},
   "outputs": [],
   "source": [
    "# ## Test-Block !DO NOT EXECUTE\n",
    "\n",
    "# pattern = r'https:\\/\\/\\w+\\.wir\\.ch\\/de\\/companyProfile\\/profile\\/[0-9A-F]{32}\\/info\\/\\?promo=false$'\n",
    "# company_profile_urls =  regex_pattern_urls(pattern, unique_hrefs)\n",
    "# print(len(company_profile_urls))\n",
    "# unique_company_profile_urls = unique_urls(company_profile_urls)\n",
    "# print(len(unique_company_profile_urls)) # should be 200 (slight variation of up to 5% is acceptable due to variation in internet speed)\n",
    "# print(unique_company_profile_urls[:10]) #must contain the string \"info\" in them\n",
    "\n",
    "# # Test for regex_pattern_urls passed"
   ]
  },
  {
   "cell_type": "code",
   "execution_count": 8,
   "id": "9d76f4bd",
   "metadata": {},
   "outputs": [],
   "source": [
    "def extract_info_of_interest(url_list, batch_size = 1000, batch_start_index = 0, sleep=10):\n",
    "    \"\"\"\n",
    "    Extracts all the relevant information from the given unique pages using selenium web driver finders and locators\n",
    "    Args:\n",
    "    url_list: list of the pages from where info is to be extracted\n",
    "    batch_size (int): Number of pages to be processed at a time. It is recommended to process large number of pages in batches of 1000\n",
    "    batch_start_index(int): index of the url_list from where parsing should start\n",
    "    sleep(int): seconds to wait for page to load before info can be parsed. It overrides WebDriverWait() function\n",
    "    Returns:\n",
    "    list of list of extracted data where each list contains data from a single page\n",
    "    \"\"\"\n",
    "    # Dont't uncomment following line of code, it is for troubleshooting\n",
    "#   from contextlib import suppress\n",
    "\n",
    "    # prepare the urls batch to be processed\n",
    "    batch = url_list[batch_start_index:batch_start_index+batch_size+1]\n",
    "\n",
    "    company_data = [] # initialize a list to contain lists of all companies' info\n",
    "\n",
    "\n",
    "    count = 0\n",
    "\n",
    "    for url in batch:\n",
    "        company_info = [] # initialize a list to contain one company's info\n",
    "\n",
    "\n",
    "        # driver control block\n",
    "        driver = webdriver.Chrome(service=service)\n",
    "        driver.get(url)\n",
    "        time.sleep(sleep) # We are using sleep to avoid errors of WebDriverWait though it is timewise costly\n",
    "\n",
    "\n",
    "    # Using suppress context to ignore known exceptions\n",
    "    # Do not uncomment following line of code as it may lead to execution errors it is for testing\n",
    "    #     with suppress(Exception): \n",
    "\n",
    "        # Get company names\n",
    "\n",
    "        try:\n",
    "    #         WebDriverWait(driver, 10).until(EC.presence_of_element_located((By.ID, \"71-lnk\")))\n",
    "\n",
    "            h3_headings = driver.find_elements(By.CLASS_NAME, \"inline-block\") # find all elements with class = \"inline-block\"\n",
    "            h3_list = []\n",
    "            for heading in h3_headings: #loop through the list obtained\n",
    "                h3_list.append(heading.text) # get text of all h3 headings\n",
    "            company_name = h3_list[0] # company name is the first item in the list\n",
    "            company_info.append(company_name)   \n",
    "        except:\n",
    "            company_info.append('NA')\n",
    "        finally:\n",
    "                pass\n",
    "\n",
    "\n",
    "        # Get company industry\n",
    "\n",
    "        try:\n",
    "\n",
    "            uls = driver.find_elements(By.CLASS_NAME, \"default\")\n",
    "            list_items = driver.find_elements(By.TAG_NAME,\"li\")   \n",
    "            li_list = []\n",
    "            for li in list_items:\n",
    "                li_list.append(li.text)\n",
    "            industry_name = li_list[20] # industry name is the twenty first item in the list\n",
    "            company_info.append(industry_name)   \n",
    "        except:\n",
    "            company_info.append('NA')\n",
    "        finally:\n",
    "                pass\n",
    "\n",
    "        # Get company website if present         \n",
    "        try:\n",
    "    #       WebDriverWait(driver, 10).until(EC.presence_of_element_located((By.ID, \"68-lnk\")))\n",
    "            anchor = driver.find_element(By.ID, \"68-lnk\")\n",
    "            website = anchor.get_attribute('href')\n",
    "            company_info.append(website)\n",
    "        except:\n",
    "                company_info.append('NA')\n",
    "        finally:\n",
    "                pass\n",
    "\n",
    "        # Get company telephoone if available\n",
    "        try:\n",
    "    #         WebDriverWait(driver, 10).until(EC.presence_of_element_located((By.ID, \"66-lnk\")))\n",
    "            anchor = driver.find_element(By.ID, \"66-lnk\")\n",
    "            company_telephone = anchor.get_attribute('href')\n",
    "            company_info.append(company_telephone)\n",
    "        except:\n",
    "            company_info.append('NA')\n",
    "        finally:\n",
    "                pass\n",
    "        # Get company fax if available\n",
    "        try:\n",
    "    #         WebDriverWait(driver, 10).until(EC.presence_of_element_located((By.ID, \"fax-lnk\")))\n",
    "            anchor = driver.find_element(By.ID, \"fax-lnk\")\n",
    "            company_fax_no = anchor.get_attribute('href')\n",
    "            company_info.append(company_fax_no)\n",
    "        except:\n",
    "            company_info.append('NA')\n",
    "        finally: \n",
    "                pass\n",
    "\n",
    "       # Get company address and address google map link\n",
    "        try:\n",
    "    #       WebDriverWait(driver, 10).until(EC.presence_of_element_located((By.ID, \"6-lnk\")))\n",
    "            anchor = driver.find_element(By.ID, \"6-lnk\")\n",
    "            address = anchor.text\n",
    "            address_map_link = anchor.get_attribute('href')\n",
    "            company_info.append(address)\n",
    "            company_info.append(address_map_link)\n",
    "\n",
    "        except:\n",
    "                company_info.append('NA')\n",
    "        finally:\n",
    "                pass\n",
    "\n",
    "\n",
    "        company_data.append(company_info)\n",
    "        company_info = [] # reinitialize company_info\n",
    "        \n",
    "        count+=1\n",
    "        print(\"count\", count)\n",
    "\n",
    "        driver.quit()\n",
    "    return company_data\n"
   ]
  },
  {
   "cell_type": "code",
   "execution_count": 9,
   "id": "a8b743f8",
   "metadata": {},
   "outputs": [],
   "source": [
    "# ## Test-Block !DO NOT Execute\n",
    "# company_data_lists = extract_info_of_interest(url_list = unique_company_profile_urls, batch_size = 200, batch_start_index = 0, sleep=10)"
   ]
  },
  {
   "cell_type": "code",
   "execution_count": 10,
   "id": "84f699e2",
   "metadata": {},
   "outputs": [],
   "source": [
    "# # Test-Block !Do Not Execute\n",
    "# print(len(company_data_lists)) # should be equal to batch size i.e. 200\n",
    "# # test for extract_info_of_interest passed"
   ]
  },
  {
   "cell_type": "code",
   "execution_count": 11,
   "id": "d0360962",
   "metadata": {},
   "outputs": [],
   "source": [
    "# # Test-Block !DO NOT ExECUTE\n",
    "# print(len(company_data_lists[-1]))\n",
    "# print(company_data_lists[:5]) \n",
    "# # Should be a list of lists\n",
    "# # Each list should have seven items\n",
    "# # First item in each list should be 'company name', second: 'industry', third: website, \n",
    "# # fourth: 'tel', fifth 'fax', sixth: 'address', seventh: 'address maplink'\n",
    "# # data not available should be represented by appropriate remarks\n",
    "\n",
    "# # test for extract_info_of_interest_passed"
   ]
  },
  {
   "cell_type": "code",
   "execution_count": 12,
   "id": "33af521a",
   "metadata": {},
   "outputs": [],
   "source": [
    "def extract_emails_from_homepage(info_list, pattern=r'\\b[A-Za-z0-9._%+-]+@[A-Za-z0-9.-]+\\.[A-Z|a-z]{2,}\\b', index=2):\n",
    "    \"\"\"Extracts emails from a list of lists containing a referred website address using a regex pattern\n",
    "    Args:\n",
    "    info_list: list of lists containing extracted info including website address\n",
    "    pattern: regex pattern to cover all possible formats of email addresses\n",
    "    index(int): index number in the lists where website address is located, default=2\n",
    "    Returns: info_list_with_emails a list with email addresses appended to info_list\n",
    "    \"\"\"\n",
    "\n",
    "    import requests\n",
    "    import re\n",
    "    from bs4 import BeautifulSoup\n",
    "\n",
    "    info_list_with_emails = info_list.copy()  # make a copy to avoid overwriting original list\n",
    "    all_links = []\n",
    "    for page in info_list_with_emails:\n",
    "        try:\n",
    "            home_page = str(page[index])\n",
    "            response = requests.get(home_page)\n",
    "\n",
    "            if response.status_code == 200:\n",
    "                soup = BeautifulSoup(response.text, 'html.parser')\n",
    "                hrefs = [link.get('href') for link in soup.find_all('a')]  # get all links on the homepage\n",
    "                # search for emails in homepage response text\n",
    "                emails = re.findall(pattern, response.text)\n",
    "                if emails:\n",
    "                    unique_emails = set(emails)\n",
    "                    unique_emails_list = list(unique_emails)\n",
    "                    page.append(unique_emails_list[0])\n",
    "                    all_links.append(unique_emails_list[0])\n",
    "                else:\n",
    "                    # search for emails in homepage hrefs\n",
    "                    for href in hrefs:\n",
    "                        if href and href.startswith (str('mailto:')):\n",
    "                            emails = [] \n",
    "                            email = href.split(':')[1]\n",
    "                            emails.append(email)\n",
    "                            page.append(emails[0])\n",
    "                            all_links.append(email)\n",
    "                            break\n",
    "                        else:\n",
    "                            pass\n",
    "                        \n",
    "            else:\n",
    "                page.append('bad link')\n",
    "        except:\n",
    "            page.append('website not accessible')\n",
    "\n",
    "    print('No of emails found: ', len(all_links))\n",
    "   \n",
    "    return info_list_with_emails\n"
   ]
  },
  {
   "cell_type": "code",
   "execution_count": 13,
   "id": "767e94f2",
   "metadata": {},
   "outputs": [],
   "source": [
    "def extract_emails_from_allpages(info_list, pattern=r'\\b[A-Za-z0-9._%+-]+@[A-Za-z0-9.-]+\\.[A-Z|a-z]{2,}\\b', index=2):\n",
    "    \"\"\"Extracts emails from a list of lists containing a referred website address using a regex pattern\n",
    "    Args:\n",
    "    info_list: list of lists containing extracted info including website address\n",
    "    pattern: regex pattern to cover all possible formats of email addresses\n",
    "    index(int): index number in the lists where website address is located, default=2\n",
    "    Returns: info_list_with_emails a list with email addresses appended to info_list\n",
    "    \"\"\"\n",
    "\n",
    "    import requests\n",
    "    import re\n",
    "    from bs4 import BeautifulSoup\n",
    "\n",
    "    info_list_with_emails = info_list.copy()  # make a copy to avoid overwriting original list\n",
    "    all_links = []\n",
    "    \n",
    "    for page in info_list_with_emails:\n",
    "        try:\n",
    "            home_page = str(page[index])\n",
    "            response = requests.get(home_page)\n",
    "\n",
    "            if response.status_code == 200:\n",
    "                soup = BeautifulSoup(response.text, 'html.parser')\n",
    "                hrefs = [link.get('href') for link in soup.find_all('a')]  # get all links on the homepage\n",
    "\n",
    "                # search for emails on the homepage\n",
    "                emails = re.findall(pattern, response.text)\n",
    "                if emails:\n",
    "                    unique_emails = set(emails)\n",
    "                    unique_emails_list = list(unique_emails)\n",
    "                    page.append(unique_emails_list[0])\n",
    "                    all_links.append(unique_emails_list[0])\n",
    "                else:\n",
    "                    # search for emails on all links found\n",
    "                    email_found = False\n",
    "                    for href in hrefs:\n",
    "                        if href and href.startswith(str('mailto:')):\n",
    "                            emails = [] \n",
    "                            email = href.split(':')[1]\n",
    "                            emails.append(email)\n",
    "                            page.append(emails[0])\n",
    "                            all_links.append(emails[0])\n",
    "                            email_found = True\n",
    "                            break\n",
    "                        elif 'http' not in href:\n",
    "                            link = home_page[:-1]+ href\n",
    "                            link_response = requests.get(link)\n",
    "                            if link_response.status_code == 200:\n",
    "                                link_soup = BeautifulSoup(link_response.text, 'html.parser')\n",
    "                                link_hrefs = [link.get('href') for link in link_soup.find_all('a')]\n",
    "\n",
    "                                emails = re.findall(pattern, link_response.text)\n",
    "                                if emails:\n",
    "                                    unique_emails = set(emails)\n",
    "                                    unique_emails_list = list(unique_emails)\n",
    "                                    page.append(unique_emails_list[0])\n",
    "                                    all_links.append(unique_emails_list[0])\n",
    "                                    email_found = True\n",
    "                                    break\n",
    "                                        \n",
    "                    if not email_found:\n",
    "                        page.append(\"NA\")\n",
    "                        \n",
    "            else:\n",
    "                page.append('bad link')\n",
    "        except:\n",
    "            page.append('website not accessible')\n",
    "\n",
    "    print('No of emails found: ', len(all_links), all_links)\n",
    "\n",
    "   \n",
    "    return info_list_with_emails\n"
   ]
  },
  {
   "cell_type": "code",
   "execution_count": 14,
   "id": "1f7d05cc",
   "metadata": {},
   "outputs": [],
   "source": [
    "# ## Test_Bloack !DO NOT EXECUTE\n",
    "# company_data_lists_with_emails = extract_emails_from_websites(company_data_lists)"
   ]
  },
  {
   "cell_type": "code",
   "execution_count": 15,
   "id": "a24d3e14",
   "metadata": {},
   "outputs": [],
   "source": [
    "# ## Test_Block !DO NOT EXECUTE\n",
    "# print(len(company_data_lists_with_emails)) # should be same as company_data_lists i.e. 200\n",
    "# print(len(company_data_lists_with_emails[-1])) # should be 8\n",
    "# print(company_data_lists_with_emails[-5:]) #should have 8 items in each list with emails or remarks added\n",
    "\n",
    "# # Test for extract_emails_from_websites passed"
   ]
  },
  {
   "cell_type": "code",
   "execution_count": 16,
   "id": "dd6e725d",
   "metadata": {},
   "outputs": [],
   "source": [
    "# ## Test-Block !DO NOT EXECUTE\n",
    "# # Convert to Dataframe first 100 items\n",
    "# columns=['company_name', 'industry', 'website', 'telephone', 'fax', 'address', 'address_maplink', 'email']\n",
    "\n",
    "# df1 = pd.DataFrame(company_data_lists_with_emails[:100], columns=columns)\n",
    " "
   ]
  },
  {
   "cell_type": "code",
   "execution_count": 17,
   "id": "c1ec8126",
   "metadata": {},
   "outputs": [],
   "source": [
    "# ## Test-Block !DO NOT EXECUTE\n",
    "# df1.info()"
   ]
  },
  {
   "cell_type": "code",
   "execution_count": 18,
   "id": "a4591f26",
   "metadata": {},
   "outputs": [],
   "source": [
    "# ## Test_Block !DO NOT EXECUTE\n",
    "# df1.head()"
   ]
  },
  {
   "cell_type": "code",
   "execution_count": 19,
   "id": "d48b0f28",
   "metadata": {},
   "outputs": [],
   "source": [
    "# ## Test-Block !DO NOT EXECUTE\n",
    "# # Convert to DataFrame next 100 items\n",
    "# columns=['company_name', 'industry', 'website', 'telephone', 'fax', 'address', 'address_maplink', 'email']\n",
    "\n",
    "# df2 = pd.DataFrame(company_data_lists_with_emails[101:200], columns=columns)\n"
   ]
  },
  {
   "cell_type": "code",
   "execution_count": 20,
   "id": "5e92d51e",
   "metadata": {},
   "outputs": [],
   "source": [
    "# ## Test-Block !DO NOT EXECUTE\n",
    "# df2.info()"
   ]
  },
  {
   "cell_type": "code",
   "execution_count": 21,
   "id": "989dc46d",
   "metadata": {
    "scrolled": true
   },
   "outputs": [],
   "source": [
    "# ## Test_Block !DO NOT EXECUTE\n",
    "# df2.head()"
   ]
  },
  {
   "cell_type": "code",
   "execution_count": 22,
   "id": "87eecb29",
   "metadata": {},
   "outputs": [],
   "source": [
    "# ## Test_Block !DO NOT EXECUTE\n",
    "# df2.tail()"
   ]
  },
  {
   "cell_type": "code",
   "execution_count": 23,
   "id": "9d835917",
   "metadata": {},
   "outputs": [],
   "source": [
    "# # Test-Block !DO nOT EXECUTE\n",
    "# # Join both Dataframes\n",
    "# df = pd.concat([df1, df2])"
   ]
  },
  {
   "cell_type": "code",
   "execution_count": 24,
   "id": "63b05885",
   "metadata": {},
   "outputs": [],
   "source": [
    "## Test-Block DO NOT EXECUTE\n",
    "# df.info()"
   ]
  },
  {
   "cell_type": "code",
   "execution_count": 25,
   "id": "b176084c",
   "metadata": {},
   "outputs": [],
   "source": [
    "# ## Test_Block !DO NOT EXECUTE\n",
    "# df.head()==df1.head() # should be same as df1.head()\n",
    "# # test passed"
   ]
  },
  {
   "cell_type": "code",
   "execution_count": 26,
   "id": "67dad03f",
   "metadata": {},
   "outputs": [],
   "source": [
    "# ## Test_Block !DO NOT EXECUTE\n",
    "# df.tail()==df2.tail() # should be same as df2.tail()\n",
    "# # test passed"
   ]
  },
  {
   "cell_type": "markdown",
   "id": "9209261e",
   "metadata": {},
   "source": [
    "### xxxxxxxxxxxxxxxxxxxxxx END OF CODE BLOCKXXXXXXXXXXXXXXXXXXXXXXXX"
   ]
  },
  {
   "cell_type": "markdown",
   "id": "dd50e5e2",
   "metadata": {},
   "source": [
    "## XXXXXXXXXXXXX START OF EXECUTION BLOCXXXXXXXXXXXXXX"
   ]
  },
  {
   "cell_type": "markdown",
   "id": "b2291625",
   "metadata": {},
   "source": [
    "### Part-I Extract links to all company profile pages"
   ]
  },
  {
   "cell_type": "code",
   "execution_count": 27,
   "id": "5dff63f1",
   "metadata": {},
   "outputs": [],
   "source": [
    "## all_hrefs already extracted. Uncomment and execute only if extracting all_hrefs again\n",
    "# # extract all_hrefs from 224 list pages on the site \n",
    "# start_time = time.time()\n",
    "# # url = f\"https://wirmarket.wir.ch/de/members/list/?page={i}&resultAmount=25\"\n",
    "# all_hrefs = extract_hrefs( n=224, sleep = 17)\n",
    "\n",
    "# end_time = time.time()\n",
    "# execution_time = end_time - start_time\n",
    "# print(\"execution_time: \", execution_time)\n"
   ]
  },
  {
   "cell_type": "code",
   "execution_count": 28,
   "id": "b7a31a28",
   "metadata": {
    "scrolled": true
   },
   "outputs": [],
   "source": [
    "## Test-Block !Uncomment and execute only if extracting all_hrefs again\n",
    "# print(len(all_hrefs))"
   ]
  },
  {
   "cell_type": "code",
   "execution_count": 29,
   "id": "29d9f309",
   "metadata": {},
   "outputs": [],
   "source": [
    "# ## all_hrefs.csv already saved. Uncomment and execute only if extracting all_hrefs again\n",
    "# all_hrefs_dict = {\"hrefs\": all_hrefs}\n",
    "# all_hrefs_df = pd.DataFrame(all_hrefs)\n",
    "# all_hrefs_df.to_csv(\"all_hrefs.csv\", index = False)"
   ]
  },
  {
   "cell_type": "code",
   "execution_count": 30,
   "id": "85ea6024",
   "metadata": {},
   "outputs": [
    {
     "ename": "NameError",
     "evalue": "name 'all_hrefs' is not defined",
     "output_type": "error",
     "traceback": [
      "\u001b[1;31m---------------------------------------------------------------------------\u001b[0m",
      "\u001b[1;31mNameError\u001b[0m                                 Traceback (most recent call last)",
      "Cell \u001b[1;32mIn[30], line 3\u001b[0m\n\u001b[0;32m      1\u001b[0m \u001b[38;5;66;03m# Duplicates already removed. !Uncomment and execute only if extracting again\u001b[39;00m\n\u001b[0;32m      2\u001b[0m \u001b[38;5;66;03m# Remove duplicate or repeated entries from the all_hrefs\u001b[39;00m\n\u001b[1;32m----> 3\u001b[0m all_hrefs_unique \u001b[38;5;241m=\u001b[39m unique_urls(\u001b[43mall_hrefs\u001b[49m)\n",
      "\u001b[1;31mNameError\u001b[0m: name 'all_hrefs' is not defined"
     ]
    }
   ],
   "source": [
    "# # Duplicates already removed. !Uncomment and execute only if extracting again\n",
    "# # Remove duplicate or repeated entries from the all_hrefs\n",
    "# all_hrefs_unique = unique_urls(all_hrefs) "
   ]
  },
  {
   "cell_type": "code",
   "execution_count": null,
   "id": "8e09615e",
   "metadata": {},
   "outputs": [],
   "source": [
    "# # Test-Block !Uncomment and execute only if extracting again\n",
    "# print(len(all_hrefs_unique))"
   ]
  },
  {
   "cell_type": "code",
   "execution_count": null,
   "id": "90cf8bd8",
   "metadata": {},
   "outputs": [],
   "source": [
    "# ## Already extracted !Uncomment and execute only if extracting again\n",
    "# # Extract company profile page urls from all unique hrefs\n",
    "# pattern = r'https:\\/\\/\\w+\\.wir\\.ch\\/de\\/companyProfile\\/profile\\/[0-9A-F]{32}\\/info\\/\\?promo=false$'\n",
    "# company_profile_urls = regex_pattern_urls(pattern = pattern, hrefs_list = all_hrefs_unique)"
   ]
  },
  {
   "cell_type": "code",
   "execution_count": null,
   "id": "d31e83a3",
   "metadata": {},
   "outputs": [],
   "source": [
    "# # Test_Block !Uncomment and execute only if extracting again\n",
    "# print(len(company_profile_urls))"
   ]
  },
  {
   "cell_type": "code",
   "execution_count": null,
   "id": "d36bfaa5",
   "metadata": {},
   "outputs": [],
   "source": [
    "# # Uncomment and execute only if extracting again\n",
    "# # Remove duplicate or repeated entries from company_profile_urls\n",
    "# unique_company_profile_urls = unique_urls(company_profile_urls)"
   ]
  },
  {
   "cell_type": "markdown",
   "id": "c44409ab",
   "metadata": {},
   "source": [
    "#### Checkpoint-1"
   ]
  },
  {
   "cell_type": "code",
   "execution_count": null,
   "id": "064d40e8",
   "metadata": {
    "scrolled": true
   },
   "outputs": [],
   "source": [
    "# ## Test-Block. !Uncomment and execute only if extracting again\n",
    "# print(len(unique_company_profile_urls)) # should be 14227 (slight variation of up to 5% is acceptable due to variation in internet speed)\n",
    "# print(unique_company_profile_urls[:10])\n",
    "# print(unique_company_profile_urls[-10:])"
   ]
  },
  {
   "cell_type": "code",
   "execution_count": null,
   "id": "6afee03a",
   "metadata": {},
   "outputs": [],
   "source": [
    "# # company_profile_url already saved as profile_urls.csv. Uncomment and execute only if extracting again\n",
    "# # Save as csv\n",
    "# company_profile_url_dict = {\"urls\": unique_company_profile_urls}\n",
    "# company_profile_url_df = pd.DataFrame(company_profile_url_dict)\n",
    "# company_profile_url_df.to_csv('profile_urls.csv', index = False)"
   ]
  },
  {
   "cell_type": "code",
   "execution_count": null,
   "id": "01b60062",
   "metadata": {},
   "outputs": [],
   "source": [
    "## Comment this code (Ctrl+A followed by Ctrl+/) if extracting hrefs and urls again\n",
    "# import profile_urls.csv as dataframe\n",
    "unique_company_profiles_df = pd.read_csv(\"profile_urls.csv\")"
   ]
  },
  {
   "cell_type": "code",
   "execution_count": null,
   "id": "dd898a4b",
   "metadata": {},
   "outputs": [],
   "source": [
    "## Comment this code (Ctrl+A followed by Ctrl+/) if extracting hrefs and urls again\n",
    "unique_company_profiles_df.info()"
   ]
  },
  {
   "cell_type": "code",
   "execution_count": null,
   "id": "8ceb8285",
   "metadata": {},
   "outputs": [],
   "source": [
    "## Comment this code (Ctrl+A followed by Ctrl+/) if extracting hrefs and urls again\n",
    "unique_company_profile_urls = unique_company_profiles_df['urls'].tolist()\n"
   ]
  },
  {
   "cell_type": "code",
   "execution_count": null,
   "id": "75fb0821",
   "metadata": {
    "scrolled": true
   },
   "outputs": [],
   "source": [
    "## Comment this code (Ctrl+A followed by Ctrl+/) if extracting hrefs and urls again\n",
    "print(len(unique_company_profile_urls))"
   ]
  },
  {
   "cell_type": "code",
   "execution_count": null,
   "id": "510a673c",
   "metadata": {},
   "outputs": [],
   "source": [
    "## Comment this code (Ctrl+A followed by Ctrl+/) if extracting hrefs and urls again\n",
    "print(unique_company_profile_urls[-5:])"
   ]
  },
  {
   "cell_type": "markdown",
   "id": "099820ca",
   "metadata": {},
   "source": [
    "### xxxxxxxxxxxxxxxxxxx END OF PART-1 xxxxxxxxxxxxxxxxxxxxxxxxxxx"
   ]
  },
  {
   "cell_type": "markdown",
   "id": "d9a9d064",
   "metadata": {},
   "source": [
    "## Part-2 Batch Processing"
   ]
  },
  {
   "cell_type": "markdown",
   "id": "b05662e3",
   "metadata": {},
   "source": [
    "### Batch-1, batch_size = 1000, batch_start_index = 0"
   ]
  },
  {
   "cell_type": "markdown",
   "id": "f4b9fad5",
   "metadata": {},
   "source": [
    "#### !Cell is executed. Uncomment (Ctrl + A followed by Ctrl + /) and execute (Shift + Enter) again only if you want to run the batch again."
   ]
  },
  {
   "cell_type": "code",
   "execution_count": null,
   "id": "7d5d4e3f",
   "metadata": {},
   "outputs": [],
   "source": [
    "# # Extract info of interst\n",
    "# start_time = time.time()\n",
    "# batch1_initial = extract_info_of_interest(unique_company_profile_urls, batch_size = 1000, batch_start_index = 0, sleep=10)\n",
    "# end_time = time.time()\n",
    "# execution_time = end_time - start_time\n",
    "# print('execution time: ', execution_time)"
   ]
  },
  {
   "cell_type": "markdown",
   "id": "11ae5ade",
   "metadata": {},
   "source": [
    "### checkpoint-1"
   ]
  },
  {
   "cell_type": "code",
   "execution_count": null,
   "id": "8dbadfa9",
   "metadata": {},
   "outputs": [],
   "source": [
    "# # Test-Block ! Execute only if you run the batch again\n",
    "# print(len(batch1_initial)) # Should be equal to batch_size + 1\n",
    "# print(len(batch1_initial[-1])) # Should be equal to 7"
   ]
  },
  {
   "cell_type": "code",
   "execution_count": null,
   "id": "b0ded14e",
   "metadata": {},
   "outputs": [],
   "source": [
    "## Test_Block ! Execute only if you run the batch again\n",
    "# print(batch1_initial[:3])"
   ]
  },
  {
   "cell_type": "markdown",
   "id": "3b4ec23e",
   "metadata": {},
   "source": [
    "### End of checkpoint-1"
   ]
  },
  {
   "cell_type": "code",
   "execution_count": null,
   "id": "8cdf4e1a",
   "metadata": {},
   "outputs": [],
   "source": [
    "batch1df = pd.read_csv('batch1.csv')"
   ]
  },
  {
   "cell_type": "code",
   "execution_count": null,
   "id": "211b4fd1",
   "metadata": {},
   "outputs": [],
   "source": [
    "batch1df_initial = batch1df.drop(['email'], axis = 1)\n"
   ]
  },
  {
   "cell_type": "code",
   "execution_count": null,
   "id": "5951eccd",
   "metadata": {},
   "outputs": [],
   "source": [
    "batch1df_initial.info()"
   ]
  },
  {
   "cell_type": "code",
   "execution_count": null,
   "id": "be8c5003",
   "metadata": {},
   "outputs": [],
   "source": [
    "batch1_initial = batch1df_initial.values.tolist()\n",
    "print(batch1_initial[:3])"
   ]
  },
  {
   "cell_type": "markdown",
   "id": "71fcdd99",
   "metadata": {},
   "source": [
    "#### Following Function Extracts emails from Home Page Only (Takes Less Time: 1 sec per page)"
   ]
  },
  {
   "cell_type": "code",
   "execution_count": null,
   "id": "fad49f5c",
   "metadata": {
    "scrolled": true
   },
   "outputs": [],
   "source": [
    "# Extract emails\n",
    "start_time = time.time()\n",
    "pattern = r'\\b[A-Za-z0-9._%+-]+@[A-Za-z0-9.-]+\\.[A-Z|a-z]{2,}\\b'\n",
    "batch1 = extract_emails_from_homepage(batch1_initial, pattern = pattern , index=2)\n",
    "end_time = time.time()\n",
    "execution_time = end_time - start_time\n",
    "print('execution time: ', execution_time)"
   ]
  },
  {
   "cell_type": "markdown",
   "id": "62cd0465",
   "metadata": {},
   "source": [
    "### checkpoint-2"
   ]
  },
  {
   "cell_type": "code",
   "execution_count": null,
   "id": "4b6dcf05",
   "metadata": {},
   "outputs": [],
   "source": [
    "print(len(batch1)) # should be same as batch_size i.e. 1001\n",
    "print(len(batch1[-1])) # should be 8\n",
    "print(batch1[-5:]) #should have 8 items in each list with emails or remarks added\n"
   ]
  },
  {
   "cell_type": "markdown",
   "id": "ac6cf333",
   "metadata": {},
   "source": [
    "### End of checkpoint-2"
   ]
  },
  {
   "cell_type": "code",
   "execution_count": null,
   "id": "9d77aeb4",
   "metadata": {},
   "outputs": [],
   "source": [
    "# Columns to be used for all batches\n",
    "columns=['company_name', 'industry', 'website', 'telephone', 'fax', 'address', 'address_maplink', 'email']\n"
   ]
  },
  {
   "cell_type": "code",
   "execution_count": null,
   "id": "c8c895eb",
   "metadata": {},
   "outputs": [],
   "source": [
    "# # Convert to Dataframe batch1\n",
    "df1 = pd.DataFrame(batch1, columns=columns)\n"
   ]
  },
  {
   "cell_type": "markdown",
   "id": "682b14a9",
   "metadata": {},
   "source": [
    "### Checkpoint-3"
   ]
  },
  {
   "cell_type": "code",
   "execution_count": null,
   "id": "763ebab0",
   "metadata": {},
   "outputs": [],
   "source": [
    "# # Test-Block ! Execute only if you run the batch again\n",
    "df1.info()"
   ]
  },
  {
   "cell_type": "code",
   "execution_count": null,
   "id": "b2311dda",
   "metadata": {
    "scrolled": true
   },
   "outputs": [],
   "source": [
    "df1.head()"
   ]
  },
  {
   "cell_type": "markdown",
   "id": "5f01a9ea",
   "metadata": {},
   "source": [
    "### End of Checkpoint-3"
   ]
  },
  {
   "cell_type": "code",
   "execution_count": null,
   "id": "cbe0536b",
   "metadata": {},
   "outputs": [],
   "source": [
    "# Save as csv file\n",
    "df1.to_csv('batch1.csv', index = False)"
   ]
  },
  {
   "cell_type": "markdown",
   "id": "5ef595d8",
   "metadata": {},
   "source": [
    "### xxxxxxxxxxxxxxx Push to Github xxxxxxxxxxxxxxxxxxxxxxxxx"
   ]
  },
  {
   "cell_type": "markdown",
   "id": "05ea2e1d",
   "metadata": {},
   "source": [
    "### Batch-2, batch_size = 1000, batch_start_index = 1001"
   ]
  },
  {
   "cell_type": "markdown",
   "id": "293f238c",
   "metadata": {},
   "source": [
    "#### !Cell is executed. Uncomment (Ctrl + A followed by Ctrl + /) and execute (Shift + Enter) again only if you want to run the batch again."
   ]
  },
  {
   "cell_type": "code",
   "execution_count": null,
   "id": "f2cfb1e2",
   "metadata": {},
   "outputs": [],
   "source": [
    "# # Extract info of interst\n",
    "# start_time = time.time()\n",
    "# batch2_initial = extract_info_of_interest(unique_company_profile_urls, batch_size = 1000, batch_start_index = 1001, sleep=10)\n",
    "# end_time = time.time()\n",
    "# execution_time = end_time - start_time\n",
    "# print('execution time: ', execution_time)"
   ]
  },
  {
   "cell_type": "markdown",
   "id": "f9576f8a",
   "metadata": {},
   "source": [
    "### checkpoint-1"
   ]
  },
  {
   "cell_type": "code",
   "execution_count": null,
   "id": "f051f1f2",
   "metadata": {},
   "outputs": [],
   "source": [
    "# ## Test_Block ! Execute only if you run the batch again\n",
    "# print(len(batch2_initial))\n",
    "# print(len(batch2_initial[-1]))"
   ]
  },
  {
   "cell_type": "code",
   "execution_count": null,
   "id": "181048f0",
   "metadata": {},
   "outputs": [],
   "source": [
    "# ## Test_Block ! Execute only if you run the batch again\n",
    "# print(batch2_initial[:3])"
   ]
  },
  {
   "cell_type": "markdown",
   "id": "5d3adf21",
   "metadata": {},
   "source": [
    "### End of Checkpoint-1"
   ]
  },
  {
   "cell_type": "code",
   "execution_count": null,
   "id": "ecbf1c8d",
   "metadata": {},
   "outputs": [],
   "source": [
    "batch2df = pd.read_csv('batch2.csv')"
   ]
  },
  {
   "cell_type": "code",
   "execution_count": null,
   "id": "31ee357b",
   "metadata": {},
   "outputs": [],
   "source": [
    "batch2df_initial = batch2df.drop(['email'], axis = 1)"
   ]
  },
  {
   "cell_type": "code",
   "execution_count": null,
   "id": "e7d39777",
   "metadata": {},
   "outputs": [],
   "source": [
    "batch2df_initial.info()"
   ]
  },
  {
   "cell_type": "code",
   "execution_count": null,
   "id": "34bf6e63",
   "metadata": {},
   "outputs": [],
   "source": [
    "batch2_initial = batch2df_initial.values.tolist()\n",
    "print(batch2_initial[:3])"
   ]
  },
  {
   "cell_type": "markdown",
   "id": "64904b9a",
   "metadata": {},
   "source": [
    "#### Following Function Extracts emails from Home Page Only (Takes Less Time: 1 sec per page)"
   ]
  },
  {
   "cell_type": "code",
   "execution_count": null,
   "id": "ef3323f3",
   "metadata": {},
   "outputs": [],
   "source": [
    "# Extract emails\n",
    "start_time = time.time()\n",
    "pattern = r'\\b[A-Za-z0-9._%+-]+@[A-Za-z0-9.-]+\\.[A-Z|a-z]{2,}\\b'\n",
    "batch2 = extract_emails_from_homepage(batch2_initial, pattern = pattern , index=2)\n",
    "end_time = time.time()\n",
    "execution_time = end_time - start_time\n",
    "print('execution time: ', execution_time)#### Following Function Extracts emails from All Pages of a Site (Takes A Lot of Time: 15 sec per page)\n",
    "#### Entire Batch can take upto 5 hours - Uncomment (Ctrl + A followed by Ctrl + / will uncomment the code.\n",
    "#### Execute(Shift + Enter) only if needed"
   ]
  },
  {
   "cell_type": "markdown",
   "id": "dca3d029",
   "metadata": {},
   "source": [
    "### Checkpoint-2"
   ]
  },
  {
   "cell_type": "code",
   "execution_count": null,
   "id": "a1627cf6",
   "metadata": {
    "scrolled": false
   },
   "outputs": [],
   "source": [
    "print(len(batch2)) # should be same as batch_size i.e. 1000\n",
    "print(len(batch2[-1])) # should be 8\n",
    "print(batch2[-5:]) #should have 8 items in each list with emails or remarks added"
   ]
  },
  {
   "cell_type": "markdown",
   "id": "35420a21",
   "metadata": {},
   "source": [
    "### End of Checkpoint-2"
   ]
  },
  {
   "cell_type": "code",
   "execution_count": null,
   "id": "eb978e51",
   "metadata": {},
   "outputs": [],
   "source": [
    "# # Convert to Dataframe batch1\n",
    "df2 = pd.DataFrame(batch2, columns=columns)\n"
   ]
  },
  {
   "cell_type": "markdown",
   "id": "6c5ead28",
   "metadata": {},
   "source": [
    "### Checkpoint 3"
   ]
  },
  {
   "cell_type": "code",
   "execution_count": null,
   "id": "fb841687",
   "metadata": {},
   "outputs": [],
   "source": [
    "df2.info()"
   ]
  },
  {
   "cell_type": "code",
   "execution_count": null,
   "id": "c9e2b5ad",
   "metadata": {},
   "outputs": [],
   "source": [
    "df2.head()"
   ]
  },
  {
   "cell_type": "markdown",
   "id": "46d231c9",
   "metadata": {},
   "source": [
    "### End of Checkpoint-3"
   ]
  },
  {
   "cell_type": "code",
   "execution_count": null,
   "id": "2aab7424",
   "metadata": {},
   "outputs": [],
   "source": [
    "# save as csv\n",
    "df2.to_csv('batch2.csv', index = False)"
   ]
  },
  {
   "cell_type": "code",
   "execution_count": null,
   "id": "ecd2df6c",
   "metadata": {},
   "outputs": [],
   "source": [
    "# Merge the two dataframes\n",
    "df = pd.concat([df1, df2])"
   ]
  },
  {
   "cell_type": "markdown",
   "id": "257ce949",
   "metadata": {},
   "source": [
    "### Checkpoint-4"
   ]
  },
  {
   "cell_type": "code",
   "execution_count": null,
   "id": "4bf9722f",
   "metadata": {},
   "outputs": [],
   "source": [
    "df.info()"
   ]
  },
  {
   "cell_type": "code",
   "execution_count": null,
   "id": "91c692b3",
   "metadata": {},
   "outputs": [],
   "source": [
    "df.head()"
   ]
  },
  {
   "cell_type": "code",
   "execution_count": null,
   "id": "c66d30fb",
   "metadata": {},
   "outputs": [],
   "source": [
    "df.tail()"
   ]
  },
  {
   "cell_type": "code",
   "execution_count": null,
   "id": "486128e9",
   "metadata": {},
   "outputs": [],
   "source": [
    "df.head() == df1.head()"
   ]
  },
  {
   "cell_type": "code",
   "execution_count": null,
   "id": "8e183d26",
   "metadata": {},
   "outputs": [],
   "source": [
    "df.tail() == df2.tail()"
   ]
  },
  {
   "cell_type": "markdown",
   "id": "f7c46182",
   "metadata": {},
   "source": [
    "### End of Checkpoint-4"
   ]
  },
  {
   "cell_type": "markdown",
   "id": "0e50812f",
   "metadata": {},
   "source": [
    "### xxxxxxxxxxxx Push to Github xxxxxxxxxxxxxx"
   ]
  },
  {
   "cell_type": "markdown",
   "id": "7da6833c",
   "metadata": {},
   "source": [
    "### Batch-3, batch_size = 1000, batch_start_index = 2001\n"
   ]
  },
  {
   "cell_type": "markdown",
   "id": "4329361c",
   "metadata": {},
   "source": [
    "#### !Cell is executed. Uncomment (Ctrl + A followed by Ctrl + /) and execute (Shift + Enter) again only if you want to run the batch again."
   ]
  },
  {
   "cell_type": "code",
   "execution_count": null,
   "id": "6537af29",
   "metadata": {},
   "outputs": [],
   "source": [
    "# # Extract info of interst\n",
    "# start_time = time.time()\n",
    "# batch3_initial = extract_info_of_interest(unique_company_profile_urls, batch_size = 1000, batch_start_index = 2001, sleep=5)\n",
    "# end_time = time.time()\n",
    "# execution_time = end_time - start_time\n",
    "# print('execution time: ', execution_time)"
   ]
  },
  {
   "cell_type": "markdown",
   "id": "df1f1b9d",
   "metadata": {},
   "source": [
    "### checkpoint-1"
   ]
  },
  {
   "cell_type": "code",
   "execution_count": null,
   "id": "d77d68a6",
   "metadata": {},
   "outputs": [],
   "source": [
    "# # Test-Block ! Execute only if running the batch again\n",
    "# print(len(batch3_initial))\n",
    "# print(len(batch3_initial[-1]))"
   ]
  },
  {
   "cell_type": "code",
   "execution_count": null,
   "id": "e3b18326",
   "metadata": {},
   "outputs": [],
   "source": [
    "# # Test-Block ! Execute only if running the batch again\n",
    "# print(batch3_initial[:3])"
   ]
  },
  {
   "cell_type": "markdown",
   "id": "f096b803",
   "metadata": {},
   "source": [
    "### End of Checkpoint-1"
   ]
  },
  {
   "cell_type": "code",
   "execution_count": null,
   "id": "3036280e",
   "metadata": {},
   "outputs": [],
   "source": [
    "batch3df = pd.read_csv('batch3.csv')"
   ]
  },
  {
   "cell_type": "code",
   "execution_count": null,
   "id": "f454fc91",
   "metadata": {},
   "outputs": [],
   "source": [
    "batch3df_initial = batch3df.drop(['email'], axis = 1)"
   ]
  },
  {
   "cell_type": "code",
   "execution_count": null,
   "id": "44405cba",
   "metadata": {
    "scrolled": true
   },
   "outputs": [],
   "source": [
    "batch3df_initial.info()"
   ]
  },
  {
   "cell_type": "code",
   "execution_count": null,
   "id": "6ce27017",
   "metadata": {},
   "outputs": [],
   "source": [
    "batch3_initial = batch3df_initial.values.tolist()\n",
    "print(batch3_initial[:3])"
   ]
  },
  {
   "cell_type": "markdown",
   "id": "980c4cca",
   "metadata": {},
   "source": [
    "### End of Checkpoint-1"
   ]
  },
  {
   "cell_type": "markdown",
   "id": "d842ee36",
   "metadata": {},
   "source": [
    "#### Following Function Extracts emails from Home Page Only (Takes Less Time: 1 sec per page)"
   ]
  },
  {
   "cell_type": "code",
   "execution_count": null,
   "id": "4845423c",
   "metadata": {},
   "outputs": [],
   "source": [
    "# Extract emails\n",
    "start_time = time.time()\n",
    "pattern = r'\\b[A-Za-z0-9._%+-]+@[A-Za-z0-9.-]+\\.[A-Z|a-z]{2,}\\b'\n",
    "batch3 = extract_emails_from_homepage(batch3_initial, pattern = pattern , index=2)\n",
    "end_time = time.time()\n",
    "execution_time = end_time - start_time\n",
    "print('execution time: ', execution_time)"
   ]
  },
  {
   "cell_type": "markdown",
   "id": "76c17578",
   "metadata": {},
   "source": [
    "### Checkpoint-2"
   ]
  },
  {
   "cell_type": "code",
   "execution_count": null,
   "id": "aac5e97e",
   "metadata": {},
   "outputs": [],
   "source": [
    "print(len(batch3)) # should be same as batch_size i.e. 1000\n",
    "print(len(batch3[-1])) # should be 8\n",
    "print(batch3[-5:]) #should have 8 items in each list with emails or remarks added"
   ]
  },
  {
   "cell_type": "markdown",
   "id": "a6b6a9d5",
   "metadata": {},
   "source": [
    "### End of Checkpoint-2"
   ]
  },
  {
   "cell_type": "code",
   "execution_count": null,
   "id": "66eecc39",
   "metadata": {},
   "outputs": [],
   "source": [
    "# # Convert to Dataframe batch3\n",
    "df3 = pd.DataFrame(batch3, columns=columns)\n"
   ]
  },
  {
   "cell_type": "markdown",
   "id": "7f71212a",
   "metadata": {},
   "source": [
    "### Checkpoint 3"
   ]
  },
  {
   "cell_type": "code",
   "execution_count": null,
   "id": "bb256eca",
   "metadata": {},
   "outputs": [],
   "source": [
    "df3.info()"
   ]
  },
  {
   "cell_type": "code",
   "execution_count": null,
   "id": "846550f8",
   "metadata": {},
   "outputs": [],
   "source": [
    "df3.head()"
   ]
  },
  {
   "cell_type": "markdown",
   "id": "c3992ff6",
   "metadata": {},
   "source": [
    "### End of Checkpoint-3"
   ]
  },
  {
   "cell_type": "code",
   "execution_count": null,
   "id": "629a2db5",
   "metadata": {},
   "outputs": [],
   "source": [
    "#save as csv\n",
    "df3.to_csv('batch3.csv', index = False)"
   ]
  },
  {
   "cell_type": "code",
   "execution_count": null,
   "id": "978d5975",
   "metadata": {},
   "outputs": [],
   "source": [
    "# Merge the two dataframes\n",
    "df = pd.concat([df, df3])"
   ]
  },
  {
   "cell_type": "markdown",
   "id": "3105a6d4",
   "metadata": {},
   "source": [
    "### Checkpoint-4"
   ]
  },
  {
   "cell_type": "code",
   "execution_count": null,
   "id": "bbe64ca1",
   "metadata": {},
   "outputs": [],
   "source": [
    "df.info()"
   ]
  },
  {
   "cell_type": "code",
   "execution_count": null,
   "id": "8bb08b2c",
   "metadata": {},
   "outputs": [],
   "source": [
    "df.head()"
   ]
  },
  {
   "cell_type": "code",
   "execution_count": null,
   "id": "3d5d6d55",
   "metadata": {},
   "outputs": [],
   "source": [
    "df.tail()"
   ]
  },
  {
   "cell_type": "code",
   "execution_count": null,
   "id": "cf09793a",
   "metadata": {},
   "outputs": [],
   "source": [
    "df.head() == df1.head()"
   ]
  },
  {
   "cell_type": "code",
   "execution_count": null,
   "id": "805ef98d",
   "metadata": {},
   "outputs": [],
   "source": [
    "df.tail() == df3.tail()"
   ]
  },
  {
   "cell_type": "markdown",
   "id": "130ab71f",
   "metadata": {},
   "source": [
    "### xxxxxxxxxxxx Push to Github xxxxxxxxxxxxxx"
   ]
  },
  {
   "cell_type": "markdown",
   "id": "f38a44ba",
   "metadata": {},
   "source": [
    "### Batch-4, batch_size = 1000, batch_start_index = 3001\n"
   ]
  },
  {
   "cell_type": "markdown",
   "id": "d428a74b",
   "metadata": {},
   "source": [
    "#### !Cell is executed. Uncomment (Ctrl + A followed by Ctrl + /) and execute (Shift + Enter) again only if you want to run the batch again."
   ]
  },
  {
   "cell_type": "code",
   "execution_count": null,
   "id": "206c7a3e",
   "metadata": {},
   "outputs": [],
   "source": [
    "# # Extract info of interst\n",
    "# start_time = time.time()\n",
    "# batch4_initial = extract_info_of_interest(unique_company_profile_urls, batch_size = 1000, batch_start_index = 3001, sleep=5)\n",
    "# end_time = time.time()\n",
    "# execution_time = end_time - start_time\n",
    "# print('execution time: ', execution_time)"
   ]
  },
  {
   "cell_type": "markdown",
   "id": "85375d44",
   "metadata": {},
   "source": [
    "### checkpoint-1"
   ]
  },
  {
   "cell_type": "code",
   "execution_count": null,
   "id": "84dd0321",
   "metadata": {},
   "outputs": [],
   "source": [
    "# # Test-Block ! Uncomment and execute only if batch is run again\n",
    "# print(len(batch4_initial))\n",
    "# print(len(batch4_initial[-1]))"
   ]
  },
  {
   "cell_type": "code",
   "execution_count": null,
   "id": "e1d97f73",
   "metadata": {
    "scrolled": true
   },
   "outputs": [],
   "source": [
    "# # Test-Block ! Uncomment and execute only if batch is run again\n",
    "# print(batch4_initial[:3])"
   ]
  },
  {
   "cell_type": "markdown",
   "id": "1440cfc9",
   "metadata": {},
   "source": [
    "### End of Checkpoint-1"
   ]
  },
  {
   "cell_type": "code",
   "execution_count": null,
   "id": "853bc01e",
   "metadata": {},
   "outputs": [],
   "source": [
    "batch4df = pd.read_csv('batch4.csv')"
   ]
  },
  {
   "cell_type": "code",
   "execution_count": null,
   "id": "bcabc8e6",
   "metadata": {},
   "outputs": [],
   "source": [
    "batch4df_initial = batch4df.drop(['email'], axis = 1)"
   ]
  },
  {
   "cell_type": "code",
   "execution_count": null,
   "id": "3ad386df",
   "metadata": {
    "scrolled": true
   },
   "outputs": [],
   "source": [
    "batch4df_initial.info()"
   ]
  },
  {
   "cell_type": "code",
   "execution_count": null,
   "id": "6f2e1001",
   "metadata": {
    "scrolled": true
   },
   "outputs": [],
   "source": [
    "batch4_initial = batch4df_initial.values.tolist()\n",
    "print(batch1_initial[:3])"
   ]
  },
  {
   "cell_type": "markdown",
   "id": "41f6a48f",
   "metadata": {},
   "source": [
    "#### Following Function Extracts emails from Home Page Only (Takes Less Time: 1 sec per page)"
   ]
  },
  {
   "cell_type": "code",
   "execution_count": null,
   "id": "f55a4ff7",
   "metadata": {},
   "outputs": [],
   "source": [
    "# Extract emails\n",
    "start_time = time.time()\n",
    "pattern = r'\\b[A-Za-z0-9._%+-]+@[A-Za-z0-9.-]+\\.[A-Z|a-z]{2,}\\b'\n",
    "batch4 = extract_emails_from_homepage(batch4_initial, pattern = pattern , index=2)\n",
    "end_time = time.time()\n",
    "execution_time = end_time - start_time\n",
    "print('execution time: ', execution_time)"
   ]
  },
  {
   "cell_type": "markdown",
   "id": "df3f06ce",
   "metadata": {},
   "source": [
    "### Checkpoint-2"
   ]
  },
  {
   "cell_type": "code",
   "execution_count": null,
   "id": "2c0f4fb5",
   "metadata": {},
   "outputs": [],
   "source": [
    "print(len(batch4)) # should be same as batch_size i.e. 1000\n",
    "print(len(batch4[-1])) # should be 8\n",
    "print(batch4[-5:]) #should have 8 items in each list with emails or remarks added"
   ]
  },
  {
   "cell_type": "markdown",
   "id": "aa751d07",
   "metadata": {},
   "source": [
    "### End of Checkpoint-2"
   ]
  },
  {
   "cell_type": "code",
   "execution_count": null,
   "id": "c6c1fec5",
   "metadata": {},
   "outputs": [],
   "source": [
    "# # Convert to Dataframe batch1\n",
    "df4 = pd.DataFrame(batch4, columns=columns)\n"
   ]
  },
  {
   "cell_type": "markdown",
   "id": "26b11ba0",
   "metadata": {},
   "source": [
    "### Checkpoint 3"
   ]
  },
  {
   "cell_type": "code",
   "execution_count": null,
   "id": "33d4043a",
   "metadata": {},
   "outputs": [],
   "source": [
    "df4.info()"
   ]
  },
  {
   "cell_type": "code",
   "execution_count": null,
   "id": "18c16bf9",
   "metadata": {},
   "outputs": [],
   "source": [
    "df4.head()"
   ]
  },
  {
   "cell_type": "markdown",
   "id": "ec545ae5",
   "metadata": {},
   "source": [
    "### End of Checkpoint-3"
   ]
  },
  {
   "cell_type": "code",
   "execution_count": null,
   "id": "8a338655",
   "metadata": {},
   "outputs": [],
   "source": [
    "#save as csv\n",
    "df4.to_csv('batch4.csv', index = False)"
   ]
  },
  {
   "cell_type": "code",
   "execution_count": null,
   "id": "7be9702c",
   "metadata": {},
   "outputs": [],
   "source": [
    "# Merge the two dataframes\n",
    "df = pd.concat([df, df4])"
   ]
  },
  {
   "cell_type": "markdown",
   "id": "51fab55b",
   "metadata": {},
   "source": [
    "### Checkpoint-4"
   ]
  },
  {
   "cell_type": "code",
   "execution_count": null,
   "id": "c838ae8a",
   "metadata": {},
   "outputs": [],
   "source": [
    "df.info()"
   ]
  },
  {
   "cell_type": "code",
   "execution_count": null,
   "id": "50c49fa9",
   "metadata": {},
   "outputs": [],
   "source": [
    "df.head()"
   ]
  },
  {
   "cell_type": "code",
   "execution_count": null,
   "id": "f24c58cc",
   "metadata": {},
   "outputs": [],
   "source": [
    "df.tail()"
   ]
  },
  {
   "cell_type": "code",
   "execution_count": null,
   "id": "abc5b481",
   "metadata": {},
   "outputs": [],
   "source": [
    "df.head() == df1.head()"
   ]
  },
  {
   "cell_type": "code",
   "execution_count": null,
   "id": "a37c793d",
   "metadata": {},
   "outputs": [],
   "source": [
    "df.tail() == df4.tail()"
   ]
  },
  {
   "cell_type": "markdown",
   "id": "22ef755e",
   "metadata": {},
   "source": [
    "### xxxxxxxxxxxx Push to Github xxxxxxxxxxxxxx"
   ]
  },
  {
   "cell_type": "markdown",
   "id": "feba4811",
   "metadata": {},
   "source": [
    "### Batch-5, batch_size = 1000, batch_start_index = 4001\n"
   ]
  },
  {
   "cell_type": "markdown",
   "id": "4937caeb",
   "metadata": {},
   "source": [
    "#### !Cell is executed. Uncomment (Ctrl + A followed by Ctrl + /) and execute (Shift + Enter) again only if you want to run the batch again."
   ]
  },
  {
   "cell_type": "code",
   "execution_count": null,
   "id": "4c3dfe65",
   "metadata": {},
   "outputs": [],
   "source": [
    "# # Extract info of interst\n",
    "# start_time = time.time()\n",
    "# batch5_initial = extract_info_of_interest(unique_company_profile_urls, batch_size = 1000, batch_start_index = 4001, sleep=5)\n",
    "# end_time = time.time()\n",
    "# execution_time = end_time - start_time\n",
    "# print('execution time: ', execution_time)"
   ]
  },
  {
   "cell_type": "markdown",
   "id": "8e6f3021",
   "metadata": {},
   "source": [
    "### checkpoint-1"
   ]
  },
  {
   "cell_type": "code",
   "execution_count": null,
   "id": "ac97102d",
   "metadata": {},
   "outputs": [],
   "source": [
    "# # Test-Block !Uncomment and execute only if the batch is run again\n",
    "# print(len(batch5_initial))\n",
    "# print(len(batch5_initial[-1]))"
   ]
  },
  {
   "cell_type": "code",
   "execution_count": null,
   "id": "85ff77f9",
   "metadata": {},
   "outputs": [],
   "source": [
    "# # Test-Block !Uncomment and execute only if the batch is run again\n",
    "# print(batch5_initial[:3])"
   ]
  },
  {
   "cell_type": "markdown",
   "id": "835fc4be",
   "metadata": {},
   "source": [
    "### End of Checkpoint-1"
   ]
  },
  {
   "cell_type": "code",
   "execution_count": null,
   "id": "bf95473e",
   "metadata": {},
   "outputs": [],
   "source": [
    "batch5df = pd.read_csv('batch5.csv')"
   ]
  },
  {
   "cell_type": "code",
   "execution_count": null,
   "id": "54e17e9f",
   "metadata": {},
   "outputs": [],
   "source": [
    "batch5df_initial = batch5df.drop(['email'], axis = 1)"
   ]
  },
  {
   "cell_type": "code",
   "execution_count": null,
   "id": "1357a9dc",
   "metadata": {
    "scrolled": true
   },
   "outputs": [],
   "source": [
    "batch5df_initial.info()"
   ]
  },
  {
   "cell_type": "code",
   "execution_count": null,
   "id": "c8857bf8",
   "metadata": {},
   "outputs": [],
   "source": [
    "batch5_initial = batch5df_initial.values.tolist()\n",
    "print(batch1_initial[:3])"
   ]
  },
  {
   "cell_type": "markdown",
   "id": "b80b99eb",
   "metadata": {},
   "source": [
    "#### Following Function Extracts emails from Home Page Only (Takes Less Time: 1 sec per page)"
   ]
  },
  {
   "cell_type": "code",
   "execution_count": null,
   "id": "2a841f6e",
   "metadata": {},
   "outputs": [],
   "source": [
    "# Extract emails\n",
    "start_time = time.time()\n",
    "pattern = r'\\b[A-Za-z0-9._%+-]+@[A-Za-z0-9.-]+\\.[A-Z|a-z]{2,}\\b'\n",
    "batch5 = extract_emails_from_homepage(batch5_initial, pattern = pattern , index=2)\n",
    "end_time = time.time()\n",
    "execution_time = end_time - start_time\n",
    "print('execution time: ', execution_time)"
   ]
  },
  {
   "cell_type": "markdown",
   "id": "c761a76b",
   "metadata": {},
   "source": [
    "### Checkpoint-2"
   ]
  },
  {
   "cell_type": "code",
   "execution_count": null,
   "id": "005c12d9",
   "metadata": {},
   "outputs": [],
   "source": [
    "print(len(batch5)) # should be same as batch_size i.e. 1000\n",
    "print(len(batch5[-1])) # should be 8\n",
    "print(batch5[-5:]) #should have 8 items in each list with emails or remarks added"
   ]
  },
  {
   "cell_type": "markdown",
   "id": "9e0fb672",
   "metadata": {},
   "source": [
    "### End of Checkpoint-2"
   ]
  },
  {
   "cell_type": "code",
   "execution_count": null,
   "id": "551481f4",
   "metadata": {},
   "outputs": [],
   "source": [
    "# # Convert to Dataframe batch1\n",
    "df5 = pd.DataFrame(batch5, columns=columns)\n"
   ]
  },
  {
   "cell_type": "markdown",
   "id": "a2eb946d",
   "metadata": {},
   "source": [
    "### Checkpoint 3"
   ]
  },
  {
   "cell_type": "code",
   "execution_count": null,
   "id": "5f10e3c0",
   "metadata": {},
   "outputs": [],
   "source": [
    "df5.info()"
   ]
  },
  {
   "cell_type": "code",
   "execution_count": null,
   "id": "8bd702a0",
   "metadata": {},
   "outputs": [],
   "source": [
    "df5.head()"
   ]
  },
  {
   "cell_type": "markdown",
   "id": "f2f08ac2",
   "metadata": {},
   "source": [
    "### End of Checkpoint-3"
   ]
  },
  {
   "cell_type": "code",
   "execution_count": null,
   "id": "52792692",
   "metadata": {},
   "outputs": [],
   "source": [
    "# save as csv\n",
    "df5.to_csv('batch5.csv', index = False)"
   ]
  },
  {
   "cell_type": "code",
   "execution_count": null,
   "id": "3044c6dc",
   "metadata": {},
   "outputs": [],
   "source": [
    "#### Merge the two dataframes\n",
    "df = pd.concat([df, df5])"
   ]
  },
  {
   "cell_type": "markdown",
   "id": "9a8f595d",
   "metadata": {},
   "source": [
    "### Checkpoint-4"
   ]
  },
  {
   "cell_type": "code",
   "execution_count": null,
   "id": "9071b125",
   "metadata": {},
   "outputs": [],
   "source": [
    "df.info()"
   ]
  },
  {
   "cell_type": "code",
   "execution_count": null,
   "id": "85f07ba9",
   "metadata": {},
   "outputs": [],
   "source": [
    "df.head()"
   ]
  },
  {
   "cell_type": "code",
   "execution_count": null,
   "id": "741fcb93",
   "metadata": {},
   "outputs": [],
   "source": [
    "df.tail()"
   ]
  },
  {
   "cell_type": "code",
   "execution_count": null,
   "id": "8dbb8877",
   "metadata": {},
   "outputs": [],
   "source": [
    "df.head() == df1.head()"
   ]
  },
  {
   "cell_type": "code",
   "execution_count": null,
   "id": "b1fe7388",
   "metadata": {},
   "outputs": [],
   "source": [
    "df.tail() == df5.tail()"
   ]
  },
  {
   "cell_type": "markdown",
   "id": "bfbf4a53",
   "metadata": {},
   "source": [
    "### xxxxxxxxxxxx Push to Github xxxxxxxxxxxxxx"
   ]
  },
  {
   "cell_type": "markdown",
   "id": "2966e62d",
   "metadata": {},
   "source": [
    "### Batch-6, batch_size = 1000, batch_start_index = 5001\n"
   ]
  },
  {
   "cell_type": "markdown",
   "id": "d894741e",
   "metadata": {},
   "source": [
    "#### !Cell is executed. Uncomment (Ctrl + A followed by Ctrl + /) and execute (Shift + Enter) again only if you want to run the batch again."
   ]
  },
  {
   "cell_type": "code",
   "execution_count": null,
   "id": "56347eac",
   "metadata": {},
   "outputs": [],
   "source": [
    "# # Extract info of interst\n",
    "# start_time = time.time()\n",
    "# batch6_initial = extract_info_of_interest(unique_company_profile_urls, batch_size = 1000, batch_start_index = 5001, sleep=5)\n",
    "# end_time = time.time()\n",
    "# execution_time = end_time - start_time\n",
    "# print('execution time: ', execution_time)"
   ]
  },
  {
   "cell_type": "markdown",
   "id": "d7a6a949",
   "metadata": {},
   "source": [
    "### checkpoint-1"
   ]
  },
  {
   "cell_type": "code",
   "execution_count": null,
   "id": "eb73d859",
   "metadata": {},
   "outputs": [],
   "source": [
    "# # Test-Block !Uncomment and execute only if batch is run again\n",
    "# print(len(batch6_initial))\n",
    "# print(len(batch6_initial[-1]))"
   ]
  },
  {
   "cell_type": "code",
   "execution_count": null,
   "id": "1b3cffe7",
   "metadata": {},
   "outputs": [],
   "source": [
    "# # Test-Block !Uncomment and execute only if batch is run again\n",
    "# print(batch6_initial[:3])"
   ]
  },
  {
   "cell_type": "markdown",
   "id": "86d3b971",
   "metadata": {},
   "source": [
    "### End of Checkpoint-1"
   ]
  },
  {
   "cell_type": "code",
   "execution_count": null,
   "id": "2d821984",
   "metadata": {},
   "outputs": [],
   "source": [
    "batch6df = pd.read_csv('batch6.csv')"
   ]
  },
  {
   "cell_type": "code",
   "execution_count": null,
   "id": "3138325d",
   "metadata": {},
   "outputs": [],
   "source": [
    "batch6df_initial = batch6df.drop(['email'], axis = 1)"
   ]
  },
  {
   "cell_type": "code",
   "execution_count": null,
   "id": "7f2ffb0f",
   "metadata": {
    "scrolled": true
   },
   "outputs": [],
   "source": [
    "batch6df_initial.info()"
   ]
  },
  {
   "cell_type": "code",
   "execution_count": null,
   "id": "3d219dc9",
   "metadata": {},
   "outputs": [],
   "source": [
    "batch6_initial = batch6df_initial.values.tolist()\n",
    "print(batch6_initial[:3])"
   ]
  },
  {
   "cell_type": "markdown",
   "id": "c90b6309",
   "metadata": {},
   "source": [
    "#### Following Function Extracts emails from Home Page Only (Takes Less Time: 1 sec per page)"
   ]
  },
  {
   "cell_type": "code",
   "execution_count": null,
   "id": "3d2ba683",
   "metadata": {
    "scrolled": true
   },
   "outputs": [],
   "source": [
    "# Extract emails\n",
    "start_time = time.time()\n",
    "pattern = r'\\b[A-Za-z0-9._%+-]+@[A-Za-z0-9.-]+\\.[A-Z|a-z]{2,}\\b'\n",
    "batch6 = extract_emails_from_homepage(batch6_initial, pattern = pattern , index=2)\n",
    "end_time = time.time()\n",
    "execution_time = end_time - start_time\n",
    "print('execution time: ', execution_time)"
   ]
  },
  {
   "cell_type": "markdown",
   "id": "c4375efb",
   "metadata": {},
   "source": [
    "### Checkpoint-2"
   ]
  },
  {
   "cell_type": "code",
   "execution_count": null,
   "id": "a5121b6e",
   "metadata": {},
   "outputs": [],
   "source": [
    "print(len(batch6)) # should be same as batch_size i.e. 1000\n",
    "print(len(batch6[-1])) # should be 8\n",
    "print(batch6[-5:]) #should have 8 items in each list with emails or remarks added"
   ]
  },
  {
   "cell_type": "markdown",
   "id": "e7ed4384",
   "metadata": {},
   "source": [
    "### End of Checkpoint-2"
   ]
  },
  {
   "cell_type": "code",
   "execution_count": null,
   "id": "eb7b5f11",
   "metadata": {},
   "outputs": [],
   "source": [
    "# # Convert to Dataframe batch1\n",
    "df6 = pd.DataFrame(batch6, columns=columns)\n"
   ]
  },
  {
   "cell_type": "code",
   "execution_count": null,
   "id": "165ff502",
   "metadata": {},
   "outputs": [],
   "source": [
    "# # Convert to Dataframe batch1\n",
    "df6 = pd.DataFrame(batch6, columns=columns)\n"
   ]
  },
  {
   "cell_type": "markdown",
   "id": "8ee73970",
   "metadata": {},
   "source": [
    "### Checkpoint-3"
   ]
  },
  {
   "cell_type": "code",
   "execution_count": null,
   "id": "a902534a",
   "metadata": {},
   "outputs": [],
   "source": [
    "df6.info()"
   ]
  },
  {
   "cell_type": "code",
   "execution_count": null,
   "id": "5f4c8a57",
   "metadata": {},
   "outputs": [],
   "source": [
    "# save as csv\n",
    "df6.to_csv('batch6.csv', index = False)"
   ]
  },
  {
   "cell_type": "markdown",
   "id": "2e3fdefe",
   "metadata": {},
   "source": [
    "### End of Checkpoint-3"
   ]
  },
  {
   "cell_type": "code",
   "execution_count": null,
   "id": "7d2779b7",
   "metadata": {},
   "outputs": [],
   "source": [
    "#### Merge the two dataframes\n",
    "df = pd.concat([df, df6])"
   ]
  },
  {
   "cell_type": "markdown",
   "id": "da0ed274",
   "metadata": {},
   "source": [
    "### Checkpoint-4"
   ]
  },
  {
   "cell_type": "code",
   "execution_count": null,
   "id": "2608cd0d",
   "metadata": {},
   "outputs": [],
   "source": [
    "df.info()"
   ]
  },
  {
   "cell_type": "code",
   "execution_count": null,
   "id": "6cbec0ce",
   "metadata": {},
   "outputs": [],
   "source": [
    "df.head()"
   ]
  },
  {
   "cell_type": "code",
   "execution_count": null,
   "id": "f6233f3d",
   "metadata": {},
   "outputs": [],
   "source": [
    "df.tail()"
   ]
  },
  {
   "cell_type": "code",
   "execution_count": null,
   "id": "746970e9",
   "metadata": {},
   "outputs": [],
   "source": [
    "df.head()==df1.head()"
   ]
  },
  {
   "cell_type": "code",
   "execution_count": null,
   "id": "e2090c73",
   "metadata": {},
   "outputs": [],
   "source": [
    "df.tail()==df6.tail()"
   ]
  },
  {
   "cell_type": "markdown",
   "id": "2076c1a4",
   "metadata": {},
   "source": [
    "### End of Checkpoint-4"
   ]
  },
  {
   "cell_type": "markdown",
   "id": "34179200",
   "metadata": {},
   "source": [
    "### xxxxxxxxxxxxxxxxxxxxx Push to Github xxxxxxxxxxxxxxxxxxxxxxxxxxxxxxx"
   ]
  },
  {
   "cell_type": "markdown",
   "id": "7f6ab1a3",
   "metadata": {},
   "source": [
    "### Batch-7, batch_size = 1000, batch_start_index = 6001\n"
   ]
  },
  {
   "cell_type": "markdown",
   "id": "6fbf743b",
   "metadata": {},
   "source": [
    "#### !Cell is executed. Uncomment (Ctrl + A followed by Ctrl + /) and execute (Shift + Enter) again only if you want to run the batch again."
   ]
  },
  {
   "cell_type": "code",
   "execution_count": null,
   "id": "3a1ae8ed",
   "metadata": {},
   "outputs": [],
   "source": [
    "# # Extract info of interst\n",
    "# start_time = time.time()\n",
    "# batch7_initial = extract_info_of_interest(unique_company_profile_urls, batch_size = 1000, batch_start_index = 6001, sleep=5)\n",
    "# end_time = time.time()\n",
    "# execution_time = end_time - start_time\n",
    "# print('execution time: ', execution_time)"
   ]
  },
  {
   "cell_type": "markdown",
   "id": "123612c6",
   "metadata": {},
   "source": [
    "### Checkpoint-1"
   ]
  },
  {
   "cell_type": "code",
   "execution_count": null,
   "id": "ed6b8d54",
   "metadata": {},
   "outputs": [],
   "source": [
    "# # Test-Block !Execute only if running the batch again\n",
    "# print(len(batch7_initial))\n",
    "# print(len(batch7_initial[-1]))"
   ]
  },
  {
   "cell_type": "code",
   "execution_count": null,
   "id": "9782d893",
   "metadata": {},
   "outputs": [],
   "source": [
    "# # Test-Block !Execute only if running the batch again\n",
    "# print(batch7_initial[:3])"
   ]
  },
  {
   "cell_type": "markdown",
   "id": "26b10c18",
   "metadata": {},
   "source": [
    "### End of Checkpoint-1"
   ]
  },
  {
   "cell_type": "code",
   "execution_count": null,
   "id": "4e857197",
   "metadata": {},
   "outputs": [],
   "source": [
    "batch7df = pd.read_csv('batch7.csv')"
   ]
  },
  {
   "cell_type": "code",
   "execution_count": null,
   "id": "52f44ae3",
   "metadata": {},
   "outputs": [],
   "source": [
    "batch7df_initial = batch7df.drop(['email'], axis = 1)"
   ]
  },
  {
   "cell_type": "code",
   "execution_count": null,
   "id": "310520ad",
   "metadata": {
    "scrolled": true
   },
   "outputs": [],
   "source": [
    "batch7df_initial.info()"
   ]
  },
  {
   "cell_type": "code",
   "execution_count": null,
   "id": "322412b5",
   "metadata": {},
   "outputs": [],
   "source": [
    "batch7_initial = batch7df_initial.values.tolist()\n",
    "print(batch1_initial[:3])"
   ]
  },
  {
   "cell_type": "markdown",
   "id": "4d5147a8",
   "metadata": {},
   "source": [
    "#### Following Function Extracts emails from Home Page Only (Takes Less Time: 1 sec per page)"
   ]
  },
  {
   "cell_type": "code",
   "execution_count": null,
   "id": "5ba5af16",
   "metadata": {
    "scrolled": false
   },
   "outputs": [],
   "source": [
    "# Extract emails\n",
    "start_time = time.time()\n",
    "pattern = r'\\b[A-Za-z0-9._%+-]+@[A-Za-z0-9.-]+\\.[A-Z|a-z]{2,}\\b'\n",
    "batch7 = extract_emails_from_homepage(batch7_initial, pattern = pattern , index=2)\n",
    "end_time = time.time()\n",
    "execution_time = end_time - start_time\n",
    "print('execution time: ', execution_time)"
   ]
  },
  {
   "cell_type": "markdown",
   "id": "8ca06445",
   "metadata": {},
   "source": [
    "### Checkpoint-2"
   ]
  },
  {
   "cell_type": "code",
   "execution_count": null,
   "id": "04e0369f",
   "metadata": {},
   "outputs": [],
   "source": [
    "print(len(batch7)) # should be same as batch_size i.e. 1000\n",
    "print(len(batch7[-1])) # should be 8\n",
    "print(batch7[:15]) #should have 8 items in each list with emails or remarks added"
   ]
  },
  {
   "cell_type": "markdown",
   "id": "bfdcbfbc",
   "metadata": {},
   "source": [
    "### End of Checkpoint-2"
   ]
  },
  {
   "cell_type": "code",
   "execution_count": null,
   "id": "f3026927",
   "metadata": {},
   "outputs": [],
   "source": [
    "# # Convert to Dataframe batch7\n",
    "df7 = pd.DataFrame(batch7, columns=columns)\n"
   ]
  },
  {
   "cell_type": "markdown",
   "id": "0b4c0051",
   "metadata": {},
   "source": [
    "### Checkpoint-3"
   ]
  },
  {
   "cell_type": "code",
   "execution_count": null,
   "id": "cc6ad9f4",
   "metadata": {},
   "outputs": [],
   "source": [
    "df7.info()"
   ]
  },
  {
   "cell_type": "code",
   "execution_count": null,
   "id": "f4db8379",
   "metadata": {},
   "outputs": [],
   "source": [
    "# save as csv\n",
    "df7.to_csv('batch7.csv', index = False)"
   ]
  },
  {
   "cell_type": "markdown",
   "id": "96dc7a86",
   "metadata": {},
   "source": [
    "### End of Checkpoint-3"
   ]
  },
  {
   "cell_type": "code",
   "execution_count": null,
   "id": "ebc032a7",
   "metadata": {},
   "outputs": [],
   "source": [
    "#### Merge the two dataframes\n",
    "df = pd.concat([df, df7])"
   ]
  },
  {
   "cell_type": "markdown",
   "id": "b595562e",
   "metadata": {},
   "source": [
    "### Checkpoint-4"
   ]
  },
  {
   "cell_type": "code",
   "execution_count": null,
   "id": "c98b727e",
   "metadata": {},
   "outputs": [],
   "source": [
    "df.info()"
   ]
  },
  {
   "cell_type": "code",
   "execution_count": null,
   "id": "1ad357a0",
   "metadata": {},
   "outputs": [],
   "source": [
    "df.head()"
   ]
  },
  {
   "cell_type": "code",
   "execution_count": null,
   "id": "6743a61d",
   "metadata": {},
   "outputs": [],
   "source": [
    "df.tail()"
   ]
  },
  {
   "cell_type": "code",
   "execution_count": null,
   "id": "a6a48435",
   "metadata": {},
   "outputs": [],
   "source": [
    "df.head()==df1.head()"
   ]
  },
  {
   "cell_type": "code",
   "execution_count": null,
   "id": "1a03de5f",
   "metadata": {},
   "outputs": [],
   "source": [
    "df.tail()==df7.tail()"
   ]
  },
  {
   "cell_type": "markdown",
   "id": "239547b4",
   "metadata": {},
   "source": [
    "### xxxxxxxxxxxxxxx Push to Github xxxxxxxxxxxxxxxxxxxx"
   ]
  },
  {
   "cell_type": "markdown",
   "id": "6ba36fc8",
   "metadata": {},
   "source": [
    "### Batch-8, batch_size = 1000, batch_start_index = 7001\n"
   ]
  },
  {
   "cell_type": "markdown",
   "id": "df64ac18",
   "metadata": {},
   "source": [
    "#### !Cell is executed. Uncomment (Ctrl + A followed by Ctrl + /) and execute (Shift + Enter) again only if you want to run the batch again."
   ]
  },
  {
   "cell_type": "code",
   "execution_count": null,
   "id": "fa261c3e",
   "metadata": {},
   "outputs": [],
   "source": [
    "# # Extract info of interst\n",
    "# start_time = time.time()\n",
    "# batch8_initial = extract_info_of_interest(unique_company_profile_urls, batch_size = 1000, batch_start_index = 7001, sleep=5)\n",
    "# end_time = time.time()\n",
    "# execution_time = end_time - start_time\n",
    "# print('execution time: ', execution_time)"
   ]
  },
  {
   "cell_type": "markdown",
   "id": "05745a66",
   "metadata": {},
   "source": [
    "### Checkpoint-1"
   ]
  },
  {
   "cell_type": "code",
   "execution_count": null,
   "id": "d20e9f17",
   "metadata": {},
   "outputs": [],
   "source": [
    "# # Test-Block !Uncomment and execute only if running batch again\n",
    "# print(len(batch8_initial))\n",
    "# print(len(batch8_initial[-1]))"
   ]
  },
  {
   "cell_type": "code",
   "execution_count": null,
   "id": "c187202d",
   "metadata": {},
   "outputs": [],
   "source": [
    "# # Test-Block !Uncomment and execute only if running batch again\n",
    "# print(batch8_initial[:3])"
   ]
  },
  {
   "cell_type": "markdown",
   "id": "e295c1bb",
   "metadata": {},
   "source": [
    "### End of Checkpoint-1"
   ]
  },
  {
   "cell_type": "code",
   "execution_count": null,
   "id": "3030c4d7",
   "metadata": {},
   "outputs": [],
   "source": [
    "batch8df = pd.read_csv('batch8.csv')"
   ]
  },
  {
   "cell_type": "code",
   "execution_count": null,
   "id": "8a22ffc0",
   "metadata": {},
   "outputs": [],
   "source": [
    "batch8df_initial = batch8df.drop(['email'], axis = 1)"
   ]
  },
  {
   "cell_type": "code",
   "execution_count": null,
   "id": "d3ee1102",
   "metadata": {
    "scrolled": true
   },
   "outputs": [],
   "source": [
    "batch8df_initial.info()"
   ]
  },
  {
   "cell_type": "code",
   "execution_count": null,
   "id": "07905cd4",
   "metadata": {},
   "outputs": [],
   "source": [
    "batch8_initial = batch8df_initial.values.tolist()\n",
    "print(batch1_initial[:3])"
   ]
  },
  {
   "cell_type": "markdown",
   "id": "3f78be24",
   "metadata": {},
   "source": [
    "#### Following Function Extracts emails from Home Page Only (Takes Less Time: 1 sec per page)"
   ]
  },
  {
   "cell_type": "code",
   "execution_count": null,
   "id": "565b2958",
   "metadata": {},
   "outputs": [],
   "source": [
    "# Extract emails\n",
    "start_time = time.time()\n",
    "pattern = r'\\b[A-Za-z0-9._%+-]+@[A-Za-z0-9.-]+\\.[A-Z|a-z]{2,}\\b'\n",
    "batch8 = extract_emails_from_homepage(batch8_initial, pattern = pattern , index=2)\n",
    "end_time = time.time()\n",
    "execution_time = end_time - start_time\n",
    "\n",
    "print('execution time: ', execution_time)"
   ]
  },
  {
   "cell_type": "markdown",
   "id": "c0a02aeb",
   "metadata": {},
   "source": [
    "### Checkpoint-2"
   ]
  },
  {
   "cell_type": "code",
   "execution_count": null,
   "id": "a4b4714a",
   "metadata": {},
   "outputs": [],
   "source": [
    "print(len(batch8)) # should be same as batch_size i.e. 1000\n",
    "print(len(batch8[-1])) # should be 8\n",
    "print(batch8[-5:]) #should have 8 items in each list with emails or remarks added"
   ]
  },
  {
   "cell_type": "markdown",
   "id": "52248564",
   "metadata": {},
   "source": [
    "### End of Checkpoint-2"
   ]
  },
  {
   "cell_type": "code",
   "execution_count": null,
   "id": "faf95c3a",
   "metadata": {},
   "outputs": [],
   "source": [
    "# # Convert to Dataframe batch8\n",
    "df8 = pd.DataFrame(batch8, columns=columns)\n"
   ]
  },
  {
   "cell_type": "markdown",
   "id": "1061ebba",
   "metadata": {},
   "source": [
    "### Checkpoint-3"
   ]
  },
  {
   "cell_type": "code",
   "execution_count": null,
   "id": "bf4e0deb",
   "metadata": {},
   "outputs": [],
   "source": [
    "df8.info()"
   ]
  },
  {
   "cell_type": "code",
   "execution_count": null,
   "id": "e4949bf3",
   "metadata": {},
   "outputs": [],
   "source": [
    "# save as csv\n",
    "df8.to_csv('batch8.csv', index = False)"
   ]
  },
  {
   "cell_type": "markdown",
   "id": "272d462f",
   "metadata": {},
   "source": [
    "### End of Checkpoint-3"
   ]
  },
  {
   "cell_type": "code",
   "execution_count": null,
   "id": "bb57b460",
   "metadata": {},
   "outputs": [],
   "source": [
    "#### Merge the two dataframes\n",
    "df = pd.concat([df, df8])"
   ]
  },
  {
   "cell_type": "markdown",
   "id": "99da49d5",
   "metadata": {},
   "source": [
    "### Checkpoint-4"
   ]
  },
  {
   "cell_type": "code",
   "execution_count": null,
   "id": "a16a2cfd",
   "metadata": {},
   "outputs": [],
   "source": [
    "df.info()"
   ]
  },
  {
   "cell_type": "code",
   "execution_count": null,
   "id": "6e423cd9",
   "metadata": {},
   "outputs": [],
   "source": [
    "df.head()"
   ]
  },
  {
   "cell_type": "code",
   "execution_count": null,
   "id": "7dec1f1b",
   "metadata": {},
   "outputs": [],
   "source": [
    "df.head() == df1.head()"
   ]
  },
  {
   "cell_type": "code",
   "execution_count": null,
   "id": "4f2bbb68",
   "metadata": {},
   "outputs": [],
   "source": [
    "df.tail() == df8.tail()"
   ]
  },
  {
   "cell_type": "markdown",
   "id": "75d41ed9",
   "metadata": {},
   "source": [
    "### End of Checkpoint-4"
   ]
  },
  {
   "cell_type": "markdown",
   "id": "ac7b83f1",
   "metadata": {},
   "source": [
    "### xxxxxxxxxxxxxxxxxxxxx Push to Github xxxxxxxxxxxxxxxxxxxxxxxxx"
   ]
  },
  {
   "cell_type": "markdown",
   "id": "43a72133",
   "metadata": {},
   "source": [
    "### Batch-9, batch_size = 1000, batch_start_index = 8001\n"
   ]
  },
  {
   "cell_type": "markdown",
   "id": "923ed13e",
   "metadata": {},
   "source": [
    "#### !Cell is executed. Uncomment (Ctrl + A followed by Ctrl + /) and execute (Shift + Enter) again only if you want to run the batch again."
   ]
  },
  {
   "cell_type": "code",
   "execution_count": null,
   "id": "b7de2025",
   "metadata": {
    "scrolled": false
   },
   "outputs": [],
   "source": [
    "# # Extract info of interst\n",
    "# start_time = time.time()\n",
    "# batch9_initial = extract_info_of_interest(unique_company_profile_urls, batch_size = 1000, batch_start_index = 8001, sleep=5)\n",
    "# end_time = time.time()\n",
    "# execution_time = end_time - start_time\n",
    "# print('execution time: ', execution_time)"
   ]
  },
  {
   "cell_type": "markdown",
   "id": "90b88b96",
   "metadata": {},
   "source": [
    "### Checkpoint-1"
   ]
  },
  {
   "cell_type": "code",
   "execution_count": null,
   "id": "e580e8e5",
   "metadata": {},
   "outputs": [],
   "source": [
    "# # Test-Block !Uncomment and execute only if running the batch again\n",
    "# print(len(batch9_initial))\n",
    "# print(len(batch9_initial[-1]))"
   ]
  },
  {
   "cell_type": "code",
   "execution_count": null,
   "id": "1b2c6089",
   "metadata": {},
   "outputs": [],
   "source": [
    "# # Test-Block !Uncomment and execute only if running the batch again\n",
    "# print(batch9_initial[:3])"
   ]
  },
  {
   "cell_type": "markdown",
   "id": "c6f47470",
   "metadata": {},
   "source": [
    "### End of Checkpoint-1"
   ]
  },
  {
   "cell_type": "code",
   "execution_count": null,
   "id": "4bab36ac",
   "metadata": {},
   "outputs": [],
   "source": [
    "batch9df = pd.read_csv('batch9.csv')"
   ]
  },
  {
   "cell_type": "code",
   "execution_count": null,
   "id": "4ef949b5",
   "metadata": {},
   "outputs": [],
   "source": [
    "batch9df_initial = batch9df.drop(['email'], axis = 1)"
   ]
  },
  {
   "cell_type": "code",
   "execution_count": null,
   "id": "25769242",
   "metadata": {
    "scrolled": true
   },
   "outputs": [],
   "source": [
    "batch9df_initial.info()"
   ]
  },
  {
   "cell_type": "code",
   "execution_count": null,
   "id": "d74f551d",
   "metadata": {},
   "outputs": [],
   "source": [
    "batch9_initial = batch9df_initial.values.tolist()\n",
    "print(batch9_initial[:3])"
   ]
  },
  {
   "cell_type": "markdown",
   "id": "2f926a34",
   "metadata": {},
   "source": [
    "#### Following Function Extracts emails from Home Page Only (Takes Less Time: 1 sec per page)"
   ]
  },
  {
   "cell_type": "code",
   "execution_count": null,
   "id": "10adfb4c",
   "metadata": {},
   "outputs": [],
   "source": [
    "# Extract emails\n",
    "start_time = time.time()\n",
    "pattern = r'\\b[A-Za-z0-9._%+-]+@[A-Za-z0-9.-]+\\.[A-Z|a-z]{2,}\\b'\n",
    "batch9 = extract_emails_from_homepage(batch9_initial, pattern = pattern , index=2)\n",
    "end_time = time.time()\n",
    "execution_time = end_time - start_time\n",
    "print('execution time: ', execution_time)"
   ]
  },
  {
   "cell_type": "markdown",
   "id": "ba28ed08",
   "metadata": {},
   "source": [
    "### Checkpoint-2"
   ]
  },
  {
   "cell_type": "code",
   "execution_count": null,
   "id": "9f4e1f6d",
   "metadata": {},
   "outputs": [],
   "source": [
    "print(len(batch9)) # should be same as batch_size i.e. 1000\n",
    "print(len(batch9[-1])) # should be 8\n",
    "print(batch9[-5:]) #should have 8 items in each list with emails or remarks added"
   ]
  },
  {
   "cell_type": "markdown",
   "id": "59c364b6",
   "metadata": {},
   "source": [
    "### End of Checkpoint-2"
   ]
  },
  {
   "cell_type": "code",
   "execution_count": null,
   "id": "b4aed99e",
   "metadata": {},
   "outputs": [],
   "source": [
    "# # Convert to Dataframe batch9\n",
    "df9 = pd.DataFrame(batch9, columns=columns)\n"
   ]
  },
  {
   "cell_type": "markdown",
   "id": "1ab6e3b4",
   "metadata": {},
   "source": [
    "### Checkpoint-3"
   ]
  },
  {
   "cell_type": "code",
   "execution_count": null,
   "id": "f0b2cc25",
   "metadata": {},
   "outputs": [],
   "source": [
    "df9.info()"
   ]
  },
  {
   "cell_type": "code",
   "execution_count": null,
   "id": "286ac91d",
   "metadata": {},
   "outputs": [],
   "source": [
    "# save as csv\n",
    "df9.to_csv('batch9.csv', index = False)"
   ]
  },
  {
   "cell_type": "markdown",
   "id": "b219a4ae",
   "metadata": {},
   "source": [
    "### End of Checkpoint-3"
   ]
  },
  {
   "cell_type": "code",
   "execution_count": null,
   "id": "41c6da3c",
   "metadata": {},
   "outputs": [],
   "source": [
    "#### Merge the two dataframes\n",
    "df = pd.concat([df, df9])"
   ]
  },
  {
   "cell_type": "markdown",
   "id": "d468f87b",
   "metadata": {},
   "source": [
    "### Checkpoint-4"
   ]
  },
  {
   "cell_type": "code",
   "execution_count": null,
   "id": "4f305a2e",
   "metadata": {},
   "outputs": [],
   "source": [
    "df.info()"
   ]
  },
  {
   "cell_type": "code",
   "execution_count": null,
   "id": "76271d30",
   "metadata": {},
   "outputs": [],
   "source": [
    "df.head()"
   ]
  },
  {
   "cell_type": "code",
   "execution_count": null,
   "id": "d17bb3db",
   "metadata": {},
   "outputs": [],
   "source": [
    "df.head() == df1.head()"
   ]
  },
  {
   "cell_type": "code",
   "execution_count": null,
   "id": "7d0df691",
   "metadata": {},
   "outputs": [],
   "source": [
    "df.tail() == df9.tail()"
   ]
  },
  {
   "cell_type": "markdown",
   "id": "248e4c11",
   "metadata": {},
   "source": [
    "### End of Checkpoint-4"
   ]
  },
  {
   "cell_type": "markdown",
   "id": "5514656a",
   "metadata": {},
   "source": [
    "### xxxxxxxxxxxxxxxxxxxxxxxx Push to Github xxxxxxxxxxxxxxxxxxxxxxxxxxxxxxx"
   ]
  },
  {
   "cell_type": "markdown",
   "id": "ca8d0dac",
   "metadata": {},
   "source": [
    "### Batch-10, batch_size = 1000, batch_start_index = 9001\n"
   ]
  },
  {
   "cell_type": "markdown",
   "id": "c272b8d9",
   "metadata": {},
   "source": [
    "#### !Cell is executed. Uncomment (Ctrl + A followed by Ctrl + /) and execute (Shift + Enter) again only if you want to run the batch again."
   ]
  },
  {
   "cell_type": "code",
   "execution_count": null,
   "id": "b028a873",
   "metadata": {},
   "outputs": [],
   "source": [
    "# # Extract info of interst\n",
    "# start_time = time.time()\n",
    "# batch10_initial = extract_info_of_interest(unique_company_profile_urls, batch_size = 1000, batch_start_index = 9001, sleep=5)\n",
    "# end_time = time.time()\n",
    "# execution_time = end_time - start_time\n",
    "# print('execution time: ', execution_time)"
   ]
  },
  {
   "cell_type": "markdown",
   "id": "ea560d61",
   "metadata": {},
   "source": [
    "### Checkpoint-1"
   ]
  },
  {
   "cell_type": "code",
   "execution_count": null,
   "id": "6199eea8",
   "metadata": {},
   "outputs": [],
   "source": [
    "# # Test-Block !Uncomment and execute only if running the batch again\n",
    "# print(len(batch10_initial))\n",
    "# print(len(batch10_initial[-1]))"
   ]
  },
  {
   "cell_type": "code",
   "execution_count": null,
   "id": "8947e692",
   "metadata": {},
   "outputs": [],
   "source": [
    "# # Test-Block !Uncomment and execute only if running the batch again\n",
    "# print(batch10_initial[:3])"
   ]
  },
  {
   "cell_type": "markdown",
   "id": "3c6e8850",
   "metadata": {},
   "source": [
    "### End of Checkpoint-1"
   ]
  },
  {
   "cell_type": "code",
   "execution_count": null,
   "id": "59e8ba88",
   "metadata": {},
   "outputs": [],
   "source": [
    "batch10df = pd.read_csv('batch10.csv')"
   ]
  },
  {
   "cell_type": "code",
   "execution_count": null,
   "id": "c6528418",
   "metadata": {},
   "outputs": [],
   "source": [
    "batch10df_initial = batch10df.drop(['email'], axis = 1)"
   ]
  },
  {
   "cell_type": "code",
   "execution_count": null,
   "id": "efe3874f",
   "metadata": {
    "scrolled": true
   },
   "outputs": [],
   "source": [
    "batch10df_initial.info()"
   ]
  },
  {
   "cell_type": "code",
   "execution_count": null,
   "id": "08b045e3",
   "metadata": {},
   "outputs": [],
   "source": [
    "batch10_initial = batch10df_initial.values.tolist()\n",
    "print(batch10_initial[:3])"
   ]
  },
  {
   "cell_type": "markdown",
   "id": "38b5d30b",
   "metadata": {},
   "source": [
    "#### Following Function Extracts emails from Home Page Only (Takes Less Time: 1 sec per page)"
   ]
  },
  {
   "cell_type": "code",
   "execution_count": null,
   "id": "57e862a2",
   "metadata": {},
   "outputs": [],
   "source": [
    "# Extract emails\n",
    "start_time = time.time()\n",
    "pattern = r'\\b[A-Za-z0-9._%+-]+@[A-Za-z0-9.-]+\\.[A-Z|a-z]{2,}\\b'\n",
    "batch10 = extract_emails_from_homepage(batch10_initial, pattern = pattern , index=2)\n",
    "end_time = time.time()\n",
    "execution_time = end_time - start_time\n",
    "print('execution time: ', execution_time)"
   ]
  },
  {
   "cell_type": "markdown",
   "id": "cf43a677",
   "metadata": {},
   "source": [
    "### Checkpoint-2"
   ]
  },
  {
   "cell_type": "code",
   "execution_count": null,
   "id": "b37006c4",
   "metadata": {},
   "outputs": [],
   "source": [
    "print(len(batch10)) # should be same as batch_size i.e. 1000\n",
    "print(len(batch10[-1])) # should be 8\n",
    "print(batch10[-5:]) #should have 8 items in each list with emails or remarks added"
   ]
  },
  {
   "cell_type": "markdown",
   "id": "ee6dac80",
   "metadata": {},
   "source": [
    "### End of Checkpoint-2"
   ]
  },
  {
   "cell_type": "code",
   "execution_count": null,
   "id": "d28a31b5",
   "metadata": {},
   "outputs": [],
   "source": [
    "# # Convert to Dataframe batch10\n",
    "df10 = pd.DataFrame(batch10, columns=columns)\n"
   ]
  },
  {
   "cell_type": "markdown",
   "id": "aac388b0",
   "metadata": {},
   "source": [
    "### Checkpoint-3"
   ]
  },
  {
   "cell_type": "code",
   "execution_count": null,
   "id": "e6b603f1",
   "metadata": {},
   "outputs": [],
   "source": [
    "df10.info()"
   ]
  },
  {
   "cell_type": "code",
   "execution_count": null,
   "id": "857bc7fb",
   "metadata": {},
   "outputs": [],
   "source": [
    "# save as csv\n",
    "df10.to_csv('batch10.csv', index = False)"
   ]
  },
  {
   "cell_type": "markdown",
   "id": "13122bfc",
   "metadata": {},
   "source": [
    "### End of Checkpoint-3"
   ]
  },
  {
   "cell_type": "code",
   "execution_count": null,
   "id": "9bb935a3",
   "metadata": {},
   "outputs": [],
   "source": [
    "#### Merge the two dataframes\n",
    "df = pd.concat([df, df10])"
   ]
  },
  {
   "cell_type": "markdown",
   "id": "3a232954",
   "metadata": {},
   "source": [
    "### Checkpoint-4"
   ]
  },
  {
   "cell_type": "code",
   "execution_count": null,
   "id": "9f886b38",
   "metadata": {},
   "outputs": [],
   "source": [
    "df.info()"
   ]
  },
  {
   "cell_type": "code",
   "execution_count": null,
   "id": "c9686ea4",
   "metadata": {},
   "outputs": [],
   "source": [
    "df.head()"
   ]
  },
  {
   "cell_type": "code",
   "execution_count": null,
   "id": "bf0dcdca",
   "metadata": {},
   "outputs": [],
   "source": [
    "df.tail()"
   ]
  },
  {
   "cell_type": "code",
   "execution_count": null,
   "id": "ba5bb26d",
   "metadata": {},
   "outputs": [],
   "source": [
    "df.head() == df1.head()"
   ]
  },
  {
   "cell_type": "code",
   "execution_count": null,
   "id": "85d25682",
   "metadata": {},
   "outputs": [],
   "source": [
    "df.tail() == df10.tail()"
   ]
  },
  {
   "cell_type": "markdown",
   "id": "a8716704",
   "metadata": {},
   "source": [
    "### End of Checkpoint-4"
   ]
  },
  {
   "cell_type": "markdown",
   "id": "a3bc5800",
   "metadata": {},
   "source": [
    "### xxxxxxxxxxxxxxxxxxx Push to Github xxxxxxxxxxxxxxxxxxxxxxxx"
   ]
  },
  {
   "cell_type": "markdown",
   "id": "385c4265",
   "metadata": {},
   "source": [
    "### Batch-11, batch_size = 1000, batch_start_index = 10001\n"
   ]
  },
  {
   "cell_type": "markdown",
   "id": "72059b90",
   "metadata": {},
   "source": [
    "#### !Cell is executed. Uncomment (Ctrl + A followed by Ctrl + /) and execute (Shift + Enter) again only if you want to run the batch again."
   ]
  },
  {
   "cell_type": "code",
   "execution_count": null,
   "id": "dd89b17b",
   "metadata": {},
   "outputs": [],
   "source": [
    "# # Extract info of interst\n",
    "# start_time = time.time()\n",
    "# batch11_initial = extract_info_of_interest(unique_company_profile_urls, batch_size = 1000, batch_start_index = 10001, sleep=5)\n",
    "# end_time = time.time()\n",
    "# execution_time = end_time - start_time\n",
    "# print('execution time: ', execution_time)"
   ]
  },
  {
   "cell_type": "markdown",
   "id": "3312827a",
   "metadata": {},
   "source": [
    "### Checkpoint-1"
   ]
  },
  {
   "cell_type": "code",
   "execution_count": null,
   "id": "6ce28817",
   "metadata": {},
   "outputs": [],
   "source": [
    "# # Test-Block !Uncomment and execute only if running the batch again\n",
    "# print(len(batch11_initial))\n",
    "# print(len(batch11_initial[-1]))"
   ]
  },
  {
   "cell_type": "code",
   "execution_count": null,
   "id": "2cec08cf",
   "metadata": {},
   "outputs": [],
   "source": [
    "# # # Test-Block !Uncomment and execute only if running the batch again\n",
    "# print(batch11_initial[:3])"
   ]
  },
  {
   "cell_type": "markdown",
   "id": "9a8570e5",
   "metadata": {},
   "source": [
    "### End of Checkpoint-1"
   ]
  },
  {
   "cell_type": "code",
   "execution_count": null,
   "id": "e765813e",
   "metadata": {},
   "outputs": [],
   "source": [
    "batch11df = pd.read_csv('batch11.csv')"
   ]
  },
  {
   "cell_type": "code",
   "execution_count": null,
   "id": "12d69d7e",
   "metadata": {},
   "outputs": [],
   "source": [
    "batch11df_initial = batch11df.drop(['email'], axis = 1)"
   ]
  },
  {
   "cell_type": "code",
   "execution_count": null,
   "id": "a5324380",
   "metadata": {
    "scrolled": true
   },
   "outputs": [],
   "source": [
    "batch11df_initial.info()"
   ]
  },
  {
   "cell_type": "code",
   "execution_count": null,
   "id": "6b86c668",
   "metadata": {},
   "outputs": [],
   "source": [
    "batch11_initial = batch11df_initial.values.tolist()\n",
    "print(batch11_initial[:3])"
   ]
  },
  {
   "cell_type": "markdown",
   "id": "f6806d10",
   "metadata": {},
   "source": [
    "#### Following Function Extracts emails from Home Page Only (Takes Less Time: 1 sec per page)"
   ]
  },
  {
   "cell_type": "code",
   "execution_count": null,
   "id": "f92b88af",
   "metadata": {},
   "outputs": [],
   "source": [
    "# Extract emails\n",
    "start_time = time.time()\n",
    "pattern = r'\\b[A-Za-z0-9._%+-]+@[A-Za-z0-9.-]+\\.[A-Z|a-z]{2,}\\b'\n",
    "batch11 = extract_emails_from_homepage(batch11_initial, pattern = pattern , index=2)\n",
    "end_time = time.time()\n",
    "execution_time = end_time - start_time\n",
    "print('execution time: ', execution_time)"
   ]
  },
  {
   "cell_type": "markdown",
   "id": "e8894ed0",
   "metadata": {},
   "source": [
    "### Checkpoint-2"
   ]
  },
  {
   "cell_type": "code",
   "execution_count": null,
   "id": "e1ea3fd1",
   "metadata": {},
   "outputs": [],
   "source": [
    "print(len(batch11)) # should be same as batch_size i.e. 1000\n",
    "print(len(batch11[-1])) # should be 8\n",
    "print(batch11[-5:]) #should have 8 items in each list with emails or remarks added"
   ]
  },
  {
   "cell_type": "markdown",
   "id": "b5debf58",
   "metadata": {},
   "source": [
    "### End of Checkpoint-2"
   ]
  },
  {
   "cell_type": "code",
   "execution_count": null,
   "id": "acd1e770",
   "metadata": {},
   "outputs": [],
   "source": [
    "# # Convert to Dataframe batch11\n",
    "df11 = pd.DataFrame(batch11, columns=columns)\n"
   ]
  },
  {
   "cell_type": "markdown",
   "id": "97ce883a",
   "metadata": {},
   "source": [
    "### Checkpoint-3"
   ]
  },
  {
   "cell_type": "code",
   "execution_count": null,
   "id": "f609a6eb",
   "metadata": {},
   "outputs": [],
   "source": [
    "df11.info()"
   ]
  },
  {
   "cell_type": "code",
   "execution_count": null,
   "id": "458ce032",
   "metadata": {},
   "outputs": [],
   "source": [
    "# save as csv\n",
    "df11.to_csv('batch11.csv', index = False)"
   ]
  },
  {
   "cell_type": "markdown",
   "id": "6dbd8578",
   "metadata": {},
   "source": [
    "### End of Checkpoint-3"
   ]
  },
  {
   "cell_type": "code",
   "execution_count": null,
   "id": "31abdb83",
   "metadata": {},
   "outputs": [],
   "source": [
    "#### Merge the two dataframes\n",
    "df = pd.concat([df, df11])"
   ]
  },
  {
   "cell_type": "markdown",
   "id": "e940a2a1",
   "metadata": {},
   "source": [
    "### Checkpoint-4"
   ]
  },
  {
   "cell_type": "code",
   "execution_count": null,
   "id": "a9f1cf09",
   "metadata": {},
   "outputs": [],
   "source": [
    "df.info()"
   ]
  },
  {
   "cell_type": "code",
   "execution_count": null,
   "id": "e3a90972",
   "metadata": {},
   "outputs": [],
   "source": [
    "df.head()"
   ]
  },
  {
   "cell_type": "code",
   "execution_count": null,
   "id": "e7b9edea",
   "metadata": {},
   "outputs": [],
   "source": [
    "df.tail()"
   ]
  },
  {
   "cell_type": "code",
   "execution_count": null,
   "id": "6cb47949",
   "metadata": {},
   "outputs": [],
   "source": [
    "df.head() == df1.head()"
   ]
  },
  {
   "cell_type": "code",
   "execution_count": null,
   "id": "2e2722a1",
   "metadata": {},
   "outputs": [],
   "source": [
    "df.tail() == df11.tail()"
   ]
  },
  {
   "cell_type": "markdown",
   "id": "9bcdfaf2",
   "metadata": {},
   "source": [
    "### End of Checkpoint-4"
   ]
  },
  {
   "cell_type": "markdown",
   "id": "2bb7dbe9",
   "metadata": {},
   "source": [
    "### xxxxxxxxxxxxxxxxxxxxxxxx Push to Github xxxxxxxxxxxxxxxxxxxxxxxxx"
   ]
  },
  {
   "cell_type": "markdown",
   "id": "83e6aed1",
   "metadata": {},
   "source": [
    "### Batch-12, batch_size = 1000, batch_start_index = 11001\n"
   ]
  },
  {
   "cell_type": "markdown",
   "id": "8bcc210c",
   "metadata": {},
   "source": [
    "#### !Cell is executed. Uncomment (Ctrl + A followed by Ctrl + /) and execute (Shift + Enter) again only if you want to run the batch again."
   ]
  },
  {
   "cell_type": "code",
   "execution_count": null,
   "id": "4a7c6747",
   "metadata": {},
   "outputs": [],
   "source": [
    "# # Extract info of interst\n",
    "# start_time = time.time()\n",
    "# batch12_initial = extract_info_of_interest(unique_company_profile_urls, batch_size = 1000, batch_start_index = 11001, sleep=5)\n",
    "# end_time = time.time()\n",
    "# execution_time = end_time - start_time\n",
    "# print('execution time: ', execution_time)"
   ]
  },
  {
   "cell_type": "markdown",
   "id": "f04531bc",
   "metadata": {},
   "source": [
    "### Checkpoint-1"
   ]
  },
  {
   "cell_type": "code",
   "execution_count": null,
   "id": "07a0a60d",
   "metadata": {},
   "outputs": [],
   "source": [
    "# # Test-Block !Uncomment and execute only if running the batch again\n",
    "# print(len(batch12_initial))\n",
    "# print(len(batch12_initial[-1]))"
   ]
  },
  {
   "cell_type": "code",
   "execution_count": null,
   "id": "4fb2c941",
   "metadata": {
    "scrolled": true
   },
   "outputs": [],
   "source": [
    "# # # Test-Block !Uncomment and execute only if running the batch again\n",
    "# print(batch12_initial[:3])"
   ]
  },
  {
   "cell_type": "markdown",
   "id": "1fb46602",
   "metadata": {},
   "source": [
    "### End of Checkpoint-1"
   ]
  },
  {
   "cell_type": "code",
   "execution_count": null,
   "id": "648a5c37",
   "metadata": {},
   "outputs": [],
   "source": [
    "batch12df = pd.read_csv('batch12.csv')"
   ]
  },
  {
   "cell_type": "code",
   "execution_count": null,
   "id": "393a6041",
   "metadata": {},
   "outputs": [],
   "source": [
    "batch12df_initial = batch12df.drop(['email'], axis = 1)"
   ]
  },
  {
   "cell_type": "code",
   "execution_count": null,
   "id": "4acf6ad7",
   "metadata": {
    "scrolled": true
   },
   "outputs": [],
   "source": [
    "batch12df_initial.info()"
   ]
  },
  {
   "cell_type": "code",
   "execution_count": null,
   "id": "3cbadf43",
   "metadata": {
    "scrolled": true
   },
   "outputs": [],
   "source": [
    "batch12_initial = batch12df_initial.values.tolist()\n"
   ]
  },
  {
   "cell_type": "code",
   "execution_count": null,
   "id": "e6d7e742",
   "metadata": {},
   "outputs": [],
   "source": [
    "print(batch12_initial[:3])"
   ]
  },
  {
   "cell_type": "markdown",
   "id": "724bab2f",
   "metadata": {},
   "source": [
    "#### Following Function Extracts emails from Home Page Only (Takes Less Time: 1 sec per page)"
   ]
  },
  {
   "cell_type": "code",
   "execution_count": null,
   "id": "8cc44cf8",
   "metadata": {},
   "outputs": [],
   "source": [
    "# Extract emails\n",
    "start_time = time.time()\n",
    "pattern = r'\\b[A-Za-z0-9._%+-]+@[A-Za-z0-9.-]+\\.[A-Z|a-z]{2,}\\b'\n",
    "batch12 = extract_emails_from_homepage(batch12_initial, pattern = pattern , index=2)\n",
    "end_time = time.time()\n",
    "execution_time = end_time - start_time\n",
    "print('execution time: ', execution_time)"
   ]
  },
  {
   "cell_type": "markdown",
   "id": "88488d0a",
   "metadata": {},
   "source": [
    "### Checkpoint-2"
   ]
  },
  {
   "cell_type": "code",
   "execution_count": null,
   "id": "046e5327",
   "metadata": {},
   "outputs": [],
   "source": [
    "print(len(batch12)) # should be same as batch_size i.e. 1000\n",
    "print(len(batch12[-1])) # should be 8\n",
    "print(batch12[-5:]) #should have 8 items in each list with emails or remarks added"
   ]
  },
  {
   "cell_type": "markdown",
   "id": "071a12a5",
   "metadata": {},
   "source": [
    "### End of Checkpoint-2"
   ]
  },
  {
   "cell_type": "code",
   "execution_count": null,
   "id": "d14e7e0c",
   "metadata": {},
   "outputs": [],
   "source": [
    "# # Convert to Dataframe batch11\n",
    "df12 = pd.DataFrame(batch12, columns=columns)\n"
   ]
  },
  {
   "cell_type": "markdown",
   "id": "1dd53271",
   "metadata": {},
   "source": [
    "### Checkpoint-3"
   ]
  },
  {
   "cell_type": "code",
   "execution_count": null,
   "id": "7b2701e8",
   "metadata": {},
   "outputs": [],
   "source": [
    "df12.info()"
   ]
  },
  {
   "cell_type": "code",
   "execution_count": null,
   "id": "55d34dd2",
   "metadata": {},
   "outputs": [],
   "source": [
    "# save as csv\n",
    "df12.to_csv('batch12.csv', index = False)"
   ]
  },
  {
   "cell_type": "markdown",
   "id": "15d2a25f",
   "metadata": {},
   "source": [
    "### End of Checkpoint-3"
   ]
  },
  {
   "cell_type": "code",
   "execution_count": null,
   "id": "f9a42d73",
   "metadata": {},
   "outputs": [],
   "source": [
    "#### Merge the two dataframes\n",
    "df = pd.concat([df, df12])"
   ]
  },
  {
   "cell_type": "markdown",
   "id": "e6bee89f",
   "metadata": {},
   "source": [
    "### Checkpoint-4"
   ]
  },
  {
   "cell_type": "code",
   "execution_count": null,
   "id": "cf69b937",
   "metadata": {},
   "outputs": [],
   "source": [
    "df.info()"
   ]
  },
  {
   "cell_type": "code",
   "execution_count": null,
   "id": "a0c5d11c",
   "metadata": {},
   "outputs": [],
   "source": [
    "df.head()"
   ]
  },
  {
   "cell_type": "code",
   "execution_count": null,
   "id": "917d2f31",
   "metadata": {},
   "outputs": [],
   "source": [
    "df.tail()"
   ]
  },
  {
   "cell_type": "code",
   "execution_count": null,
   "id": "e646a1ae",
   "metadata": {},
   "outputs": [],
   "source": [
    "df.head() == df1.head()"
   ]
  },
  {
   "cell_type": "code",
   "execution_count": null,
   "id": "69f67d0f",
   "metadata": {},
   "outputs": [],
   "source": [
    "df.tail() == df12.tail()"
   ]
  },
  {
   "cell_type": "markdown",
   "id": "d25eabed",
   "metadata": {},
   "source": [
    "### End of Checkpoint-4"
   ]
  },
  {
   "cell_type": "markdown",
   "id": "c8ad6fd8",
   "metadata": {},
   "source": [
    "### xxxxxxxxxxxxxxxxxxxxxxx Push to Github xxxxxxxxxxxxxxxxxxxxxxxx"
   ]
  },
  {
   "cell_type": "markdown",
   "id": "acf1cbb5",
   "metadata": {},
   "source": [
    "### Batch-13, batch_size = 1000, batch_start_index = 12001\n"
   ]
  },
  {
   "cell_type": "markdown",
   "id": "a755b04e",
   "metadata": {},
   "source": [
    "#### !Cell is executed. Uncomment (Ctrl + A followed by Ctrl + /) and execute (Shift + Enter) again only if you want to run the batch again."
   ]
  },
  {
   "cell_type": "code",
   "execution_count": null,
   "id": "f7f26809",
   "metadata": {},
   "outputs": [],
   "source": [
    "# # Extract info of interst\n",
    "# start_time = time.time()\n",
    "# batch13_initial = extract_info_of_interest(unique_company_profile_urls, batch_size = 1000, batch_start_index = 12001, sleep=5)\n",
    "# end_time = time.time()\n",
    "# execution_time = end_time - start_time\n",
    "# print('execution time: ', execution_time)"
   ]
  },
  {
   "cell_type": "markdown",
   "id": "cbde741f",
   "metadata": {},
   "source": [
    "### Checkpoint-1"
   ]
  },
  {
   "cell_type": "code",
   "execution_count": null,
   "id": "26dfb12c",
   "metadata": {},
   "outputs": [],
   "source": [
    "# # Test-Block !Uncomment and execute only if running the batch again\n",
    "# print(len(batch13_initial))\n",
    "# print(len(batch13_initial[-1]))"
   ]
  },
  {
   "cell_type": "code",
   "execution_count": null,
   "id": "ed8d48a5",
   "metadata": {},
   "outputs": [],
   "source": [
    "# # # Test-Block !Uncomment and execute only if running the batch again\n",
    "# print(batch13_initial[:3])"
   ]
  },
  {
   "cell_type": "markdown",
   "id": "49427992",
   "metadata": {},
   "source": [
    "### End of Checkpoint-1"
   ]
  },
  {
   "cell_type": "code",
   "execution_count": null,
   "id": "90f8e6fe",
   "metadata": {},
   "outputs": [],
   "source": [
    "batch13df = pd.read_csv('batch13.csv')"
   ]
  },
  {
   "cell_type": "code",
   "execution_count": null,
   "id": "23af254b",
   "metadata": {},
   "outputs": [],
   "source": [
    "batch13df_initial = batch13df.drop(['email'], axis = 1)"
   ]
  },
  {
   "cell_type": "code",
   "execution_count": null,
   "id": "b4ad71f4",
   "metadata": {
    "scrolled": true
   },
   "outputs": [],
   "source": [
    "batch13df_initial.info()"
   ]
  },
  {
   "cell_type": "code",
   "execution_count": null,
   "id": "13b9dbc6",
   "metadata": {},
   "outputs": [],
   "source": [
    "batch13_initial = batch13df_initial.values.tolist()\n",
    "print(batch13_initial[:3])"
   ]
  },
  {
   "cell_type": "markdown",
   "id": "cd0784e1",
   "metadata": {},
   "source": [
    "#### Following Function Extracts emails from Home Page Only (Takes Less Time: 1 sec per page)"
   ]
  },
  {
   "cell_type": "code",
   "execution_count": null,
   "id": "9c8c3760",
   "metadata": {},
   "outputs": [],
   "source": [
    "# Extract emails\n",
    "start_time = time.time()\n",
    "pattern = r'\\b[A-Za-z0-9._%+-]+@[A-Za-z0-9.-]+\\.[A-Z|a-z]{2,}\\b'\n",
    "batch13 = extract_emails_from_homepage(batch13_initial, pattern = pattern , index=2)\n",
    "end_time = time.time()\n",
    "execution_time = end_time - start_time\n",
    "print('execution time: ', execution_time)"
   ]
  },
  {
   "cell_type": "markdown",
   "id": "e03ba863",
   "metadata": {},
   "source": [
    "### Checkpoint-2"
   ]
  },
  {
   "cell_type": "code",
   "execution_count": null,
   "id": "fd3f6801",
   "metadata": {},
   "outputs": [],
   "source": [
    "print(len(batch13)) # should be same as batch_size i.e. 1000\n",
    "print(len(batch13[-1])) # should be 8\n",
    "print(batch13[-5:]) #should have 8 items in each list with emails or remarks added"
   ]
  },
  {
   "cell_type": "markdown",
   "id": "79287140",
   "metadata": {},
   "source": [
    "### End of Checkpoint-2"
   ]
  },
  {
   "cell_type": "code",
   "execution_count": null,
   "id": "b30f1812",
   "metadata": {},
   "outputs": [],
   "source": [
    "# # Convert to Dataframe batch11\n",
    "df13 = pd.DataFrame(batch13, columns=columns)\n"
   ]
  },
  {
   "cell_type": "markdown",
   "id": "6961984f",
   "metadata": {},
   "source": [
    "### Checkpoint-3"
   ]
  },
  {
   "cell_type": "code",
   "execution_count": null,
   "id": "abe4b455",
   "metadata": {},
   "outputs": [],
   "source": [
    "df13.info()"
   ]
  },
  {
   "cell_type": "code",
   "execution_count": null,
   "id": "74ae5aa6",
   "metadata": {},
   "outputs": [],
   "source": [
    "# save as csv\n",
    "df13.to_csv('batch13.csv', index = False)"
   ]
  },
  {
   "cell_type": "markdown",
   "id": "72631f94",
   "metadata": {},
   "source": [
    "### End of Checkpoint-3"
   ]
  },
  {
   "cell_type": "code",
   "execution_count": null,
   "id": "c509db37",
   "metadata": {},
   "outputs": [],
   "source": [
    "#### Merge the two dataframes\n",
    "df = pd.concat([df, df13])"
   ]
  },
  {
   "cell_type": "markdown",
   "id": "0bdeb9b1",
   "metadata": {},
   "source": [
    "### Checkpoint-4"
   ]
  },
  {
   "cell_type": "code",
   "execution_count": null,
   "id": "11a17505",
   "metadata": {},
   "outputs": [],
   "source": [
    "df.info()"
   ]
  },
  {
   "cell_type": "code",
   "execution_count": null,
   "id": "7c2d547b",
   "metadata": {},
   "outputs": [],
   "source": [
    "df.head()"
   ]
  },
  {
   "cell_type": "code",
   "execution_count": null,
   "id": "4f1e6c66",
   "metadata": {},
   "outputs": [],
   "source": [
    "df.tail()"
   ]
  },
  {
   "cell_type": "code",
   "execution_count": null,
   "id": "a6f050d8",
   "metadata": {},
   "outputs": [],
   "source": [
    "df.head() == df1.head()"
   ]
  },
  {
   "cell_type": "code",
   "execution_count": null,
   "id": "6c417fb8",
   "metadata": {},
   "outputs": [],
   "source": [
    "df.tail() == df13.tail()"
   ]
  },
  {
   "cell_type": "markdown",
   "id": "8d959ee5",
   "metadata": {},
   "source": [
    "### End of Checkpoint-4"
   ]
  },
  {
   "cell_type": "markdown",
   "id": "7fe124b5",
   "metadata": {},
   "source": [
    "### xxxxxxxxxxxxxxxxxxxxxxxxx Push to Github xxxxxxxxxxxxxxxxxxxxxx"
   ]
  },
  {
   "cell_type": "markdown",
   "id": "b67932da",
   "metadata": {},
   "source": [
    "### Batch-14, batch_size = 1227, batch_start_index = 13001\n"
   ]
  },
  {
   "cell_type": "markdown",
   "id": "09b4b2f6",
   "metadata": {},
   "source": [
    "#### !Cell is executed. Uncomment (Ctrl + A followed by Ctrl + /) and execute (Shift + Enter) again only if you want to run the batch again."
   ]
  },
  {
   "cell_type": "code",
   "execution_count": null,
   "id": "50953c5e",
   "metadata": {},
   "outputs": [],
   "source": [
    "# # Extract info of interst\n",
    "# start_time = time.time()\n",
    "# batch14_initial = extract_info_of_interest(unique_company_profile_urls, batch_size = 1227, batch_start_index = 13001, sleep=5)\n",
    "# end_time = time.time()\n",
    "# execution_time = end_time - start_time\n",
    "# print('execution time: ', execution_time)"
   ]
  },
  {
   "cell_type": "markdown",
   "id": "86383b74",
   "metadata": {},
   "source": [
    "### Checkpoint-1"
   ]
  },
  {
   "cell_type": "code",
   "execution_count": null,
   "id": "d120315b",
   "metadata": {},
   "outputs": [],
   "source": [
    "# # Test_Block !Uncomment and execute only if running the batch again\n",
    "# print(len(batch14_initial))\n",
    "# print(len(batch14_initial[-1]))"
   ]
  },
  {
   "cell_type": "code",
   "execution_count": null,
   "id": "80b2a760",
   "metadata": {},
   "outputs": [],
   "source": [
    "# # Test_Block !Uncomment and execute only if running the batch again\n",
    "# print(batch14_initial[:3])"
   ]
  },
  {
   "cell_type": "markdown",
   "id": "410de574",
   "metadata": {},
   "source": [
    "### End of Checkpoint-1"
   ]
  },
  {
   "cell_type": "code",
   "execution_count": null,
   "id": "344b3642",
   "metadata": {},
   "outputs": [],
   "source": [
    "batch14df = pd.read_csv('batch14.csv')"
   ]
  },
  {
   "cell_type": "code",
   "execution_count": null,
   "id": "a723f22b",
   "metadata": {},
   "outputs": [],
   "source": [
    "batch14df_initial = batch14df.drop(['email'], axis = 1)"
   ]
  },
  {
   "cell_type": "code",
   "execution_count": null,
   "id": "01a78b25",
   "metadata": {
    "scrolled": true
   },
   "outputs": [],
   "source": [
    "batch14df_initial.info()"
   ]
  },
  {
   "cell_type": "code",
   "execution_count": null,
   "id": "b68864d0",
   "metadata": {},
   "outputs": [],
   "source": [
    "batch14_initial = batch14df_initial.values.tolist()\n",
    "print(batch14_initial[:3])"
   ]
  },
  {
   "cell_type": "markdown",
   "id": "8b6753a3",
   "metadata": {},
   "source": [
    "#### Following Function Extracts emails from Home Page Only (Takes Less Time: 1 sec per page)"
   ]
  },
  {
   "cell_type": "code",
   "execution_count": null,
   "id": "3d48e068",
   "metadata": {},
   "outputs": [],
   "source": [
    "# Extract emails\n",
    "start_time = time.time()\n",
    "pattern = r'\\b[A-Za-z0-9._%+-]+@[A-Za-z0-9.-]+\\.[A-Z|a-z]{2,}\\b'\n",
    "batch14 = extract_emails_from_homepage(batch14_initial, pattern = pattern , index=2)\n",
    "end_time = time.time()\n",
    "execution_time = end_time - start_time\n",
    "print('execution time: ', execution_time)"
   ]
  },
  {
   "cell_type": "markdown",
   "id": "cc81b97d",
   "metadata": {},
   "source": [
    "### Checkpoint-2"
   ]
  },
  {
   "cell_type": "code",
   "execution_count": null,
   "id": "5fdc1368",
   "metadata": {},
   "outputs": [],
   "source": [
    "print(len(batch14)) # should be same as batch_size i.e. 1000\n",
    "print(len(batch14[-1])) # should be 8\n",
    "print(batch14[-5:]) #should have 8 items in each list with emails or remarks added"
   ]
  },
  {
   "cell_type": "markdown",
   "id": "391ed0d5",
   "metadata": {},
   "source": [
    "### End of Checkpoint-2"
   ]
  },
  {
   "cell_type": "code",
   "execution_count": null,
   "id": "8ada1a62",
   "metadata": {},
   "outputs": [],
   "source": [
    "# # Convert to Dataframe batch11\n",
    "df14 = pd.DataFrame(batch14, columns=columns)\n"
   ]
  },
  {
   "cell_type": "markdown",
   "id": "7ec7d3f9",
   "metadata": {},
   "source": [
    "### Checkpoint-3"
   ]
  },
  {
   "cell_type": "code",
   "execution_count": null,
   "id": "a3f2d97e",
   "metadata": {},
   "outputs": [],
   "source": [
    "df14.info()"
   ]
  },
  {
   "cell_type": "code",
   "execution_count": null,
   "id": "5911ad0c",
   "metadata": {},
   "outputs": [],
   "source": [
    "# save as csv\n",
    "df14.to_csv('batch14.csv', index = False)"
   ]
  },
  {
   "cell_type": "markdown",
   "id": "dc507329",
   "metadata": {},
   "source": [
    "### End of Checkpoint-3"
   ]
  },
  {
   "cell_type": "code",
   "execution_count": null,
   "id": "ca6e167e",
   "metadata": {},
   "outputs": [],
   "source": [
    "#### Merge the two dataframes\n",
    "df = pd.concat([df, df14])"
   ]
  },
  {
   "cell_type": "markdown",
   "id": "14298eab",
   "metadata": {},
   "source": [
    "### Checkpoing-4"
   ]
  },
  {
   "cell_type": "code",
   "execution_count": null,
   "id": "34458d1c",
   "metadata": {},
   "outputs": [],
   "source": [
    "df.info()"
   ]
  },
  {
   "cell_type": "code",
   "execution_count": null,
   "id": "c5e4d313",
   "metadata": {},
   "outputs": [],
   "source": [
    "df.head()"
   ]
  },
  {
   "cell_type": "code",
   "execution_count": null,
   "id": "3215e422",
   "metadata": {},
   "outputs": [],
   "source": [
    "df.tail()"
   ]
  },
  {
   "cell_type": "code",
   "execution_count": null,
   "id": "a233c06c",
   "metadata": {},
   "outputs": [],
   "source": [
    "df.head() == df1.head()"
   ]
  },
  {
   "cell_type": "code",
   "execution_count": null,
   "id": "f2c3455e",
   "metadata": {},
   "outputs": [],
   "source": [
    "df.tail() == df14.tail()"
   ]
  },
  {
   "cell_type": "code",
   "execution_count": null,
   "id": "e1a38703",
   "metadata": {},
   "outputs": [],
   "source": [
    "## Remove duplicates\n",
    "df = df.drop_duplicates()"
   ]
  },
  {
   "cell_type": "code",
   "execution_count": null,
   "id": "940ec32a",
   "metadata": {
    "scrolled": true
   },
   "outputs": [],
   "source": [
    "## verify\n",
    "df.info()"
   ]
  },
  {
   "cell_type": "code",
   "execution_count": null,
   "id": "77b86c49",
   "metadata": {},
   "outputs": [],
   "source": [
    "## Save all batches in a csv file\n",
    "df.to_csv('all_batches_home.csv', index = False)"
   ]
  },
  {
   "cell_type": "markdown",
   "id": "bf15607d",
   "metadata": {},
   "source": [
    "### End of Checkpoint-4"
   ]
  },
  {
   "cell_type": "markdown",
   "id": "e873f763",
   "metadata": {},
   "source": [
    "### xxxxxxxxxxxxxxxxxxxxxx Push to Github xxxxxxxxxxxxxxxxxxxxxxxxx"
   ]
  },
  {
   "cell_type": "code",
   "execution_count": null,
   "id": "c5f9c56a",
   "metadata": {},
   "outputs": [],
   "source": []
  }
 ],
 "metadata": {
  "kernelspec": {
   "display_name": "Python 3 (ipykernel)",
   "language": "python",
   "name": "python3"
  },
  "language_info": {
   "codemirror_mode": {
    "name": "ipython",
    "version": 3
   },
   "file_extension": ".py",
   "mimetype": "text/x-python",
   "name": "python",
   "nbconvert_exporter": "python",
   "pygments_lexer": "ipython3",
   "version": "3.10.9"
  }
 },
 "nbformat": 4,
 "nbformat_minor": 5
}
