{
 "cells": [
  {
   "cell_type": "markdown",
   "id": "508f8853",
   "metadata": {},
   "source": [
    "# Part-1 CODE-BLOCK\n",
    "- Do not make any changes in the 'CODE-BLOCK'\n",
    "- This notebook retrieves the required data from specified websites with email addresses only from the home page of the site, if available. It is a faster execution.\n",
    "- Execute all cells in sequence\n",
    "- This notebook may take up to 4 hours to run, so if you are executing all cells from Kernel, ensure availability of internet for this duration.\n",
    "- Test-Blocks are disabled but for safety do not try to execute any cell marked as Test-Block"
   ]
  },
  {
   "cell_type": "code",
   "execution_count": 1,
   "id": "f42a824b",
   "metadata": {},
   "outputs": [],
   "source": [
    "# import necessary libraries\n",
    "import time\n",
    "import requests\n",
    "import re\n",
    "import numpy as np\n",
    "import pandas as pd\n",
    "from contextlib import suppress\n",
    "from selenium import webdriver\n",
    "from selenium.webdriver.chrome.service import Service as ChromeService\n",
    "from webdriver_manager.chrome import ChromeDriverManager\n",
    "from selenium.webdriver.support.wait import WebDriverWait \n",
    "from selenium.webdriver.chrome.options import Options\n",
    "from selenium.webdriver.support import expected_conditions as EC\n",
    "from selenium.webdriver.common.by import By\n",
    "\n",
    "# Install webdriver manager to automatically detect driver location\n",
    "service = ChromeService(executable_path=ChromeDriverManager().install())\n",
    "\n",
    "# Set up ChromeDriver options\n",
    "chrome_options = Options()\n",
    "chrome_options.add_argument('--headless') # Run in headless mode to avoid opening a new browser window\n"
   ]
  },
  {
   "cell_type": "code",
   "execution_count": 2,
   "id": "6dfe6572",
   "metadata": {},
   "outputs": [],
   "source": [
    "def extract_hrefs(n=2, sleep = 15):\n",
    "    \"\"\"\n",
    "    Extracts all hrefs from a paginated web url as a list \n",
    "    Args:\n",
    "        n = number of paginated web urls from which hrefs are to be extracted, default = 5\n",
    "        sleep = time in seconds to sleep before quitting the driver, default = 15 sec\n",
    "        url = paginated url from which data is to be extracted\n",
    "    Returns:\n",
    "        (list) containining the hrefs found on each page \n",
    "    \n",
    "    \"\"\"\n",
    "    \n",
    "        # Initialize empty list to store results\n",
    "    all_hrefs = []\n",
    "\n",
    "    \n",
    "    # Loop over n list pages\n",
    "    for i in range(1, n+1):\n",
    "        # Build URL for current list pages having links to company profiles\n",
    "        # Don't uncomment following line of code\n",
    "        url = f\"https://wirmarket.wir.ch/de/members/list/?page={i}&resultAmount=100\"\n",
    "        \n",
    "\n",
    "        # Launch ChromeDriver and load websites\n",
    "        # In order to disable browser windows opening for websites amend the code of the following line:\n",
    "        # driver = webdriver.Chrome(service=service, options = chrome_options)\n",
    "        driver = webdriver.Chrome(service=service)\n",
    "\n",
    "        # Don't uncomment the code on the following line, it is for testing\n",
    "        #   driver.implicitly_wait(20) # seconds\n",
    "        driver.get(url)\n",
    "\n",
    "        # Wait for all anchor elements to be present\n",
    "        # WebDriverWait(driver, 180).until(EC.visiblity_of_all_elements_located((By.CSS_SELECTOR, \"a\")))\n",
    "        # Due to intermittent functionality of WebDriverWait, we introduce sleep() function to get all anchors\n",
    "        # This value is presently set at 15 secs but you may change it depending upon internet speed\n",
    "        time.sleep(sleep)\n",
    "        # Extract hrefs from all anchor elements on current website\n",
    "        hrefs = [a.get_attribute('href') for a in driver.find_elements(By.CSS_SELECTOR, \"a\")]\n",
    "\n",
    "        # Add hrefs to the list of all hrefs\n",
    "        all_hrefs.extend(hrefs) # extend flattens the list so that it is no longer a list of lists\n",
    "\n",
    "        # Close the current browser window\n",
    "        driver.quit()\n",
    "    return all_hrefs\n"
   ]
  },
  {
   "cell_type": "code",
   "execution_count": 3,
   "id": "afd515ac",
   "metadata": {},
   "outputs": [],
   "source": [
    "### Test Block ! DO NOT EXECUTE\n",
    "# url = f\"https://wirmarket.wir.ch/de/members/list/?page={i}&resultAmount=100\"\n",
    "# all_hrefs_list = extract_hrefs(n=2, sleep = 15, \n",
    "#                          url = url)\n",
    "                          \n",
    "# # Check the length of all_hrefs list\n",
    "# # Each list link contains between 400-500 hrefs\n",
    "# print(len(all_hrefs_list))\n",
    "# # Check for duplicates\n",
    "# print(len(set(all_hrefs_list)))\n",
    "\n",
    "# # Test for function extract_hrefs passed"
   ]
  },
  {
   "cell_type": "code",
   "execution_count": 4,
   "id": "9956773f",
   "metadata": {},
   "outputs": [],
   "source": [
    "def unique_urls(urls_list):\n",
    "    \"\"\"\n",
    "    Removes repeated entries of urls in a list which might occur due to use of regex or multiple occurences on a page\n",
    "    Args:\n",
    "        urls_list: list containing urls which might be repetitive entries\n",
    "    Returns: list containing unique urls\n",
    "    \"\"\"\n",
    "    # convert to set\n",
    "    urls_set = set(urls_list)\n",
    "    # convert back to list\n",
    "    unique_urls_list = list(urls_set)\n",
    "    \n",
    "    return unique_urls_list\n"
   ]
  },
  {
   "cell_type": "code",
   "execution_count": 5,
   "id": "d1d716de",
   "metadata": {},
   "outputs": [],
   "source": [
    "# ## Test-Block !DO NOT EXECUTE\n",
    "# unique_hrefs = unique_urls(all_hrefs_list)\n",
    "# print(len(unique_hrefs))\n",
    "\n",
    "# # Test for function unique_urls passed"
   ]
  },
  {
   "cell_type": "code",
   "execution_count": 6,
   "id": "7ccca824",
   "metadata": {},
   "outputs": [],
   "source": [
    "def regex_pattern_urls(pattern, hrefs_list): \n",
    "    \"\"\"\n",
    "    Uses a regex pattern to extract urls of interest out of a list of urls\n",
    "    pattern: regex pattern used for extracting urls from a list of urls\n",
    "    hrefs_list: list of hrefs required to be filtered according to the regex pattern\n",
    "    returns:urls_of_interest a list of urls filtered according to regex pattern provided\n",
    "        \n",
    "    \"\"\"\n",
    "    # Filter the list 'all_hrefs' to keep only the company profile page urls\n",
    "\n",
    "    #import regex library\n",
    "    import re\n",
    "    # regex pattern for company profile pages\n",
    "    # Do not uncomment following line of code\n",
    "#     pattern = r'https:\\/\\/\\w+\\.wir\\.ch\\/de\\/companyProfile\\/profile\\/[0-9A-F]{32}\\/info\\/\\?promo=false$'\n",
    "\n",
    "    urls_of_interest = []\n",
    "\n",
    "    # loop over all_hrefs list extracted above with Selenium to extract company profile urls\n",
    "    for href in hrefs_list:\n",
    "        match = re.search(pattern, str(href))\n",
    "        if match:\n",
    "            url = (match.group())\n",
    "            urls_of_interest.append(url)\n",
    "    return urls_of_interest        "
   ]
  },
  {
   "cell_type": "code",
   "execution_count": 7,
   "id": "970ddf9e",
   "metadata": {},
   "outputs": [],
   "source": [
    "# ## Test-Block !DO NOT EXECUTE\n",
    "\n",
    "# pattern = r'https:\\/\\/\\w+\\.wir\\.ch\\/de\\/companyProfile\\/profile\\/[0-9A-F]{32}\\/info\\/\\?promo=false$'\n",
    "# company_profile_urls =  regex_pattern_urls(pattern, unique_hrefs)\n",
    "# print(len(company_profile_urls))\n",
    "# unique_company_profile_urls = unique_urls(company_profile_urls)\n",
    "# print(len(unique_company_profile_urls)) # should be 200 (slight variation of up to 5% is acceptable due to variation in internet speed)\n",
    "# print(unique_company_profile_urls[:10]) #must contain the string \"info\" in them\n",
    "\n",
    "# # Test for regex_pattern_urls passed"
   ]
  },
  {
   "cell_type": "code",
   "execution_count": 8,
   "id": "9d76f4bd",
   "metadata": {},
   "outputs": [],
   "source": [
    "def extract_info_of_interest(url_list, batch_size = 1000, batch_start_index = 0, sleep=10):\n",
    "    \"\"\"\n",
    "    Extracts all the relevant information from the given unique pages using selenium web driver finders and locators\n",
    "    Args:\n",
    "    url_list: list of the pages from where info is to be extracted\n",
    "    batch_size (int): Number of pages to be processed at a time. It is recommended to process large number of pages in batches of 1000\n",
    "    batch_start_index(int): index of the url_list from where parsing should start\n",
    "    sleep(int): seconds to wait for page to load before info can be parsed. It overrides WebDriverWait() function\n",
    "    Returns:\n",
    "    list of list of extracted data where each list contains data from a single page\n",
    "    \"\"\"\n",
    "    # Dont't uncomment following line of code, it is for troubleshooting\n",
    "#   from contextlib import suppress\n",
    "\n",
    "    # prepare the urls batch to be processed\n",
    "    batch = url_list[batch_start_index:batch_start_index+batch_size+1]\n",
    "\n",
    "    company_data = [] # initialize a list to contain lists of all companies' info\n",
    "\n",
    "\n",
    "    count = 0\n",
    "\n",
    "    for url in batch:\n",
    "        company_info = [] # initialize a list to contain one company's info\n",
    "\n",
    "\n",
    "        # driver control block\n",
    "        driver = webdriver.Chrome(service=service)\n",
    "        driver.get(url)\n",
    "        time.sleep(sleep) # We are using sleep to avoid errors of WebDriverWait though it is timewise costly\n",
    "\n",
    "\n",
    "    # Using suppress context to ignore known exceptions\n",
    "    # Do not uncomment following line of code as it may lead to execution errors it is for testing\n",
    "    #     with suppress(Exception): \n",
    "\n",
    "        # Get company names\n",
    "\n",
    "        try:\n",
    "    #         WebDriverWait(driver, 10).until(EC.presence_of_element_located((By.ID, \"71-lnk\")))\n",
    "\n",
    "            h3_headings = driver.find_elements(By.CLASS_NAME, \"inline-block\") # find all elements with class = \"inline-block\"\n",
    "            h3_list = []\n",
    "            for heading in h3_headings: #loop through the list obtained\n",
    "                h3_list.append(heading.text) # get text of all h3 headings\n",
    "            company_name = h3_list[0] # company name is the first item in the list\n",
    "            company_info.append(company_name)   \n",
    "        except:\n",
    "            company_info.append('NA')\n",
    "        finally:\n",
    "                pass\n",
    "\n",
    "\n",
    "        # Get company industry\n",
    "\n",
    "        try:\n",
    "\n",
    "            uls = driver.find_elements(By.CLASS_NAME, \"default\")\n",
    "            list_items = driver.find_elements(By.TAG_NAME,\"li\")   \n",
    "            li_list = []\n",
    "            for li in list_items:\n",
    "                li_list.append(li.text)\n",
    "            industry_name = li_list[20] # industry name is the twenty first item in the list\n",
    "            company_info.append(industry_name)   \n",
    "        except:\n",
    "            company_info.append('NA')\n",
    "        finally:\n",
    "                pass\n",
    "\n",
    "        # Get company website if present         \n",
    "        try:\n",
    "    #       WebDriverWait(driver, 10).until(EC.presence_of_element_located((By.ID, \"68-lnk\")))\n",
    "            anchor = driver.find_element(By.ID, \"68-lnk\")\n",
    "            website = anchor.get_attribute('href')\n",
    "            company_info.append(website)\n",
    "        except:\n",
    "                company_info.append('NA')\n",
    "        finally:\n",
    "                pass\n",
    "\n",
    "        # Get company telephoone if available\n",
    "        try:\n",
    "    #         WebDriverWait(driver, 10).until(EC.presence_of_element_located((By.ID, \"66-lnk\")))\n",
    "            anchor = driver.find_element(By.ID, \"66-lnk\")\n",
    "            company_telephone = anchor.get_attribute('href')\n",
    "            company_info.append(company_telephone)\n",
    "        except:\n",
    "            company_info.append('NA')\n",
    "        finally:\n",
    "                pass\n",
    "        # Get company fax if available\n",
    "        try:\n",
    "    #         WebDriverWait(driver, 10).until(EC.presence_of_element_located((By.ID, \"fax-lnk\")))\n",
    "            anchor = driver.find_element(By.ID, \"fax-lnk\")\n",
    "            company_fax_no = anchor.get_attribute('href')\n",
    "            company_info.append(company_fax_no)\n",
    "        except:\n",
    "            company_info.append('NA')\n",
    "        finally: \n",
    "                pass\n",
    "\n",
    "       # Get company address and address google map link\n",
    "        try:\n",
    "    #       WebDriverWait(driver, 10).until(EC.presence_of_element_located((By.ID, \"6-lnk\")))\n",
    "            anchor = driver.find_element(By.ID, \"6-lnk\")\n",
    "            address = anchor.text\n",
    "            address_map_link = anchor.get_attribute('href')\n",
    "            company_info.append(address)\n",
    "            company_info.append(address_map_link)\n",
    "\n",
    "        except:\n",
    "                company_info.append('NA')\n",
    "        finally:\n",
    "                pass\n",
    "\n",
    "\n",
    "        company_data.append(company_info)\n",
    "        company_info = [] # reinitialize company_info\n",
    "        \n",
    "        count+=1\n",
    "        print(\"count\", count)\n",
    "\n",
    "        driver.quit()\n",
    "    return company_data\n"
   ]
  },
  {
   "cell_type": "code",
   "execution_count": 9,
   "id": "a8b743f8",
   "metadata": {},
   "outputs": [],
   "source": [
    "# ## Test-Block !DO NOT Execute\n",
    "# company_data_lists = extract_info_of_interest(url_list = unique_company_profile_urls, batch_size = 200, batch_start_index = 0, sleep=10)"
   ]
  },
  {
   "cell_type": "code",
   "execution_count": 10,
   "id": "84f699e2",
   "metadata": {},
   "outputs": [],
   "source": [
    "# # Test-Block !Do Not Execute\n",
    "# print(len(company_data_lists)) # should be equal to batch size i.e. 200\n",
    "# # test for extract_info_of_interest passed"
   ]
  },
  {
   "cell_type": "code",
   "execution_count": 11,
   "id": "d0360962",
   "metadata": {},
   "outputs": [],
   "source": [
    "# # Test-Block !DO NOT ExECUTE\n",
    "# print(len(company_data_lists[-1]))\n",
    "# print(company_data_lists[:5]) \n",
    "# # Should be a list of lists\n",
    "# # Each list should have seven items\n",
    "# # First item in each list should be 'company name', second: 'industry', third: website, \n",
    "# # fourth: 'tel', fifth 'fax', sixth: 'address', seventh: 'address maplink'\n",
    "# # data not available should be represented by appropriate remarks\n",
    "\n",
    "# # test for extract_info_of_interest_passed"
   ]
  },
  {
   "cell_type": "code",
   "execution_count": 12,
   "id": "33af521a",
   "metadata": {},
   "outputs": [],
   "source": [
    "def extract_emails_from_homepage(info_list, pattern=r'\\b[A-Za-z0-9._%+-]+@[A-Za-z0-9.-]+\\.[A-Z|a-z]{2,}\\b', index=2):\n",
    "    \"\"\"Extracts emails from a list of lists containing a referred website address using a regex pattern\n",
    "    Args:\n",
    "    info_list: list of lists containing extracted info including website address\n",
    "    pattern: regex pattern to cover all possible formats of email addresses\n",
    "    index(int): index number in the lists where website address is located, default=2\n",
    "    Returns: info_list_with_emails a list with email addresses appended to info_list\n",
    "    \"\"\"\n",
    "\n",
    "    import requests\n",
    "    import re\n",
    "    from bs4 import BeautifulSoup\n",
    "\n",
    "    info_list_with_emails = info_list.copy()  # make a copy to avoid overwriting original list\n",
    "    all_links = []\n",
    "    for page in info_list_with_emails:\n",
    "        try:\n",
    "            home_page = str(page[index])\n",
    "            response = requests.get(home_page)\n",
    "\n",
    "            if response.status_code == 200:\n",
    "                soup = BeautifulSoup(response.text, 'html.parser')\n",
    "                hrefs = [link.get('href') for link in soup.find_all('a')]  # get all links on the homepage\n",
    "                # search for emails in homepage response text\n",
    "                emails = re.findall(pattern, response.text)\n",
    "                if emails:\n",
    "                    unique_emails = set(emails)\n",
    "                    unique_emails_list = list(unique_emails)\n",
    "                    page.append(unique_emails_list[0])\n",
    "                    all_links.append(unique_emails_list[0])\n",
    "                else:\n",
    "                    # search for emails in homepage hrefs\n",
    "                    for href in hrefs:\n",
    "                        if href and href.startswith (str('mailto:')):\n",
    "                            emails = [] \n",
    "                            email = href.split(':')[1]\n",
    "                            emails.append(email)\n",
    "                            page.append(emails[0])\n",
    "                            all_links.append(email)\n",
    "                            break\n",
    "                        else:\n",
    "                            pass\n",
    "                        \n",
    "            else:\n",
    "                page.append('bad link')\n",
    "        except:\n",
    "            page.append('website not accessible')\n",
    "\n",
    "    print('No of emails found: ', len(all_links))\n",
    "   \n",
    "    return info_list_with_emails\n"
   ]
  },
  {
   "cell_type": "code",
   "execution_count": 13,
   "id": "767e94f2",
   "metadata": {},
   "outputs": [],
   "source": [
    "def extract_emails_from_allpages(info_list, pattern=r'\\b[A-Za-z0-9._%+-]+@[A-Za-z0-9.-]+\\.[A-Z|a-z]{2,}\\b', index=2):\n",
    "    \"\"\"Extracts emails from a list of lists containing a referred website address using a regex pattern\n",
    "    Args:\n",
    "    info_list: list of lists containing extracted info including website address\n",
    "    pattern: regex pattern to cover all possible formats of email addresses\n",
    "    index(int): index number in the lists where website address is located, default=2\n",
    "    Returns: info_list_with_emails a list with email addresses appended to info_list\n",
    "    \"\"\"\n",
    "\n",
    "    import requests\n",
    "    import re\n",
    "    from bs4 import BeautifulSoup\n",
    "\n",
    "    info_list_with_emails = info_list.copy()  # make a copy to avoid overwriting original list\n",
    "    all_links = []\n",
    "    \n",
    "    for page in info_list_with_emails:\n",
    "        try:\n",
    "            home_page = str(page[index])\n",
    "            response = requests.get(home_page)\n",
    "\n",
    "            if response.status_code == 200:\n",
    "                soup = BeautifulSoup(response.text, 'html.parser')\n",
    "                hrefs = [link.get('href') for link in soup.find_all('a')]  # get all links on the homepage\n",
    "\n",
    "                # search for emails on the homepage\n",
    "                emails = re.findall(pattern, response.text)\n",
    "                if emails:\n",
    "                    unique_emails = set(emails)\n",
    "                    unique_emails_list = list(unique_emails)\n",
    "                    page.append(unique_emails_list[0])\n",
    "                    all_links.append(unique_emails_list[0])\n",
    "                else:\n",
    "                    # search for emails on all links found\n",
    "                    email_found = False\n",
    "                    for href in hrefs:\n",
    "                        if href and href.startswith(str('mailto:')):\n",
    "                            emails = [] \n",
    "                            email = href.split(':')[1]\n",
    "                            emails.append(email)\n",
    "                            page.append(emails[0])\n",
    "                            all_links.append(emails[0])\n",
    "                            email_found = True\n",
    "                            break\n",
    "                        elif 'http' not in href:\n",
    "                            link = home_page[:-1]+ href\n",
    "                            link_response = requests.get(link)\n",
    "                            if link_response.status_code == 200:\n",
    "                                link_soup = BeautifulSoup(link_response.text, 'html.parser')\n",
    "                                link_hrefs = [link.get('href') for link in link_soup.find_all('a')]\n",
    "\n",
    "                                emails = re.findall(pattern, link_response.text)\n",
    "                                if emails:\n",
    "                                    unique_emails = set(emails)\n",
    "                                    unique_emails_list = list(unique_emails)\n",
    "                                    page.append(unique_emails_list[0])\n",
    "                                    all_links.append(unique_emails_list[0])\n",
    "                                    email_found = True\n",
    "                                    break\n",
    "                                        \n",
    "                    if not email_found:\n",
    "                        page.append(\"NA\")\n",
    "                        \n",
    "            else:\n",
    "                page.append('bad link')\n",
    "        except:\n",
    "            page.append('website not accessible')\n",
    "\n",
    "    print('No of emails found: ', len(all_links), all_links)\n",
    "\n",
    "   \n",
    "    return info_list_with_emails\n"
   ]
  },
  {
   "cell_type": "code",
   "execution_count": 14,
   "id": "1f7d05cc",
   "metadata": {},
   "outputs": [],
   "source": [
    "# ## Test_Bloack !DO NOT EXECUTE\n",
    "# company_data_lists_with_emails = extract_emails_from_websites(company_data_lists)"
   ]
  },
  {
   "cell_type": "code",
   "execution_count": 15,
   "id": "a24d3e14",
   "metadata": {},
   "outputs": [],
   "source": [
    "# ## Test_Block !DO NOT EXECUTE\n",
    "# print(len(company_data_lists_with_emails)) # should be same as company_data_lists i.e. 200\n",
    "# print(len(company_data_lists_with_emails[-1])) # should be 8\n",
    "# print(company_data_lists_with_emails[-5:]) #should have 8 items in each list with emails or remarks added\n",
    "\n",
    "# # Test for extract_emails_from_websites passed"
   ]
  },
  {
   "cell_type": "code",
   "execution_count": 16,
   "id": "dd6e725d",
   "metadata": {},
   "outputs": [],
   "source": [
    "# ## Test-Block !DO NOT EXECUTE\n",
    "# # Convert to Dataframe first 100 items\n",
    "# columns=['company_name', 'industry', 'website', 'telephone', 'fax', 'address', 'address_maplink', 'email']\n",
    "\n",
    "# df1 = pd.DataFrame(company_data_lists_with_emails[:100], columns=columns)\n",
    " "
   ]
  },
  {
   "cell_type": "code",
   "execution_count": 17,
   "id": "c1ec8126",
   "metadata": {},
   "outputs": [],
   "source": [
    "# ## Test-Block !DO NOT EXECUTE\n",
    "# df1.info()"
   ]
  },
  {
   "cell_type": "code",
   "execution_count": 18,
   "id": "a4591f26",
   "metadata": {},
   "outputs": [],
   "source": [
    "# ## Test_Block !DO NOT EXECUTE\n",
    "# df1.head()"
   ]
  },
  {
   "cell_type": "code",
   "execution_count": 19,
   "id": "d48b0f28",
   "metadata": {},
   "outputs": [],
   "source": [
    "# ## Test-Block !DO NOT EXECUTE\n",
    "# # Convert to DataFrame next 100 items\n",
    "# columns=['company_name', 'industry', 'website', 'telephone', 'fax', 'address', 'address_maplink', 'email']\n",
    "\n",
    "# df2 = pd.DataFrame(company_data_lists_with_emails[101:200], columns=columns)\n"
   ]
  },
  {
   "cell_type": "code",
   "execution_count": 20,
   "id": "5e92d51e",
   "metadata": {},
   "outputs": [],
   "source": [
    "# ## Test-Block !DO NOT EXECUTE\n",
    "# df2.info()"
   ]
  },
  {
   "cell_type": "code",
   "execution_count": 21,
   "id": "989dc46d",
   "metadata": {
    "scrolled": true
   },
   "outputs": [],
   "source": [
    "# ## Test_Block !DO NOT EXECUTE\n",
    "# df2.head()"
   ]
  },
  {
   "cell_type": "code",
   "execution_count": 22,
   "id": "87eecb29",
   "metadata": {},
   "outputs": [],
   "source": [
    "# ## Test_Block !DO NOT EXECUTE\n",
    "# df2.tail()"
   ]
  },
  {
   "cell_type": "code",
   "execution_count": 23,
   "id": "9d835917",
   "metadata": {},
   "outputs": [],
   "source": [
    "# # Test-Block !DO nOT EXECUTE\n",
    "# # Join both Dataframes\n",
    "# df = pd.concat([df1, df2])"
   ]
  },
  {
   "cell_type": "code",
   "execution_count": 24,
   "id": "63b05885",
   "metadata": {},
   "outputs": [],
   "source": [
    "## Test-Block DO NOT EXECUTE\n",
    "# df.info()"
   ]
  },
  {
   "cell_type": "code",
   "execution_count": 25,
   "id": "b176084c",
   "metadata": {},
   "outputs": [],
   "source": [
    "# ## Test_Block !DO NOT EXECUTE\n",
    "# df.head()==df1.head() # should be same as df1.head()\n",
    "# # test passed"
   ]
  },
  {
   "cell_type": "code",
   "execution_count": 26,
   "id": "67dad03f",
   "metadata": {},
   "outputs": [],
   "source": [
    "# ## Test_Block !DO NOT EXECUTE\n",
    "# df.tail()==df2.tail() # should be same as df2.tail()\n",
    "# # test passed"
   ]
  },
  {
   "cell_type": "markdown",
   "id": "9209261e",
   "metadata": {},
   "source": [
    "### xxxxxxxxxxxxxxxxxxxxxx END OF CODE BLOCKXXXXXXXXXXXXXXXXXXXXXXXX"
   ]
  },
  {
   "cell_type": "markdown",
   "id": "dd50e5e2",
   "metadata": {},
   "source": [
    "## XXXXXXXXXXXXX START OF EXECUTION BLOCXXXXXXXXXXXXXX"
   ]
  },
  {
   "cell_type": "markdown",
   "id": "b2291625",
   "metadata": {},
   "source": [
    "### Part-I Extract links to all company profile pages"
   ]
  },
  {
   "cell_type": "code",
   "execution_count": 27,
   "id": "5dff63f1",
   "metadata": {},
   "outputs": [],
   "source": [
    "## all_hrefs already extracted. Uncomment and execute only if extracting all_hrefs again\n",
    "# # extract all_hrefs from 224 list pages on the site \n",
    "# start_time = time.time()\n",
    "# # url = f\"https://wirmarket.wir.ch/de/members/list/?page={i}&resultAmount=25\"\n",
    "# all_hrefs = extract_hrefs( n=224, sleep = 17)\n",
    "\n",
    "# end_time = time.time()\n",
    "# execution_time = end_time - start_time\n",
    "# print(\"execution_time: \", execution_time)\n"
   ]
  },
  {
   "cell_type": "code",
   "execution_count": 28,
   "id": "b7a31a28",
   "metadata": {
    "scrolled": true
   },
   "outputs": [],
   "source": [
    "## Test-Block !Uncomment and execute only if extracting all_hrefs again\n",
    "# print(len(all_hrefs))"
   ]
  },
  {
   "cell_type": "code",
   "execution_count": 29,
   "id": "29d9f309",
   "metadata": {},
   "outputs": [],
   "source": [
    "# ## all_hrefs.csv already saved. Uncomment and execute only if extracting all_hrefs again\n",
    "# all_hrefs_dict = {\"hrefs\": all_hrefs}\n",
    "# all_hrefs_df = pd.DataFrame(all_hrefs)\n",
    "# all_hrefs_df.to_csv(\"all_hrefs.csv\", index = False)"
   ]
  },
  {
   "cell_type": "code",
   "execution_count": 30,
   "id": "85ea6024",
   "metadata": {},
   "outputs": [],
   "source": [
    "# # Duplicates already removed. !Uncomment and execute only if extracting again\n",
    "# # Remove duplicate or repeated entries from the all_hrefs\n",
    "# all_hrefs_unique = unique_urls(all_hrefs) "
   ]
  },
  {
   "cell_type": "code",
   "execution_count": 31,
   "id": "8e09615e",
   "metadata": {},
   "outputs": [],
   "source": [
    "# # Test-Block !Uncomment and execute only if extracting again\n",
    "# print(len(all_hrefs_unique))"
   ]
  },
  {
   "cell_type": "code",
   "execution_count": 32,
   "id": "90cf8bd8",
   "metadata": {},
   "outputs": [],
   "source": [
    "# ## Already extracted !Uncomment and execute only if extracting again\n",
    "# # Extract company profile page urls from all unique hrefs\n",
    "# pattern = r'https:\\/\\/\\w+\\.wir\\.ch\\/de\\/companyProfile\\/profile\\/[0-9A-F]{32}\\/info\\/\\?promo=false$'\n",
    "# company_profile_urls = regex_pattern_urls(pattern = pattern, hrefs_list = all_hrefs_unique)"
   ]
  },
  {
   "cell_type": "code",
   "execution_count": 33,
   "id": "d31e83a3",
   "metadata": {},
   "outputs": [],
   "source": [
    "# # Test_Block !Uncomment and execute only if extracting again\n",
    "# print(len(company_profile_urls))"
   ]
  },
  {
   "cell_type": "code",
   "execution_count": 34,
   "id": "d36bfaa5",
   "metadata": {},
   "outputs": [],
   "source": [
    "# # Uncomment and execute only if extracting again\n",
    "# # Remove duplicate or repeated entries from company_profile_urls\n",
    "# unique_company_profile_urls = unique_urls(company_profile_urls)"
   ]
  },
  {
   "cell_type": "markdown",
   "id": "c44409ab",
   "metadata": {},
   "source": [
    "#### Checkpoint-1"
   ]
  },
  {
   "cell_type": "code",
   "execution_count": 35,
   "id": "064d40e8",
   "metadata": {
    "scrolled": true
   },
   "outputs": [],
   "source": [
    "# ## Test-Block. !Uncomment and execute only if extracting again\n",
    "# print(len(unique_company_profile_urls)) # should be 14227 (slight variation of up to 5% is acceptable due to variation in internet speed)\n",
    "# print(unique_company_profile_urls[:10])\n",
    "# print(unique_company_profile_urls[-10:])"
   ]
  },
  {
   "cell_type": "code",
   "execution_count": 36,
   "id": "6afee03a",
   "metadata": {},
   "outputs": [],
   "source": [
    "# # company_profile_url already saved as profile_urls.csv. Uncomment and execute only if extracting again\n",
    "# # Save as csv\n",
    "# company_profile_url_dict = {\"urls\": unique_company_profile_urls}\n",
    "# company_profile_url_df = pd.DataFrame(company_profile_url_dict)\n",
    "# company_profile_url_df.to_csv('profile_urls.csv', index = False)"
   ]
  },
  {
   "cell_type": "code",
   "execution_count": 37,
   "id": "01b60062",
   "metadata": {},
   "outputs": [],
   "source": [
    "## Comment this code (Ctrl+A followed by Ctrl+/) if extracting hrefs and urls again\n",
    "# import profile_urls.csv as dataframe\n",
    "unique_company_profiles_df = pd.read_csv(\"profile_urls.csv\")"
   ]
  },
  {
   "cell_type": "code",
   "execution_count": 38,
   "id": "dd898a4b",
   "metadata": {},
   "outputs": [
    {
     "name": "stdout",
     "output_type": "stream",
     "text": [
      "<class 'pandas.core.frame.DataFrame'>\n",
      "RangeIndex: 14227 entries, 0 to 14226\n",
      "Data columns (total 1 columns):\n",
      " #   Column  Non-Null Count  Dtype \n",
      "---  ------  --------------  ----- \n",
      " 0   urls    14227 non-null  object\n",
      "dtypes: object(1)\n",
      "memory usage: 111.3+ KB\n"
     ]
    }
   ],
   "source": [
    "## Comment this code (Ctrl+A followed by Ctrl+/) if extracting hrefs and urls again\n",
    "unique_company_profiles_df.info()"
   ]
  },
  {
   "cell_type": "code",
   "execution_count": 39,
   "id": "8ceb8285",
   "metadata": {},
   "outputs": [],
   "source": [
    "## Comment this code (Ctrl+A followed by Ctrl+/) if extracting hrefs and urls again\n",
    "unique_company_profile_urls = unique_company_profiles_df['urls'].tolist()\n"
   ]
  },
  {
   "cell_type": "code",
   "execution_count": 40,
   "id": "75fb0821",
   "metadata": {
    "scrolled": true
   },
   "outputs": [
    {
     "name": "stdout",
     "output_type": "stream",
     "text": [
      "14227\n"
     ]
    }
   ],
   "source": [
    "## Comment this code (Ctrl+A followed by Ctrl+/) if extracting hrefs and urls again\n",
    "print(len(unique_company_profile_urls))"
   ]
  },
  {
   "cell_type": "code",
   "execution_count": 41,
   "id": "510a673c",
   "metadata": {},
   "outputs": [
    {
     "name": "stdout",
     "output_type": "stream",
     "text": [
      "['https://wirmarket.wir.ch/de/companyProfile/profile/3E429FAF26282A65E0540010E0244DC9/info/?promo=false', 'https://wirmarket.wir.ch/de/companyProfile/profile/3E429FAF3C152A65E0540010E0244DC9/info/?promo=false', 'https://wirmarket.wir.ch/de/companyProfile/profile/58B85543DFA09858E05400144FF95A47/info/?promo=false', 'https://wirmarket.wir.ch/de/companyProfile/profile/3E429FAF27E62A65E0540010E0244DC9/info/?promo=false', 'https://wirmarket.wir.ch/de/companyProfile/profile/3E429FAF55272A65E0540010E0244DC9/info/?promo=false']\n"
     ]
    }
   ],
   "source": [
    "## Comment this code (Ctrl+A followed by Ctrl+/) if extracting hrefs and urls again\n",
    "print(unique_company_profile_urls[-5:])"
   ]
  },
  {
   "cell_type": "markdown",
   "id": "099820ca",
   "metadata": {},
   "source": [
    "### xxxxxxxxxxxxxxxxxxx END OF PART-1 xxxxxxxxxxxxxxxxxxxxxxxxxxx"
   ]
  },
  {
   "cell_type": "markdown",
   "id": "d9a9d064",
   "metadata": {},
   "source": [
    "## Part-2 Batch Processing"
   ]
  },
  {
   "cell_type": "markdown",
   "id": "b05662e3",
   "metadata": {},
   "source": [
    "### Batch-1, batch_size = 1000, batch_start_index = 0"
   ]
  },
  {
   "cell_type": "markdown",
   "id": "f4b9fad5",
   "metadata": {},
   "source": [
    "#### !Cell is executed. Uncomment (Ctrl + A followed by Ctrl + /) and execute (Shift + Enter) again only if you want to run the batch again."
   ]
  },
  {
   "cell_type": "code",
   "execution_count": 42,
   "id": "7d5d4e3f",
   "metadata": {},
   "outputs": [],
   "source": [
    "# # Extract info of interst\n",
    "# start_time = time.time()\n",
    "# batch1_initial = extract_info_of_interest(unique_company_profile_urls, batch_size = 1000, batch_start_index = 0, sleep=10)\n",
    "# end_time = time.time()\n",
    "# execution_time = end_time - start_time\n",
    "# print('execution time: ', execution_time)"
   ]
  },
  {
   "cell_type": "markdown",
   "id": "11ae5ade",
   "metadata": {},
   "source": [
    "### checkpoint-1"
   ]
  },
  {
   "cell_type": "code",
   "execution_count": 43,
   "id": "8dbadfa9",
   "metadata": {},
   "outputs": [],
   "source": [
    "# # Test-Block ! Execute only if you run the batch again\n",
    "# print(len(batch1_initial)) # Should be equal to batch_size + 1\n",
    "# print(len(batch1_initial[-1])) # Should be equal to 7"
   ]
  },
  {
   "cell_type": "code",
   "execution_count": 44,
   "id": "b0ded14e",
   "metadata": {},
   "outputs": [],
   "source": [
    "## Test_Block ! Execute only if you run the batch again\n",
    "# print(batch1_initial[:3])"
   ]
  },
  {
   "cell_type": "markdown",
   "id": "3b4ec23e",
   "metadata": {},
   "source": [
    "### End of checkpoint-1"
   ]
  },
  {
   "cell_type": "code",
   "execution_count": 45,
   "id": "8cdf4e1a",
   "metadata": {},
   "outputs": [],
   "source": [
    "batch1df = pd.read_csv('batch1.csv')"
   ]
  },
  {
   "cell_type": "code",
   "execution_count": 46,
   "id": "211b4fd1",
   "metadata": {},
   "outputs": [],
   "source": [
    "batch1df_initial = batch1df.drop(['email'], axis = 1)\n"
   ]
  },
  {
   "cell_type": "code",
   "execution_count": 47,
   "id": "5951eccd",
   "metadata": {},
   "outputs": [
    {
     "name": "stdout",
     "output_type": "stream",
     "text": [
      "<class 'pandas.core.frame.DataFrame'>\n",
      "RangeIndex: 1001 entries, 0 to 1000\n",
      "Data columns (total 7 columns):\n",
      " #   Column           Non-Null Count  Dtype \n",
      "---  ------           --------------  ----- \n",
      " 0   company_name     1001 non-null   object\n",
      " 1   industry         1001 non-null   object\n",
      " 2   website          578 non-null    object\n",
      " 3   telephone        864 non-null    object\n",
      " 4   fax              572 non-null    object\n",
      " 5   address          1001 non-null   object\n",
      " 6   address_maplink  1001 non-null   object\n",
      "dtypes: object(7)\n",
      "memory usage: 54.9+ KB\n"
     ]
    }
   ],
   "source": [
    "batch1df_initial.info()"
   ]
  },
  {
   "cell_type": "code",
   "execution_count": 48,
   "id": "be8c5003",
   "metadata": {},
   "outputs": [
    {
     "name": "stdout",
     "output_type": "stream",
     "text": [
      "[['Ringler + Strahm Storenbau AG', 'Sonstige Bauinstallation', 'http://www.ringler-strahm.ch/', 'tel:033 345 22 55', 'fax:033 345 55 19', 'Uetendorfstrasse 20\\n3634 Thierachern', 'https://www.google.com/maps/place/Uetendorfstrasse%2020+3634+Thierachern'], ['Grob & Partner Architektur AG', 'Architekturbüros', 'http://www.grobarchitektur.ch/', 'tel:081 720 02 00', 'fax:081 720 02 05', 'Bahnhofstrasse 3\\n7320 Sargans', 'https://www.google.com/maps/place/Bahnhofstrasse%20%203+7320+Sargans'], ['Lauclair AG', 'Schreinerarbeiten im Innenausbau', 'http://www.lauclair.ch/', 'tel:031 879 01 69', 'fax:031 879 20 69', 'Lyssstrasse 27\\n3054 Schüpfen', 'https://www.google.com/maps/place/Lyssstrasse%2027+3054+Sch%C3%BCpfen']]\n"
     ]
    }
   ],
   "source": [
    "batch1_initial = batch1df_initial.values.tolist()\n",
    "print(batch1_initial[:3])"
   ]
  },
  {
   "cell_type": "markdown",
   "id": "71fcdd99",
   "metadata": {},
   "source": [
    "#### Following Function Extracts emails from Home Page Only (Takes Less Time: 1 sec per page)"
   ]
  },
  {
   "cell_type": "code",
   "execution_count": 49,
   "id": "fad49f5c",
   "metadata": {
    "scrolled": true
   },
   "outputs": [
    {
     "name": "stderr",
     "output_type": "stream",
     "text": [
      "C:\\Users\\Admin\\miniconda3\\lib\\site-packages\\bs4\\builder\\__init__.py:545: XMLParsedAsHTMLWarning: It looks like you're parsing an XML document using an HTML parser. If this really is an HTML document (maybe it's XHTML?), you can ignore or filter this warning. If it's XML, you should know that using an XML parser will be more reliable. To parse this document as XML, make sure you have the lxml package installed, and pass the keyword argument `features=\"xml\"` into the BeautifulSoup constructor.\n",
      "  warnings.warn(\n"
     ]
    },
    {
     "name": "stdout",
     "output_type": "stream",
     "text": [
      "No of emails found:  340\n",
      "execution time:  1438.0233209133148\n"
     ]
    }
   ],
   "source": [
    "# Extract emails\n",
    "start_time = time.time()\n",
    "pattern = r'\\b[A-Za-z0-9._%+-]+@[A-Za-z0-9.-]+\\.[A-Z|a-z]{2,}\\b'\n",
    "batch1 = extract_emails_from_homepage(batch1_initial, pattern = pattern , index=2)\n",
    "end_time = time.time()\n",
    "execution_time = end_time - start_time\n",
    "print('execution time: ', execution_time)"
   ]
  },
  {
   "cell_type": "markdown",
   "id": "62cd0465",
   "metadata": {},
   "source": [
    "### checkpoint-2"
   ]
  },
  {
   "cell_type": "code",
   "execution_count": 50,
   "id": "4b6dcf05",
   "metadata": {},
   "outputs": [
    {
     "name": "stdout",
     "output_type": "stream",
     "text": [
      "1001\n",
      "8\n",
      "[['STB Holzbau GmbH', 'Einbau von Fenster, Türen und Innenausbau, Einbauküchen, Einbaumöbel', nan, 'tel:055 444 31 68', 'fax:055 444 31 68', 'Haslenstrasse 28b\\n8862 Schübelbach', 'https://www.google.com/maps/place/Haslenstrasse%2028b+8862+Sch%C3%BCbelbach', 'website not accessible'], ['Beauty Solar Sonnenland GmbH', 'Saunas, Solarien', nan, 'tel:041 280 15 15', 'fax:041 631 08 07', 'Schulhausstrasse 4\\n6052 Hergiswil NW', 'https://www.google.com/maps/place/Schulhausstrasse%204+6052+Hergiswil%20NW', 'website not accessible'], ['Elektro-Brizzi AG', 'Elektroinstallation', nan, 'tel:052 386 22 22', 'fax:052 386 22 93', 'Heinrich Gujer-Strasse 5\\n8494 Bauma', 'https://www.google.com/maps/place/Heinrich%20Gujer-Strasse%205+8494+Bauma', 'website not accessible'], ['Keller Wärme & Wasser AG', 'Sanitär- und Heizungsinstallation', nan, 'tel:032 373 51 53', 'fax:032 373 27 71', 'Erlenstrasse 15\\n2555 Brügg BE', 'https://www.google.com/maps/place/Erlenstrasse%2015+2555+Br%C3%BCgg%20BE', 'website not accessible'], ['Trend Werbeartikel GmbH', 'Detailhandel mit Geschenkartikeln und Souvenirs', 'http://www.trend-werbeartikel.ch/', 'tel:031 952 61 21', 'fax:031 952 61 32', 'Webergutstrasse 4\\n3052 Zollikofen', 'https://www.google.com/maps/place/Webergutstrasse%204+3052+Zollikofen', 'bad link']]\n"
     ]
    }
   ],
   "source": [
    "print(len(batch1)) # should be same as batch_size i.e. 1001\n",
    "print(len(batch1[-1])) # should be 8\n",
    "print(batch1[-5:]) #should have 8 items in each list with emails or remarks added\n"
   ]
  },
  {
   "cell_type": "markdown",
   "id": "ac6cf333",
   "metadata": {},
   "source": [
    "### End of checkpoint-2"
   ]
  },
  {
   "cell_type": "code",
   "execution_count": 51,
   "id": "9d77aeb4",
   "metadata": {},
   "outputs": [],
   "source": [
    "# Columns to be used for all batches\n",
    "columns=['company_name', 'industry', 'website', 'telephone', 'fax', 'address', 'address_maplink', 'email']\n"
   ]
  },
  {
   "cell_type": "code",
   "execution_count": 52,
   "id": "c8c895eb",
   "metadata": {},
   "outputs": [],
   "source": [
    "# # Convert to Dataframe batch1\n",
    "df1 = pd.DataFrame(batch1, columns=columns)\n"
   ]
  },
  {
   "cell_type": "markdown",
   "id": "682b14a9",
   "metadata": {},
   "source": [
    "### Checkpoint-3"
   ]
  },
  {
   "cell_type": "code",
   "execution_count": 53,
   "id": "763ebab0",
   "metadata": {},
   "outputs": [
    {
     "name": "stdout",
     "output_type": "stream",
     "text": [
      "<class 'pandas.core.frame.DataFrame'>\n",
      "RangeIndex: 1001 entries, 0 to 1000\n",
      "Data columns (total 8 columns):\n",
      " #   Column           Non-Null Count  Dtype \n",
      "---  ------           --------------  ----- \n",
      " 0   company_name     1001 non-null   object\n",
      " 1   industry         1001 non-null   object\n",
      " 2   website          578 non-null    object\n",
      " 3   telephone        864 non-null    object\n",
      " 4   fax              572 non-null    object\n",
      " 5   address          1001 non-null   object\n",
      " 6   address_maplink  1001 non-null   object\n",
      " 7   email            867 non-null    object\n",
      "dtypes: object(8)\n",
      "memory usage: 62.7+ KB\n"
     ]
    }
   ],
   "source": [
    "# # Test-Block ! Execute only if you run the batch again\n",
    "df1.info()"
   ]
  },
  {
   "cell_type": "code",
   "execution_count": 54,
   "id": "b2311dda",
   "metadata": {
    "scrolled": true
   },
   "outputs": [
    {
     "data": {
      "text/html": [
       "<div>\n",
       "<style scoped>\n",
       "    .dataframe tbody tr th:only-of-type {\n",
       "        vertical-align: middle;\n",
       "    }\n",
       "\n",
       "    .dataframe tbody tr th {\n",
       "        vertical-align: top;\n",
       "    }\n",
       "\n",
       "    .dataframe thead th {\n",
       "        text-align: right;\n",
       "    }\n",
       "</style>\n",
       "<table border=\"1\" class=\"dataframe\">\n",
       "  <thead>\n",
       "    <tr style=\"text-align: right;\">\n",
       "      <th></th>\n",
       "      <th>company_name</th>\n",
       "      <th>industry</th>\n",
       "      <th>website</th>\n",
       "      <th>telephone</th>\n",
       "      <th>fax</th>\n",
       "      <th>address</th>\n",
       "      <th>address_maplink</th>\n",
       "      <th>email</th>\n",
       "    </tr>\n",
       "  </thead>\n",
       "  <tbody>\n",
       "    <tr>\n",
       "      <th>0</th>\n",
       "      <td>Ringler + Strahm Storenbau AG</td>\n",
       "      <td>Sonstige Bauinstallation</td>\n",
       "      <td>http://www.ringler-strahm.ch/</td>\n",
       "      <td>tel:033 345 22 55</td>\n",
       "      <td>fax:033 345 55 19</td>\n",
       "      <td>Uetendorfstrasse 20\\n3634 Thierachern</td>\n",
       "      <td>https://www.google.com/maps/place/Uetendorfstr...</td>\n",
       "      <td>info@ringler-strahm.ch</td>\n",
       "    </tr>\n",
       "    <tr>\n",
       "      <th>1</th>\n",
       "      <td>Grob &amp; Partner Architektur AG</td>\n",
       "      <td>Architekturbüros</td>\n",
       "      <td>http://www.grobarchitektur.ch/</td>\n",
       "      <td>tel:081 720 02 00</td>\n",
       "      <td>fax:081 720 02 05</td>\n",
       "      <td>Bahnhofstrasse 3\\n7320 Sargans</td>\n",
       "      <td>https://www.google.com/maps/place/Bahnhofstras...</td>\n",
       "      <td>8c4075d5481d476e945486754f783364@sentry.io</td>\n",
       "    </tr>\n",
       "    <tr>\n",
       "      <th>2</th>\n",
       "      <td>Lauclair AG</td>\n",
       "      <td>Schreinerarbeiten im Innenausbau</td>\n",
       "      <td>http://www.lauclair.ch/</td>\n",
       "      <td>tel:031 879 01 69</td>\n",
       "      <td>fax:031 879 20 69</td>\n",
       "      <td>Lyssstrasse 27\\n3054 Schüpfen</td>\n",
       "      <td>https://www.google.com/maps/place/Lyssstrasse%...</td>\n",
       "      <td>98181273782d9a9g3251e7d066b95071@2x.jpg</td>\n",
       "    </tr>\n",
       "    <tr>\n",
       "      <th>3</th>\n",
       "      <td>Club Goldwand</td>\n",
       "      <td>Kauf und Verkauf von eigenen Grundstücken, Geb...</td>\n",
       "      <td>http://www.clubgoldwand.ch/</td>\n",
       "      <td>tel:056 282 30 50</td>\n",
       "      <td>NaN</td>\n",
       "      <td>Landstrasse 6\\n5415 Nussbaumen AG</td>\n",
       "      <td>https://www.google.com/maps/place/Landstrasse%...</td>\n",
       "      <td>info@clubgoldwand.ch</td>\n",
       "    </tr>\n",
       "    <tr>\n",
       "      <th>4</th>\n",
       "      <td>NICOLE DIEM Horgen</td>\n",
       "      <td>Detailhandel mit Brillen und anderen Sehhilfen</td>\n",
       "      <td>http://www.nicolediem.ch/</td>\n",
       "      <td>tel:044 770 10 40</td>\n",
       "      <td>NaN</td>\n",
       "      <td>Dorfplatz 3\\n8810 Horgen</td>\n",
       "      <td>https://www.google.com/maps/place/Dorfplatz%20...</td>\n",
       "      <td>johndoe@domain.com</td>\n",
       "    </tr>\n",
       "  </tbody>\n",
       "</table>\n",
       "</div>"
      ],
      "text/plain": [
       "                    company_name  \\\n",
       "0  Ringler + Strahm Storenbau AG   \n",
       "1  Grob & Partner Architektur AG   \n",
       "2                    Lauclair AG   \n",
       "3                  Club Goldwand   \n",
       "4             NICOLE DIEM Horgen   \n",
       "\n",
       "                                            industry  \\\n",
       "0                           Sonstige Bauinstallation   \n",
       "1                                   Architekturbüros   \n",
       "2                   Schreinerarbeiten im Innenausbau   \n",
       "3  Kauf und Verkauf von eigenen Grundstücken, Geb...   \n",
       "4     Detailhandel mit Brillen und anderen Sehhilfen   \n",
       "\n",
       "                          website          telephone                fax  \\\n",
       "0   http://www.ringler-strahm.ch/  tel:033 345 22 55  fax:033 345 55 19   \n",
       "1  http://www.grobarchitektur.ch/  tel:081 720 02 00  fax:081 720 02 05   \n",
       "2         http://www.lauclair.ch/  tel:031 879 01 69  fax:031 879 20 69   \n",
       "3     http://www.clubgoldwand.ch/  tel:056 282 30 50                NaN   \n",
       "4       http://www.nicolediem.ch/  tel:044 770 10 40                NaN   \n",
       "\n",
       "                                 address  \\\n",
       "0  Uetendorfstrasse 20\\n3634 Thierachern   \n",
       "1         Bahnhofstrasse 3\\n7320 Sargans   \n",
       "2          Lyssstrasse 27\\n3054 Schüpfen   \n",
       "3      Landstrasse 6\\n5415 Nussbaumen AG   \n",
       "4               Dorfplatz 3\\n8810 Horgen   \n",
       "\n",
       "                                     address_maplink  \\\n",
       "0  https://www.google.com/maps/place/Uetendorfstr...   \n",
       "1  https://www.google.com/maps/place/Bahnhofstras...   \n",
       "2  https://www.google.com/maps/place/Lyssstrasse%...   \n",
       "3  https://www.google.com/maps/place/Landstrasse%...   \n",
       "4  https://www.google.com/maps/place/Dorfplatz%20...   \n",
       "\n",
       "                                        email  \n",
       "0                      info@ringler-strahm.ch  \n",
       "1  8c4075d5481d476e945486754f783364@sentry.io  \n",
       "2     98181273782d9a9g3251e7d066b95071@2x.jpg  \n",
       "3                        info@clubgoldwand.ch  \n",
       "4                          johndoe@domain.com  "
      ]
     },
     "execution_count": 54,
     "metadata": {},
     "output_type": "execute_result"
    }
   ],
   "source": [
    "df1.head()"
   ]
  },
  {
   "cell_type": "markdown",
   "id": "5f01a9ea",
   "metadata": {},
   "source": [
    "### End of Checkpoint-3"
   ]
  },
  {
   "cell_type": "code",
   "execution_count": 55,
   "id": "cbe0536b",
   "metadata": {},
   "outputs": [],
   "source": [
    "# Save as csv file\n",
    "df1.to_csv('batch1.csv', index = False)"
   ]
  },
  {
   "cell_type": "markdown",
   "id": "5ef595d8",
   "metadata": {},
   "source": [
    "### xxxxxxxxxxxxxxx Push to Github xxxxxxxxxxxxxxxxxxxxxxxxx"
   ]
  },
  {
   "cell_type": "markdown",
   "id": "05ea2e1d",
   "metadata": {},
   "source": [
    "### Batch-2, batch_size = 1000, batch_start_index = 1001"
   ]
  },
  {
   "cell_type": "markdown",
   "id": "293f238c",
   "metadata": {},
   "source": [
    "#### !Cell is executed. Uncomment (Ctrl + A followed by Ctrl + /) and execute (Shift + Enter) again only if you want to run the batch again."
   ]
  },
  {
   "cell_type": "code",
   "execution_count": 56,
   "id": "f2cfb1e2",
   "metadata": {},
   "outputs": [],
   "source": [
    "# # Extract info of interst\n",
    "# start_time = time.time()\n",
    "# batch2_initial = extract_info_of_interest(unique_company_profile_urls, batch_size = 1000, batch_start_index = 1001, sleep=10)\n",
    "# end_time = time.time()\n",
    "# execution_time = end_time - start_time\n",
    "# print('execution time: ', execution_time)"
   ]
  },
  {
   "cell_type": "markdown",
   "id": "f9576f8a",
   "metadata": {},
   "source": [
    "### checkpoint-1"
   ]
  },
  {
   "cell_type": "code",
   "execution_count": 57,
   "id": "f051f1f2",
   "metadata": {},
   "outputs": [],
   "source": [
    "# ## Test_Block ! Execute only if you run the batch again\n",
    "# print(len(batch2_initial))\n",
    "# print(len(batch2_initial[-1]))"
   ]
  },
  {
   "cell_type": "code",
   "execution_count": 58,
   "id": "181048f0",
   "metadata": {},
   "outputs": [],
   "source": [
    "# ## Test_Block ! Execute only if you run the batch again\n",
    "# print(batch2_initial[:3])"
   ]
  },
  {
   "cell_type": "markdown",
   "id": "5d3adf21",
   "metadata": {},
   "source": [
    "### End of Checkpoint-1"
   ]
  },
  {
   "cell_type": "code",
   "execution_count": 59,
   "id": "ecbf1c8d",
   "metadata": {},
   "outputs": [],
   "source": [
    "batch2df = pd.read_csv('batch2.csv')"
   ]
  },
  {
   "cell_type": "code",
   "execution_count": 60,
   "id": "31ee357b",
   "metadata": {},
   "outputs": [],
   "source": [
    "batch2df_initial = batch2df.drop(['email'], axis = 1)"
   ]
  },
  {
   "cell_type": "code",
   "execution_count": 61,
   "id": "e7d39777",
   "metadata": {},
   "outputs": [
    {
     "name": "stdout",
     "output_type": "stream",
     "text": [
      "<class 'pandas.core.frame.DataFrame'>\n",
      "RangeIndex: 1001 entries, 0 to 1000\n",
      "Data columns (total 7 columns):\n",
      " #   Column           Non-Null Count  Dtype \n",
      "---  ------           --------------  ----- \n",
      " 0   company_name     987 non-null    object\n",
      " 1   industry         988 non-null    object\n",
      " 2   website          578 non-null    object\n",
      " 3   telephone        867 non-null    object\n",
      " 4   fax              559 non-null    object\n",
      " 5   address          987 non-null    object\n",
      " 6   address_maplink  1001 non-null   object\n",
      "dtypes: object(7)\n",
      "memory usage: 54.9+ KB\n"
     ]
    }
   ],
   "source": [
    "batch2df_initial.info()"
   ]
  },
  {
   "cell_type": "code",
   "execution_count": 62,
   "id": "34bf6e63",
   "metadata": {},
   "outputs": [
    {
     "name": "stdout",
     "output_type": "stream",
     "text": [
      "[['Modehaus Peter', 'Detailhandel mit Herrenbekleidung', nan, 'tel:041 970 17 57', 'fax:041 970 07 57', 'Hauptgasse 36\\n6130 Willisau', 'https://www.google.com/maps/place/Hauptgasse%2036+6130+Willisau'], ['VB ORGANISATION Sàrl', 'Offsetdruck', 'http://www.imprimerievb.ch/', 'tel:079 205 44 53', nan, 'chemin St-Hubert 32\\n1950 Sion', 'https://www.google.com/maps/place/chemin%20St-Hubert%2032+1950+Sion'], ['Heinz Stucki', 'Anbau von Getreide (ohne Reis), Hülsenfrüchten und Ölsaaten', nan, 'tel:031 781 05 03', 'fax:031 781 05 03', 'Hubmatt\\n3116 Noflen BE', 'https://www.google.com/maps/place/Hubmatt+3116+Noflen%20BE']]\n"
     ]
    }
   ],
   "source": [
    "batch2_initial = batch2df_initial.values.tolist()\n",
    "print(batch2_initial[:3])"
   ]
  },
  {
   "cell_type": "markdown",
   "id": "64904b9a",
   "metadata": {},
   "source": [
    "#### Following Function Extracts emails from Home Page Only (Takes Less Time: 1 sec per page)"
   ]
  },
  {
   "cell_type": "code",
   "execution_count": 63,
   "id": "ef3323f3",
   "metadata": {},
   "outputs": [
    {
     "name": "stderr",
     "output_type": "stream",
     "text": [
      "C:\\Users\\Admin\\miniconda3\\lib\\site-packages\\bs4\\builder\\__init__.py:545: XMLParsedAsHTMLWarning: It looks like you're parsing an XML document using an HTML parser. If this really is an HTML document (maybe it's XHTML?), you can ignore or filter this warning. If it's XML, you should know that using an XML parser will be more reliable. To parse this document as XML, make sure you have the lxml package installed, and pass the keyword argument `features=\"xml\"` into the BeautifulSoup constructor.\n",
      "  warnings.warn(\n"
     ]
    },
    {
     "name": "stdout",
     "output_type": "stream",
     "text": [
      "No of emails found:  343\n",
      "execution time:  1425.6340143680573\n"
     ]
    }
   ],
   "source": [
    "# Extract emails\n",
    "start_time = time.time()\n",
    "pattern = r'\\b[A-Za-z0-9._%+-]+@[A-Za-z0-9.-]+\\.[A-Z|a-z]{2,}\\b'\n",
    "batch2 = extract_emails_from_homepage(batch2_initial, pattern = pattern , index=2)\n",
    "end_time = time.time()\n",
    "execution_time = end_time - start_time\n",
    "print('execution time: ', execution_time)#### Following Function Extracts emails from All Pages of a Site (Takes A Lot of Time: 15 sec per page)\n",
    "#### Entire Batch can take upto 5 hours - Uncomment (Ctrl + A followed by Ctrl + / will uncomment the code.\n",
    "#### Execute(Shift + Enter) only if needed"
   ]
  },
  {
   "cell_type": "markdown",
   "id": "dca3d029",
   "metadata": {},
   "source": [
    "### Checkpoint-2"
   ]
  },
  {
   "cell_type": "code",
   "execution_count": 64,
   "id": "a1627cf6",
   "metadata": {
    "scrolled": false
   },
   "outputs": [
    {
     "name": "stdout",
     "output_type": "stream",
     "text": [
      "1001\n",
      "7\n",
      "[['MBA AG', 'Grosshandel mit Bergwerks-, Bau- und Baustoffmaschinen', 'http://www.mba-baumaschinen.ch/', 'tel:044 838 61 11', nan, 'Zürichstrasse 50\\n8303 Bassersdorf', 'https://www.google.com/maps/place/Z%C3%BCrichstrasse%2050+8303+Bassersdorf', 'info@mba-maschinen.com'], ['Mächler GU AG', 'Garten- und Landschaftsbau sowie Erbringung von sonstigen gärtnerischen Dienstleistungen', 'http://www.maechler-gu.ch/', 'tel:055 451 11 31', 'fax:055 451 11 34', 'St.Gallerstrasse 58\\n8853 Lachen SZ', 'https://www.google.com/maps/place/St.Gallerstrasse%2058+8853+Lachen%20SZ', 'info@maechler-gu.ch'], ['Garasch 106 AG', 'lnstandhaltung und Reparatur von Automobilen', 'https://garasch106.ch/', 'tel:041 624 40 24', nan, 'Stanserstrasse 106\\n6373 Ennetbürgen', 'https://www.google.com/maps/place/Stanserstrasse%20106+6373+Ennetb%C3%BCrgen', 'auto@garasch106.ch'], ['Bumbachsäge AG', 'Sägewerke', 'http://www.bumbachsaege.ch/', 'tel:034 493 35 57', 'fax:034 493 31 84', 'Bumbachsäge 172\\n6197 Schangnau', 'https://www.google.com/maps/place/Bumbachs%C3%A4ge%20172+6197+Schangnau', 'info@bumbachsaege.ch'], ['MEUBLES DESCARTES SA', 'Inserate', 'http://www.decarte.ch/', 'tel:027 743 43 43', 'fax:027 743 43 44', 'Route du Léman 33\\n1907 Saxon', 'https://www.google.com/maps/place/Route%20du%20L%C3%A9man%2033+1907+Saxon']]\n"
     ]
    }
   ],
   "source": [
    "print(len(batch2)) # should be same as batch_size i.e. 1000\n",
    "print(len(batch2[-1])) # should be 8\n",
    "print(batch2[-5:]) #should have 8 items in each list with emails or remarks added"
   ]
  },
  {
   "cell_type": "markdown",
   "id": "35420a21",
   "metadata": {},
   "source": [
    "### End of Checkpoint-2"
   ]
  },
  {
   "cell_type": "code",
   "execution_count": 65,
   "id": "eb978e51",
   "metadata": {},
   "outputs": [],
   "source": [
    "# # Convert to Dataframe batch1\n",
    "df2 = pd.DataFrame(batch2, columns=columns)\n"
   ]
  },
  {
   "cell_type": "markdown",
   "id": "6c5ead28",
   "metadata": {},
   "source": [
    "### Checkpoint 3"
   ]
  },
  {
   "cell_type": "code",
   "execution_count": 66,
   "id": "fb841687",
   "metadata": {},
   "outputs": [
    {
     "name": "stdout",
     "output_type": "stream",
     "text": [
      "<class 'pandas.core.frame.DataFrame'>\n",
      "RangeIndex: 1001 entries, 0 to 1000\n",
      "Data columns (total 8 columns):\n",
      " #   Column           Non-Null Count  Dtype \n",
      "---  ------           --------------  ----- \n",
      " 0   company_name     987 non-null    object\n",
      " 1   industry         988 non-null    object\n",
      " 2   website          578 non-null    object\n",
      " 3   telephone        867 non-null    object\n",
      " 4   fax              559 non-null    object\n",
      " 5   address          987 non-null    object\n",
      " 6   address_maplink  1001 non-null   object\n",
      " 7   email            868 non-null    object\n",
      "dtypes: object(8)\n",
      "memory usage: 62.7+ KB\n"
     ]
    }
   ],
   "source": [
    "df2.info()"
   ]
  },
  {
   "cell_type": "code",
   "execution_count": 67,
   "id": "c9e2b5ad",
   "metadata": {},
   "outputs": [
    {
     "data": {
      "text/html": [
       "<div>\n",
       "<style scoped>\n",
       "    .dataframe tbody tr th:only-of-type {\n",
       "        vertical-align: middle;\n",
       "    }\n",
       "\n",
       "    .dataframe tbody tr th {\n",
       "        vertical-align: top;\n",
       "    }\n",
       "\n",
       "    .dataframe thead th {\n",
       "        text-align: right;\n",
       "    }\n",
       "</style>\n",
       "<table border=\"1\" class=\"dataframe\">\n",
       "  <thead>\n",
       "    <tr style=\"text-align: right;\">\n",
       "      <th></th>\n",
       "      <th>company_name</th>\n",
       "      <th>industry</th>\n",
       "      <th>website</th>\n",
       "      <th>telephone</th>\n",
       "      <th>fax</th>\n",
       "      <th>address</th>\n",
       "      <th>address_maplink</th>\n",
       "      <th>email</th>\n",
       "    </tr>\n",
       "  </thead>\n",
       "  <tbody>\n",
       "    <tr>\n",
       "      <th>0</th>\n",
       "      <td>Modehaus Peter</td>\n",
       "      <td>Detailhandel mit Herrenbekleidung</td>\n",
       "      <td>NaN</td>\n",
       "      <td>tel:041 970 17 57</td>\n",
       "      <td>fax:041 970 07 57</td>\n",
       "      <td>Hauptgasse 36\\n6130 Willisau</td>\n",
       "      <td>https://www.google.com/maps/place/Hauptgasse%2...</td>\n",
       "      <td>website not accessible</td>\n",
       "    </tr>\n",
       "    <tr>\n",
       "      <th>1</th>\n",
       "      <td>VB ORGANISATION Sàrl</td>\n",
       "      <td>Offsetdruck</td>\n",
       "      <td>http://www.imprimerievb.ch/</td>\n",
       "      <td>tel:079 205 44 53</td>\n",
       "      <td>NaN</td>\n",
       "      <td>chemin St-Hubert 32\\n1950 Sion</td>\n",
       "      <td>https://www.google.com/maps/place/chemin%20St-...</td>\n",
       "      <td>info@imprimerievb.ch</td>\n",
       "    </tr>\n",
       "    <tr>\n",
       "      <th>2</th>\n",
       "      <td>Heinz Stucki</td>\n",
       "      <td>Anbau von Getreide (ohne Reis), Hülsenfrüchten...</td>\n",
       "      <td>NaN</td>\n",
       "      <td>tel:031 781 05 03</td>\n",
       "      <td>fax:031 781 05 03</td>\n",
       "      <td>Hubmatt\\n3116 Noflen BE</td>\n",
       "      <td>https://www.google.com/maps/place/Hubmatt+3116...</td>\n",
       "      <td>website not accessible</td>\n",
       "    </tr>\n",
       "    <tr>\n",
       "      <th>3</th>\n",
       "      <td>Heizplan HPA AG</td>\n",
       "      <td>Sanitär- und Heizungsinstallation</td>\n",
       "      <td>http://www.heizplan.ch/</td>\n",
       "      <td>tel:081 750 34 50</td>\n",
       "      <td>fax:081 750 34 59</td>\n",
       "      <td>Karmaad 36\\n9473 Gams</td>\n",
       "      <td>https://www.google.com/maps/place/Karmaad%2036...</td>\n",
       "      <td>kontakt@heizplan.ch</td>\n",
       "    </tr>\n",
       "    <tr>\n",
       "      <th>4</th>\n",
       "      <td>Hoppler Tiefbohrungen GmbH</td>\n",
       "      <td>Test- und Suchbohrung</td>\n",
       "      <td>http://www.hoppler-gmbh.ch/</td>\n",
       "      <td>tel:056 634 40 46</td>\n",
       "      <td>fax:056 634 40 75</td>\n",
       "      <td>Allmendstrasse 1\\n5621 Zufikon</td>\n",
       "      <td>https://www.google.com/maps/place/Allmendstras...</td>\n",
       "      <td>info@hoppler-gmbh.ch</td>\n",
       "    </tr>\n",
       "  </tbody>\n",
       "</table>\n",
       "</div>"
      ],
      "text/plain": [
       "                 company_name  \\\n",
       "0              Modehaus Peter   \n",
       "1        VB ORGANISATION Sàrl   \n",
       "2                Heinz Stucki   \n",
       "3             Heizplan HPA AG   \n",
       "4  Hoppler Tiefbohrungen GmbH   \n",
       "\n",
       "                                            industry  \\\n",
       "0                  Detailhandel mit Herrenbekleidung   \n",
       "1                                        Offsetdruck   \n",
       "2  Anbau von Getreide (ohne Reis), Hülsenfrüchten...   \n",
       "3                  Sanitär- und Heizungsinstallation   \n",
       "4                              Test- und Suchbohrung   \n",
       "\n",
       "                       website          telephone                fax  \\\n",
       "0                          NaN  tel:041 970 17 57  fax:041 970 07 57   \n",
       "1  http://www.imprimerievb.ch/  tel:079 205 44 53                NaN   \n",
       "2                          NaN  tel:031 781 05 03  fax:031 781 05 03   \n",
       "3      http://www.heizplan.ch/  tel:081 750 34 50  fax:081 750 34 59   \n",
       "4  http://www.hoppler-gmbh.ch/  tel:056 634 40 46  fax:056 634 40 75   \n",
       "\n",
       "                          address  \\\n",
       "0    Hauptgasse 36\\n6130 Willisau   \n",
       "1  chemin St-Hubert 32\\n1950 Sion   \n",
       "2         Hubmatt\\n3116 Noflen BE   \n",
       "3           Karmaad 36\\n9473 Gams   \n",
       "4  Allmendstrasse 1\\n5621 Zufikon   \n",
       "\n",
       "                                     address_maplink                   email  \n",
       "0  https://www.google.com/maps/place/Hauptgasse%2...  website not accessible  \n",
       "1  https://www.google.com/maps/place/chemin%20St-...    info@imprimerievb.ch  \n",
       "2  https://www.google.com/maps/place/Hubmatt+3116...  website not accessible  \n",
       "3  https://www.google.com/maps/place/Karmaad%2036...     kontakt@heizplan.ch  \n",
       "4  https://www.google.com/maps/place/Allmendstras...    info@hoppler-gmbh.ch  "
      ]
     },
     "execution_count": 67,
     "metadata": {},
     "output_type": "execute_result"
    }
   ],
   "source": [
    "df2.head()"
   ]
  },
  {
   "cell_type": "markdown",
   "id": "46d231c9",
   "metadata": {},
   "source": [
    "### End of Checkpoint-3"
   ]
  },
  {
   "cell_type": "code",
   "execution_count": 68,
   "id": "2aab7424",
   "metadata": {},
   "outputs": [],
   "source": [
    "# save as csv\n",
    "df2.to_csv('batch2.csv', index = False)"
   ]
  },
  {
   "cell_type": "code",
   "execution_count": 69,
   "id": "ecd2df6c",
   "metadata": {},
   "outputs": [],
   "source": [
    "# Merge the two dataframes\n",
    "df = pd.concat([df1, df2])"
   ]
  },
  {
   "cell_type": "markdown",
   "id": "257ce949",
   "metadata": {},
   "source": [
    "### Checkpoint-4"
   ]
  },
  {
   "cell_type": "code",
   "execution_count": 70,
   "id": "4bf9722f",
   "metadata": {},
   "outputs": [
    {
     "name": "stdout",
     "output_type": "stream",
     "text": [
      "<class 'pandas.core.frame.DataFrame'>\n",
      "Int64Index: 2002 entries, 0 to 1000\n",
      "Data columns (total 8 columns):\n",
      " #   Column           Non-Null Count  Dtype \n",
      "---  ------           --------------  ----- \n",
      " 0   company_name     1988 non-null   object\n",
      " 1   industry         1989 non-null   object\n",
      " 2   website          1156 non-null   object\n",
      " 3   telephone        1731 non-null   object\n",
      " 4   fax              1131 non-null   object\n",
      " 5   address          1988 non-null   object\n",
      " 6   address_maplink  2002 non-null   object\n",
      " 7   email            1735 non-null   object\n",
      "dtypes: object(8)\n",
      "memory usage: 140.8+ KB\n"
     ]
    }
   ],
   "source": [
    "df.info()"
   ]
  },
  {
   "cell_type": "code",
   "execution_count": 71,
   "id": "91c692b3",
   "metadata": {},
   "outputs": [
    {
     "data": {
      "text/html": [
       "<div>\n",
       "<style scoped>\n",
       "    .dataframe tbody tr th:only-of-type {\n",
       "        vertical-align: middle;\n",
       "    }\n",
       "\n",
       "    .dataframe tbody tr th {\n",
       "        vertical-align: top;\n",
       "    }\n",
       "\n",
       "    .dataframe thead th {\n",
       "        text-align: right;\n",
       "    }\n",
       "</style>\n",
       "<table border=\"1\" class=\"dataframe\">\n",
       "  <thead>\n",
       "    <tr style=\"text-align: right;\">\n",
       "      <th></th>\n",
       "      <th>company_name</th>\n",
       "      <th>industry</th>\n",
       "      <th>website</th>\n",
       "      <th>telephone</th>\n",
       "      <th>fax</th>\n",
       "      <th>address</th>\n",
       "      <th>address_maplink</th>\n",
       "      <th>email</th>\n",
       "    </tr>\n",
       "  </thead>\n",
       "  <tbody>\n",
       "    <tr>\n",
       "      <th>0</th>\n",
       "      <td>Ringler + Strahm Storenbau AG</td>\n",
       "      <td>Sonstige Bauinstallation</td>\n",
       "      <td>http://www.ringler-strahm.ch/</td>\n",
       "      <td>tel:033 345 22 55</td>\n",
       "      <td>fax:033 345 55 19</td>\n",
       "      <td>Uetendorfstrasse 20\\n3634 Thierachern</td>\n",
       "      <td>https://www.google.com/maps/place/Uetendorfstr...</td>\n",
       "      <td>info@ringler-strahm.ch</td>\n",
       "    </tr>\n",
       "    <tr>\n",
       "      <th>1</th>\n",
       "      <td>Grob &amp; Partner Architektur AG</td>\n",
       "      <td>Architekturbüros</td>\n",
       "      <td>http://www.grobarchitektur.ch/</td>\n",
       "      <td>tel:081 720 02 00</td>\n",
       "      <td>fax:081 720 02 05</td>\n",
       "      <td>Bahnhofstrasse 3\\n7320 Sargans</td>\n",
       "      <td>https://www.google.com/maps/place/Bahnhofstras...</td>\n",
       "      <td>8c4075d5481d476e945486754f783364@sentry.io</td>\n",
       "    </tr>\n",
       "    <tr>\n",
       "      <th>2</th>\n",
       "      <td>Lauclair AG</td>\n",
       "      <td>Schreinerarbeiten im Innenausbau</td>\n",
       "      <td>http://www.lauclair.ch/</td>\n",
       "      <td>tel:031 879 01 69</td>\n",
       "      <td>fax:031 879 20 69</td>\n",
       "      <td>Lyssstrasse 27\\n3054 Schüpfen</td>\n",
       "      <td>https://www.google.com/maps/place/Lyssstrasse%...</td>\n",
       "      <td>98181273782d9a9g3251e7d066b95071@2x.jpg</td>\n",
       "    </tr>\n",
       "    <tr>\n",
       "      <th>3</th>\n",
       "      <td>Club Goldwand</td>\n",
       "      <td>Kauf und Verkauf von eigenen Grundstücken, Geb...</td>\n",
       "      <td>http://www.clubgoldwand.ch/</td>\n",
       "      <td>tel:056 282 30 50</td>\n",
       "      <td>NaN</td>\n",
       "      <td>Landstrasse 6\\n5415 Nussbaumen AG</td>\n",
       "      <td>https://www.google.com/maps/place/Landstrasse%...</td>\n",
       "      <td>info@clubgoldwand.ch</td>\n",
       "    </tr>\n",
       "    <tr>\n",
       "      <th>4</th>\n",
       "      <td>NICOLE DIEM Horgen</td>\n",
       "      <td>Detailhandel mit Brillen und anderen Sehhilfen</td>\n",
       "      <td>http://www.nicolediem.ch/</td>\n",
       "      <td>tel:044 770 10 40</td>\n",
       "      <td>NaN</td>\n",
       "      <td>Dorfplatz 3\\n8810 Horgen</td>\n",
       "      <td>https://www.google.com/maps/place/Dorfplatz%20...</td>\n",
       "      <td>johndoe@domain.com</td>\n",
       "    </tr>\n",
       "  </tbody>\n",
       "</table>\n",
       "</div>"
      ],
      "text/plain": [
       "                    company_name  \\\n",
       "0  Ringler + Strahm Storenbau AG   \n",
       "1  Grob & Partner Architektur AG   \n",
       "2                    Lauclair AG   \n",
       "3                  Club Goldwand   \n",
       "4             NICOLE DIEM Horgen   \n",
       "\n",
       "                                            industry  \\\n",
       "0                           Sonstige Bauinstallation   \n",
       "1                                   Architekturbüros   \n",
       "2                   Schreinerarbeiten im Innenausbau   \n",
       "3  Kauf und Verkauf von eigenen Grundstücken, Geb...   \n",
       "4     Detailhandel mit Brillen und anderen Sehhilfen   \n",
       "\n",
       "                          website          telephone                fax  \\\n",
       "0   http://www.ringler-strahm.ch/  tel:033 345 22 55  fax:033 345 55 19   \n",
       "1  http://www.grobarchitektur.ch/  tel:081 720 02 00  fax:081 720 02 05   \n",
       "2         http://www.lauclair.ch/  tel:031 879 01 69  fax:031 879 20 69   \n",
       "3     http://www.clubgoldwand.ch/  tel:056 282 30 50                NaN   \n",
       "4       http://www.nicolediem.ch/  tel:044 770 10 40                NaN   \n",
       "\n",
       "                                 address  \\\n",
       "0  Uetendorfstrasse 20\\n3634 Thierachern   \n",
       "1         Bahnhofstrasse 3\\n7320 Sargans   \n",
       "2          Lyssstrasse 27\\n3054 Schüpfen   \n",
       "3      Landstrasse 6\\n5415 Nussbaumen AG   \n",
       "4               Dorfplatz 3\\n8810 Horgen   \n",
       "\n",
       "                                     address_maplink  \\\n",
       "0  https://www.google.com/maps/place/Uetendorfstr...   \n",
       "1  https://www.google.com/maps/place/Bahnhofstras...   \n",
       "2  https://www.google.com/maps/place/Lyssstrasse%...   \n",
       "3  https://www.google.com/maps/place/Landstrasse%...   \n",
       "4  https://www.google.com/maps/place/Dorfplatz%20...   \n",
       "\n",
       "                                        email  \n",
       "0                      info@ringler-strahm.ch  \n",
       "1  8c4075d5481d476e945486754f783364@sentry.io  \n",
       "2     98181273782d9a9g3251e7d066b95071@2x.jpg  \n",
       "3                        info@clubgoldwand.ch  \n",
       "4                          johndoe@domain.com  "
      ]
     },
     "execution_count": 71,
     "metadata": {},
     "output_type": "execute_result"
    }
   ],
   "source": [
    "df.head()"
   ]
  },
  {
   "cell_type": "code",
   "execution_count": 72,
   "id": "c66d30fb",
   "metadata": {},
   "outputs": [
    {
     "data": {
      "text/html": [
       "<div>\n",
       "<style scoped>\n",
       "    .dataframe tbody tr th:only-of-type {\n",
       "        vertical-align: middle;\n",
       "    }\n",
       "\n",
       "    .dataframe tbody tr th {\n",
       "        vertical-align: top;\n",
       "    }\n",
       "\n",
       "    .dataframe thead th {\n",
       "        text-align: right;\n",
       "    }\n",
       "</style>\n",
       "<table border=\"1\" class=\"dataframe\">\n",
       "  <thead>\n",
       "    <tr style=\"text-align: right;\">\n",
       "      <th></th>\n",
       "      <th>company_name</th>\n",
       "      <th>industry</th>\n",
       "      <th>website</th>\n",
       "      <th>telephone</th>\n",
       "      <th>fax</th>\n",
       "      <th>address</th>\n",
       "      <th>address_maplink</th>\n",
       "      <th>email</th>\n",
       "    </tr>\n",
       "  </thead>\n",
       "  <tbody>\n",
       "    <tr>\n",
       "      <th>996</th>\n",
       "      <td>MBA AG</td>\n",
       "      <td>Grosshandel mit Bergwerks-, Bau- und Baustoffm...</td>\n",
       "      <td>http://www.mba-baumaschinen.ch/</td>\n",
       "      <td>tel:044 838 61 11</td>\n",
       "      <td>NaN</td>\n",
       "      <td>Zürichstrasse 50\\n8303 Bassersdorf</td>\n",
       "      <td>https://www.google.com/maps/place/Z%C3%BCrichs...</td>\n",
       "      <td>info@mba-maschinen.com</td>\n",
       "    </tr>\n",
       "    <tr>\n",
       "      <th>997</th>\n",
       "      <td>Mächler GU AG</td>\n",
       "      <td>Garten- und Landschaftsbau sowie Erbringung vo...</td>\n",
       "      <td>http://www.maechler-gu.ch/</td>\n",
       "      <td>tel:055 451 11 31</td>\n",
       "      <td>fax:055 451 11 34</td>\n",
       "      <td>St.Gallerstrasse 58\\n8853 Lachen SZ</td>\n",
       "      <td>https://www.google.com/maps/place/St.Gallerstr...</td>\n",
       "      <td>info@maechler-gu.ch</td>\n",
       "    </tr>\n",
       "    <tr>\n",
       "      <th>998</th>\n",
       "      <td>Garasch 106 AG</td>\n",
       "      <td>lnstandhaltung und Reparatur von Automobilen</td>\n",
       "      <td>https://garasch106.ch/</td>\n",
       "      <td>tel:041 624 40 24</td>\n",
       "      <td>NaN</td>\n",
       "      <td>Stanserstrasse 106\\n6373 Ennetbürgen</td>\n",
       "      <td>https://www.google.com/maps/place/Stanserstras...</td>\n",
       "      <td>auto@garasch106.ch</td>\n",
       "    </tr>\n",
       "    <tr>\n",
       "      <th>999</th>\n",
       "      <td>Bumbachsäge AG</td>\n",
       "      <td>Sägewerke</td>\n",
       "      <td>http://www.bumbachsaege.ch/</td>\n",
       "      <td>tel:034 493 35 57</td>\n",
       "      <td>fax:034 493 31 84</td>\n",
       "      <td>Bumbachsäge 172\\n6197 Schangnau</td>\n",
       "      <td>https://www.google.com/maps/place/Bumbachs%C3%...</td>\n",
       "      <td>info@bumbachsaege.ch</td>\n",
       "    </tr>\n",
       "    <tr>\n",
       "      <th>1000</th>\n",
       "      <td>MEUBLES DESCARTES SA</td>\n",
       "      <td>Inserate</td>\n",
       "      <td>http://www.decarte.ch/</td>\n",
       "      <td>tel:027 743 43 43</td>\n",
       "      <td>fax:027 743 43 44</td>\n",
       "      <td>Route du Léman 33\\n1907 Saxon</td>\n",
       "      <td>https://www.google.com/maps/place/Route%20du%2...</td>\n",
       "      <td>None</td>\n",
       "    </tr>\n",
       "  </tbody>\n",
       "</table>\n",
       "</div>"
      ],
      "text/plain": [
       "              company_name                                           industry  \\\n",
       "996                 MBA AG  Grosshandel mit Bergwerks-, Bau- und Baustoffm...   \n",
       "997          Mächler GU AG  Garten- und Landschaftsbau sowie Erbringung vo...   \n",
       "998         Garasch 106 AG       lnstandhaltung und Reparatur von Automobilen   \n",
       "999         Bumbachsäge AG                                          Sägewerke   \n",
       "1000  MEUBLES DESCARTES SA                                           Inserate   \n",
       "\n",
       "                              website          telephone                fax  \\\n",
       "996   http://www.mba-baumaschinen.ch/  tel:044 838 61 11                NaN   \n",
       "997        http://www.maechler-gu.ch/  tel:055 451 11 31  fax:055 451 11 34   \n",
       "998            https://garasch106.ch/  tel:041 624 40 24                NaN   \n",
       "999       http://www.bumbachsaege.ch/  tel:034 493 35 57  fax:034 493 31 84   \n",
       "1000           http://www.decarte.ch/  tel:027 743 43 43  fax:027 743 43 44   \n",
       "\n",
       "                                   address  \\\n",
       "996     Zürichstrasse 50\\n8303 Bassersdorf   \n",
       "997    St.Gallerstrasse 58\\n8853 Lachen SZ   \n",
       "998   Stanserstrasse 106\\n6373 Ennetbürgen   \n",
       "999        Bumbachsäge 172\\n6197 Schangnau   \n",
       "1000         Route du Léman 33\\n1907 Saxon   \n",
       "\n",
       "                                        address_maplink  \\\n",
       "996   https://www.google.com/maps/place/Z%C3%BCrichs...   \n",
       "997   https://www.google.com/maps/place/St.Gallerstr...   \n",
       "998   https://www.google.com/maps/place/Stanserstras...   \n",
       "999   https://www.google.com/maps/place/Bumbachs%C3%...   \n",
       "1000  https://www.google.com/maps/place/Route%20du%2...   \n",
       "\n",
       "                       email  \n",
       "996   info@mba-maschinen.com  \n",
       "997      info@maechler-gu.ch  \n",
       "998       auto@garasch106.ch  \n",
       "999     info@bumbachsaege.ch  \n",
       "1000                    None  "
      ]
     },
     "execution_count": 72,
     "metadata": {},
     "output_type": "execute_result"
    }
   ],
   "source": [
    "df.tail()"
   ]
  },
  {
   "cell_type": "code",
   "execution_count": 73,
   "id": "486128e9",
   "metadata": {},
   "outputs": [
    {
     "data": {
      "text/html": [
       "<div>\n",
       "<style scoped>\n",
       "    .dataframe tbody tr th:only-of-type {\n",
       "        vertical-align: middle;\n",
       "    }\n",
       "\n",
       "    .dataframe tbody tr th {\n",
       "        vertical-align: top;\n",
       "    }\n",
       "\n",
       "    .dataframe thead th {\n",
       "        text-align: right;\n",
       "    }\n",
       "</style>\n",
       "<table border=\"1\" class=\"dataframe\">\n",
       "  <thead>\n",
       "    <tr style=\"text-align: right;\">\n",
       "      <th></th>\n",
       "      <th>company_name</th>\n",
       "      <th>industry</th>\n",
       "      <th>website</th>\n",
       "      <th>telephone</th>\n",
       "      <th>fax</th>\n",
       "      <th>address</th>\n",
       "      <th>address_maplink</th>\n",
       "      <th>email</th>\n",
       "    </tr>\n",
       "  </thead>\n",
       "  <tbody>\n",
       "    <tr>\n",
       "      <th>0</th>\n",
       "      <td>True</td>\n",
       "      <td>True</td>\n",
       "      <td>True</td>\n",
       "      <td>True</td>\n",
       "      <td>True</td>\n",
       "      <td>True</td>\n",
       "      <td>True</td>\n",
       "      <td>True</td>\n",
       "    </tr>\n",
       "    <tr>\n",
       "      <th>1</th>\n",
       "      <td>True</td>\n",
       "      <td>True</td>\n",
       "      <td>True</td>\n",
       "      <td>True</td>\n",
       "      <td>True</td>\n",
       "      <td>True</td>\n",
       "      <td>True</td>\n",
       "      <td>True</td>\n",
       "    </tr>\n",
       "    <tr>\n",
       "      <th>2</th>\n",
       "      <td>True</td>\n",
       "      <td>True</td>\n",
       "      <td>True</td>\n",
       "      <td>True</td>\n",
       "      <td>True</td>\n",
       "      <td>True</td>\n",
       "      <td>True</td>\n",
       "      <td>True</td>\n",
       "    </tr>\n",
       "    <tr>\n",
       "      <th>3</th>\n",
       "      <td>True</td>\n",
       "      <td>True</td>\n",
       "      <td>True</td>\n",
       "      <td>True</td>\n",
       "      <td>False</td>\n",
       "      <td>True</td>\n",
       "      <td>True</td>\n",
       "      <td>True</td>\n",
       "    </tr>\n",
       "    <tr>\n",
       "      <th>4</th>\n",
       "      <td>True</td>\n",
       "      <td>True</td>\n",
       "      <td>True</td>\n",
       "      <td>True</td>\n",
       "      <td>False</td>\n",
       "      <td>True</td>\n",
       "      <td>True</td>\n",
       "      <td>True</td>\n",
       "    </tr>\n",
       "  </tbody>\n",
       "</table>\n",
       "</div>"
      ],
      "text/plain": [
       "   company_name  industry  website  telephone    fax  address  \\\n",
       "0          True      True     True       True   True     True   \n",
       "1          True      True     True       True   True     True   \n",
       "2          True      True     True       True   True     True   \n",
       "3          True      True     True       True  False     True   \n",
       "4          True      True     True       True  False     True   \n",
       "\n",
       "   address_maplink  email  \n",
       "0             True   True  \n",
       "1             True   True  \n",
       "2             True   True  \n",
       "3             True   True  \n",
       "4             True   True  "
      ]
     },
     "execution_count": 73,
     "metadata": {},
     "output_type": "execute_result"
    }
   ],
   "source": [
    "df.head() == df1.head()"
   ]
  },
  {
   "cell_type": "code",
   "execution_count": 74,
   "id": "8e183d26",
   "metadata": {},
   "outputs": [
    {
     "data": {
      "text/html": [
       "<div>\n",
       "<style scoped>\n",
       "    .dataframe tbody tr th:only-of-type {\n",
       "        vertical-align: middle;\n",
       "    }\n",
       "\n",
       "    .dataframe tbody tr th {\n",
       "        vertical-align: top;\n",
       "    }\n",
       "\n",
       "    .dataframe thead th {\n",
       "        text-align: right;\n",
       "    }\n",
       "</style>\n",
       "<table border=\"1\" class=\"dataframe\">\n",
       "  <thead>\n",
       "    <tr style=\"text-align: right;\">\n",
       "      <th></th>\n",
       "      <th>company_name</th>\n",
       "      <th>industry</th>\n",
       "      <th>website</th>\n",
       "      <th>telephone</th>\n",
       "      <th>fax</th>\n",
       "      <th>address</th>\n",
       "      <th>address_maplink</th>\n",
       "      <th>email</th>\n",
       "    </tr>\n",
       "  </thead>\n",
       "  <tbody>\n",
       "    <tr>\n",
       "      <th>996</th>\n",
       "      <td>True</td>\n",
       "      <td>True</td>\n",
       "      <td>True</td>\n",
       "      <td>True</td>\n",
       "      <td>False</td>\n",
       "      <td>True</td>\n",
       "      <td>True</td>\n",
       "      <td>True</td>\n",
       "    </tr>\n",
       "    <tr>\n",
       "      <th>997</th>\n",
       "      <td>True</td>\n",
       "      <td>True</td>\n",
       "      <td>True</td>\n",
       "      <td>True</td>\n",
       "      <td>True</td>\n",
       "      <td>True</td>\n",
       "      <td>True</td>\n",
       "      <td>True</td>\n",
       "    </tr>\n",
       "    <tr>\n",
       "      <th>998</th>\n",
       "      <td>True</td>\n",
       "      <td>True</td>\n",
       "      <td>True</td>\n",
       "      <td>True</td>\n",
       "      <td>False</td>\n",
       "      <td>True</td>\n",
       "      <td>True</td>\n",
       "      <td>True</td>\n",
       "    </tr>\n",
       "    <tr>\n",
       "      <th>999</th>\n",
       "      <td>True</td>\n",
       "      <td>True</td>\n",
       "      <td>True</td>\n",
       "      <td>True</td>\n",
       "      <td>True</td>\n",
       "      <td>True</td>\n",
       "      <td>True</td>\n",
       "      <td>True</td>\n",
       "    </tr>\n",
       "    <tr>\n",
       "      <th>1000</th>\n",
       "      <td>True</td>\n",
       "      <td>True</td>\n",
       "      <td>True</td>\n",
       "      <td>True</td>\n",
       "      <td>True</td>\n",
       "      <td>True</td>\n",
       "      <td>True</td>\n",
       "      <td>False</td>\n",
       "    </tr>\n",
       "  </tbody>\n",
       "</table>\n",
       "</div>"
      ],
      "text/plain": [
       "      company_name  industry  website  telephone    fax  address  \\\n",
       "996           True      True     True       True  False     True   \n",
       "997           True      True     True       True   True     True   \n",
       "998           True      True     True       True  False     True   \n",
       "999           True      True     True       True   True     True   \n",
       "1000          True      True     True       True   True     True   \n",
       "\n",
       "      address_maplink  email  \n",
       "996              True   True  \n",
       "997              True   True  \n",
       "998              True   True  \n",
       "999              True   True  \n",
       "1000             True  False  "
      ]
     },
     "execution_count": 74,
     "metadata": {},
     "output_type": "execute_result"
    }
   ],
   "source": [
    "df.tail() == df2.tail()"
   ]
  },
  {
   "cell_type": "markdown",
   "id": "f7c46182",
   "metadata": {},
   "source": [
    "### End of Checkpoint-4"
   ]
  },
  {
   "cell_type": "markdown",
   "id": "0e50812f",
   "metadata": {},
   "source": [
    "### xxxxxxxxxxxx Push to Github xxxxxxxxxxxxxx"
   ]
  },
  {
   "cell_type": "markdown",
   "id": "7da6833c",
   "metadata": {},
   "source": [
    "### Batch-3, batch_size = 1000, batch_start_index = 2001\n"
   ]
  },
  {
   "cell_type": "markdown",
   "id": "4329361c",
   "metadata": {},
   "source": [
    "#### !Cell is executed. Uncomment (Ctrl + A followed by Ctrl + /) and execute (Shift + Enter) again only if you want to run the batch again."
   ]
  },
  {
   "cell_type": "code",
   "execution_count": 75,
   "id": "6537af29",
   "metadata": {},
   "outputs": [],
   "source": [
    "# # Extract info of interst\n",
    "# start_time = time.time()\n",
    "# batch3_initial = extract_info_of_interest(unique_company_profile_urls, batch_size = 1000, batch_start_index = 2001, sleep=5)\n",
    "# end_time = time.time()\n",
    "# execution_time = end_time - start_time\n",
    "# print('execution time: ', execution_time)"
   ]
  },
  {
   "cell_type": "markdown",
   "id": "df1f1b9d",
   "metadata": {},
   "source": [
    "### checkpoint-1"
   ]
  },
  {
   "cell_type": "code",
   "execution_count": 76,
   "id": "d77d68a6",
   "metadata": {},
   "outputs": [],
   "source": [
    "# # Test-Block ! Execute only if running the batch again\n",
    "# print(len(batch3_initial))\n",
    "# print(len(batch3_initial[-1]))"
   ]
  },
  {
   "cell_type": "code",
   "execution_count": 77,
   "id": "e3b18326",
   "metadata": {},
   "outputs": [],
   "source": [
    "# # Test-Block ! Execute only if running the batch again\n",
    "# print(batch3_initial[:3])"
   ]
  },
  {
   "cell_type": "markdown",
   "id": "f096b803",
   "metadata": {},
   "source": [
    "### End of Checkpoint-1"
   ]
  },
  {
   "cell_type": "code",
   "execution_count": 78,
   "id": "3036280e",
   "metadata": {},
   "outputs": [],
   "source": [
    "batch3df = pd.read_csv('batch3.csv')"
   ]
  },
  {
   "cell_type": "code",
   "execution_count": 79,
   "id": "f454fc91",
   "metadata": {},
   "outputs": [],
   "source": [
    "batch3df_initial = batch3df.drop(['email'], axis = 1)"
   ]
  },
  {
   "cell_type": "code",
   "execution_count": 80,
   "id": "44405cba",
   "metadata": {
    "scrolled": true
   },
   "outputs": [
    {
     "name": "stdout",
     "output_type": "stream",
     "text": [
      "<class 'pandas.core.frame.DataFrame'>\n",
      "RangeIndex: 1001 entries, 0 to 1000\n",
      "Data columns (total 7 columns):\n",
      " #   Column           Non-Null Count  Dtype \n",
      "---  ------           --------------  ----- \n",
      " 0   company_name     986 non-null    object\n",
      " 1   industry         985 non-null    object\n",
      " 2   website          561 non-null    object\n",
      " 3   telephone        880 non-null    object\n",
      " 4   fax              548 non-null    object\n",
      " 5   address          986 non-null    object\n",
      " 6   address_maplink  1001 non-null   object\n",
      "dtypes: object(7)\n",
      "memory usage: 54.9+ KB\n"
     ]
    }
   ],
   "source": [
    "batch3df_initial.info()"
   ]
  },
  {
   "cell_type": "code",
   "execution_count": 81,
   "id": "6ce27017",
   "metadata": {},
   "outputs": [
    {
     "name": "stdout",
     "output_type": "stream",
     "text": [
      "[['MEUBLES DESCARTES SA', 'Inserate', 'http://www.decarte.ch/', 'tel:027 743 43 43', 'fax:027 743 43 44', 'Route du Léman 33\\n1907 Saxon', 'https://www.google.com/maps/place/Route%20du%20L%C3%A9man%2033+1907+Saxon'], ['Eticolle Schoechli SA', 'Sonstiges Drucken a. n. g.', 'http://www.eticolle.ch/', 'tel:027 452 25 26', nan, 'Techno-pôle 2\\n3960 Sierre', 'https://www.google.com/maps/place/Techno-p%C3%B4le%202+3960+Sierre'], ['Ettima AG', 'Grosshandel mit Werkzeugmaschinen', 'http://www.ettima.ch/', 'tel:031 819 56 26', 'fax:031 819 56 63', 'Bernstrasse 25\\n3125 Toffen', 'https://www.google.com/maps/place/Bernstrasse%2025+3125+Toffen']]\n"
     ]
    }
   ],
   "source": [
    "batch3_initial = batch3df_initial.values.tolist()\n",
    "print(batch3_initial[:3])"
   ]
  },
  {
   "cell_type": "markdown",
   "id": "980c4cca",
   "metadata": {},
   "source": [
    "### End of Checkpoint-1"
   ]
  },
  {
   "cell_type": "markdown",
   "id": "d842ee36",
   "metadata": {},
   "source": [
    "#### Following Function Extracts emails from Home Page Only (Takes Less Time: 1 sec per page)"
   ]
  },
  {
   "cell_type": "code",
   "execution_count": 82,
   "id": "4845423c",
   "metadata": {},
   "outputs": [
    {
     "name": "stderr",
     "output_type": "stream",
     "text": [
      "C:\\Users\\Admin\\miniconda3\\lib\\site-packages\\bs4\\builder\\__init__.py:545: XMLParsedAsHTMLWarning: It looks like you're parsing an XML document using an HTML parser. If this really is an HTML document (maybe it's XHTML?), you can ignore or filter this warning. If it's XML, you should know that using an XML parser will be more reliable. To parse this document as XML, make sure you have the lxml package installed, and pass the keyword argument `features=\"xml\"` into the BeautifulSoup constructor.\n",
      "  warnings.warn(\n"
     ]
    },
    {
     "name": "stdout",
     "output_type": "stream",
     "text": [
      "No of emails found:  312\n",
      "execution time:  1269.5875413417816\n"
     ]
    }
   ],
   "source": [
    "# Extract emails\n",
    "start_time = time.time()\n",
    "pattern = r'\\b[A-Za-z0-9._%+-]+@[A-Za-z0-9.-]+\\.[A-Z|a-z]{2,}\\b'\n",
    "batch3 = extract_emails_from_homepage(batch3_initial, pattern = pattern , index=2)\n",
    "end_time = time.time()\n",
    "execution_time = end_time - start_time\n",
    "print('execution time: ', execution_time)"
   ]
  },
  {
   "cell_type": "markdown",
   "id": "76c17578",
   "metadata": {},
   "source": [
    "### Checkpoint-2"
   ]
  },
  {
   "cell_type": "code",
   "execution_count": 83,
   "id": "aac5e97e",
   "metadata": {},
   "outputs": [
    {
     "name": "stdout",
     "output_type": "stream",
     "text": [
      "1001\n",
      "7\n",
      "[['Hirt Schreinerei GmbH', 'Schreinerarbeiten im Innenausbau', 'http://www.hirt-schreinerei.ch/', 'tel:061 901 55 88', 'fax:061 901 83 04', 'Bächliackerstrasse 4\\n4402 Frenkendorf', 'https://www.google.com/maps/place/B%C3%A4chliackerstrasse%204+4402+Frenkendorf', 'bad link'], ['René Bührer AG', 'Detailhandel mit Vorhängen, Teppichen, Fussbodenbelägen und Tapeten', nan, 'tel:052 672 16 30', 'fax:052 672 16 40', 'Rheinfallstrasse 7\\n8212 Neuhausen am Rheinfall', 'https://www.google.com/maps/place/Rheinfallstrasse%207+8212+Neuhausen%20am%20Rheinfall', 'website not accessible'], ['EFOS Flugschule GmbH', 'Fahr- und Flugschulen', 'http://www.efos.ch/', 'tel:044 861 07 04', nan, 'Flughafenstrasse 14\\n8302 Kloten', 'https://www.google.com/maps/place/Flughafenstrasse%2014+8302+Kloten', '20ws@efos.ch'], ['Hess Druck AG', 'Offsetdruck', 'http://www.hessdruck.ch/', 'tel:071 658 61 80', nan, 'Schützlerweg 3\\n8560 Märstetten', 'https://www.google.com/maps/place/Sch%C3%BCtzlerweg%203+8560+M%C3%A4rstetten', 'satz@hessdruck.ch'], ['Rhomberg Schmuck AG', 'Detailhandel mit Uhren und Schmuck', 'http://www.schmuck.ch/', 'tel:071 310 15 80', nan, 'Zürcher-Strasse\\n9015 St. Gallen', 'https://www.google.com/maps/place/Z%C3%BCrcher-Strasse+9015+St.%20Gallen']]\n"
     ]
    }
   ],
   "source": [
    "print(len(batch3)) # should be same as batch_size i.e. 1000\n",
    "print(len(batch3[-1])) # should be 8\n",
    "print(batch3[-5:]) #should have 8 items in each list with emails or remarks added"
   ]
  },
  {
   "cell_type": "markdown",
   "id": "a6b6a9d5",
   "metadata": {},
   "source": [
    "### End of Checkpoint-2"
   ]
  },
  {
   "cell_type": "code",
   "execution_count": 84,
   "id": "66eecc39",
   "metadata": {},
   "outputs": [],
   "source": [
    "# # Convert to Dataframe batch3\n",
    "df3 = pd.DataFrame(batch3, columns=columns)\n"
   ]
  },
  {
   "cell_type": "markdown",
   "id": "7f71212a",
   "metadata": {},
   "source": [
    "### Checkpoint 3"
   ]
  },
  {
   "cell_type": "code",
   "execution_count": 85,
   "id": "bb256eca",
   "metadata": {},
   "outputs": [
    {
     "name": "stdout",
     "output_type": "stream",
     "text": [
      "<class 'pandas.core.frame.DataFrame'>\n",
      "RangeIndex: 1001 entries, 0 to 1000\n",
      "Data columns (total 8 columns):\n",
      " #   Column           Non-Null Count  Dtype \n",
      "---  ------           --------------  ----- \n",
      " 0   company_name     986 non-null    object\n",
      " 1   industry         985 non-null    object\n",
      " 2   website          561 non-null    object\n",
      " 3   telephone        880 non-null    object\n",
      " 4   fax              548 non-null    object\n",
      " 5   address          986 non-null    object\n",
      " 6   address_maplink  1001 non-null   object\n",
      " 7   email            850 non-null    object\n",
      "dtypes: object(8)\n",
      "memory usage: 62.7+ KB\n"
     ]
    }
   ],
   "source": [
    "df3.info()"
   ]
  },
  {
   "cell_type": "code",
   "execution_count": 86,
   "id": "846550f8",
   "metadata": {},
   "outputs": [
    {
     "data": {
      "text/html": [
       "<div>\n",
       "<style scoped>\n",
       "    .dataframe tbody tr th:only-of-type {\n",
       "        vertical-align: middle;\n",
       "    }\n",
       "\n",
       "    .dataframe tbody tr th {\n",
       "        vertical-align: top;\n",
       "    }\n",
       "\n",
       "    .dataframe thead th {\n",
       "        text-align: right;\n",
       "    }\n",
       "</style>\n",
       "<table border=\"1\" class=\"dataframe\">\n",
       "  <thead>\n",
       "    <tr style=\"text-align: right;\">\n",
       "      <th></th>\n",
       "      <th>company_name</th>\n",
       "      <th>industry</th>\n",
       "      <th>website</th>\n",
       "      <th>telephone</th>\n",
       "      <th>fax</th>\n",
       "      <th>address</th>\n",
       "      <th>address_maplink</th>\n",
       "      <th>email</th>\n",
       "    </tr>\n",
       "  </thead>\n",
       "  <tbody>\n",
       "    <tr>\n",
       "      <th>0</th>\n",
       "      <td>MEUBLES DESCARTES SA</td>\n",
       "      <td>Inserate</td>\n",
       "      <td>http://www.decarte.ch/</td>\n",
       "      <td>tel:027 743 43 43</td>\n",
       "      <td>fax:027 743 43 44</td>\n",
       "      <td>Route du Léman 33\\n1907 Saxon</td>\n",
       "      <td>https://www.google.com/maps/place/Route%20du%2...</td>\n",
       "      <td>None</td>\n",
       "    </tr>\n",
       "    <tr>\n",
       "      <th>1</th>\n",
       "      <td>Eticolle Schoechli SA</td>\n",
       "      <td>Sonstiges Drucken a. n. g.</td>\n",
       "      <td>http://www.eticolle.ch/</td>\n",
       "      <td>tel:027 452 25 26</td>\n",
       "      <td>NaN</td>\n",
       "      <td>Techno-pôle 2\\n3960 Sierre</td>\n",
       "      <td>https://www.google.com/maps/place/Techno-p%C3%...</td>\n",
       "      <td>info@eticolle.ch</td>\n",
       "    </tr>\n",
       "    <tr>\n",
       "      <th>2</th>\n",
       "      <td>Ettima AG</td>\n",
       "      <td>Grosshandel mit Werkzeugmaschinen</td>\n",
       "      <td>http://www.ettima.ch/</td>\n",
       "      <td>tel:031 819 56 26</td>\n",
       "      <td>fax:031 819 56 63</td>\n",
       "      <td>Bernstrasse 25\\n3125 Toffen</td>\n",
       "      <td>https://www.google.com/maps/place/Bernstrasse%...</td>\n",
       "      <td>None</td>\n",
       "    </tr>\n",
       "    <tr>\n",
       "      <th>3</th>\n",
       "      <td>Alushi AG</td>\n",
       "      <td>Spezielle Reinigung von Gebäuden und Reinigung...</td>\n",
       "      <td>http://www.alushi.ch/</td>\n",
       "      <td>tel:052 376 16 80</td>\n",
       "      <td>fax:052 376 16 87</td>\n",
       "      <td>Frauenfelderstrasse 66\\n9548 Matzingen</td>\n",
       "      <td>https://www.google.com/maps/place/Frauenfelder...</td>\n",
       "      <td>None</td>\n",
       "    </tr>\n",
       "    <tr>\n",
       "      <th>4</th>\n",
       "      <td>Studer Optik</td>\n",
       "      <td>Detailhandel mit Brillen und anderen Sehhilfen</td>\n",
       "      <td>http://www.studeroptik.ch/</td>\n",
       "      <td>tel:032 392 25 15</td>\n",
       "      <td>fax:032 392 28 89</td>\n",
       "      <td>Stadtplatz 60\\n3270 Aarberg</td>\n",
       "      <td>https://www.google.com/maps/place/Stadtplatz%2...</td>\n",
       "      <td>8eb368c655b84e029ed79ad7a5c1718e@sentry.wixpre...</td>\n",
       "    </tr>\n",
       "  </tbody>\n",
       "</table>\n",
       "</div>"
      ],
      "text/plain": [
       "            company_name                                           industry  \\\n",
       "0   MEUBLES DESCARTES SA                                           Inserate   \n",
       "1  Eticolle Schoechli SA                         Sonstiges Drucken a. n. g.   \n",
       "2              Ettima AG                  Grosshandel mit Werkzeugmaschinen   \n",
       "3              Alushi AG  Spezielle Reinigung von Gebäuden und Reinigung...   \n",
       "4           Studer Optik     Detailhandel mit Brillen und anderen Sehhilfen   \n",
       "\n",
       "                      website          telephone                fax  \\\n",
       "0      http://www.decarte.ch/  tel:027 743 43 43  fax:027 743 43 44   \n",
       "1     http://www.eticolle.ch/  tel:027 452 25 26                NaN   \n",
       "2       http://www.ettima.ch/  tel:031 819 56 26  fax:031 819 56 63   \n",
       "3       http://www.alushi.ch/  tel:052 376 16 80  fax:052 376 16 87   \n",
       "4  http://www.studeroptik.ch/  tel:032 392 25 15  fax:032 392 28 89   \n",
       "\n",
       "                                  address  \\\n",
       "0           Route du Léman 33\\n1907 Saxon   \n",
       "1              Techno-pôle 2\\n3960 Sierre   \n",
       "2             Bernstrasse 25\\n3125 Toffen   \n",
       "3  Frauenfelderstrasse 66\\n9548 Matzingen   \n",
       "4             Stadtplatz 60\\n3270 Aarberg   \n",
       "\n",
       "                                     address_maplink  \\\n",
       "0  https://www.google.com/maps/place/Route%20du%2...   \n",
       "1  https://www.google.com/maps/place/Techno-p%C3%...   \n",
       "2  https://www.google.com/maps/place/Bernstrasse%...   \n",
       "3  https://www.google.com/maps/place/Frauenfelder...   \n",
       "4  https://www.google.com/maps/place/Stadtplatz%2...   \n",
       "\n",
       "                                               email  \n",
       "0                                               None  \n",
       "1                                   info@eticolle.ch  \n",
       "2                                               None  \n",
       "3                                               None  \n",
       "4  8eb368c655b84e029ed79ad7a5c1718e@sentry.wixpre...  "
      ]
     },
     "execution_count": 86,
     "metadata": {},
     "output_type": "execute_result"
    }
   ],
   "source": [
    "df3.head()"
   ]
  },
  {
   "cell_type": "markdown",
   "id": "c3992ff6",
   "metadata": {},
   "source": [
    "### End of Checkpoint-3"
   ]
  },
  {
   "cell_type": "code",
   "execution_count": 87,
   "id": "629a2db5",
   "metadata": {},
   "outputs": [],
   "source": [
    "#save as csv\n",
    "df3.to_csv('batch3.csv', index = False)"
   ]
  },
  {
   "cell_type": "code",
   "execution_count": 88,
   "id": "978d5975",
   "metadata": {},
   "outputs": [],
   "source": [
    "# Merge the two dataframes\n",
    "df = pd.concat([df, df3])"
   ]
  },
  {
   "cell_type": "markdown",
   "id": "3105a6d4",
   "metadata": {},
   "source": [
    "### Checkpoint-4"
   ]
  },
  {
   "cell_type": "code",
   "execution_count": 89,
   "id": "bbe64ca1",
   "metadata": {},
   "outputs": [
    {
     "name": "stdout",
     "output_type": "stream",
     "text": [
      "<class 'pandas.core.frame.DataFrame'>\n",
      "Int64Index: 3003 entries, 0 to 1000\n",
      "Data columns (total 8 columns):\n",
      " #   Column           Non-Null Count  Dtype \n",
      "---  ------           --------------  ----- \n",
      " 0   company_name     2974 non-null   object\n",
      " 1   industry         2974 non-null   object\n",
      " 2   website          1717 non-null   object\n",
      " 3   telephone        2611 non-null   object\n",
      " 4   fax              1679 non-null   object\n",
      " 5   address          2974 non-null   object\n",
      " 6   address_maplink  3003 non-null   object\n",
      " 7   email            2585 non-null   object\n",
      "dtypes: object(8)\n",
      "memory usage: 211.1+ KB\n"
     ]
    }
   ],
   "source": [
    "df.info()"
   ]
  },
  {
   "cell_type": "code",
   "execution_count": 90,
   "id": "8bb08b2c",
   "metadata": {},
   "outputs": [
    {
     "data": {
      "text/html": [
       "<div>\n",
       "<style scoped>\n",
       "    .dataframe tbody tr th:only-of-type {\n",
       "        vertical-align: middle;\n",
       "    }\n",
       "\n",
       "    .dataframe tbody tr th {\n",
       "        vertical-align: top;\n",
       "    }\n",
       "\n",
       "    .dataframe thead th {\n",
       "        text-align: right;\n",
       "    }\n",
       "</style>\n",
       "<table border=\"1\" class=\"dataframe\">\n",
       "  <thead>\n",
       "    <tr style=\"text-align: right;\">\n",
       "      <th></th>\n",
       "      <th>company_name</th>\n",
       "      <th>industry</th>\n",
       "      <th>website</th>\n",
       "      <th>telephone</th>\n",
       "      <th>fax</th>\n",
       "      <th>address</th>\n",
       "      <th>address_maplink</th>\n",
       "      <th>email</th>\n",
       "    </tr>\n",
       "  </thead>\n",
       "  <tbody>\n",
       "    <tr>\n",
       "      <th>0</th>\n",
       "      <td>Ringler + Strahm Storenbau AG</td>\n",
       "      <td>Sonstige Bauinstallation</td>\n",
       "      <td>http://www.ringler-strahm.ch/</td>\n",
       "      <td>tel:033 345 22 55</td>\n",
       "      <td>fax:033 345 55 19</td>\n",
       "      <td>Uetendorfstrasse 20\\n3634 Thierachern</td>\n",
       "      <td>https://www.google.com/maps/place/Uetendorfstr...</td>\n",
       "      <td>info@ringler-strahm.ch</td>\n",
       "    </tr>\n",
       "    <tr>\n",
       "      <th>1</th>\n",
       "      <td>Grob &amp; Partner Architektur AG</td>\n",
       "      <td>Architekturbüros</td>\n",
       "      <td>http://www.grobarchitektur.ch/</td>\n",
       "      <td>tel:081 720 02 00</td>\n",
       "      <td>fax:081 720 02 05</td>\n",
       "      <td>Bahnhofstrasse 3\\n7320 Sargans</td>\n",
       "      <td>https://www.google.com/maps/place/Bahnhofstras...</td>\n",
       "      <td>8c4075d5481d476e945486754f783364@sentry.io</td>\n",
       "    </tr>\n",
       "    <tr>\n",
       "      <th>2</th>\n",
       "      <td>Lauclair AG</td>\n",
       "      <td>Schreinerarbeiten im Innenausbau</td>\n",
       "      <td>http://www.lauclair.ch/</td>\n",
       "      <td>tel:031 879 01 69</td>\n",
       "      <td>fax:031 879 20 69</td>\n",
       "      <td>Lyssstrasse 27\\n3054 Schüpfen</td>\n",
       "      <td>https://www.google.com/maps/place/Lyssstrasse%...</td>\n",
       "      <td>98181273782d9a9g3251e7d066b95071@2x.jpg</td>\n",
       "    </tr>\n",
       "    <tr>\n",
       "      <th>3</th>\n",
       "      <td>Club Goldwand</td>\n",
       "      <td>Kauf und Verkauf von eigenen Grundstücken, Geb...</td>\n",
       "      <td>http://www.clubgoldwand.ch/</td>\n",
       "      <td>tel:056 282 30 50</td>\n",
       "      <td>NaN</td>\n",
       "      <td>Landstrasse 6\\n5415 Nussbaumen AG</td>\n",
       "      <td>https://www.google.com/maps/place/Landstrasse%...</td>\n",
       "      <td>info@clubgoldwand.ch</td>\n",
       "    </tr>\n",
       "    <tr>\n",
       "      <th>4</th>\n",
       "      <td>NICOLE DIEM Horgen</td>\n",
       "      <td>Detailhandel mit Brillen und anderen Sehhilfen</td>\n",
       "      <td>http://www.nicolediem.ch/</td>\n",
       "      <td>tel:044 770 10 40</td>\n",
       "      <td>NaN</td>\n",
       "      <td>Dorfplatz 3\\n8810 Horgen</td>\n",
       "      <td>https://www.google.com/maps/place/Dorfplatz%20...</td>\n",
       "      <td>johndoe@domain.com</td>\n",
       "    </tr>\n",
       "  </tbody>\n",
       "</table>\n",
       "</div>"
      ],
      "text/plain": [
       "                    company_name  \\\n",
       "0  Ringler + Strahm Storenbau AG   \n",
       "1  Grob & Partner Architektur AG   \n",
       "2                    Lauclair AG   \n",
       "3                  Club Goldwand   \n",
       "4             NICOLE DIEM Horgen   \n",
       "\n",
       "                                            industry  \\\n",
       "0                           Sonstige Bauinstallation   \n",
       "1                                   Architekturbüros   \n",
       "2                   Schreinerarbeiten im Innenausbau   \n",
       "3  Kauf und Verkauf von eigenen Grundstücken, Geb...   \n",
       "4     Detailhandel mit Brillen und anderen Sehhilfen   \n",
       "\n",
       "                          website          telephone                fax  \\\n",
       "0   http://www.ringler-strahm.ch/  tel:033 345 22 55  fax:033 345 55 19   \n",
       "1  http://www.grobarchitektur.ch/  tel:081 720 02 00  fax:081 720 02 05   \n",
       "2         http://www.lauclair.ch/  tel:031 879 01 69  fax:031 879 20 69   \n",
       "3     http://www.clubgoldwand.ch/  tel:056 282 30 50                NaN   \n",
       "4       http://www.nicolediem.ch/  tel:044 770 10 40                NaN   \n",
       "\n",
       "                                 address  \\\n",
       "0  Uetendorfstrasse 20\\n3634 Thierachern   \n",
       "1         Bahnhofstrasse 3\\n7320 Sargans   \n",
       "2          Lyssstrasse 27\\n3054 Schüpfen   \n",
       "3      Landstrasse 6\\n5415 Nussbaumen AG   \n",
       "4               Dorfplatz 3\\n8810 Horgen   \n",
       "\n",
       "                                     address_maplink  \\\n",
       "0  https://www.google.com/maps/place/Uetendorfstr...   \n",
       "1  https://www.google.com/maps/place/Bahnhofstras...   \n",
       "2  https://www.google.com/maps/place/Lyssstrasse%...   \n",
       "3  https://www.google.com/maps/place/Landstrasse%...   \n",
       "4  https://www.google.com/maps/place/Dorfplatz%20...   \n",
       "\n",
       "                                        email  \n",
       "0                      info@ringler-strahm.ch  \n",
       "1  8c4075d5481d476e945486754f783364@sentry.io  \n",
       "2     98181273782d9a9g3251e7d066b95071@2x.jpg  \n",
       "3                        info@clubgoldwand.ch  \n",
       "4                          johndoe@domain.com  "
      ]
     },
     "execution_count": 90,
     "metadata": {},
     "output_type": "execute_result"
    }
   ],
   "source": [
    "df.head()"
   ]
  },
  {
   "cell_type": "code",
   "execution_count": 91,
   "id": "3d5d6d55",
   "metadata": {},
   "outputs": [
    {
     "data": {
      "text/html": [
       "<div>\n",
       "<style scoped>\n",
       "    .dataframe tbody tr th:only-of-type {\n",
       "        vertical-align: middle;\n",
       "    }\n",
       "\n",
       "    .dataframe tbody tr th {\n",
       "        vertical-align: top;\n",
       "    }\n",
       "\n",
       "    .dataframe thead th {\n",
       "        text-align: right;\n",
       "    }\n",
       "</style>\n",
       "<table border=\"1\" class=\"dataframe\">\n",
       "  <thead>\n",
       "    <tr style=\"text-align: right;\">\n",
       "      <th></th>\n",
       "      <th>company_name</th>\n",
       "      <th>industry</th>\n",
       "      <th>website</th>\n",
       "      <th>telephone</th>\n",
       "      <th>fax</th>\n",
       "      <th>address</th>\n",
       "      <th>address_maplink</th>\n",
       "      <th>email</th>\n",
       "    </tr>\n",
       "  </thead>\n",
       "  <tbody>\n",
       "    <tr>\n",
       "      <th>996</th>\n",
       "      <td>Hirt Schreinerei GmbH</td>\n",
       "      <td>Schreinerarbeiten im Innenausbau</td>\n",
       "      <td>http://www.hirt-schreinerei.ch/</td>\n",
       "      <td>tel:061 901 55 88</td>\n",
       "      <td>fax:061 901 83 04</td>\n",
       "      <td>Bächliackerstrasse 4\\n4402 Frenkendorf</td>\n",
       "      <td>https://www.google.com/maps/place/B%C3%A4chlia...</td>\n",
       "      <td>bad link</td>\n",
       "    </tr>\n",
       "    <tr>\n",
       "      <th>997</th>\n",
       "      <td>René Bührer AG</td>\n",
       "      <td>Detailhandel mit Vorhängen, Teppichen, Fussbod...</td>\n",
       "      <td>NaN</td>\n",
       "      <td>tel:052 672 16 30</td>\n",
       "      <td>fax:052 672 16 40</td>\n",
       "      <td>Rheinfallstrasse 7\\n8212 Neuhausen am Rheinfall</td>\n",
       "      <td>https://www.google.com/maps/place/Rheinfallstr...</td>\n",
       "      <td>website not accessible</td>\n",
       "    </tr>\n",
       "    <tr>\n",
       "      <th>998</th>\n",
       "      <td>EFOS Flugschule GmbH</td>\n",
       "      <td>Fahr- und Flugschulen</td>\n",
       "      <td>http://www.efos.ch/</td>\n",
       "      <td>tel:044 861 07 04</td>\n",
       "      <td>NaN</td>\n",
       "      <td>Flughafenstrasse 14\\n8302 Kloten</td>\n",
       "      <td>https://www.google.com/maps/place/Flughafenstr...</td>\n",
       "      <td>20ws@efos.ch</td>\n",
       "    </tr>\n",
       "    <tr>\n",
       "      <th>999</th>\n",
       "      <td>Hess Druck AG</td>\n",
       "      <td>Offsetdruck</td>\n",
       "      <td>http://www.hessdruck.ch/</td>\n",
       "      <td>tel:071 658 61 80</td>\n",
       "      <td>NaN</td>\n",
       "      <td>Schützlerweg 3\\n8560 Märstetten</td>\n",
       "      <td>https://www.google.com/maps/place/Sch%C3%BCtzl...</td>\n",
       "      <td>satz@hessdruck.ch</td>\n",
       "    </tr>\n",
       "    <tr>\n",
       "      <th>1000</th>\n",
       "      <td>Rhomberg Schmuck AG</td>\n",
       "      <td>Detailhandel mit Uhren und Schmuck</td>\n",
       "      <td>http://www.schmuck.ch/</td>\n",
       "      <td>tel:071 310 15 80</td>\n",
       "      <td>NaN</td>\n",
       "      <td>Zürcher-Strasse\\n9015 St. Gallen</td>\n",
       "      <td>https://www.google.com/maps/place/Z%C3%BCrcher...</td>\n",
       "      <td>None</td>\n",
       "    </tr>\n",
       "  </tbody>\n",
       "</table>\n",
       "</div>"
      ],
      "text/plain": [
       "               company_name  \\\n",
       "996   Hirt Schreinerei GmbH   \n",
       "997          René Bührer AG   \n",
       "998    EFOS Flugschule GmbH   \n",
       "999           Hess Druck AG   \n",
       "1000    Rhomberg Schmuck AG   \n",
       "\n",
       "                                               industry  \\\n",
       "996                    Schreinerarbeiten im Innenausbau   \n",
       "997   Detailhandel mit Vorhängen, Teppichen, Fussbod...   \n",
       "998                               Fahr- und Flugschulen   \n",
       "999                                         Offsetdruck   \n",
       "1000                 Detailhandel mit Uhren und Schmuck   \n",
       "\n",
       "                              website          telephone                fax  \\\n",
       "996   http://www.hirt-schreinerei.ch/  tel:061 901 55 88  fax:061 901 83 04   \n",
       "997                               NaN  tel:052 672 16 30  fax:052 672 16 40   \n",
       "998               http://www.efos.ch/  tel:044 861 07 04                NaN   \n",
       "999          http://www.hessdruck.ch/  tel:071 658 61 80                NaN   \n",
       "1000           http://www.schmuck.ch/  tel:071 310 15 80                NaN   \n",
       "\n",
       "                                              address  \\\n",
       "996            Bächliackerstrasse 4\\n4402 Frenkendorf   \n",
       "997   Rheinfallstrasse 7\\n8212 Neuhausen am Rheinfall   \n",
       "998                  Flughafenstrasse 14\\n8302 Kloten   \n",
       "999                   Schützlerweg 3\\n8560 Märstetten   \n",
       "1000                 Zürcher-Strasse\\n9015 St. Gallen   \n",
       "\n",
       "                                        address_maplink  \\\n",
       "996   https://www.google.com/maps/place/B%C3%A4chlia...   \n",
       "997   https://www.google.com/maps/place/Rheinfallstr...   \n",
       "998   https://www.google.com/maps/place/Flughafenstr...   \n",
       "999   https://www.google.com/maps/place/Sch%C3%BCtzl...   \n",
       "1000  https://www.google.com/maps/place/Z%C3%BCrcher...   \n",
       "\n",
       "                       email  \n",
       "996                 bad link  \n",
       "997   website not accessible  \n",
       "998             20ws@efos.ch  \n",
       "999        satz@hessdruck.ch  \n",
       "1000                    None  "
      ]
     },
     "execution_count": 91,
     "metadata": {},
     "output_type": "execute_result"
    }
   ],
   "source": [
    "df.tail()"
   ]
  },
  {
   "cell_type": "code",
   "execution_count": 92,
   "id": "cf09793a",
   "metadata": {},
   "outputs": [
    {
     "data": {
      "text/html": [
       "<div>\n",
       "<style scoped>\n",
       "    .dataframe tbody tr th:only-of-type {\n",
       "        vertical-align: middle;\n",
       "    }\n",
       "\n",
       "    .dataframe tbody tr th {\n",
       "        vertical-align: top;\n",
       "    }\n",
       "\n",
       "    .dataframe thead th {\n",
       "        text-align: right;\n",
       "    }\n",
       "</style>\n",
       "<table border=\"1\" class=\"dataframe\">\n",
       "  <thead>\n",
       "    <tr style=\"text-align: right;\">\n",
       "      <th></th>\n",
       "      <th>company_name</th>\n",
       "      <th>industry</th>\n",
       "      <th>website</th>\n",
       "      <th>telephone</th>\n",
       "      <th>fax</th>\n",
       "      <th>address</th>\n",
       "      <th>address_maplink</th>\n",
       "      <th>email</th>\n",
       "    </tr>\n",
       "  </thead>\n",
       "  <tbody>\n",
       "    <tr>\n",
       "      <th>0</th>\n",
       "      <td>True</td>\n",
       "      <td>True</td>\n",
       "      <td>True</td>\n",
       "      <td>True</td>\n",
       "      <td>True</td>\n",
       "      <td>True</td>\n",
       "      <td>True</td>\n",
       "      <td>True</td>\n",
       "    </tr>\n",
       "    <tr>\n",
       "      <th>1</th>\n",
       "      <td>True</td>\n",
       "      <td>True</td>\n",
       "      <td>True</td>\n",
       "      <td>True</td>\n",
       "      <td>True</td>\n",
       "      <td>True</td>\n",
       "      <td>True</td>\n",
       "      <td>True</td>\n",
       "    </tr>\n",
       "    <tr>\n",
       "      <th>2</th>\n",
       "      <td>True</td>\n",
       "      <td>True</td>\n",
       "      <td>True</td>\n",
       "      <td>True</td>\n",
       "      <td>True</td>\n",
       "      <td>True</td>\n",
       "      <td>True</td>\n",
       "      <td>True</td>\n",
       "    </tr>\n",
       "    <tr>\n",
       "      <th>3</th>\n",
       "      <td>True</td>\n",
       "      <td>True</td>\n",
       "      <td>True</td>\n",
       "      <td>True</td>\n",
       "      <td>False</td>\n",
       "      <td>True</td>\n",
       "      <td>True</td>\n",
       "      <td>True</td>\n",
       "    </tr>\n",
       "    <tr>\n",
       "      <th>4</th>\n",
       "      <td>True</td>\n",
       "      <td>True</td>\n",
       "      <td>True</td>\n",
       "      <td>True</td>\n",
       "      <td>False</td>\n",
       "      <td>True</td>\n",
       "      <td>True</td>\n",
       "      <td>True</td>\n",
       "    </tr>\n",
       "  </tbody>\n",
       "</table>\n",
       "</div>"
      ],
      "text/plain": [
       "   company_name  industry  website  telephone    fax  address  \\\n",
       "0          True      True     True       True   True     True   \n",
       "1          True      True     True       True   True     True   \n",
       "2          True      True     True       True   True     True   \n",
       "3          True      True     True       True  False     True   \n",
       "4          True      True     True       True  False     True   \n",
       "\n",
       "   address_maplink  email  \n",
       "0             True   True  \n",
       "1             True   True  \n",
       "2             True   True  \n",
       "3             True   True  \n",
       "4             True   True  "
      ]
     },
     "execution_count": 92,
     "metadata": {},
     "output_type": "execute_result"
    }
   ],
   "source": [
    "df.head() == df1.head()"
   ]
  },
  {
   "cell_type": "code",
   "execution_count": 93,
   "id": "805ef98d",
   "metadata": {},
   "outputs": [
    {
     "data": {
      "text/html": [
       "<div>\n",
       "<style scoped>\n",
       "    .dataframe tbody tr th:only-of-type {\n",
       "        vertical-align: middle;\n",
       "    }\n",
       "\n",
       "    .dataframe tbody tr th {\n",
       "        vertical-align: top;\n",
       "    }\n",
       "\n",
       "    .dataframe thead th {\n",
       "        text-align: right;\n",
       "    }\n",
       "</style>\n",
       "<table border=\"1\" class=\"dataframe\">\n",
       "  <thead>\n",
       "    <tr style=\"text-align: right;\">\n",
       "      <th></th>\n",
       "      <th>company_name</th>\n",
       "      <th>industry</th>\n",
       "      <th>website</th>\n",
       "      <th>telephone</th>\n",
       "      <th>fax</th>\n",
       "      <th>address</th>\n",
       "      <th>address_maplink</th>\n",
       "      <th>email</th>\n",
       "    </tr>\n",
       "  </thead>\n",
       "  <tbody>\n",
       "    <tr>\n",
       "      <th>996</th>\n",
       "      <td>True</td>\n",
       "      <td>True</td>\n",
       "      <td>True</td>\n",
       "      <td>True</td>\n",
       "      <td>True</td>\n",
       "      <td>True</td>\n",
       "      <td>True</td>\n",
       "      <td>True</td>\n",
       "    </tr>\n",
       "    <tr>\n",
       "      <th>997</th>\n",
       "      <td>True</td>\n",
       "      <td>True</td>\n",
       "      <td>False</td>\n",
       "      <td>True</td>\n",
       "      <td>True</td>\n",
       "      <td>True</td>\n",
       "      <td>True</td>\n",
       "      <td>True</td>\n",
       "    </tr>\n",
       "    <tr>\n",
       "      <th>998</th>\n",
       "      <td>True</td>\n",
       "      <td>True</td>\n",
       "      <td>True</td>\n",
       "      <td>True</td>\n",
       "      <td>False</td>\n",
       "      <td>True</td>\n",
       "      <td>True</td>\n",
       "      <td>True</td>\n",
       "    </tr>\n",
       "    <tr>\n",
       "      <th>999</th>\n",
       "      <td>True</td>\n",
       "      <td>True</td>\n",
       "      <td>True</td>\n",
       "      <td>True</td>\n",
       "      <td>False</td>\n",
       "      <td>True</td>\n",
       "      <td>True</td>\n",
       "      <td>True</td>\n",
       "    </tr>\n",
       "    <tr>\n",
       "      <th>1000</th>\n",
       "      <td>True</td>\n",
       "      <td>True</td>\n",
       "      <td>True</td>\n",
       "      <td>True</td>\n",
       "      <td>False</td>\n",
       "      <td>True</td>\n",
       "      <td>True</td>\n",
       "      <td>False</td>\n",
       "    </tr>\n",
       "  </tbody>\n",
       "</table>\n",
       "</div>"
      ],
      "text/plain": [
       "      company_name  industry  website  telephone    fax  address  \\\n",
       "996           True      True     True       True   True     True   \n",
       "997           True      True    False       True   True     True   \n",
       "998           True      True     True       True  False     True   \n",
       "999           True      True     True       True  False     True   \n",
       "1000          True      True     True       True  False     True   \n",
       "\n",
       "      address_maplink  email  \n",
       "996              True   True  \n",
       "997              True   True  \n",
       "998              True   True  \n",
       "999              True   True  \n",
       "1000             True  False  "
      ]
     },
     "execution_count": 93,
     "metadata": {},
     "output_type": "execute_result"
    }
   ],
   "source": [
    "df.tail() == df3.tail()"
   ]
  },
  {
   "cell_type": "markdown",
   "id": "130ab71f",
   "metadata": {},
   "source": [
    "### xxxxxxxxxxxx Push to Github xxxxxxxxxxxxxx"
   ]
  },
  {
   "cell_type": "markdown",
   "id": "f38a44ba",
   "metadata": {},
   "source": [
    "### Batch-4, batch_size = 1000, batch_start_index = 3001\n"
   ]
  },
  {
   "cell_type": "markdown",
   "id": "d428a74b",
   "metadata": {},
   "source": [
    "#### !Cell is executed. Uncomment (Ctrl + A followed by Ctrl + /) and execute (Shift + Enter) again only if you want to run the batch again."
   ]
  },
  {
   "cell_type": "code",
   "execution_count": 94,
   "id": "206c7a3e",
   "metadata": {},
   "outputs": [],
   "source": [
    "# # Extract info of interst\n",
    "# start_time = time.time()\n",
    "# batch4_initial = extract_info_of_interest(unique_company_profile_urls, batch_size = 1000, batch_start_index = 3001, sleep=5)\n",
    "# end_time = time.time()\n",
    "# execution_time = end_time - start_time\n",
    "# print('execution time: ', execution_time)"
   ]
  },
  {
   "cell_type": "markdown",
   "id": "85375d44",
   "metadata": {},
   "source": [
    "### checkpoint-1"
   ]
  },
  {
   "cell_type": "code",
   "execution_count": 95,
   "id": "84dd0321",
   "metadata": {},
   "outputs": [],
   "source": [
    "# # Test-Block ! Uncomment and execute only if batch is run again\n",
    "# print(len(batch4_initial))\n",
    "# print(len(batch4_initial[-1]))"
   ]
  },
  {
   "cell_type": "code",
   "execution_count": 96,
   "id": "e1d97f73",
   "metadata": {
    "scrolled": true
   },
   "outputs": [],
   "source": [
    "# # Test-Block ! Uncomment and execute only if batch is run again\n",
    "# print(batch4_initial[:3])"
   ]
  },
  {
   "cell_type": "markdown",
   "id": "1440cfc9",
   "metadata": {},
   "source": [
    "### End of Checkpoint-1"
   ]
  },
  {
   "cell_type": "code",
   "execution_count": 97,
   "id": "853bc01e",
   "metadata": {},
   "outputs": [],
   "source": [
    "batch4df = pd.read_csv('batch4.csv')"
   ]
  },
  {
   "cell_type": "code",
   "execution_count": 98,
   "id": "bcabc8e6",
   "metadata": {},
   "outputs": [],
   "source": [
    "batch4df_initial = batch4df.drop(['email'], axis = 1)"
   ]
  },
  {
   "cell_type": "code",
   "execution_count": 99,
   "id": "3ad386df",
   "metadata": {
    "scrolled": true
   },
   "outputs": [
    {
     "name": "stdout",
     "output_type": "stream",
     "text": [
      "<class 'pandas.core.frame.DataFrame'>\n",
      "RangeIndex: 1001 entries, 0 to 1000\n",
      "Data columns (total 7 columns):\n",
      " #   Column           Non-Null Count  Dtype \n",
      "---  ------           --------------  ----- \n",
      " 0   company_name     1001 non-null   object\n",
      " 1   industry         1001 non-null   object\n",
      " 2   website          563 non-null    object\n",
      " 3   telephone        883 non-null    object\n",
      " 4   fax              530 non-null    object\n",
      " 5   address          1001 non-null   object\n",
      " 6   address_maplink  1001 non-null   object\n",
      "dtypes: object(7)\n",
      "memory usage: 54.9+ KB\n"
     ]
    }
   ],
   "source": [
    "batch4df_initial.info()"
   ]
  },
  {
   "cell_type": "code",
   "execution_count": 100,
   "id": "6f2e1001",
   "metadata": {
    "scrolled": true
   },
   "outputs": [
    {
     "name": "stdout",
     "output_type": "stream",
     "text": [
      "[['Ringler + Strahm Storenbau AG', 'Sonstige Bauinstallation', 'http://www.ringler-strahm.ch/', 'tel:033 345 22 55', 'fax:033 345 55 19', 'Uetendorfstrasse 20\\n3634 Thierachern', 'https://www.google.com/maps/place/Uetendorfstrasse%2020+3634+Thierachern', 'info@ringler-strahm.ch'], ['Grob & Partner Architektur AG', 'Architekturbüros', 'http://www.grobarchitektur.ch/', 'tel:081 720 02 00', 'fax:081 720 02 05', 'Bahnhofstrasse 3\\n7320 Sargans', 'https://www.google.com/maps/place/Bahnhofstrasse%20%203+7320+Sargans', '8c4075d5481d476e945486754f783364@sentry.io'], ['Lauclair AG', 'Schreinerarbeiten im Innenausbau', 'http://www.lauclair.ch/', 'tel:031 879 01 69', 'fax:031 879 20 69', 'Lyssstrasse 27\\n3054 Schüpfen', 'https://www.google.com/maps/place/Lyssstrasse%2027+3054+Sch%C3%BCpfen', '98181273782d9a9g3251e7d066b95071@2x.jpg']]\n"
     ]
    }
   ],
   "source": [
    "batch4_initial = batch4df_initial.values.tolist()\n",
    "print(batch1_initial[:3])"
   ]
  },
  {
   "cell_type": "markdown",
   "id": "41f6a48f",
   "metadata": {},
   "source": [
    "#### Following Function Extracts emails from Home Page Only (Takes Less Time: 1 sec per page)"
   ]
  },
  {
   "cell_type": "code",
   "execution_count": 101,
   "id": "f55a4ff7",
   "metadata": {},
   "outputs": [
    {
     "name": "stdout",
     "output_type": "stream",
     "text": [
      "No of emails found:  352\n",
      "execution time:  1339.679348230362\n"
     ]
    }
   ],
   "source": [
    "# Extract emails\n",
    "start_time = time.time()\n",
    "pattern = r'\\b[A-Za-z0-9._%+-]+@[A-Za-z0-9.-]+\\.[A-Z|a-z]{2,}\\b'\n",
    "batch4 = extract_emails_from_homepage(batch4_initial, pattern = pattern , index=2)\n",
    "end_time = time.time()\n",
    "execution_time = end_time - start_time\n",
    "print('execution time: ', execution_time)"
   ]
  },
  {
   "cell_type": "markdown",
   "id": "df3f06ce",
   "metadata": {},
   "source": [
    "### Checkpoint-2"
   ]
  },
  {
   "cell_type": "code",
   "execution_count": 102,
   "id": "2c0f4fb5",
   "metadata": {},
   "outputs": [
    {
     "name": "stdout",
     "output_type": "stream",
     "text": [
      "1001\n",
      "8\n",
      "[['Martin Stoller Transporte', 'Güterbeförderung im Strassenverkehr', nan, 'tel:031 741 24 15', nan, 'Weidstrasse 2\\n3184 Wünnewil', 'https://www.google.com/maps/place/Weidstrasse%202+3184+W%C3%BCnnewil', 'website not accessible'], ['Christoph Hasler Schreinerei', 'Schreinerarbeiten im Innenausbau', 'http://www.hasler-schreinerei.ch/', 'tel:071 917 11 55', 'fax:071 917 18 48', 'Käsereistrasse 1\\n9555 Tobel', 'https://www.google.com/maps/place/K%C3%A4sereistrasse%201+9555+Tobel', 'info@hasler-schreinerei.ch'], ['MoRailSo AG', 'Grosshandel mit sonstigen Maschinen und Ausrüstungen', 'https://www.ramorail.com/', 'tel:079 463 97 50', nan, 'Rothmatte 7\\n6022 Grosswangen', 'https://www.google.com/maps/place/Rothmatte%207+6022+Grosswangen', 'bad link'], ['Elektro Schuler AG', 'Elektroinstallation', nan, 'tel:041 631 03 31', 'fax:041 631 03 32', 'Schulhausstrasse 4\\n6052 Hergiswil NW', 'https://www.google.com/maps/place/Schulhausstrasse%204+6052+Hergiswil%20NW', 'website not accessible'], ['Camping Lac des Brenets', 'Inserate', 'http://www.camping-brenets.ch/', 'tel:032 932 16 18', 'fax:032 932 16 39', '2416 Les Brenets', 'https://www.google.com/maps/place/undefined+2416+Les%20Brenets', 'info@camping-brenets.ch']]\n"
     ]
    }
   ],
   "source": [
    "print(len(batch4)) # should be same as batch_size i.e. 1000\n",
    "print(len(batch4[-1])) # should be 8\n",
    "print(batch4[-5:]) #should have 8 items in each list with emails or remarks added"
   ]
  },
  {
   "cell_type": "markdown",
   "id": "aa751d07",
   "metadata": {},
   "source": [
    "### End of Checkpoint-2"
   ]
  },
  {
   "cell_type": "code",
   "execution_count": 103,
   "id": "c6c1fec5",
   "metadata": {},
   "outputs": [],
   "source": [
    "# # Convert to Dataframe batch1\n",
    "df4 = pd.DataFrame(batch4, columns=columns)\n"
   ]
  },
  {
   "cell_type": "markdown",
   "id": "26b11ba0",
   "metadata": {},
   "source": [
    "### Checkpoint 3"
   ]
  },
  {
   "cell_type": "code",
   "execution_count": 104,
   "id": "33d4043a",
   "metadata": {},
   "outputs": [
    {
     "name": "stdout",
     "output_type": "stream",
     "text": [
      "<class 'pandas.core.frame.DataFrame'>\n",
      "RangeIndex: 1001 entries, 0 to 1000\n",
      "Data columns (total 8 columns):\n",
      " #   Column           Non-Null Count  Dtype \n",
      "---  ------           --------------  ----- \n",
      " 0   company_name     1001 non-null   object\n",
      " 1   industry         1001 non-null   object\n",
      " 2   website          563 non-null    object\n",
      " 3   telephone        883 non-null    object\n",
      " 4   fax              530 non-null    object\n",
      " 5   address          1001 non-null   object\n",
      " 6   address_maplink  1001 non-null   object\n",
      " 7   email            872 non-null    object\n",
      "dtypes: object(8)\n",
      "memory usage: 62.7+ KB\n"
     ]
    }
   ],
   "source": [
    "df4.info()"
   ]
  },
  {
   "cell_type": "code",
   "execution_count": 105,
   "id": "18c16bf9",
   "metadata": {},
   "outputs": [
    {
     "data": {
      "text/html": [
       "<div>\n",
       "<style scoped>\n",
       "    .dataframe tbody tr th:only-of-type {\n",
       "        vertical-align: middle;\n",
       "    }\n",
       "\n",
       "    .dataframe tbody tr th {\n",
       "        vertical-align: top;\n",
       "    }\n",
       "\n",
       "    .dataframe thead th {\n",
       "        text-align: right;\n",
       "    }\n",
       "</style>\n",
       "<table border=\"1\" class=\"dataframe\">\n",
       "  <thead>\n",
       "    <tr style=\"text-align: right;\">\n",
       "      <th></th>\n",
       "      <th>company_name</th>\n",
       "      <th>industry</th>\n",
       "      <th>website</th>\n",
       "      <th>telephone</th>\n",
       "      <th>fax</th>\n",
       "      <th>address</th>\n",
       "      <th>address_maplink</th>\n",
       "      <th>email</th>\n",
       "    </tr>\n",
       "  </thead>\n",
       "  <tbody>\n",
       "    <tr>\n",
       "      <th>0</th>\n",
       "      <td>Rhomberg Schmuck AG</td>\n",
       "      <td>Detailhandel mit Uhren und Schmuck</td>\n",
       "      <td>http://www.schmuck.ch/</td>\n",
       "      <td>tel:071 310 15 80</td>\n",
       "      <td>NaN</td>\n",
       "      <td>Zürcher-Strasse\\n9015 St. Gallen</td>\n",
       "      <td>https://www.google.com/maps/place/Z%C3%BCrcher...</td>\n",
       "      <td>None</td>\n",
       "    </tr>\n",
       "    <tr>\n",
       "      <th>1</th>\n",
       "      <td>GanzImmo AG</td>\n",
       "      <td>Verwaltung von Grundstücken, Gebäuden und Wohn...</td>\n",
       "      <td>http://www.ganzimmo.ch/</td>\n",
       "      <td>tel:052 213 56 65</td>\n",
       "      <td>fax:052 213 31 74</td>\n",
       "      <td>Schaffhauserstrasse 79\\n8401 Winterthur</td>\n",
       "      <td>https://www.google.com/maps/place/Schaffhauser...</td>\n",
       "      <td>None</td>\n",
       "    </tr>\n",
       "    <tr>\n",
       "      <th>2</th>\n",
       "      <td>Coiffure Daniel Moll</td>\n",
       "      <td>Artikel im Shop</td>\n",
       "      <td>http://www.coiffeur-kriens.com/</td>\n",
       "      <td>tel:041 310 05 41</td>\n",
       "      <td>NaN</td>\n",
       "      <td>Amlehnstrasse 54\\n6010 Kriens</td>\n",
       "      <td>https://www.google.com/maps/place/Amlehnstrass...</td>\n",
       "      <td>8c4075d5481d476e945486754f783364@sentry.io</td>\n",
       "    </tr>\n",
       "    <tr>\n",
       "      <th>3</th>\n",
       "      <td>Rondell AG</td>\n",
       "      <td>Kauf und Verkauf von eigenen Grundstücken, Geb...</td>\n",
       "      <td>NaN</td>\n",
       "      <td>tel:041 320 53 73</td>\n",
       "      <td>NaN</td>\n",
       "      <td>Weinhalde 12\\n6010 Kriens</td>\n",
       "      <td>https://www.google.com/maps/place/Weinhalde%20...</td>\n",
       "      <td>website not accessible</td>\n",
       "    </tr>\n",
       "    <tr>\n",
       "      <th>4</th>\n",
       "      <td>Rémy Bühler Malergeschäft Rothrist</td>\n",
       "      <td>Malerei</td>\n",
       "      <td>http://www.maler-buehler.ch/</td>\n",
       "      <td>tel:062 794 44 64</td>\n",
       "      <td>NaN</td>\n",
       "      <td>Pfaffernweg 7\\n4852 Rothrist</td>\n",
       "      <td>https://www.google.com/maps/place/Pfaffernweg%...</td>\n",
       "      <td>cid_image001_png@01D443CD.png</td>\n",
       "    </tr>\n",
       "  </tbody>\n",
       "</table>\n",
       "</div>"
      ],
      "text/plain": [
       "                         company_name  \\\n",
       "0                 Rhomberg Schmuck AG   \n",
       "1                         GanzImmo AG   \n",
       "2                Coiffure Daniel Moll   \n",
       "3                          Rondell AG   \n",
       "4  Rémy Bühler Malergeschäft Rothrist   \n",
       "\n",
       "                                            industry  \\\n",
       "0                 Detailhandel mit Uhren und Schmuck   \n",
       "1  Verwaltung von Grundstücken, Gebäuden und Wohn...   \n",
       "2                                    Artikel im Shop   \n",
       "3  Kauf und Verkauf von eigenen Grundstücken, Geb...   \n",
       "4                                            Malerei   \n",
       "\n",
       "                           website          telephone                fax  \\\n",
       "0           http://www.schmuck.ch/  tel:071 310 15 80                NaN   \n",
       "1          http://www.ganzimmo.ch/  tel:052 213 56 65  fax:052 213 31 74   \n",
       "2  http://www.coiffeur-kriens.com/  tel:041 310 05 41                NaN   \n",
       "3                              NaN  tel:041 320 53 73                NaN   \n",
       "4     http://www.maler-buehler.ch/  tel:062 794 44 64                NaN   \n",
       "\n",
       "                                   address  \\\n",
       "0         Zürcher-Strasse\\n9015 St. Gallen   \n",
       "1  Schaffhauserstrasse 79\\n8401 Winterthur   \n",
       "2            Amlehnstrasse 54\\n6010 Kriens   \n",
       "3                Weinhalde 12\\n6010 Kriens   \n",
       "4             Pfaffernweg 7\\n4852 Rothrist   \n",
       "\n",
       "                                     address_maplink  \\\n",
       "0  https://www.google.com/maps/place/Z%C3%BCrcher...   \n",
       "1  https://www.google.com/maps/place/Schaffhauser...   \n",
       "2  https://www.google.com/maps/place/Amlehnstrass...   \n",
       "3  https://www.google.com/maps/place/Weinhalde%20...   \n",
       "4  https://www.google.com/maps/place/Pfaffernweg%...   \n",
       "\n",
       "                                        email  \n",
       "0                                        None  \n",
       "1                                        None  \n",
       "2  8c4075d5481d476e945486754f783364@sentry.io  \n",
       "3                      website not accessible  \n",
       "4               cid_image001_png@01D443CD.png  "
      ]
     },
     "execution_count": 105,
     "metadata": {},
     "output_type": "execute_result"
    }
   ],
   "source": [
    "df4.head()"
   ]
  },
  {
   "cell_type": "markdown",
   "id": "ec545ae5",
   "metadata": {},
   "source": [
    "### End of Checkpoint-3"
   ]
  },
  {
   "cell_type": "code",
   "execution_count": 106,
   "id": "8a338655",
   "metadata": {},
   "outputs": [],
   "source": [
    "#save as csv\n",
    "df4.to_csv('batch4.csv', index = False)"
   ]
  },
  {
   "cell_type": "code",
   "execution_count": 107,
   "id": "7be9702c",
   "metadata": {},
   "outputs": [],
   "source": [
    "# Merge the two dataframes\n",
    "df = pd.concat([df, df4])"
   ]
  },
  {
   "cell_type": "markdown",
   "id": "51fab55b",
   "metadata": {},
   "source": [
    "### Checkpoint-4"
   ]
  },
  {
   "cell_type": "code",
   "execution_count": 108,
   "id": "c838ae8a",
   "metadata": {},
   "outputs": [
    {
     "name": "stdout",
     "output_type": "stream",
     "text": [
      "<class 'pandas.core.frame.DataFrame'>\n",
      "Int64Index: 4004 entries, 0 to 1000\n",
      "Data columns (total 8 columns):\n",
      " #   Column           Non-Null Count  Dtype \n",
      "---  ------           --------------  ----- \n",
      " 0   company_name     3975 non-null   object\n",
      " 1   industry         3975 non-null   object\n",
      " 2   website          2280 non-null   object\n",
      " 3   telephone        3494 non-null   object\n",
      " 4   fax              2209 non-null   object\n",
      " 5   address          3975 non-null   object\n",
      " 6   address_maplink  4004 non-null   object\n",
      " 7   email            3457 non-null   object\n",
      "dtypes: object(8)\n",
      "memory usage: 281.5+ KB\n"
     ]
    }
   ],
   "source": [
    "df.info()"
   ]
  },
  {
   "cell_type": "code",
   "execution_count": 109,
   "id": "50c49fa9",
   "metadata": {},
   "outputs": [
    {
     "data": {
      "text/html": [
       "<div>\n",
       "<style scoped>\n",
       "    .dataframe tbody tr th:only-of-type {\n",
       "        vertical-align: middle;\n",
       "    }\n",
       "\n",
       "    .dataframe tbody tr th {\n",
       "        vertical-align: top;\n",
       "    }\n",
       "\n",
       "    .dataframe thead th {\n",
       "        text-align: right;\n",
       "    }\n",
       "</style>\n",
       "<table border=\"1\" class=\"dataframe\">\n",
       "  <thead>\n",
       "    <tr style=\"text-align: right;\">\n",
       "      <th></th>\n",
       "      <th>company_name</th>\n",
       "      <th>industry</th>\n",
       "      <th>website</th>\n",
       "      <th>telephone</th>\n",
       "      <th>fax</th>\n",
       "      <th>address</th>\n",
       "      <th>address_maplink</th>\n",
       "      <th>email</th>\n",
       "    </tr>\n",
       "  </thead>\n",
       "  <tbody>\n",
       "    <tr>\n",
       "      <th>0</th>\n",
       "      <td>Ringler + Strahm Storenbau AG</td>\n",
       "      <td>Sonstige Bauinstallation</td>\n",
       "      <td>http://www.ringler-strahm.ch/</td>\n",
       "      <td>tel:033 345 22 55</td>\n",
       "      <td>fax:033 345 55 19</td>\n",
       "      <td>Uetendorfstrasse 20\\n3634 Thierachern</td>\n",
       "      <td>https://www.google.com/maps/place/Uetendorfstr...</td>\n",
       "      <td>info@ringler-strahm.ch</td>\n",
       "    </tr>\n",
       "    <tr>\n",
       "      <th>1</th>\n",
       "      <td>Grob &amp; Partner Architektur AG</td>\n",
       "      <td>Architekturbüros</td>\n",
       "      <td>http://www.grobarchitektur.ch/</td>\n",
       "      <td>tel:081 720 02 00</td>\n",
       "      <td>fax:081 720 02 05</td>\n",
       "      <td>Bahnhofstrasse 3\\n7320 Sargans</td>\n",
       "      <td>https://www.google.com/maps/place/Bahnhofstras...</td>\n",
       "      <td>8c4075d5481d476e945486754f783364@sentry.io</td>\n",
       "    </tr>\n",
       "    <tr>\n",
       "      <th>2</th>\n",
       "      <td>Lauclair AG</td>\n",
       "      <td>Schreinerarbeiten im Innenausbau</td>\n",
       "      <td>http://www.lauclair.ch/</td>\n",
       "      <td>tel:031 879 01 69</td>\n",
       "      <td>fax:031 879 20 69</td>\n",
       "      <td>Lyssstrasse 27\\n3054 Schüpfen</td>\n",
       "      <td>https://www.google.com/maps/place/Lyssstrasse%...</td>\n",
       "      <td>98181273782d9a9g3251e7d066b95071@2x.jpg</td>\n",
       "    </tr>\n",
       "    <tr>\n",
       "      <th>3</th>\n",
       "      <td>Club Goldwand</td>\n",
       "      <td>Kauf und Verkauf von eigenen Grundstücken, Geb...</td>\n",
       "      <td>http://www.clubgoldwand.ch/</td>\n",
       "      <td>tel:056 282 30 50</td>\n",
       "      <td>NaN</td>\n",
       "      <td>Landstrasse 6\\n5415 Nussbaumen AG</td>\n",
       "      <td>https://www.google.com/maps/place/Landstrasse%...</td>\n",
       "      <td>info@clubgoldwand.ch</td>\n",
       "    </tr>\n",
       "    <tr>\n",
       "      <th>4</th>\n",
       "      <td>NICOLE DIEM Horgen</td>\n",
       "      <td>Detailhandel mit Brillen und anderen Sehhilfen</td>\n",
       "      <td>http://www.nicolediem.ch/</td>\n",
       "      <td>tel:044 770 10 40</td>\n",
       "      <td>NaN</td>\n",
       "      <td>Dorfplatz 3\\n8810 Horgen</td>\n",
       "      <td>https://www.google.com/maps/place/Dorfplatz%20...</td>\n",
       "      <td>johndoe@domain.com</td>\n",
       "    </tr>\n",
       "  </tbody>\n",
       "</table>\n",
       "</div>"
      ],
      "text/plain": [
       "                    company_name  \\\n",
       "0  Ringler + Strahm Storenbau AG   \n",
       "1  Grob & Partner Architektur AG   \n",
       "2                    Lauclair AG   \n",
       "3                  Club Goldwand   \n",
       "4             NICOLE DIEM Horgen   \n",
       "\n",
       "                                            industry  \\\n",
       "0                           Sonstige Bauinstallation   \n",
       "1                                   Architekturbüros   \n",
       "2                   Schreinerarbeiten im Innenausbau   \n",
       "3  Kauf und Verkauf von eigenen Grundstücken, Geb...   \n",
       "4     Detailhandel mit Brillen und anderen Sehhilfen   \n",
       "\n",
       "                          website          telephone                fax  \\\n",
       "0   http://www.ringler-strahm.ch/  tel:033 345 22 55  fax:033 345 55 19   \n",
       "1  http://www.grobarchitektur.ch/  tel:081 720 02 00  fax:081 720 02 05   \n",
       "2         http://www.lauclair.ch/  tel:031 879 01 69  fax:031 879 20 69   \n",
       "3     http://www.clubgoldwand.ch/  tel:056 282 30 50                NaN   \n",
       "4       http://www.nicolediem.ch/  tel:044 770 10 40                NaN   \n",
       "\n",
       "                                 address  \\\n",
       "0  Uetendorfstrasse 20\\n3634 Thierachern   \n",
       "1         Bahnhofstrasse 3\\n7320 Sargans   \n",
       "2          Lyssstrasse 27\\n3054 Schüpfen   \n",
       "3      Landstrasse 6\\n5415 Nussbaumen AG   \n",
       "4               Dorfplatz 3\\n8810 Horgen   \n",
       "\n",
       "                                     address_maplink  \\\n",
       "0  https://www.google.com/maps/place/Uetendorfstr...   \n",
       "1  https://www.google.com/maps/place/Bahnhofstras...   \n",
       "2  https://www.google.com/maps/place/Lyssstrasse%...   \n",
       "3  https://www.google.com/maps/place/Landstrasse%...   \n",
       "4  https://www.google.com/maps/place/Dorfplatz%20...   \n",
       "\n",
       "                                        email  \n",
       "0                      info@ringler-strahm.ch  \n",
       "1  8c4075d5481d476e945486754f783364@sentry.io  \n",
       "2     98181273782d9a9g3251e7d066b95071@2x.jpg  \n",
       "3                        info@clubgoldwand.ch  \n",
       "4                          johndoe@domain.com  "
      ]
     },
     "execution_count": 109,
     "metadata": {},
     "output_type": "execute_result"
    }
   ],
   "source": [
    "df.head()"
   ]
  },
  {
   "cell_type": "code",
   "execution_count": 110,
   "id": "f24c58cc",
   "metadata": {},
   "outputs": [
    {
     "data": {
      "text/html": [
       "<div>\n",
       "<style scoped>\n",
       "    .dataframe tbody tr th:only-of-type {\n",
       "        vertical-align: middle;\n",
       "    }\n",
       "\n",
       "    .dataframe tbody tr th {\n",
       "        vertical-align: top;\n",
       "    }\n",
       "\n",
       "    .dataframe thead th {\n",
       "        text-align: right;\n",
       "    }\n",
       "</style>\n",
       "<table border=\"1\" class=\"dataframe\">\n",
       "  <thead>\n",
       "    <tr style=\"text-align: right;\">\n",
       "      <th></th>\n",
       "      <th>company_name</th>\n",
       "      <th>industry</th>\n",
       "      <th>website</th>\n",
       "      <th>telephone</th>\n",
       "      <th>fax</th>\n",
       "      <th>address</th>\n",
       "      <th>address_maplink</th>\n",
       "      <th>email</th>\n",
       "    </tr>\n",
       "  </thead>\n",
       "  <tbody>\n",
       "    <tr>\n",
       "      <th>996</th>\n",
       "      <td>Martin Stoller Transporte</td>\n",
       "      <td>Güterbeförderung im Strassenverkehr</td>\n",
       "      <td>NaN</td>\n",
       "      <td>tel:031 741 24 15</td>\n",
       "      <td>NaN</td>\n",
       "      <td>Weidstrasse 2\\n3184 Wünnewil</td>\n",
       "      <td>https://www.google.com/maps/place/Weidstrasse%...</td>\n",
       "      <td>website not accessible</td>\n",
       "    </tr>\n",
       "    <tr>\n",
       "      <th>997</th>\n",
       "      <td>Christoph Hasler Schreinerei</td>\n",
       "      <td>Schreinerarbeiten im Innenausbau</td>\n",
       "      <td>http://www.hasler-schreinerei.ch/</td>\n",
       "      <td>tel:071 917 11 55</td>\n",
       "      <td>fax:071 917 18 48</td>\n",
       "      <td>Käsereistrasse 1\\n9555 Tobel</td>\n",
       "      <td>https://www.google.com/maps/place/K%C3%A4serei...</td>\n",
       "      <td>info@hasler-schreinerei.ch</td>\n",
       "    </tr>\n",
       "    <tr>\n",
       "      <th>998</th>\n",
       "      <td>MoRailSo AG</td>\n",
       "      <td>Grosshandel mit sonstigen Maschinen und Ausrüs...</td>\n",
       "      <td>https://www.ramorail.com/</td>\n",
       "      <td>tel:079 463 97 50</td>\n",
       "      <td>NaN</td>\n",
       "      <td>Rothmatte 7\\n6022 Grosswangen</td>\n",
       "      <td>https://www.google.com/maps/place/Rothmatte%20...</td>\n",
       "      <td>bad link</td>\n",
       "    </tr>\n",
       "    <tr>\n",
       "      <th>999</th>\n",
       "      <td>Elektro Schuler AG</td>\n",
       "      <td>Elektroinstallation</td>\n",
       "      <td>NaN</td>\n",
       "      <td>tel:041 631 03 31</td>\n",
       "      <td>fax:041 631 03 32</td>\n",
       "      <td>Schulhausstrasse 4\\n6052 Hergiswil NW</td>\n",
       "      <td>https://www.google.com/maps/place/Schulhausstr...</td>\n",
       "      <td>website not accessible</td>\n",
       "    </tr>\n",
       "    <tr>\n",
       "      <th>1000</th>\n",
       "      <td>Camping Lac des Brenets</td>\n",
       "      <td>Inserate</td>\n",
       "      <td>http://www.camping-brenets.ch/</td>\n",
       "      <td>tel:032 932 16 18</td>\n",
       "      <td>fax:032 932 16 39</td>\n",
       "      <td>2416 Les Brenets</td>\n",
       "      <td>https://www.google.com/maps/place/undefined+24...</td>\n",
       "      <td>info@camping-brenets.ch</td>\n",
       "    </tr>\n",
       "  </tbody>\n",
       "</table>\n",
       "</div>"
      ],
      "text/plain": [
       "                      company_name  \\\n",
       "996      Martin Stoller Transporte   \n",
       "997   Christoph Hasler Schreinerei   \n",
       "998                    MoRailSo AG   \n",
       "999             Elektro Schuler AG   \n",
       "1000       Camping Lac des Brenets   \n",
       "\n",
       "                                               industry  \\\n",
       "996                 Güterbeförderung im Strassenverkehr   \n",
       "997                    Schreinerarbeiten im Innenausbau   \n",
       "998   Grosshandel mit sonstigen Maschinen und Ausrüs...   \n",
       "999                                 Elektroinstallation   \n",
       "1000                                           Inserate   \n",
       "\n",
       "                                website          telephone                fax  \\\n",
       "996                                 NaN  tel:031 741 24 15                NaN   \n",
       "997   http://www.hasler-schreinerei.ch/  tel:071 917 11 55  fax:071 917 18 48   \n",
       "998           https://www.ramorail.com/  tel:079 463 97 50                NaN   \n",
       "999                                 NaN  tel:041 631 03 31  fax:041 631 03 32   \n",
       "1000     http://www.camping-brenets.ch/  tel:032 932 16 18  fax:032 932 16 39   \n",
       "\n",
       "                                    address  \\\n",
       "996            Weidstrasse 2\\n3184 Wünnewil   \n",
       "997            Käsereistrasse 1\\n9555 Tobel   \n",
       "998           Rothmatte 7\\n6022 Grosswangen   \n",
       "999   Schulhausstrasse 4\\n6052 Hergiswil NW   \n",
       "1000                       2416 Les Brenets   \n",
       "\n",
       "                                        address_maplink  \\\n",
       "996   https://www.google.com/maps/place/Weidstrasse%...   \n",
       "997   https://www.google.com/maps/place/K%C3%A4serei...   \n",
       "998   https://www.google.com/maps/place/Rothmatte%20...   \n",
       "999   https://www.google.com/maps/place/Schulhausstr...   \n",
       "1000  https://www.google.com/maps/place/undefined+24...   \n",
       "\n",
       "                           email  \n",
       "996       website not accessible  \n",
       "997   info@hasler-schreinerei.ch  \n",
       "998                     bad link  \n",
       "999       website not accessible  \n",
       "1000     info@camping-brenets.ch  "
      ]
     },
     "execution_count": 110,
     "metadata": {},
     "output_type": "execute_result"
    }
   ],
   "source": [
    "df.tail()"
   ]
  },
  {
   "cell_type": "code",
   "execution_count": 111,
   "id": "abc5b481",
   "metadata": {},
   "outputs": [
    {
     "data": {
      "text/html": [
       "<div>\n",
       "<style scoped>\n",
       "    .dataframe tbody tr th:only-of-type {\n",
       "        vertical-align: middle;\n",
       "    }\n",
       "\n",
       "    .dataframe tbody tr th {\n",
       "        vertical-align: top;\n",
       "    }\n",
       "\n",
       "    .dataframe thead th {\n",
       "        text-align: right;\n",
       "    }\n",
       "</style>\n",
       "<table border=\"1\" class=\"dataframe\">\n",
       "  <thead>\n",
       "    <tr style=\"text-align: right;\">\n",
       "      <th></th>\n",
       "      <th>company_name</th>\n",
       "      <th>industry</th>\n",
       "      <th>website</th>\n",
       "      <th>telephone</th>\n",
       "      <th>fax</th>\n",
       "      <th>address</th>\n",
       "      <th>address_maplink</th>\n",
       "      <th>email</th>\n",
       "    </tr>\n",
       "  </thead>\n",
       "  <tbody>\n",
       "    <tr>\n",
       "      <th>0</th>\n",
       "      <td>True</td>\n",
       "      <td>True</td>\n",
       "      <td>True</td>\n",
       "      <td>True</td>\n",
       "      <td>True</td>\n",
       "      <td>True</td>\n",
       "      <td>True</td>\n",
       "      <td>True</td>\n",
       "    </tr>\n",
       "    <tr>\n",
       "      <th>1</th>\n",
       "      <td>True</td>\n",
       "      <td>True</td>\n",
       "      <td>True</td>\n",
       "      <td>True</td>\n",
       "      <td>True</td>\n",
       "      <td>True</td>\n",
       "      <td>True</td>\n",
       "      <td>True</td>\n",
       "    </tr>\n",
       "    <tr>\n",
       "      <th>2</th>\n",
       "      <td>True</td>\n",
       "      <td>True</td>\n",
       "      <td>True</td>\n",
       "      <td>True</td>\n",
       "      <td>True</td>\n",
       "      <td>True</td>\n",
       "      <td>True</td>\n",
       "      <td>True</td>\n",
       "    </tr>\n",
       "    <tr>\n",
       "      <th>3</th>\n",
       "      <td>True</td>\n",
       "      <td>True</td>\n",
       "      <td>True</td>\n",
       "      <td>True</td>\n",
       "      <td>False</td>\n",
       "      <td>True</td>\n",
       "      <td>True</td>\n",
       "      <td>True</td>\n",
       "    </tr>\n",
       "    <tr>\n",
       "      <th>4</th>\n",
       "      <td>True</td>\n",
       "      <td>True</td>\n",
       "      <td>True</td>\n",
       "      <td>True</td>\n",
       "      <td>False</td>\n",
       "      <td>True</td>\n",
       "      <td>True</td>\n",
       "      <td>True</td>\n",
       "    </tr>\n",
       "  </tbody>\n",
       "</table>\n",
       "</div>"
      ],
      "text/plain": [
       "   company_name  industry  website  telephone    fax  address  \\\n",
       "0          True      True     True       True   True     True   \n",
       "1          True      True     True       True   True     True   \n",
       "2          True      True     True       True   True     True   \n",
       "3          True      True     True       True  False     True   \n",
       "4          True      True     True       True  False     True   \n",
       "\n",
       "   address_maplink  email  \n",
       "0             True   True  \n",
       "1             True   True  \n",
       "2             True   True  \n",
       "3             True   True  \n",
       "4             True   True  "
      ]
     },
     "execution_count": 111,
     "metadata": {},
     "output_type": "execute_result"
    }
   ],
   "source": [
    "df.head() == df1.head()"
   ]
  },
  {
   "cell_type": "code",
   "execution_count": 112,
   "id": "a37c793d",
   "metadata": {},
   "outputs": [
    {
     "data": {
      "text/html": [
       "<div>\n",
       "<style scoped>\n",
       "    .dataframe tbody tr th:only-of-type {\n",
       "        vertical-align: middle;\n",
       "    }\n",
       "\n",
       "    .dataframe tbody tr th {\n",
       "        vertical-align: top;\n",
       "    }\n",
       "\n",
       "    .dataframe thead th {\n",
       "        text-align: right;\n",
       "    }\n",
       "</style>\n",
       "<table border=\"1\" class=\"dataframe\">\n",
       "  <thead>\n",
       "    <tr style=\"text-align: right;\">\n",
       "      <th></th>\n",
       "      <th>company_name</th>\n",
       "      <th>industry</th>\n",
       "      <th>website</th>\n",
       "      <th>telephone</th>\n",
       "      <th>fax</th>\n",
       "      <th>address</th>\n",
       "      <th>address_maplink</th>\n",
       "      <th>email</th>\n",
       "    </tr>\n",
       "  </thead>\n",
       "  <tbody>\n",
       "    <tr>\n",
       "      <th>996</th>\n",
       "      <td>True</td>\n",
       "      <td>True</td>\n",
       "      <td>False</td>\n",
       "      <td>True</td>\n",
       "      <td>False</td>\n",
       "      <td>True</td>\n",
       "      <td>True</td>\n",
       "      <td>True</td>\n",
       "    </tr>\n",
       "    <tr>\n",
       "      <th>997</th>\n",
       "      <td>True</td>\n",
       "      <td>True</td>\n",
       "      <td>True</td>\n",
       "      <td>True</td>\n",
       "      <td>True</td>\n",
       "      <td>True</td>\n",
       "      <td>True</td>\n",
       "      <td>True</td>\n",
       "    </tr>\n",
       "    <tr>\n",
       "      <th>998</th>\n",
       "      <td>True</td>\n",
       "      <td>True</td>\n",
       "      <td>True</td>\n",
       "      <td>True</td>\n",
       "      <td>False</td>\n",
       "      <td>True</td>\n",
       "      <td>True</td>\n",
       "      <td>True</td>\n",
       "    </tr>\n",
       "    <tr>\n",
       "      <th>999</th>\n",
       "      <td>True</td>\n",
       "      <td>True</td>\n",
       "      <td>False</td>\n",
       "      <td>True</td>\n",
       "      <td>True</td>\n",
       "      <td>True</td>\n",
       "      <td>True</td>\n",
       "      <td>True</td>\n",
       "    </tr>\n",
       "    <tr>\n",
       "      <th>1000</th>\n",
       "      <td>True</td>\n",
       "      <td>True</td>\n",
       "      <td>True</td>\n",
       "      <td>True</td>\n",
       "      <td>True</td>\n",
       "      <td>True</td>\n",
       "      <td>True</td>\n",
       "      <td>True</td>\n",
       "    </tr>\n",
       "  </tbody>\n",
       "</table>\n",
       "</div>"
      ],
      "text/plain": [
       "      company_name  industry  website  telephone    fax  address  \\\n",
       "996           True      True    False       True  False     True   \n",
       "997           True      True     True       True   True     True   \n",
       "998           True      True     True       True  False     True   \n",
       "999           True      True    False       True   True     True   \n",
       "1000          True      True     True       True   True     True   \n",
       "\n",
       "      address_maplink  email  \n",
       "996              True   True  \n",
       "997              True   True  \n",
       "998              True   True  \n",
       "999              True   True  \n",
       "1000             True   True  "
      ]
     },
     "execution_count": 112,
     "metadata": {},
     "output_type": "execute_result"
    }
   ],
   "source": [
    "df.tail() == df4.tail()"
   ]
  },
  {
   "cell_type": "markdown",
   "id": "22ef755e",
   "metadata": {},
   "source": [
    "### xxxxxxxxxxxx Push to Github xxxxxxxxxxxxxx"
   ]
  },
  {
   "cell_type": "markdown",
   "id": "feba4811",
   "metadata": {},
   "source": [
    "### Batch-5, batch_size = 1000, batch_start_index = 4001\n"
   ]
  },
  {
   "cell_type": "markdown",
   "id": "4937caeb",
   "metadata": {},
   "source": [
    "#### !Cell is executed. Uncomment (Ctrl + A followed by Ctrl + /) and execute (Shift + Enter) again only if you want to run the batch again."
   ]
  },
  {
   "cell_type": "code",
   "execution_count": 113,
   "id": "4c3dfe65",
   "metadata": {},
   "outputs": [],
   "source": [
    "# # Extract info of interst\n",
    "# start_time = time.time()\n",
    "# batch5_initial = extract_info_of_interest(unique_company_profile_urls, batch_size = 1000, batch_start_index = 4001, sleep=5)\n",
    "# end_time = time.time()\n",
    "# execution_time = end_time - start_time\n",
    "# print('execution time: ', execution_time)"
   ]
  },
  {
   "cell_type": "markdown",
   "id": "8e6f3021",
   "metadata": {},
   "source": [
    "### checkpoint-1"
   ]
  },
  {
   "cell_type": "code",
   "execution_count": 114,
   "id": "ac97102d",
   "metadata": {},
   "outputs": [],
   "source": [
    "# # Test-Block !Uncomment and execute only if the batch is run again\n",
    "# print(len(batch5_initial))\n",
    "# print(len(batch5_initial[-1]))"
   ]
  },
  {
   "cell_type": "code",
   "execution_count": 115,
   "id": "85ff77f9",
   "metadata": {},
   "outputs": [],
   "source": [
    "# # Test-Block !Uncomment and execute only if the batch is run again\n",
    "# print(batch5_initial[:3])"
   ]
  },
  {
   "cell_type": "markdown",
   "id": "835fc4be",
   "metadata": {},
   "source": [
    "### End of Checkpoint-1"
   ]
  },
  {
   "cell_type": "code",
   "execution_count": 116,
   "id": "bf95473e",
   "metadata": {},
   "outputs": [],
   "source": [
    "batch5df = pd.read_csv('batch5.csv')"
   ]
  },
  {
   "cell_type": "code",
   "execution_count": 117,
   "id": "54e17e9f",
   "metadata": {},
   "outputs": [],
   "source": [
    "batch5df_initial = batch5df.drop(['email'], axis = 1)"
   ]
  },
  {
   "cell_type": "code",
   "execution_count": 118,
   "id": "1357a9dc",
   "metadata": {
    "scrolled": true
   },
   "outputs": [
    {
     "name": "stdout",
     "output_type": "stream",
     "text": [
      "<class 'pandas.core.frame.DataFrame'>\n",
      "RangeIndex: 1001 entries, 0 to 1000\n",
      "Data columns (total 7 columns):\n",
      " #   Column           Non-Null Count  Dtype \n",
      "---  ------           --------------  ----- \n",
      " 0   company_name     1001 non-null   object\n",
      " 1   industry         1001 non-null   object\n",
      " 2   website          556 non-null    object\n",
      " 3   telephone        893 non-null    object\n",
      " 4   fax              570 non-null    object\n",
      " 5   address          1001 non-null   object\n",
      " 6   address_maplink  1001 non-null   object\n",
      "dtypes: object(7)\n",
      "memory usage: 54.9+ KB\n"
     ]
    }
   ],
   "source": [
    "batch5df_initial.info()"
   ]
  },
  {
   "cell_type": "code",
   "execution_count": 119,
   "id": "c8857bf8",
   "metadata": {},
   "outputs": [
    {
     "name": "stdout",
     "output_type": "stream",
     "text": [
      "[['Ringler + Strahm Storenbau AG', 'Sonstige Bauinstallation', 'http://www.ringler-strahm.ch/', 'tel:033 345 22 55', 'fax:033 345 55 19', 'Uetendorfstrasse 20\\n3634 Thierachern', 'https://www.google.com/maps/place/Uetendorfstrasse%2020+3634+Thierachern', 'info@ringler-strahm.ch'], ['Grob & Partner Architektur AG', 'Architekturbüros', 'http://www.grobarchitektur.ch/', 'tel:081 720 02 00', 'fax:081 720 02 05', 'Bahnhofstrasse 3\\n7320 Sargans', 'https://www.google.com/maps/place/Bahnhofstrasse%20%203+7320+Sargans', '8c4075d5481d476e945486754f783364@sentry.io'], ['Lauclair AG', 'Schreinerarbeiten im Innenausbau', 'http://www.lauclair.ch/', 'tel:031 879 01 69', 'fax:031 879 20 69', 'Lyssstrasse 27\\n3054 Schüpfen', 'https://www.google.com/maps/place/Lyssstrasse%2027+3054+Sch%C3%BCpfen', '98181273782d9a9g3251e7d066b95071@2x.jpg']]\n"
     ]
    }
   ],
   "source": [
    "batch5_initial = batch5df_initial.values.tolist()\n",
    "print(batch1_initial[:3])"
   ]
  },
  {
   "cell_type": "markdown",
   "id": "b80b99eb",
   "metadata": {},
   "source": [
    "#### Following Function Extracts emails from Home Page Only (Takes Less Time: 1 sec per page)"
   ]
  },
  {
   "cell_type": "code",
   "execution_count": 120,
   "id": "2a841f6e",
   "metadata": {},
   "outputs": [
    {
     "name": "stdout",
     "output_type": "stream",
     "text": [
      "No of emails found:  325\n",
      "execution time:  1677.7752470970154\n"
     ]
    }
   ],
   "source": [
    "# Extract emails\n",
    "start_time = time.time()\n",
    "pattern = r'\\b[A-Za-z0-9._%+-]+@[A-Za-z0-9.-]+\\.[A-Z|a-z]{2,}\\b'\n",
    "batch5 = extract_emails_from_homepage(batch5_initial, pattern = pattern , index=2)\n",
    "end_time = time.time()\n",
    "execution_time = end_time - start_time\n",
    "print('execution time: ', execution_time)"
   ]
  },
  {
   "cell_type": "markdown",
   "id": "c761a76b",
   "metadata": {},
   "source": [
    "### Checkpoint-2"
   ]
  },
  {
   "cell_type": "code",
   "execution_count": 121,
   "id": "005c12d9",
   "metadata": {},
   "outputs": [
    {
     "name": "stdout",
     "output_type": "stream",
     "text": [
      "1001\n",
      "8\n",
      "[['Vinolatino GmbH', 'Grosshandel mit Wein und Spirituosen', nan, nan, nan, 'Hauptstrasse 33\\n6280 Hochdorf', 'https://www.google.com/maps/place/Hauptstrasse%2033+6280+Hochdorf', 'website not accessible'], ['Cometal SA', 'Herstellung von Metallkonstruktionen', 'http://www.cometal.ch/', 'tel:091 859 10 22', 'fax:091 859 27 03', 'via Cantonale\\n6595 Riazzino', 'https://www.google.com/maps/place/via%20Cantonale+6595+Riazzino'], ['HCDM Beratungen GmbH', 'Unternehmensberatung', nan, 'tel:079 445 69 40', nan, 'Mühleweg 7\\n7304 Maienfeld', 'https://www.google.com/maps/place/M%C3%BChleweg%207+7304+Maienfeld', 'website not accessible'], ['Eigenheer Elektro AG', 'Elektroinstallation', 'http://www.eigenheer-elektro.ch/', 'tel:052 317 13 79', nan, 'Burgstrasse 5\\n8450 Andelfingen', 'https://www.google.com/maps/place/Burgstrasse%205+8450+Andelfingen', 'info@eigenheer-elektro.ch'], ['Papeterie Zumstein AG', 'Detailhandel mit Schreibwaren und Bürobedarf', nan, 'tel:044 211 77 70', nan, 'Rennweg 19\\n8001 Zürich', 'https://www.google.com/maps/place/Rennweg%2019+8001+Z%C3%BCrich', 'website not accessible']]\n"
     ]
    }
   ],
   "source": [
    "print(len(batch5)) # should be same as batch_size i.e. 1000\n",
    "print(len(batch5[-1])) # should be 8\n",
    "print(batch5[-5:]) #should have 8 items in each list with emails or remarks added"
   ]
  },
  {
   "cell_type": "markdown",
   "id": "9e0fb672",
   "metadata": {},
   "source": [
    "### End of Checkpoint-2"
   ]
  },
  {
   "cell_type": "code",
   "execution_count": 122,
   "id": "551481f4",
   "metadata": {},
   "outputs": [],
   "source": [
    "# # Convert to Dataframe batch1\n",
    "df5 = pd.DataFrame(batch5, columns=columns)\n"
   ]
  },
  {
   "cell_type": "markdown",
   "id": "a2eb946d",
   "metadata": {},
   "source": [
    "### Checkpoint 3"
   ]
  },
  {
   "cell_type": "code",
   "execution_count": 123,
   "id": "5f10e3c0",
   "metadata": {},
   "outputs": [
    {
     "name": "stdout",
     "output_type": "stream",
     "text": [
      "<class 'pandas.core.frame.DataFrame'>\n",
      "RangeIndex: 1001 entries, 0 to 1000\n",
      "Data columns (total 8 columns):\n",
      " #   Column           Non-Null Count  Dtype \n",
      "---  ------           --------------  ----- \n",
      " 0   company_name     1001 non-null   object\n",
      " 1   industry         1001 non-null   object\n",
      " 2   website          556 non-null    object\n",
      " 3   telephone        893 non-null    object\n",
      " 4   fax              570 non-null    object\n",
      " 5   address          1001 non-null   object\n",
      " 6   address_maplink  1001 non-null   object\n",
      " 7   email            865 non-null    object\n",
      "dtypes: object(8)\n",
      "memory usage: 62.7+ KB\n"
     ]
    }
   ],
   "source": [
    "df5.info()"
   ]
  },
  {
   "cell_type": "code",
   "execution_count": 124,
   "id": "8bd702a0",
   "metadata": {},
   "outputs": [
    {
     "data": {
      "text/html": [
       "<div>\n",
       "<style scoped>\n",
       "    .dataframe tbody tr th:only-of-type {\n",
       "        vertical-align: middle;\n",
       "    }\n",
       "\n",
       "    .dataframe tbody tr th {\n",
       "        vertical-align: top;\n",
       "    }\n",
       "\n",
       "    .dataframe thead th {\n",
       "        text-align: right;\n",
       "    }\n",
       "</style>\n",
       "<table border=\"1\" class=\"dataframe\">\n",
       "  <thead>\n",
       "    <tr style=\"text-align: right;\">\n",
       "      <th></th>\n",
       "      <th>company_name</th>\n",
       "      <th>industry</th>\n",
       "      <th>website</th>\n",
       "      <th>telephone</th>\n",
       "      <th>fax</th>\n",
       "      <th>address</th>\n",
       "      <th>address_maplink</th>\n",
       "      <th>email</th>\n",
       "    </tr>\n",
       "  </thead>\n",
       "  <tbody>\n",
       "    <tr>\n",
       "      <th>0</th>\n",
       "      <td>Camping Lac des Brenets</td>\n",
       "      <td>Inserate</td>\n",
       "      <td>http://www.camping-brenets.ch/</td>\n",
       "      <td>tel:032 932 16 18</td>\n",
       "      <td>fax:032 932 16 39</td>\n",
       "      <td>2416 Les Brenets</td>\n",
       "      <td>https://www.google.com/maps/place/undefined+24...</td>\n",
       "      <td>info@camping-brenets.ch</td>\n",
       "    </tr>\n",
       "    <tr>\n",
       "      <th>1</th>\n",
       "      <td>Elektro Capaul AG</td>\n",
       "      <td>Elektroinstallation</td>\n",
       "      <td>NaN</td>\n",
       "      <td>tel:081 511 20 22</td>\n",
       "      <td>fax:081 511 20 21</td>\n",
       "      <td>Promenada 3\\n7018 Flims Waldhaus</td>\n",
       "      <td>https://www.google.com/maps/place/Promenada%20...</td>\n",
       "      <td>website not accessible</td>\n",
       "    </tr>\n",
       "    <tr>\n",
       "      <th>2</th>\n",
       "      <td>Parkhotel Bellevue &amp; Spa</td>\n",
       "      <td>Hotels, Gasthöfe und Pensionen mit Restaurant</td>\n",
       "      <td>http://www.parkhotel-bellevue.ch/</td>\n",
       "      <td>tel:033 673 80 00</td>\n",
       "      <td>fax:033 673 80 01</td>\n",
       "      <td>Bellevuestrasse 15\\n3715 Adelboden</td>\n",
       "      <td>https://www.google.com/maps/place/Bellevuestra...</td>\n",
       "      <td>info@bellevue-parkhotel.ch</td>\n",
       "    </tr>\n",
       "    <tr>\n",
       "      <th>3</th>\n",
       "      <td>Supersaxo Gerold</td>\n",
       "      <td>Malerei und Gipserei ohne ausgeprägten Schwerp...</td>\n",
       "      <td>NaN</td>\n",
       "      <td>tel:g.supersaxo@valaiscom.ch</td>\n",
       "      <td>fax:027 957 45 16</td>\n",
       "      <td>Haus Rio\\n3906 Saas-Fee</td>\n",
       "      <td>https://www.google.com/maps/place/Haus%20Rio+3...</td>\n",
       "      <td>website not accessible</td>\n",
       "    </tr>\n",
       "    <tr>\n",
       "      <th>4</th>\n",
       "      <td>Jenni Baumaschinen AG</td>\n",
       "      <td>Grosshandel mit Bergwerks-, Bau- und Baustoffm...</td>\n",
       "      <td>http://www.rammax.ch/Joomla/</td>\n",
       "      <td>tel:041 920 36 62</td>\n",
       "      <td>fax:041 920 35 34</td>\n",
       "      <td>Haldenmattstrasse 2\\n6210 Sursee</td>\n",
       "      <td>https://www.google.com/maps/place/Haldenmattst...</td>\n",
       "      <td>bad link</td>\n",
       "    </tr>\n",
       "  </tbody>\n",
       "</table>\n",
       "</div>"
      ],
      "text/plain": [
       "               company_name  \\\n",
       "0   Camping Lac des Brenets   \n",
       "1         Elektro Capaul AG   \n",
       "2  Parkhotel Bellevue & Spa   \n",
       "3          Supersaxo Gerold   \n",
       "4     Jenni Baumaschinen AG   \n",
       "\n",
       "                                            industry  \\\n",
       "0                                           Inserate   \n",
       "1                                Elektroinstallation   \n",
       "2      Hotels, Gasthöfe und Pensionen mit Restaurant   \n",
       "3  Malerei und Gipserei ohne ausgeprägten Schwerp...   \n",
       "4  Grosshandel mit Bergwerks-, Bau- und Baustoffm...   \n",
       "\n",
       "                             website                     telephone  \\\n",
       "0     http://www.camping-brenets.ch/             tel:032 932 16 18   \n",
       "1                                NaN             tel:081 511 20 22   \n",
       "2  http://www.parkhotel-bellevue.ch/             tel:033 673 80 00   \n",
       "3                                NaN  tel:g.supersaxo@valaiscom.ch   \n",
       "4       http://www.rammax.ch/Joomla/             tel:041 920 36 62   \n",
       "\n",
       "                 fax                             address  \\\n",
       "0  fax:032 932 16 39                    2416 Les Brenets   \n",
       "1  fax:081 511 20 21    Promenada 3\\n7018 Flims Waldhaus   \n",
       "2  fax:033 673 80 01  Bellevuestrasse 15\\n3715 Adelboden   \n",
       "3  fax:027 957 45 16             Haus Rio\\n3906 Saas-Fee   \n",
       "4  fax:041 920 35 34    Haldenmattstrasse 2\\n6210 Sursee   \n",
       "\n",
       "                                     address_maplink  \\\n",
       "0  https://www.google.com/maps/place/undefined+24...   \n",
       "1  https://www.google.com/maps/place/Promenada%20...   \n",
       "2  https://www.google.com/maps/place/Bellevuestra...   \n",
       "3  https://www.google.com/maps/place/Haus%20Rio+3...   \n",
       "4  https://www.google.com/maps/place/Haldenmattst...   \n",
       "\n",
       "                        email  \n",
       "0     info@camping-brenets.ch  \n",
       "1      website not accessible  \n",
       "2  info@bellevue-parkhotel.ch  \n",
       "3      website not accessible  \n",
       "4                    bad link  "
      ]
     },
     "execution_count": 124,
     "metadata": {},
     "output_type": "execute_result"
    }
   ],
   "source": [
    "df5.head()"
   ]
  },
  {
   "cell_type": "markdown",
   "id": "f2f08ac2",
   "metadata": {},
   "source": [
    "### End of Checkpoint-3"
   ]
  },
  {
   "cell_type": "code",
   "execution_count": 125,
   "id": "52792692",
   "metadata": {},
   "outputs": [],
   "source": [
    "# save as csv\n",
    "df5.to_csv('batch5.csv', index = False)"
   ]
  },
  {
   "cell_type": "code",
   "execution_count": 126,
   "id": "3044c6dc",
   "metadata": {},
   "outputs": [],
   "source": [
    "#### Merge the two dataframes\n",
    "df = pd.concat([df, df5])"
   ]
  },
  {
   "cell_type": "markdown",
   "id": "9a8f595d",
   "metadata": {},
   "source": [
    "### Checkpoint-4"
   ]
  },
  {
   "cell_type": "code",
   "execution_count": 127,
   "id": "9071b125",
   "metadata": {},
   "outputs": [
    {
     "name": "stdout",
     "output_type": "stream",
     "text": [
      "<class 'pandas.core.frame.DataFrame'>\n",
      "Int64Index: 5005 entries, 0 to 1000\n",
      "Data columns (total 8 columns):\n",
      " #   Column           Non-Null Count  Dtype \n",
      "---  ------           --------------  ----- \n",
      " 0   company_name     4976 non-null   object\n",
      " 1   industry         4976 non-null   object\n",
      " 2   website          2836 non-null   object\n",
      " 3   telephone        4387 non-null   object\n",
      " 4   fax              2779 non-null   object\n",
      " 5   address          4976 non-null   object\n",
      " 6   address_maplink  5005 non-null   object\n",
      " 7   email            4322 non-null   object\n",
      "dtypes: object(8)\n",
      "memory usage: 351.9+ KB\n"
     ]
    }
   ],
   "source": [
    "df.info()"
   ]
  },
  {
   "cell_type": "code",
   "execution_count": 128,
   "id": "85f07ba9",
   "metadata": {},
   "outputs": [
    {
     "data": {
      "text/html": [
       "<div>\n",
       "<style scoped>\n",
       "    .dataframe tbody tr th:only-of-type {\n",
       "        vertical-align: middle;\n",
       "    }\n",
       "\n",
       "    .dataframe tbody tr th {\n",
       "        vertical-align: top;\n",
       "    }\n",
       "\n",
       "    .dataframe thead th {\n",
       "        text-align: right;\n",
       "    }\n",
       "</style>\n",
       "<table border=\"1\" class=\"dataframe\">\n",
       "  <thead>\n",
       "    <tr style=\"text-align: right;\">\n",
       "      <th></th>\n",
       "      <th>company_name</th>\n",
       "      <th>industry</th>\n",
       "      <th>website</th>\n",
       "      <th>telephone</th>\n",
       "      <th>fax</th>\n",
       "      <th>address</th>\n",
       "      <th>address_maplink</th>\n",
       "      <th>email</th>\n",
       "    </tr>\n",
       "  </thead>\n",
       "  <tbody>\n",
       "    <tr>\n",
       "      <th>0</th>\n",
       "      <td>Ringler + Strahm Storenbau AG</td>\n",
       "      <td>Sonstige Bauinstallation</td>\n",
       "      <td>http://www.ringler-strahm.ch/</td>\n",
       "      <td>tel:033 345 22 55</td>\n",
       "      <td>fax:033 345 55 19</td>\n",
       "      <td>Uetendorfstrasse 20\\n3634 Thierachern</td>\n",
       "      <td>https://www.google.com/maps/place/Uetendorfstr...</td>\n",
       "      <td>info@ringler-strahm.ch</td>\n",
       "    </tr>\n",
       "    <tr>\n",
       "      <th>1</th>\n",
       "      <td>Grob &amp; Partner Architektur AG</td>\n",
       "      <td>Architekturbüros</td>\n",
       "      <td>http://www.grobarchitektur.ch/</td>\n",
       "      <td>tel:081 720 02 00</td>\n",
       "      <td>fax:081 720 02 05</td>\n",
       "      <td>Bahnhofstrasse 3\\n7320 Sargans</td>\n",
       "      <td>https://www.google.com/maps/place/Bahnhofstras...</td>\n",
       "      <td>8c4075d5481d476e945486754f783364@sentry.io</td>\n",
       "    </tr>\n",
       "    <tr>\n",
       "      <th>2</th>\n",
       "      <td>Lauclair AG</td>\n",
       "      <td>Schreinerarbeiten im Innenausbau</td>\n",
       "      <td>http://www.lauclair.ch/</td>\n",
       "      <td>tel:031 879 01 69</td>\n",
       "      <td>fax:031 879 20 69</td>\n",
       "      <td>Lyssstrasse 27\\n3054 Schüpfen</td>\n",
       "      <td>https://www.google.com/maps/place/Lyssstrasse%...</td>\n",
       "      <td>98181273782d9a9g3251e7d066b95071@2x.jpg</td>\n",
       "    </tr>\n",
       "    <tr>\n",
       "      <th>3</th>\n",
       "      <td>Club Goldwand</td>\n",
       "      <td>Kauf und Verkauf von eigenen Grundstücken, Geb...</td>\n",
       "      <td>http://www.clubgoldwand.ch/</td>\n",
       "      <td>tel:056 282 30 50</td>\n",
       "      <td>NaN</td>\n",
       "      <td>Landstrasse 6\\n5415 Nussbaumen AG</td>\n",
       "      <td>https://www.google.com/maps/place/Landstrasse%...</td>\n",
       "      <td>info@clubgoldwand.ch</td>\n",
       "    </tr>\n",
       "    <tr>\n",
       "      <th>4</th>\n",
       "      <td>NICOLE DIEM Horgen</td>\n",
       "      <td>Detailhandel mit Brillen und anderen Sehhilfen</td>\n",
       "      <td>http://www.nicolediem.ch/</td>\n",
       "      <td>tel:044 770 10 40</td>\n",
       "      <td>NaN</td>\n",
       "      <td>Dorfplatz 3\\n8810 Horgen</td>\n",
       "      <td>https://www.google.com/maps/place/Dorfplatz%20...</td>\n",
       "      <td>johndoe@domain.com</td>\n",
       "    </tr>\n",
       "  </tbody>\n",
       "</table>\n",
       "</div>"
      ],
      "text/plain": [
       "                    company_name  \\\n",
       "0  Ringler + Strahm Storenbau AG   \n",
       "1  Grob & Partner Architektur AG   \n",
       "2                    Lauclair AG   \n",
       "3                  Club Goldwand   \n",
       "4             NICOLE DIEM Horgen   \n",
       "\n",
       "                                            industry  \\\n",
       "0                           Sonstige Bauinstallation   \n",
       "1                                   Architekturbüros   \n",
       "2                   Schreinerarbeiten im Innenausbau   \n",
       "3  Kauf und Verkauf von eigenen Grundstücken, Geb...   \n",
       "4     Detailhandel mit Brillen und anderen Sehhilfen   \n",
       "\n",
       "                          website          telephone                fax  \\\n",
       "0   http://www.ringler-strahm.ch/  tel:033 345 22 55  fax:033 345 55 19   \n",
       "1  http://www.grobarchitektur.ch/  tel:081 720 02 00  fax:081 720 02 05   \n",
       "2         http://www.lauclair.ch/  tel:031 879 01 69  fax:031 879 20 69   \n",
       "3     http://www.clubgoldwand.ch/  tel:056 282 30 50                NaN   \n",
       "4       http://www.nicolediem.ch/  tel:044 770 10 40                NaN   \n",
       "\n",
       "                                 address  \\\n",
       "0  Uetendorfstrasse 20\\n3634 Thierachern   \n",
       "1         Bahnhofstrasse 3\\n7320 Sargans   \n",
       "2          Lyssstrasse 27\\n3054 Schüpfen   \n",
       "3      Landstrasse 6\\n5415 Nussbaumen AG   \n",
       "4               Dorfplatz 3\\n8810 Horgen   \n",
       "\n",
       "                                     address_maplink  \\\n",
       "0  https://www.google.com/maps/place/Uetendorfstr...   \n",
       "1  https://www.google.com/maps/place/Bahnhofstras...   \n",
       "2  https://www.google.com/maps/place/Lyssstrasse%...   \n",
       "3  https://www.google.com/maps/place/Landstrasse%...   \n",
       "4  https://www.google.com/maps/place/Dorfplatz%20...   \n",
       "\n",
       "                                        email  \n",
       "0                      info@ringler-strahm.ch  \n",
       "1  8c4075d5481d476e945486754f783364@sentry.io  \n",
       "2     98181273782d9a9g3251e7d066b95071@2x.jpg  \n",
       "3                        info@clubgoldwand.ch  \n",
       "4                          johndoe@domain.com  "
      ]
     },
     "execution_count": 128,
     "metadata": {},
     "output_type": "execute_result"
    }
   ],
   "source": [
    "df.head()"
   ]
  },
  {
   "cell_type": "code",
   "execution_count": 129,
   "id": "741fcb93",
   "metadata": {},
   "outputs": [
    {
     "data": {
      "text/html": [
       "<div>\n",
       "<style scoped>\n",
       "    .dataframe tbody tr th:only-of-type {\n",
       "        vertical-align: middle;\n",
       "    }\n",
       "\n",
       "    .dataframe tbody tr th {\n",
       "        vertical-align: top;\n",
       "    }\n",
       "\n",
       "    .dataframe thead th {\n",
       "        text-align: right;\n",
       "    }\n",
       "</style>\n",
       "<table border=\"1\" class=\"dataframe\">\n",
       "  <thead>\n",
       "    <tr style=\"text-align: right;\">\n",
       "      <th></th>\n",
       "      <th>company_name</th>\n",
       "      <th>industry</th>\n",
       "      <th>website</th>\n",
       "      <th>telephone</th>\n",
       "      <th>fax</th>\n",
       "      <th>address</th>\n",
       "      <th>address_maplink</th>\n",
       "      <th>email</th>\n",
       "    </tr>\n",
       "  </thead>\n",
       "  <tbody>\n",
       "    <tr>\n",
       "      <th>996</th>\n",
       "      <td>Vinolatino GmbH</td>\n",
       "      <td>Grosshandel mit Wein und Spirituosen</td>\n",
       "      <td>NaN</td>\n",
       "      <td>NaN</td>\n",
       "      <td>NaN</td>\n",
       "      <td>Hauptstrasse 33\\n6280 Hochdorf</td>\n",
       "      <td>https://www.google.com/maps/place/Hauptstrasse...</td>\n",
       "      <td>website not accessible</td>\n",
       "    </tr>\n",
       "    <tr>\n",
       "      <th>997</th>\n",
       "      <td>Cometal SA</td>\n",
       "      <td>Herstellung von Metallkonstruktionen</td>\n",
       "      <td>http://www.cometal.ch/</td>\n",
       "      <td>tel:091 859 10 22</td>\n",
       "      <td>fax:091 859 27 03</td>\n",
       "      <td>via Cantonale\\n6595 Riazzino</td>\n",
       "      <td>https://www.google.com/maps/place/via%20Canton...</td>\n",
       "      <td>None</td>\n",
       "    </tr>\n",
       "    <tr>\n",
       "      <th>998</th>\n",
       "      <td>HCDM Beratungen GmbH</td>\n",
       "      <td>Unternehmensberatung</td>\n",
       "      <td>NaN</td>\n",
       "      <td>tel:079 445 69 40</td>\n",
       "      <td>NaN</td>\n",
       "      <td>Mühleweg 7\\n7304 Maienfeld</td>\n",
       "      <td>https://www.google.com/maps/place/M%C3%BChlewe...</td>\n",
       "      <td>website not accessible</td>\n",
       "    </tr>\n",
       "    <tr>\n",
       "      <th>999</th>\n",
       "      <td>Eigenheer Elektro AG</td>\n",
       "      <td>Elektroinstallation</td>\n",
       "      <td>http://www.eigenheer-elektro.ch/</td>\n",
       "      <td>tel:052 317 13 79</td>\n",
       "      <td>NaN</td>\n",
       "      <td>Burgstrasse 5\\n8450 Andelfingen</td>\n",
       "      <td>https://www.google.com/maps/place/Burgstrasse%...</td>\n",
       "      <td>info@eigenheer-elektro.ch</td>\n",
       "    </tr>\n",
       "    <tr>\n",
       "      <th>1000</th>\n",
       "      <td>Papeterie Zumstein AG</td>\n",
       "      <td>Detailhandel mit Schreibwaren und Bürobedarf</td>\n",
       "      <td>NaN</td>\n",
       "      <td>tel:044 211 77 70</td>\n",
       "      <td>NaN</td>\n",
       "      <td>Rennweg 19\\n8001 Zürich</td>\n",
       "      <td>https://www.google.com/maps/place/Rennweg%2019...</td>\n",
       "      <td>website not accessible</td>\n",
       "    </tr>\n",
       "  </tbody>\n",
       "</table>\n",
       "</div>"
      ],
      "text/plain": [
       "               company_name                                      industry  \\\n",
       "996         Vinolatino GmbH          Grosshandel mit Wein und Spirituosen   \n",
       "997              Cometal SA          Herstellung von Metallkonstruktionen   \n",
       "998    HCDM Beratungen GmbH                          Unternehmensberatung   \n",
       "999    Eigenheer Elektro AG                           Elektroinstallation   \n",
       "1000  Papeterie Zumstein AG  Detailhandel mit Schreibwaren und Bürobedarf   \n",
       "\n",
       "                               website          telephone                fax  \\\n",
       "996                                NaN                NaN                NaN   \n",
       "997             http://www.cometal.ch/  tel:091 859 10 22  fax:091 859 27 03   \n",
       "998                                NaN  tel:079 445 69 40                NaN   \n",
       "999   http://www.eigenheer-elektro.ch/  tel:052 317 13 79                NaN   \n",
       "1000                               NaN  tel:044 211 77 70                NaN   \n",
       "\n",
       "                              address  \\\n",
       "996    Hauptstrasse 33\\n6280 Hochdorf   \n",
       "997      via Cantonale\\n6595 Riazzino   \n",
       "998        Mühleweg 7\\n7304 Maienfeld   \n",
       "999   Burgstrasse 5\\n8450 Andelfingen   \n",
       "1000          Rennweg 19\\n8001 Zürich   \n",
       "\n",
       "                                        address_maplink  \\\n",
       "996   https://www.google.com/maps/place/Hauptstrasse...   \n",
       "997   https://www.google.com/maps/place/via%20Canton...   \n",
       "998   https://www.google.com/maps/place/M%C3%BChlewe...   \n",
       "999   https://www.google.com/maps/place/Burgstrasse%...   \n",
       "1000  https://www.google.com/maps/place/Rennweg%2019...   \n",
       "\n",
       "                          email  \n",
       "996      website not accessible  \n",
       "997                        None  \n",
       "998      website not accessible  \n",
       "999   info@eigenheer-elektro.ch  \n",
       "1000     website not accessible  "
      ]
     },
     "execution_count": 129,
     "metadata": {},
     "output_type": "execute_result"
    }
   ],
   "source": [
    "df.tail()"
   ]
  },
  {
   "cell_type": "code",
   "execution_count": 130,
   "id": "8dbb8877",
   "metadata": {},
   "outputs": [
    {
     "data": {
      "text/html": [
       "<div>\n",
       "<style scoped>\n",
       "    .dataframe tbody tr th:only-of-type {\n",
       "        vertical-align: middle;\n",
       "    }\n",
       "\n",
       "    .dataframe tbody tr th {\n",
       "        vertical-align: top;\n",
       "    }\n",
       "\n",
       "    .dataframe thead th {\n",
       "        text-align: right;\n",
       "    }\n",
       "</style>\n",
       "<table border=\"1\" class=\"dataframe\">\n",
       "  <thead>\n",
       "    <tr style=\"text-align: right;\">\n",
       "      <th></th>\n",
       "      <th>company_name</th>\n",
       "      <th>industry</th>\n",
       "      <th>website</th>\n",
       "      <th>telephone</th>\n",
       "      <th>fax</th>\n",
       "      <th>address</th>\n",
       "      <th>address_maplink</th>\n",
       "      <th>email</th>\n",
       "    </tr>\n",
       "  </thead>\n",
       "  <tbody>\n",
       "    <tr>\n",
       "      <th>0</th>\n",
       "      <td>True</td>\n",
       "      <td>True</td>\n",
       "      <td>True</td>\n",
       "      <td>True</td>\n",
       "      <td>True</td>\n",
       "      <td>True</td>\n",
       "      <td>True</td>\n",
       "      <td>True</td>\n",
       "    </tr>\n",
       "    <tr>\n",
       "      <th>1</th>\n",
       "      <td>True</td>\n",
       "      <td>True</td>\n",
       "      <td>True</td>\n",
       "      <td>True</td>\n",
       "      <td>True</td>\n",
       "      <td>True</td>\n",
       "      <td>True</td>\n",
       "      <td>True</td>\n",
       "    </tr>\n",
       "    <tr>\n",
       "      <th>2</th>\n",
       "      <td>True</td>\n",
       "      <td>True</td>\n",
       "      <td>True</td>\n",
       "      <td>True</td>\n",
       "      <td>True</td>\n",
       "      <td>True</td>\n",
       "      <td>True</td>\n",
       "      <td>True</td>\n",
       "    </tr>\n",
       "    <tr>\n",
       "      <th>3</th>\n",
       "      <td>True</td>\n",
       "      <td>True</td>\n",
       "      <td>True</td>\n",
       "      <td>True</td>\n",
       "      <td>False</td>\n",
       "      <td>True</td>\n",
       "      <td>True</td>\n",
       "      <td>True</td>\n",
       "    </tr>\n",
       "    <tr>\n",
       "      <th>4</th>\n",
       "      <td>True</td>\n",
       "      <td>True</td>\n",
       "      <td>True</td>\n",
       "      <td>True</td>\n",
       "      <td>False</td>\n",
       "      <td>True</td>\n",
       "      <td>True</td>\n",
       "      <td>True</td>\n",
       "    </tr>\n",
       "  </tbody>\n",
       "</table>\n",
       "</div>"
      ],
      "text/plain": [
       "   company_name  industry  website  telephone    fax  address  \\\n",
       "0          True      True     True       True   True     True   \n",
       "1          True      True     True       True   True     True   \n",
       "2          True      True     True       True   True     True   \n",
       "3          True      True     True       True  False     True   \n",
       "4          True      True     True       True  False     True   \n",
       "\n",
       "   address_maplink  email  \n",
       "0             True   True  \n",
       "1             True   True  \n",
       "2             True   True  \n",
       "3             True   True  \n",
       "4             True   True  "
      ]
     },
     "execution_count": 130,
     "metadata": {},
     "output_type": "execute_result"
    }
   ],
   "source": [
    "df.head() == df1.head()"
   ]
  },
  {
   "cell_type": "code",
   "execution_count": 131,
   "id": "b1fe7388",
   "metadata": {},
   "outputs": [
    {
     "data": {
      "text/html": [
       "<div>\n",
       "<style scoped>\n",
       "    .dataframe tbody tr th:only-of-type {\n",
       "        vertical-align: middle;\n",
       "    }\n",
       "\n",
       "    .dataframe tbody tr th {\n",
       "        vertical-align: top;\n",
       "    }\n",
       "\n",
       "    .dataframe thead th {\n",
       "        text-align: right;\n",
       "    }\n",
       "</style>\n",
       "<table border=\"1\" class=\"dataframe\">\n",
       "  <thead>\n",
       "    <tr style=\"text-align: right;\">\n",
       "      <th></th>\n",
       "      <th>company_name</th>\n",
       "      <th>industry</th>\n",
       "      <th>website</th>\n",
       "      <th>telephone</th>\n",
       "      <th>fax</th>\n",
       "      <th>address</th>\n",
       "      <th>address_maplink</th>\n",
       "      <th>email</th>\n",
       "    </tr>\n",
       "  </thead>\n",
       "  <tbody>\n",
       "    <tr>\n",
       "      <th>996</th>\n",
       "      <td>True</td>\n",
       "      <td>True</td>\n",
       "      <td>False</td>\n",
       "      <td>False</td>\n",
       "      <td>False</td>\n",
       "      <td>True</td>\n",
       "      <td>True</td>\n",
       "      <td>True</td>\n",
       "    </tr>\n",
       "    <tr>\n",
       "      <th>997</th>\n",
       "      <td>True</td>\n",
       "      <td>True</td>\n",
       "      <td>True</td>\n",
       "      <td>True</td>\n",
       "      <td>True</td>\n",
       "      <td>True</td>\n",
       "      <td>True</td>\n",
       "      <td>False</td>\n",
       "    </tr>\n",
       "    <tr>\n",
       "      <th>998</th>\n",
       "      <td>True</td>\n",
       "      <td>True</td>\n",
       "      <td>False</td>\n",
       "      <td>True</td>\n",
       "      <td>False</td>\n",
       "      <td>True</td>\n",
       "      <td>True</td>\n",
       "      <td>True</td>\n",
       "    </tr>\n",
       "    <tr>\n",
       "      <th>999</th>\n",
       "      <td>True</td>\n",
       "      <td>True</td>\n",
       "      <td>True</td>\n",
       "      <td>True</td>\n",
       "      <td>False</td>\n",
       "      <td>True</td>\n",
       "      <td>True</td>\n",
       "      <td>True</td>\n",
       "    </tr>\n",
       "    <tr>\n",
       "      <th>1000</th>\n",
       "      <td>True</td>\n",
       "      <td>True</td>\n",
       "      <td>False</td>\n",
       "      <td>True</td>\n",
       "      <td>False</td>\n",
       "      <td>True</td>\n",
       "      <td>True</td>\n",
       "      <td>True</td>\n",
       "    </tr>\n",
       "  </tbody>\n",
       "</table>\n",
       "</div>"
      ],
      "text/plain": [
       "      company_name  industry  website  telephone    fax  address  \\\n",
       "996           True      True    False      False  False     True   \n",
       "997           True      True     True       True   True     True   \n",
       "998           True      True    False       True  False     True   \n",
       "999           True      True     True       True  False     True   \n",
       "1000          True      True    False       True  False     True   \n",
       "\n",
       "      address_maplink  email  \n",
       "996              True   True  \n",
       "997              True  False  \n",
       "998              True   True  \n",
       "999              True   True  \n",
       "1000             True   True  "
      ]
     },
     "execution_count": 131,
     "metadata": {},
     "output_type": "execute_result"
    }
   ],
   "source": [
    "df.tail() == df5.tail()"
   ]
  },
  {
   "cell_type": "markdown",
   "id": "bfbf4a53",
   "metadata": {},
   "source": [
    "### xxxxxxxxxxxx Push to Github xxxxxxxxxxxxxx"
   ]
  },
  {
   "cell_type": "markdown",
   "id": "2966e62d",
   "metadata": {},
   "source": [
    "### Batch-6, batch_size = 1000, batch_start_index = 5001\n"
   ]
  },
  {
   "cell_type": "markdown",
   "id": "d894741e",
   "metadata": {},
   "source": [
    "#### !Cell is executed. Uncomment (Ctrl + A followed by Ctrl + /) and execute (Shift + Enter) again only if you want to run the batch again."
   ]
  },
  {
   "cell_type": "code",
   "execution_count": 132,
   "id": "56347eac",
   "metadata": {},
   "outputs": [],
   "source": [
    "# # Extract info of interst\n",
    "# start_time = time.time()\n",
    "# batch6_initial = extract_info_of_interest(unique_company_profile_urls, batch_size = 1000, batch_start_index = 5001, sleep=5)\n",
    "# end_time = time.time()\n",
    "# execution_time = end_time - start_time\n",
    "# print('execution time: ', execution_time)"
   ]
  },
  {
   "cell_type": "markdown",
   "id": "d7a6a949",
   "metadata": {},
   "source": [
    "### checkpoint-1"
   ]
  },
  {
   "cell_type": "code",
   "execution_count": 133,
   "id": "eb73d859",
   "metadata": {},
   "outputs": [],
   "source": [
    "# # Test-Block !Uncomment and execute only if batch is run again\n",
    "# print(len(batch6_initial))\n",
    "# print(len(batch6_initial[-1]))"
   ]
  },
  {
   "cell_type": "code",
   "execution_count": 134,
   "id": "1b3cffe7",
   "metadata": {},
   "outputs": [],
   "source": [
    "# # Test-Block !Uncomment and execute only if batch is run again\n",
    "# print(batch6_initial[:3])"
   ]
  },
  {
   "cell_type": "markdown",
   "id": "86d3b971",
   "metadata": {},
   "source": [
    "### End of Checkpoint-1"
   ]
  },
  {
   "cell_type": "code",
   "execution_count": 135,
   "id": "2d821984",
   "metadata": {},
   "outputs": [],
   "source": [
    "batch6df = pd.read_csv('batch6.csv')"
   ]
  },
  {
   "cell_type": "code",
   "execution_count": 136,
   "id": "3138325d",
   "metadata": {},
   "outputs": [],
   "source": [
    "batch6df_initial = batch6df.drop(['email'], axis = 1)"
   ]
  },
  {
   "cell_type": "code",
   "execution_count": 137,
   "id": "7f2ffb0f",
   "metadata": {
    "scrolled": true
   },
   "outputs": [
    {
     "name": "stdout",
     "output_type": "stream",
     "text": [
      "<class 'pandas.core.frame.DataFrame'>\n",
      "RangeIndex: 1001 entries, 0 to 1000\n",
      "Data columns (total 7 columns):\n",
      " #   Column           Non-Null Count  Dtype \n",
      "---  ------           --------------  ----- \n",
      " 0   company_name     999 non-null    object\n",
      " 1   industry         1000 non-null   object\n",
      " 2   website          575 non-null    object\n",
      " 3   telephone        891 non-null    object\n",
      " 4   fax              570 non-null    object\n",
      " 5   address          999 non-null    object\n",
      " 6   address_maplink  1001 non-null   object\n",
      "dtypes: object(7)\n",
      "memory usage: 54.9+ KB\n"
     ]
    }
   ],
   "source": [
    "batch6df_initial.info()"
   ]
  },
  {
   "cell_type": "code",
   "execution_count": 138,
   "id": "3d219dc9",
   "metadata": {},
   "outputs": [
    {
     "name": "stdout",
     "output_type": "stream",
     "text": [
      "[['Papeterie Zumstein AG', 'Detailhandel mit Schreibwaren und Bürobedarf', nan, 'tel:044 211 77 70', nan, 'Rennweg 19\\n8001 Zürich', 'https://www.google.com/maps/place/Rennweg%2019+8001+Z%C3%BCrich'], ['Elektro Schuler AG', 'Elektroinstallation', nan, 'tel:041 612 06 33', nan, 'Forellenhof/Stanserstr.\\n6362 Stansstad', 'https://www.google.com/maps/place/Forellenhof/Stanserstr.+6362+Stansstad'], ['Rüedi Büromaschinen', 'Detailhandel mit Telekommunikationsgeräten', 'http://www.rueedi-bueromaschinen.ch/', 'tel:034 415 19 23', 'fax:034 415 24 80', 'Gässli 2\\n3473 Alchenstorf', 'https://www.google.com/maps/place/G%C3%A4ssli%202+3473+Alchenstorf']]\n"
     ]
    }
   ],
   "source": [
    "batch6_initial = batch6df_initial.values.tolist()\n",
    "print(batch6_initial[:3])"
   ]
  },
  {
   "cell_type": "markdown",
   "id": "c90b6309",
   "metadata": {},
   "source": [
    "#### Following Function Extracts emails from Home Page Only (Takes Less Time: 1 sec per page)"
   ]
  },
  {
   "cell_type": "code",
   "execution_count": 139,
   "id": "3d2ba683",
   "metadata": {
    "scrolled": true
   },
   "outputs": [
    {
     "name": "stderr",
     "output_type": "stream",
     "text": [
      "C:\\Users\\Admin\\miniconda3\\lib\\site-packages\\bs4\\builder\\__init__.py:545: XMLParsedAsHTMLWarning: It looks like you're parsing an XML document using an HTML parser. If this really is an HTML document (maybe it's XHTML?), you can ignore or filter this warning. If it's XML, you should know that using an XML parser will be more reliable. To parse this document as XML, make sure you have the lxml package installed, and pass the keyword argument `features=\"xml\"` into the BeautifulSoup constructor.\n",
      "  warnings.warn(\n"
     ]
    },
    {
     "name": "stdout",
     "output_type": "stream",
     "text": [
      "No of emails found:  352\n",
      "execution time:  1056.7477428913116\n"
     ]
    }
   ],
   "source": [
    "# Extract emails\n",
    "start_time = time.time()\n",
    "pattern = r'\\b[A-Za-z0-9._%+-]+@[A-Za-z0-9.-]+\\.[A-Z|a-z]{2,}\\b'\n",
    "batch6 = extract_emails_from_homepage(batch6_initial, pattern = pattern , index=2)\n",
    "end_time = time.time()\n",
    "execution_time = end_time - start_time\n",
    "print('execution time: ', execution_time)"
   ]
  },
  {
   "cell_type": "markdown",
   "id": "c4375efb",
   "metadata": {},
   "source": [
    "### Checkpoint-2"
   ]
  },
  {
   "cell_type": "code",
   "execution_count": 140,
   "id": "a5121b6e",
   "metadata": {},
   "outputs": [
    {
     "name": "stdout",
     "output_type": "stream",
     "text": [
      "1001\n",
      "7\n",
      "[['Max Auer', 'Vermietung und Verpachtung von eigenen oder geleasten Grundstücken', nan, 'tel:071 911 21 42', 'fax:071 911 85 27', 'Agathafeld 22\\n9512 Rossrüti', 'https://www.google.com/maps/place/Agathafeld%2022+9512+Rossr%C3%BCti', 'website not accessible'], ['Rino Weder AG', 'Mechanische Werkstätten', 'http://www.rinoweder.ch/', 'tel:071 763 60 50', 'fax:071 763 60 51', 'Roggenweg 1\\n9463 Oberriet SG', 'https://www.google.com/maps/place/Roggenweg%201+9463+Oberriet%20SG', 'verkauf@rinoweder.ch'], ['Garage Andermatt AG Baar', 'lnstandhaltung und Reparatur von Automobilen', 'http://www.garage-andermatt.ch/', 'tel:041 760 46 46', nan, 'Ruessenstrasse 22\\n6340 Baar', 'https://www.google.com/maps/place/Ruessenstrasse%2022+6340+Baar', 'info@garage-andermatt.ch'], ['Pizzeria Mare Monte, Ekrem Sinani', 'Restaurants, Imbissstuben, Tea-Rooms und Gelaterias', nan, 'tel:071 845 60 06', 'fax:071 845 60 07', 'Blumenstrasse 8\\n9403 Goldach', 'https://www.google.com/maps/place/Blumenstrasse%208+9403+Goldach', 'website not accessible'], ['TICINOCOLOR SA', 'Bewertungen', 'http://www.ticinocolor.ch/', 'tel:091 967 79 79', 'fax:091 967 79 81', 'via San Gottardo 146\\n6942 Savosa', 'https://www.google.com/maps/place/via%20San%20Gottardo%20146+6942+Savosa']]\n"
     ]
    }
   ],
   "source": [
    "print(len(batch6)) # should be same as batch_size i.e. 1000\n",
    "print(len(batch6[-1])) # should be 8\n",
    "print(batch6[-5:]) #should have 8 items in each list with emails or remarks added"
   ]
  },
  {
   "cell_type": "markdown",
   "id": "e7ed4384",
   "metadata": {},
   "source": [
    "### End of Checkpoint-2"
   ]
  },
  {
   "cell_type": "code",
   "execution_count": 141,
   "id": "eb7b5f11",
   "metadata": {},
   "outputs": [],
   "source": [
    "# # Convert to Dataframe batch1\n",
    "df6 = pd.DataFrame(batch6, columns=columns)\n"
   ]
  },
  {
   "cell_type": "code",
   "execution_count": 142,
   "id": "165ff502",
   "metadata": {},
   "outputs": [],
   "source": [
    "# # Convert to Dataframe batch1\n",
    "df6 = pd.DataFrame(batch6, columns=columns)\n"
   ]
  },
  {
   "cell_type": "markdown",
   "id": "8ee73970",
   "metadata": {},
   "source": [
    "### Checkpoint-3"
   ]
  },
  {
   "cell_type": "code",
   "execution_count": 143,
   "id": "a902534a",
   "metadata": {},
   "outputs": [
    {
     "name": "stdout",
     "output_type": "stream",
     "text": [
      "<class 'pandas.core.frame.DataFrame'>\n",
      "RangeIndex: 1001 entries, 0 to 1000\n",
      "Data columns (total 8 columns):\n",
      " #   Column           Non-Null Count  Dtype \n",
      "---  ------           --------------  ----- \n",
      " 0   company_name     999 non-null    object\n",
      " 1   industry         1000 non-null   object\n",
      " 2   website          575 non-null    object\n",
      " 3   telephone        891 non-null    object\n",
      " 4   fax              570 non-null    object\n",
      " 5   address          999 non-null    object\n",
      " 6   address_maplink  1001 non-null   object\n",
      " 7   email            872 non-null    object\n",
      "dtypes: object(8)\n",
      "memory usage: 62.7+ KB\n"
     ]
    }
   ],
   "source": [
    "df6.info()"
   ]
  },
  {
   "cell_type": "code",
   "execution_count": 144,
   "id": "5f4c8a57",
   "metadata": {},
   "outputs": [],
   "source": [
    "# save as csv\n",
    "df6.to_csv('batch6.csv', index = False)"
   ]
  },
  {
   "cell_type": "markdown",
   "id": "2e3fdefe",
   "metadata": {},
   "source": [
    "### End of Checkpoint-3"
   ]
  },
  {
   "cell_type": "code",
   "execution_count": 145,
   "id": "7d2779b7",
   "metadata": {},
   "outputs": [],
   "source": [
    "#### Merge the two dataframes\n",
    "df = pd.concat([df, df6])"
   ]
  },
  {
   "cell_type": "markdown",
   "id": "da0ed274",
   "metadata": {},
   "source": [
    "### Checkpoint-4"
   ]
  },
  {
   "cell_type": "code",
   "execution_count": 146,
   "id": "2608cd0d",
   "metadata": {},
   "outputs": [
    {
     "name": "stdout",
     "output_type": "stream",
     "text": [
      "<class 'pandas.core.frame.DataFrame'>\n",
      "Int64Index: 6006 entries, 0 to 1000\n",
      "Data columns (total 8 columns):\n",
      " #   Column           Non-Null Count  Dtype \n",
      "---  ------           --------------  ----- \n",
      " 0   company_name     5975 non-null   object\n",
      " 1   industry         5976 non-null   object\n",
      " 2   website          3411 non-null   object\n",
      " 3   telephone        5278 non-null   object\n",
      " 4   fax              3349 non-null   object\n",
      " 5   address          5975 non-null   object\n",
      " 6   address_maplink  6006 non-null   object\n",
      " 7   email            5194 non-null   object\n",
      "dtypes: object(8)\n",
      "memory usage: 422.3+ KB\n"
     ]
    }
   ],
   "source": [
    "df.info()"
   ]
  },
  {
   "cell_type": "code",
   "execution_count": 147,
   "id": "6cbec0ce",
   "metadata": {},
   "outputs": [
    {
     "data": {
      "text/html": [
       "<div>\n",
       "<style scoped>\n",
       "    .dataframe tbody tr th:only-of-type {\n",
       "        vertical-align: middle;\n",
       "    }\n",
       "\n",
       "    .dataframe tbody tr th {\n",
       "        vertical-align: top;\n",
       "    }\n",
       "\n",
       "    .dataframe thead th {\n",
       "        text-align: right;\n",
       "    }\n",
       "</style>\n",
       "<table border=\"1\" class=\"dataframe\">\n",
       "  <thead>\n",
       "    <tr style=\"text-align: right;\">\n",
       "      <th></th>\n",
       "      <th>company_name</th>\n",
       "      <th>industry</th>\n",
       "      <th>website</th>\n",
       "      <th>telephone</th>\n",
       "      <th>fax</th>\n",
       "      <th>address</th>\n",
       "      <th>address_maplink</th>\n",
       "      <th>email</th>\n",
       "    </tr>\n",
       "  </thead>\n",
       "  <tbody>\n",
       "    <tr>\n",
       "      <th>0</th>\n",
       "      <td>Ringler + Strahm Storenbau AG</td>\n",
       "      <td>Sonstige Bauinstallation</td>\n",
       "      <td>http://www.ringler-strahm.ch/</td>\n",
       "      <td>tel:033 345 22 55</td>\n",
       "      <td>fax:033 345 55 19</td>\n",
       "      <td>Uetendorfstrasse 20\\n3634 Thierachern</td>\n",
       "      <td>https://www.google.com/maps/place/Uetendorfstr...</td>\n",
       "      <td>info@ringler-strahm.ch</td>\n",
       "    </tr>\n",
       "    <tr>\n",
       "      <th>1</th>\n",
       "      <td>Grob &amp; Partner Architektur AG</td>\n",
       "      <td>Architekturbüros</td>\n",
       "      <td>http://www.grobarchitektur.ch/</td>\n",
       "      <td>tel:081 720 02 00</td>\n",
       "      <td>fax:081 720 02 05</td>\n",
       "      <td>Bahnhofstrasse 3\\n7320 Sargans</td>\n",
       "      <td>https://www.google.com/maps/place/Bahnhofstras...</td>\n",
       "      <td>8c4075d5481d476e945486754f783364@sentry.io</td>\n",
       "    </tr>\n",
       "    <tr>\n",
       "      <th>2</th>\n",
       "      <td>Lauclair AG</td>\n",
       "      <td>Schreinerarbeiten im Innenausbau</td>\n",
       "      <td>http://www.lauclair.ch/</td>\n",
       "      <td>tel:031 879 01 69</td>\n",
       "      <td>fax:031 879 20 69</td>\n",
       "      <td>Lyssstrasse 27\\n3054 Schüpfen</td>\n",
       "      <td>https://www.google.com/maps/place/Lyssstrasse%...</td>\n",
       "      <td>98181273782d9a9g3251e7d066b95071@2x.jpg</td>\n",
       "    </tr>\n",
       "    <tr>\n",
       "      <th>3</th>\n",
       "      <td>Club Goldwand</td>\n",
       "      <td>Kauf und Verkauf von eigenen Grundstücken, Geb...</td>\n",
       "      <td>http://www.clubgoldwand.ch/</td>\n",
       "      <td>tel:056 282 30 50</td>\n",
       "      <td>NaN</td>\n",
       "      <td>Landstrasse 6\\n5415 Nussbaumen AG</td>\n",
       "      <td>https://www.google.com/maps/place/Landstrasse%...</td>\n",
       "      <td>info@clubgoldwand.ch</td>\n",
       "    </tr>\n",
       "    <tr>\n",
       "      <th>4</th>\n",
       "      <td>NICOLE DIEM Horgen</td>\n",
       "      <td>Detailhandel mit Brillen und anderen Sehhilfen</td>\n",
       "      <td>http://www.nicolediem.ch/</td>\n",
       "      <td>tel:044 770 10 40</td>\n",
       "      <td>NaN</td>\n",
       "      <td>Dorfplatz 3\\n8810 Horgen</td>\n",
       "      <td>https://www.google.com/maps/place/Dorfplatz%20...</td>\n",
       "      <td>johndoe@domain.com</td>\n",
       "    </tr>\n",
       "  </tbody>\n",
       "</table>\n",
       "</div>"
      ],
      "text/plain": [
       "                    company_name  \\\n",
       "0  Ringler + Strahm Storenbau AG   \n",
       "1  Grob & Partner Architektur AG   \n",
       "2                    Lauclair AG   \n",
       "3                  Club Goldwand   \n",
       "4             NICOLE DIEM Horgen   \n",
       "\n",
       "                                            industry  \\\n",
       "0                           Sonstige Bauinstallation   \n",
       "1                                   Architekturbüros   \n",
       "2                   Schreinerarbeiten im Innenausbau   \n",
       "3  Kauf und Verkauf von eigenen Grundstücken, Geb...   \n",
       "4     Detailhandel mit Brillen und anderen Sehhilfen   \n",
       "\n",
       "                          website          telephone                fax  \\\n",
       "0   http://www.ringler-strahm.ch/  tel:033 345 22 55  fax:033 345 55 19   \n",
       "1  http://www.grobarchitektur.ch/  tel:081 720 02 00  fax:081 720 02 05   \n",
       "2         http://www.lauclair.ch/  tel:031 879 01 69  fax:031 879 20 69   \n",
       "3     http://www.clubgoldwand.ch/  tel:056 282 30 50                NaN   \n",
       "4       http://www.nicolediem.ch/  tel:044 770 10 40                NaN   \n",
       "\n",
       "                                 address  \\\n",
       "0  Uetendorfstrasse 20\\n3634 Thierachern   \n",
       "1         Bahnhofstrasse 3\\n7320 Sargans   \n",
       "2          Lyssstrasse 27\\n3054 Schüpfen   \n",
       "3      Landstrasse 6\\n5415 Nussbaumen AG   \n",
       "4               Dorfplatz 3\\n8810 Horgen   \n",
       "\n",
       "                                     address_maplink  \\\n",
       "0  https://www.google.com/maps/place/Uetendorfstr...   \n",
       "1  https://www.google.com/maps/place/Bahnhofstras...   \n",
       "2  https://www.google.com/maps/place/Lyssstrasse%...   \n",
       "3  https://www.google.com/maps/place/Landstrasse%...   \n",
       "4  https://www.google.com/maps/place/Dorfplatz%20...   \n",
       "\n",
       "                                        email  \n",
       "0                      info@ringler-strahm.ch  \n",
       "1  8c4075d5481d476e945486754f783364@sentry.io  \n",
       "2     98181273782d9a9g3251e7d066b95071@2x.jpg  \n",
       "3                        info@clubgoldwand.ch  \n",
       "4                          johndoe@domain.com  "
      ]
     },
     "execution_count": 147,
     "metadata": {},
     "output_type": "execute_result"
    }
   ],
   "source": [
    "df.head()"
   ]
  },
  {
   "cell_type": "code",
   "execution_count": 148,
   "id": "f6233f3d",
   "metadata": {},
   "outputs": [
    {
     "data": {
      "text/html": [
       "<div>\n",
       "<style scoped>\n",
       "    .dataframe tbody tr th:only-of-type {\n",
       "        vertical-align: middle;\n",
       "    }\n",
       "\n",
       "    .dataframe tbody tr th {\n",
       "        vertical-align: top;\n",
       "    }\n",
       "\n",
       "    .dataframe thead th {\n",
       "        text-align: right;\n",
       "    }\n",
       "</style>\n",
       "<table border=\"1\" class=\"dataframe\">\n",
       "  <thead>\n",
       "    <tr style=\"text-align: right;\">\n",
       "      <th></th>\n",
       "      <th>company_name</th>\n",
       "      <th>industry</th>\n",
       "      <th>website</th>\n",
       "      <th>telephone</th>\n",
       "      <th>fax</th>\n",
       "      <th>address</th>\n",
       "      <th>address_maplink</th>\n",
       "      <th>email</th>\n",
       "    </tr>\n",
       "  </thead>\n",
       "  <tbody>\n",
       "    <tr>\n",
       "      <th>996</th>\n",
       "      <td>Max Auer</td>\n",
       "      <td>Vermietung und Verpachtung von eigenen oder ge...</td>\n",
       "      <td>NaN</td>\n",
       "      <td>tel:071 911 21 42</td>\n",
       "      <td>fax:071 911 85 27</td>\n",
       "      <td>Agathafeld 22\\n9512 Rossrüti</td>\n",
       "      <td>https://www.google.com/maps/place/Agathafeld%2...</td>\n",
       "      <td>website not accessible</td>\n",
       "    </tr>\n",
       "    <tr>\n",
       "      <th>997</th>\n",
       "      <td>Rino Weder AG</td>\n",
       "      <td>Mechanische Werkstätten</td>\n",
       "      <td>http://www.rinoweder.ch/</td>\n",
       "      <td>tel:071 763 60 50</td>\n",
       "      <td>fax:071 763 60 51</td>\n",
       "      <td>Roggenweg 1\\n9463 Oberriet SG</td>\n",
       "      <td>https://www.google.com/maps/place/Roggenweg%20...</td>\n",
       "      <td>verkauf@rinoweder.ch</td>\n",
       "    </tr>\n",
       "    <tr>\n",
       "      <th>998</th>\n",
       "      <td>Garage Andermatt AG Baar</td>\n",
       "      <td>lnstandhaltung und Reparatur von Automobilen</td>\n",
       "      <td>http://www.garage-andermatt.ch/</td>\n",
       "      <td>tel:041 760 46 46</td>\n",
       "      <td>NaN</td>\n",
       "      <td>Ruessenstrasse 22\\n6340 Baar</td>\n",
       "      <td>https://www.google.com/maps/place/Ruessenstras...</td>\n",
       "      <td>info@garage-andermatt.ch</td>\n",
       "    </tr>\n",
       "    <tr>\n",
       "      <th>999</th>\n",
       "      <td>Pizzeria Mare Monte, Ekrem Sinani</td>\n",
       "      <td>Restaurants, Imbissstuben, Tea-Rooms und Gelat...</td>\n",
       "      <td>NaN</td>\n",
       "      <td>tel:071 845 60 06</td>\n",
       "      <td>fax:071 845 60 07</td>\n",
       "      <td>Blumenstrasse 8\\n9403 Goldach</td>\n",
       "      <td>https://www.google.com/maps/place/Blumenstrass...</td>\n",
       "      <td>website not accessible</td>\n",
       "    </tr>\n",
       "    <tr>\n",
       "      <th>1000</th>\n",
       "      <td>TICINOCOLOR SA</td>\n",
       "      <td>Bewertungen</td>\n",
       "      <td>http://www.ticinocolor.ch/</td>\n",
       "      <td>tel:091 967 79 79</td>\n",
       "      <td>fax:091 967 79 81</td>\n",
       "      <td>via San Gottardo 146\\n6942 Savosa</td>\n",
       "      <td>https://www.google.com/maps/place/via%20San%20...</td>\n",
       "      <td>None</td>\n",
       "    </tr>\n",
       "  </tbody>\n",
       "</table>\n",
       "</div>"
      ],
      "text/plain": [
       "                           company_name  \\\n",
       "996                            Max Auer   \n",
       "997                       Rino Weder AG   \n",
       "998            Garage Andermatt AG Baar   \n",
       "999   Pizzeria Mare Monte, Ekrem Sinani   \n",
       "1000                     TICINOCOLOR SA   \n",
       "\n",
       "                                               industry  \\\n",
       "996   Vermietung und Verpachtung von eigenen oder ge...   \n",
       "997                             Mechanische Werkstätten   \n",
       "998        lnstandhaltung und Reparatur von Automobilen   \n",
       "999   Restaurants, Imbissstuben, Tea-Rooms und Gelat...   \n",
       "1000                                        Bewertungen   \n",
       "\n",
       "                              website          telephone                fax  \\\n",
       "996                               NaN  tel:071 911 21 42  fax:071 911 85 27   \n",
       "997          http://www.rinoweder.ch/  tel:071 763 60 50  fax:071 763 60 51   \n",
       "998   http://www.garage-andermatt.ch/  tel:041 760 46 46                NaN   \n",
       "999                               NaN  tel:071 845 60 06  fax:071 845 60 07   \n",
       "1000       http://www.ticinocolor.ch/  tel:091 967 79 79  fax:091 967 79 81   \n",
       "\n",
       "                                address  \\\n",
       "996        Agathafeld 22\\n9512 Rossrüti   \n",
       "997       Roggenweg 1\\n9463 Oberriet SG   \n",
       "998        Ruessenstrasse 22\\n6340 Baar   \n",
       "999       Blumenstrasse 8\\n9403 Goldach   \n",
       "1000  via San Gottardo 146\\n6942 Savosa   \n",
       "\n",
       "                                        address_maplink  \\\n",
       "996   https://www.google.com/maps/place/Agathafeld%2...   \n",
       "997   https://www.google.com/maps/place/Roggenweg%20...   \n",
       "998   https://www.google.com/maps/place/Ruessenstras...   \n",
       "999   https://www.google.com/maps/place/Blumenstrass...   \n",
       "1000  https://www.google.com/maps/place/via%20San%20...   \n",
       "\n",
       "                         email  \n",
       "996     website not accessible  \n",
       "997       verkauf@rinoweder.ch  \n",
       "998   info@garage-andermatt.ch  \n",
       "999     website not accessible  \n",
       "1000                      None  "
      ]
     },
     "execution_count": 148,
     "metadata": {},
     "output_type": "execute_result"
    }
   ],
   "source": [
    "df.tail()"
   ]
  },
  {
   "cell_type": "code",
   "execution_count": 149,
   "id": "746970e9",
   "metadata": {},
   "outputs": [
    {
     "data": {
      "text/html": [
       "<div>\n",
       "<style scoped>\n",
       "    .dataframe tbody tr th:only-of-type {\n",
       "        vertical-align: middle;\n",
       "    }\n",
       "\n",
       "    .dataframe tbody tr th {\n",
       "        vertical-align: top;\n",
       "    }\n",
       "\n",
       "    .dataframe thead th {\n",
       "        text-align: right;\n",
       "    }\n",
       "</style>\n",
       "<table border=\"1\" class=\"dataframe\">\n",
       "  <thead>\n",
       "    <tr style=\"text-align: right;\">\n",
       "      <th></th>\n",
       "      <th>company_name</th>\n",
       "      <th>industry</th>\n",
       "      <th>website</th>\n",
       "      <th>telephone</th>\n",
       "      <th>fax</th>\n",
       "      <th>address</th>\n",
       "      <th>address_maplink</th>\n",
       "      <th>email</th>\n",
       "    </tr>\n",
       "  </thead>\n",
       "  <tbody>\n",
       "    <tr>\n",
       "      <th>0</th>\n",
       "      <td>True</td>\n",
       "      <td>True</td>\n",
       "      <td>True</td>\n",
       "      <td>True</td>\n",
       "      <td>True</td>\n",
       "      <td>True</td>\n",
       "      <td>True</td>\n",
       "      <td>True</td>\n",
       "    </tr>\n",
       "    <tr>\n",
       "      <th>1</th>\n",
       "      <td>True</td>\n",
       "      <td>True</td>\n",
       "      <td>True</td>\n",
       "      <td>True</td>\n",
       "      <td>True</td>\n",
       "      <td>True</td>\n",
       "      <td>True</td>\n",
       "      <td>True</td>\n",
       "    </tr>\n",
       "    <tr>\n",
       "      <th>2</th>\n",
       "      <td>True</td>\n",
       "      <td>True</td>\n",
       "      <td>True</td>\n",
       "      <td>True</td>\n",
       "      <td>True</td>\n",
       "      <td>True</td>\n",
       "      <td>True</td>\n",
       "      <td>True</td>\n",
       "    </tr>\n",
       "    <tr>\n",
       "      <th>3</th>\n",
       "      <td>True</td>\n",
       "      <td>True</td>\n",
       "      <td>True</td>\n",
       "      <td>True</td>\n",
       "      <td>False</td>\n",
       "      <td>True</td>\n",
       "      <td>True</td>\n",
       "      <td>True</td>\n",
       "    </tr>\n",
       "    <tr>\n",
       "      <th>4</th>\n",
       "      <td>True</td>\n",
       "      <td>True</td>\n",
       "      <td>True</td>\n",
       "      <td>True</td>\n",
       "      <td>False</td>\n",
       "      <td>True</td>\n",
       "      <td>True</td>\n",
       "      <td>True</td>\n",
       "    </tr>\n",
       "  </tbody>\n",
       "</table>\n",
       "</div>"
      ],
      "text/plain": [
       "   company_name  industry  website  telephone    fax  address  \\\n",
       "0          True      True     True       True   True     True   \n",
       "1          True      True     True       True   True     True   \n",
       "2          True      True     True       True   True     True   \n",
       "3          True      True     True       True  False     True   \n",
       "4          True      True     True       True  False     True   \n",
       "\n",
       "   address_maplink  email  \n",
       "0             True   True  \n",
       "1             True   True  \n",
       "2             True   True  \n",
       "3             True   True  \n",
       "4             True   True  "
      ]
     },
     "execution_count": 149,
     "metadata": {},
     "output_type": "execute_result"
    }
   ],
   "source": [
    "df.head()==df1.head()"
   ]
  },
  {
   "cell_type": "code",
   "execution_count": 150,
   "id": "e2090c73",
   "metadata": {},
   "outputs": [
    {
     "data": {
      "text/html": [
       "<div>\n",
       "<style scoped>\n",
       "    .dataframe tbody tr th:only-of-type {\n",
       "        vertical-align: middle;\n",
       "    }\n",
       "\n",
       "    .dataframe tbody tr th {\n",
       "        vertical-align: top;\n",
       "    }\n",
       "\n",
       "    .dataframe thead th {\n",
       "        text-align: right;\n",
       "    }\n",
       "</style>\n",
       "<table border=\"1\" class=\"dataframe\">\n",
       "  <thead>\n",
       "    <tr style=\"text-align: right;\">\n",
       "      <th></th>\n",
       "      <th>company_name</th>\n",
       "      <th>industry</th>\n",
       "      <th>website</th>\n",
       "      <th>telephone</th>\n",
       "      <th>fax</th>\n",
       "      <th>address</th>\n",
       "      <th>address_maplink</th>\n",
       "      <th>email</th>\n",
       "    </tr>\n",
       "  </thead>\n",
       "  <tbody>\n",
       "    <tr>\n",
       "      <th>996</th>\n",
       "      <td>True</td>\n",
       "      <td>True</td>\n",
       "      <td>False</td>\n",
       "      <td>True</td>\n",
       "      <td>True</td>\n",
       "      <td>True</td>\n",
       "      <td>True</td>\n",
       "      <td>True</td>\n",
       "    </tr>\n",
       "    <tr>\n",
       "      <th>997</th>\n",
       "      <td>True</td>\n",
       "      <td>True</td>\n",
       "      <td>True</td>\n",
       "      <td>True</td>\n",
       "      <td>True</td>\n",
       "      <td>True</td>\n",
       "      <td>True</td>\n",
       "      <td>True</td>\n",
       "    </tr>\n",
       "    <tr>\n",
       "      <th>998</th>\n",
       "      <td>True</td>\n",
       "      <td>True</td>\n",
       "      <td>True</td>\n",
       "      <td>True</td>\n",
       "      <td>False</td>\n",
       "      <td>True</td>\n",
       "      <td>True</td>\n",
       "      <td>True</td>\n",
       "    </tr>\n",
       "    <tr>\n",
       "      <th>999</th>\n",
       "      <td>True</td>\n",
       "      <td>True</td>\n",
       "      <td>False</td>\n",
       "      <td>True</td>\n",
       "      <td>True</td>\n",
       "      <td>True</td>\n",
       "      <td>True</td>\n",
       "      <td>True</td>\n",
       "    </tr>\n",
       "    <tr>\n",
       "      <th>1000</th>\n",
       "      <td>True</td>\n",
       "      <td>True</td>\n",
       "      <td>True</td>\n",
       "      <td>True</td>\n",
       "      <td>True</td>\n",
       "      <td>True</td>\n",
       "      <td>True</td>\n",
       "      <td>False</td>\n",
       "    </tr>\n",
       "  </tbody>\n",
       "</table>\n",
       "</div>"
      ],
      "text/plain": [
       "      company_name  industry  website  telephone    fax  address  \\\n",
       "996           True      True    False       True   True     True   \n",
       "997           True      True     True       True   True     True   \n",
       "998           True      True     True       True  False     True   \n",
       "999           True      True    False       True   True     True   \n",
       "1000          True      True     True       True   True     True   \n",
       "\n",
       "      address_maplink  email  \n",
       "996              True   True  \n",
       "997              True   True  \n",
       "998              True   True  \n",
       "999              True   True  \n",
       "1000             True  False  "
      ]
     },
     "execution_count": 150,
     "metadata": {},
     "output_type": "execute_result"
    }
   ],
   "source": [
    "df.tail()==df6.tail()"
   ]
  },
  {
   "cell_type": "markdown",
   "id": "2076c1a4",
   "metadata": {},
   "source": [
    "### End of Checkpoint-4"
   ]
  },
  {
   "cell_type": "markdown",
   "id": "34179200",
   "metadata": {},
   "source": [
    "### xxxxxxxxxxxxxxxxxxxxx Push to Github xxxxxxxxxxxxxxxxxxxxxxxxxxxxxxx"
   ]
  },
  {
   "cell_type": "markdown",
   "id": "7f6ab1a3",
   "metadata": {},
   "source": [
    "### Batch-7, batch_size = 1000, batch_start_index = 6001\n"
   ]
  },
  {
   "cell_type": "markdown",
   "id": "6fbf743b",
   "metadata": {},
   "source": [
    "#### !Cell is executed. Uncomment (Ctrl + A followed by Ctrl + /) and execute (Shift + Enter) again only if you want to run the batch again."
   ]
  },
  {
   "cell_type": "code",
   "execution_count": 151,
   "id": "3a1ae8ed",
   "metadata": {},
   "outputs": [],
   "source": [
    "# # Extract info of interst\n",
    "# start_time = time.time()\n",
    "# batch7_initial = extract_info_of_interest(unique_company_profile_urls, batch_size = 1000, batch_start_index = 6001, sleep=5)\n",
    "# end_time = time.time()\n",
    "# execution_time = end_time - start_time\n",
    "# print('execution time: ', execution_time)"
   ]
  },
  {
   "cell_type": "markdown",
   "id": "123612c6",
   "metadata": {},
   "source": [
    "### Checkpoint-1"
   ]
  },
  {
   "cell_type": "code",
   "execution_count": 152,
   "id": "ed6b8d54",
   "metadata": {},
   "outputs": [],
   "source": [
    "# # Test-Block !Execute only if running the batch again\n",
    "# print(len(batch7_initial))\n",
    "# print(len(batch7_initial[-1]))"
   ]
  },
  {
   "cell_type": "code",
   "execution_count": 153,
   "id": "9782d893",
   "metadata": {},
   "outputs": [],
   "source": [
    "# # Test-Block !Execute only if running the batch again\n",
    "# print(batch7_initial[:3])"
   ]
  },
  {
   "cell_type": "markdown",
   "id": "26b10c18",
   "metadata": {},
   "source": [
    "### End of Checkpoint-1"
   ]
  },
  {
   "cell_type": "code",
   "execution_count": 154,
   "id": "4e857197",
   "metadata": {},
   "outputs": [],
   "source": [
    "batch7df = pd.read_csv('batch7.csv')"
   ]
  },
  {
   "cell_type": "code",
   "execution_count": 155,
   "id": "52f44ae3",
   "metadata": {},
   "outputs": [],
   "source": [
    "batch7df_initial = batch7df.drop(['email'], axis = 1)"
   ]
  },
  {
   "cell_type": "code",
   "execution_count": 156,
   "id": "310520ad",
   "metadata": {
    "scrolled": true
   },
   "outputs": [
    {
     "name": "stdout",
     "output_type": "stream",
     "text": [
      "<class 'pandas.core.frame.DataFrame'>\n",
      "RangeIndex: 1001 entries, 0 to 1000\n",
      "Data columns (total 7 columns):\n",
      " #   Column           Non-Null Count  Dtype \n",
      "---  ------           --------------  ----- \n",
      " 0   company_name     1000 non-null   object\n",
      " 1   industry         1001 non-null   object\n",
      " 2   website          612 non-null    object\n",
      " 3   telephone        878 non-null    object\n",
      " 4   fax              562 non-null    object\n",
      " 5   address          1000 non-null   object\n",
      " 6   address_maplink  1001 non-null   object\n",
      "dtypes: object(7)\n",
      "memory usage: 54.9+ KB\n"
     ]
    }
   ],
   "source": [
    "batch7df_initial.info()"
   ]
  },
  {
   "cell_type": "code",
   "execution_count": 157,
   "id": "322412b5",
   "metadata": {},
   "outputs": [
    {
     "name": "stdout",
     "output_type": "stream",
     "text": [
      "[['Ringler + Strahm Storenbau AG', 'Sonstige Bauinstallation', 'http://www.ringler-strahm.ch/', 'tel:033 345 22 55', 'fax:033 345 55 19', 'Uetendorfstrasse 20\\n3634 Thierachern', 'https://www.google.com/maps/place/Uetendorfstrasse%2020+3634+Thierachern', 'info@ringler-strahm.ch'], ['Grob & Partner Architektur AG', 'Architekturbüros', 'http://www.grobarchitektur.ch/', 'tel:081 720 02 00', 'fax:081 720 02 05', 'Bahnhofstrasse 3\\n7320 Sargans', 'https://www.google.com/maps/place/Bahnhofstrasse%20%203+7320+Sargans', '8c4075d5481d476e945486754f783364@sentry.io'], ['Lauclair AG', 'Schreinerarbeiten im Innenausbau', 'http://www.lauclair.ch/', 'tel:031 879 01 69', 'fax:031 879 20 69', 'Lyssstrasse 27\\n3054 Schüpfen', 'https://www.google.com/maps/place/Lyssstrasse%2027+3054+Sch%C3%BCpfen', '98181273782d9a9g3251e7d066b95071@2x.jpg']]\n"
     ]
    }
   ],
   "source": [
    "batch7_initial = batch7df_initial.values.tolist()\n",
    "print(batch1_initial[:3])"
   ]
  },
  {
   "cell_type": "markdown",
   "id": "4d5147a8",
   "metadata": {},
   "source": [
    "#### Following Function Extracts emails from Home Page Only (Takes Less Time: 1 sec per page)"
   ]
  },
  {
   "cell_type": "code",
   "execution_count": 158,
   "id": "5ba5af16",
   "metadata": {
    "scrolled": false
   },
   "outputs": [
    {
     "name": "stderr",
     "output_type": "stream",
     "text": [
      "C:\\Users\\Admin\\miniconda3\\lib\\site-packages\\bs4\\builder\\__init__.py:545: XMLParsedAsHTMLWarning: It looks like you're parsing an XML document using an HTML parser. If this really is an HTML document (maybe it's XHTML?), you can ignore or filter this warning. If it's XML, you should know that using an XML parser will be more reliable. To parse this document as XML, make sure you have the lxml package installed, and pass the keyword argument `features=\"xml\"` into the BeautifulSoup constructor.\n",
      "  warnings.warn(\n"
     ]
    },
    {
     "name": "stdout",
     "output_type": "stream",
     "text": [
      "No of emails found:  369\n",
      "execution time:  1208.556256532669\n"
     ]
    }
   ],
   "source": [
    "# Extract emails\n",
    "start_time = time.time()\n",
    "pattern = r'\\b[A-Za-z0-9._%+-]+@[A-Za-z0-9.-]+\\.[A-Z|a-z]{2,}\\b'\n",
    "batch7 = extract_emails_from_homepage(batch7_initial, pattern = pattern , index=2)\n",
    "end_time = time.time()\n",
    "execution_time = end_time - start_time\n",
    "print('execution time: ', execution_time)"
   ]
  },
  {
   "cell_type": "markdown",
   "id": "8ca06445",
   "metadata": {},
   "source": [
    "### Checkpoint-2"
   ]
  },
  {
   "cell_type": "code",
   "execution_count": 159,
   "id": "04e0369f",
   "metadata": {},
   "outputs": [
    {
     "name": "stdout",
     "output_type": "stream",
     "text": [
      "1001\n",
      "8\n",
      "[['TICINOCOLOR SA', 'Bewertungen', 'http://www.ticinocolor.ch/', 'tel:091 967 79 79', 'fax:091 967 79 81', 'via San Gottardo 146\\n6942 Savosa', 'https://www.google.com/maps/place/via%20San%20Gottardo%20146+6942+Savosa'], ['Amrein Reinigungen', 'Allgemeine Gebäudereinigung', nan, 'tel:062 771 88 70', 'fax:062 771 85 65', 'Alzbachstrasse 17\\n5734 Reinach AG', 'https://www.google.com/maps/place/Alzbachstrasse%2017+5734+Reinach%20AG', 'website not accessible'], ['Duplirex Sensler Papeterie', 'Detailhandel mit Schreibwaren und Bürobedarf', nan, 'tel:026 493 33 55', nan, 'Hauptstrasse 17\\n3186 Düdingen', 'https://www.google.com/maps/place/Hauptstrasse%2017+3186+D%C3%BCdingen', 'website not accessible'], ['Z-Audio Animatec AG', 'Grosshandel mit Geräten der Unterhaltungselektronik', 'http://www.z-audio.ch/', 'tel:044 370 20 40', 'fax:044 370 20 41', 'Schickmattweg 7\\n8332 Russikon', 'https://www.google.com/maps/place/Schickmattweg%207+8332+Russikon'], ['Vinzenz Peter AG', 'Sanitär- und Heizungsinstallation', 'http://www.vinzenzpeter.ch/', 'tel:041 448 12 08', 'fax:041 448 38 18', 'Hauptstrasse 32\\n6034 Inwil', 'https://www.google.com/maps/place/Hauptstrasse%2032+6034+Inwil', 'markus@vinzenzpeter.ch'], ['Pinato Graphics AG', 'Artikel im Shop', 'http://www.pinato-graphics.ch/', 'tel:041 921 68 88', 'fax:041 922 04 62', 'Heidenacherstrasse 27\\n6212 St. Erhard', 'https://www.google.com/maps/place/Heidenacherstrasse%2027+6212+St.%20Erhard', 'bad link'], ['Schuler Uniformen AG', 'Herstellung von Arbeits- und Berufsbekleidung', 'http://www.schuler-uniformen.ch/', 'tel:041 839 89 89', 'fax:041 838 15 54', 'Hauptstrasse 27\\n6418 Rothenthurm', 'https://www.google.com/maps/place/Hauptstrasse%2027+6418+Rothenthurm', 'info@manufaktur6418.ch'], ['Oeno-Tech SA', 'Grosshandel mit chemischen Erzeugnissen', 'http://www.oeno-tech.ch/', 'tel:027 346 14 72', 'fax:027 346 12 85', 'Impasse des Artisans 1\\n1963 Vétroz', 'https://www.google.com/maps/place/Impasse%20des%20Artisans%201+1963+V%C3%A9troz', 'info@oeno-tech.ch'], ['Hch. Borer Kartenverlag AG', 'Sonstiges Verlagswesen (ohne Software)', 'http://www.hch-borer.ch/', 'tel:061 789 98 00', 'fax:061 789 98 05', 'Ilbachstrasse 39\\n4228 Erschwil', 'https://www.google.com/maps/place/Ilbachstrasse%2039+4228+Erschwil', 'info@hch-borer.ch'], ['Roten Gartenbau AG', 'Garten- und Landschaftsbau sowie Erbringung von sonstigen gärtnerischen Dienstleistungen', 'http://www.roten-gartenbau.ch/', 'tel:079 520 24 00', nan, 'Fabrikstrasse 1\\n3900 Gamsen', 'https://www.google.com/maps/place/Fabrikstrasse%201+3900+Gamsen', 'bad link'], ['Isabelle Ehrhardt', 'Wirtschaftsprüfung und Steuerberatung; Buchführung; Treuhandgesellschaften', nan, 'tel:041 370 94 06', 'fax:041 370 94 06', 'Schädrütihalde 5\\n6006 Luzern', 'https://www.google.com/maps/place/Sch%C3%A4dr%C3%BCtihalde%205+6006+Luzern', 'website not accessible'], ['Huber AG Exhibition Management', 'Messe-, Ausstellungs- und Kongressveranstalter', 'http://www.huber-messebau.ch/', 'tel:044 750 60 60', 'fax:044 750 62 00', 'Dorfstrasse 57\\n8103 Unterengstringen', 'https://www.google.com/maps/place/Dorfstrasse%20%2057+8103+Unterengstringen', 'v.baker@huber-messebau.ch'], ['Garage F. Bärtschi AG', 'lnstandhaltung und Reparatur von Automobilen', nan, 'tel:044 817 32 45', nan, 'Riedgrabenstrasse 1\\n8153 Rümlang', 'https://www.google.com/maps/place/Riedgrabenstrasse%201+8153+R%C3%BCmlang', 'website not accessible'], ['Beat Münger Transport GmbH', 'Güterbeförderung im Strassenverkehr', nan, 'tel:031 829 24 23', nan, 'Innerdorf 3\\n3046 Wahlendorf', 'https://www.google.com/maps/place/Innerdorf%203+3046+Wahlendorf', 'website not accessible'], ['Spagnolo Gipsergeschäft GmbH', 'Anbringen von Stuckaturen, Gipserei und Verputzerei', 'http://www.spagnologmbh.ch/', 'tel:071 911 36 24', 'fax:071 911 36 25', 'Neugrubenstrasse 2b\\n9500 Wil SG', 'https://www.google.com/maps/place/Neugrubenstrasse%202b+9500+Wil%20SG', 'info@spagnologmbh.ch']]\n"
     ]
    }
   ],
   "source": [
    "print(len(batch7)) # should be same as batch_size i.e. 1000\n",
    "print(len(batch7[-1])) # should be 8\n",
    "print(batch7[:15]) #should have 8 items in each list with emails or remarks added"
   ]
  },
  {
   "cell_type": "markdown",
   "id": "bfdcbfbc",
   "metadata": {},
   "source": [
    "### End of Checkpoint-2"
   ]
  },
  {
   "cell_type": "code",
   "execution_count": 160,
   "id": "f3026927",
   "metadata": {},
   "outputs": [],
   "source": [
    "# # Convert to Dataframe batch7\n",
    "df7 = pd.DataFrame(batch7, columns=columns)\n"
   ]
  },
  {
   "cell_type": "markdown",
   "id": "0b4c0051",
   "metadata": {},
   "source": [
    "### Checkpoint-3"
   ]
  },
  {
   "cell_type": "code",
   "execution_count": 161,
   "id": "cc6ad9f4",
   "metadata": {},
   "outputs": [
    {
     "name": "stdout",
     "output_type": "stream",
     "text": [
      "<class 'pandas.core.frame.DataFrame'>\n",
      "RangeIndex: 1001 entries, 0 to 1000\n",
      "Data columns (total 8 columns):\n",
      " #   Column           Non-Null Count  Dtype \n",
      "---  ------           --------------  ----- \n",
      " 0   company_name     1000 non-null   object\n",
      " 1   industry         1001 non-null   object\n",
      " 2   website          612 non-null    object\n",
      " 3   telephone        878 non-null    object\n",
      " 4   fax              562 non-null    object\n",
      " 5   address          1000 non-null   object\n",
      " 6   address_maplink  1001 non-null   object\n",
      " 7   email            863 non-null    object\n",
      "dtypes: object(8)\n",
      "memory usage: 62.7+ KB\n"
     ]
    }
   ],
   "source": [
    "df7.info()"
   ]
  },
  {
   "cell_type": "code",
   "execution_count": 162,
   "id": "f4db8379",
   "metadata": {},
   "outputs": [],
   "source": [
    "# save as csv\n",
    "df7.to_csv('batch7.csv', index = False)"
   ]
  },
  {
   "cell_type": "markdown",
   "id": "96dc7a86",
   "metadata": {},
   "source": [
    "### End of Checkpoint-3"
   ]
  },
  {
   "cell_type": "code",
   "execution_count": 163,
   "id": "ebc032a7",
   "metadata": {},
   "outputs": [],
   "source": [
    "#### Merge the two dataframes\n",
    "df = pd.concat([df, df7])"
   ]
  },
  {
   "cell_type": "markdown",
   "id": "b595562e",
   "metadata": {},
   "source": [
    "### Checkpoint-4"
   ]
  },
  {
   "cell_type": "code",
   "execution_count": 164,
   "id": "c98b727e",
   "metadata": {},
   "outputs": [
    {
     "name": "stdout",
     "output_type": "stream",
     "text": [
      "<class 'pandas.core.frame.DataFrame'>\n",
      "Int64Index: 7007 entries, 0 to 1000\n",
      "Data columns (total 8 columns):\n",
      " #   Column           Non-Null Count  Dtype \n",
      "---  ------           --------------  ----- \n",
      " 0   company_name     6975 non-null   object\n",
      " 1   industry         6977 non-null   object\n",
      " 2   website          4023 non-null   object\n",
      " 3   telephone        6156 non-null   object\n",
      " 4   fax              3911 non-null   object\n",
      " 5   address          6975 non-null   object\n",
      " 6   address_maplink  7007 non-null   object\n",
      " 7   email            6057 non-null   object\n",
      "dtypes: object(8)\n",
      "memory usage: 492.7+ KB\n"
     ]
    }
   ],
   "source": [
    "df.info()"
   ]
  },
  {
   "cell_type": "code",
   "execution_count": 165,
   "id": "1ad357a0",
   "metadata": {},
   "outputs": [
    {
     "data": {
      "text/html": [
       "<div>\n",
       "<style scoped>\n",
       "    .dataframe tbody tr th:only-of-type {\n",
       "        vertical-align: middle;\n",
       "    }\n",
       "\n",
       "    .dataframe tbody tr th {\n",
       "        vertical-align: top;\n",
       "    }\n",
       "\n",
       "    .dataframe thead th {\n",
       "        text-align: right;\n",
       "    }\n",
       "</style>\n",
       "<table border=\"1\" class=\"dataframe\">\n",
       "  <thead>\n",
       "    <tr style=\"text-align: right;\">\n",
       "      <th></th>\n",
       "      <th>company_name</th>\n",
       "      <th>industry</th>\n",
       "      <th>website</th>\n",
       "      <th>telephone</th>\n",
       "      <th>fax</th>\n",
       "      <th>address</th>\n",
       "      <th>address_maplink</th>\n",
       "      <th>email</th>\n",
       "    </tr>\n",
       "  </thead>\n",
       "  <tbody>\n",
       "    <tr>\n",
       "      <th>0</th>\n",
       "      <td>Ringler + Strahm Storenbau AG</td>\n",
       "      <td>Sonstige Bauinstallation</td>\n",
       "      <td>http://www.ringler-strahm.ch/</td>\n",
       "      <td>tel:033 345 22 55</td>\n",
       "      <td>fax:033 345 55 19</td>\n",
       "      <td>Uetendorfstrasse 20\\n3634 Thierachern</td>\n",
       "      <td>https://www.google.com/maps/place/Uetendorfstr...</td>\n",
       "      <td>info@ringler-strahm.ch</td>\n",
       "    </tr>\n",
       "    <tr>\n",
       "      <th>1</th>\n",
       "      <td>Grob &amp; Partner Architektur AG</td>\n",
       "      <td>Architekturbüros</td>\n",
       "      <td>http://www.grobarchitektur.ch/</td>\n",
       "      <td>tel:081 720 02 00</td>\n",
       "      <td>fax:081 720 02 05</td>\n",
       "      <td>Bahnhofstrasse 3\\n7320 Sargans</td>\n",
       "      <td>https://www.google.com/maps/place/Bahnhofstras...</td>\n",
       "      <td>8c4075d5481d476e945486754f783364@sentry.io</td>\n",
       "    </tr>\n",
       "    <tr>\n",
       "      <th>2</th>\n",
       "      <td>Lauclair AG</td>\n",
       "      <td>Schreinerarbeiten im Innenausbau</td>\n",
       "      <td>http://www.lauclair.ch/</td>\n",
       "      <td>tel:031 879 01 69</td>\n",
       "      <td>fax:031 879 20 69</td>\n",
       "      <td>Lyssstrasse 27\\n3054 Schüpfen</td>\n",
       "      <td>https://www.google.com/maps/place/Lyssstrasse%...</td>\n",
       "      <td>98181273782d9a9g3251e7d066b95071@2x.jpg</td>\n",
       "    </tr>\n",
       "    <tr>\n",
       "      <th>3</th>\n",
       "      <td>Club Goldwand</td>\n",
       "      <td>Kauf und Verkauf von eigenen Grundstücken, Geb...</td>\n",
       "      <td>http://www.clubgoldwand.ch/</td>\n",
       "      <td>tel:056 282 30 50</td>\n",
       "      <td>NaN</td>\n",
       "      <td>Landstrasse 6\\n5415 Nussbaumen AG</td>\n",
       "      <td>https://www.google.com/maps/place/Landstrasse%...</td>\n",
       "      <td>info@clubgoldwand.ch</td>\n",
       "    </tr>\n",
       "    <tr>\n",
       "      <th>4</th>\n",
       "      <td>NICOLE DIEM Horgen</td>\n",
       "      <td>Detailhandel mit Brillen und anderen Sehhilfen</td>\n",
       "      <td>http://www.nicolediem.ch/</td>\n",
       "      <td>tel:044 770 10 40</td>\n",
       "      <td>NaN</td>\n",
       "      <td>Dorfplatz 3\\n8810 Horgen</td>\n",
       "      <td>https://www.google.com/maps/place/Dorfplatz%20...</td>\n",
       "      <td>johndoe@domain.com</td>\n",
       "    </tr>\n",
       "  </tbody>\n",
       "</table>\n",
       "</div>"
      ],
      "text/plain": [
       "                    company_name  \\\n",
       "0  Ringler + Strahm Storenbau AG   \n",
       "1  Grob & Partner Architektur AG   \n",
       "2                    Lauclair AG   \n",
       "3                  Club Goldwand   \n",
       "4             NICOLE DIEM Horgen   \n",
       "\n",
       "                                            industry  \\\n",
       "0                           Sonstige Bauinstallation   \n",
       "1                                   Architekturbüros   \n",
       "2                   Schreinerarbeiten im Innenausbau   \n",
       "3  Kauf und Verkauf von eigenen Grundstücken, Geb...   \n",
       "4     Detailhandel mit Brillen und anderen Sehhilfen   \n",
       "\n",
       "                          website          telephone                fax  \\\n",
       "0   http://www.ringler-strahm.ch/  tel:033 345 22 55  fax:033 345 55 19   \n",
       "1  http://www.grobarchitektur.ch/  tel:081 720 02 00  fax:081 720 02 05   \n",
       "2         http://www.lauclair.ch/  tel:031 879 01 69  fax:031 879 20 69   \n",
       "3     http://www.clubgoldwand.ch/  tel:056 282 30 50                NaN   \n",
       "4       http://www.nicolediem.ch/  tel:044 770 10 40                NaN   \n",
       "\n",
       "                                 address  \\\n",
       "0  Uetendorfstrasse 20\\n3634 Thierachern   \n",
       "1         Bahnhofstrasse 3\\n7320 Sargans   \n",
       "2          Lyssstrasse 27\\n3054 Schüpfen   \n",
       "3      Landstrasse 6\\n5415 Nussbaumen AG   \n",
       "4               Dorfplatz 3\\n8810 Horgen   \n",
       "\n",
       "                                     address_maplink  \\\n",
       "0  https://www.google.com/maps/place/Uetendorfstr...   \n",
       "1  https://www.google.com/maps/place/Bahnhofstras...   \n",
       "2  https://www.google.com/maps/place/Lyssstrasse%...   \n",
       "3  https://www.google.com/maps/place/Landstrasse%...   \n",
       "4  https://www.google.com/maps/place/Dorfplatz%20...   \n",
       "\n",
       "                                        email  \n",
       "0                      info@ringler-strahm.ch  \n",
       "1  8c4075d5481d476e945486754f783364@sentry.io  \n",
       "2     98181273782d9a9g3251e7d066b95071@2x.jpg  \n",
       "3                        info@clubgoldwand.ch  \n",
       "4                          johndoe@domain.com  "
      ]
     },
     "execution_count": 165,
     "metadata": {},
     "output_type": "execute_result"
    }
   ],
   "source": [
    "df.head()"
   ]
  },
  {
   "cell_type": "code",
   "execution_count": 166,
   "id": "6743a61d",
   "metadata": {},
   "outputs": [
    {
     "data": {
      "text/html": [
       "<div>\n",
       "<style scoped>\n",
       "    .dataframe tbody tr th:only-of-type {\n",
       "        vertical-align: middle;\n",
       "    }\n",
       "\n",
       "    .dataframe tbody tr th {\n",
       "        vertical-align: top;\n",
       "    }\n",
       "\n",
       "    .dataframe thead th {\n",
       "        text-align: right;\n",
       "    }\n",
       "</style>\n",
       "<table border=\"1\" class=\"dataframe\">\n",
       "  <thead>\n",
       "    <tr style=\"text-align: right;\">\n",
       "      <th></th>\n",
       "      <th>company_name</th>\n",
       "      <th>industry</th>\n",
       "      <th>website</th>\n",
       "      <th>telephone</th>\n",
       "      <th>fax</th>\n",
       "      <th>address</th>\n",
       "      <th>address_maplink</th>\n",
       "      <th>email</th>\n",
       "    </tr>\n",
       "  </thead>\n",
       "  <tbody>\n",
       "    <tr>\n",
       "      <th>996</th>\n",
       "      <td>Garage du Lac F. Dougoud SA</td>\n",
       "      <td>Detailhandel mit Motorenkraftstoffen (Tankstel...</td>\n",
       "      <td>NaN</td>\n",
       "      <td>NaN</td>\n",
       "      <td>NaN</td>\n",
       "      <td>Rte de la Gruyère 115\\n1644 Avry-devant-Pont</td>\n",
       "      <td>https://www.google.com/maps/place/Rte%20de%20l...</td>\n",
       "      <td>website not accessible</td>\n",
       "    </tr>\n",
       "    <tr>\n",
       "      <th>997</th>\n",
       "      <td>Bau GmbH André Bucher</td>\n",
       "      <td>Anbringen von Stuckaturen, Gipserei und Verput...</td>\n",
       "      <td>NaN</td>\n",
       "      <td>NaN</td>\n",
       "      <td>NaN</td>\n",
       "      <td>Grossweid 28\\n6026 Rain</td>\n",
       "      <td>https://www.google.com/maps/place/Grossweid%20...</td>\n",
       "      <td>website not accessible</td>\n",
       "    </tr>\n",
       "    <tr>\n",
       "      <th>998</th>\n",
       "      <td>Stefan Thalmann AG, Baugeschäft,</td>\n",
       "      <td>Allgemeiner Hoch- und Tiefbau ohne ausgeprägte...</td>\n",
       "      <td>http://www.thalmann-bau.ch/</td>\n",
       "      <td>tel:041 660 43 68</td>\n",
       "      <td>fax:041 660 99 81</td>\n",
       "      <td>Dörfli 9\\n6060 Ramersberg</td>\n",
       "      <td>https://www.google.com/maps/place/D%C3%B6rfli%...</td>\n",
       "      <td>None</td>\n",
       "    </tr>\n",
       "    <tr>\n",
       "      <th>999</th>\n",
       "      <td>Print-Fix Drucktechnik AG</td>\n",
       "      <td>Grosshandel mit Datenverarbeitungsgeräten und ...</td>\n",
       "      <td>NaN</td>\n",
       "      <td>tel:041 930 00 91</td>\n",
       "      <td>NaN</td>\n",
       "      <td>Krümmigasse 15\\n6221 Rickenbach LU</td>\n",
       "      <td>https://www.google.com/maps/place/Kr%C3%BCmmig...</td>\n",
       "      <td>website not accessible</td>\n",
       "    </tr>\n",
       "    <tr>\n",
       "      <th>1000</th>\n",
       "      <td>Spenglerei Schmid GmbH</td>\n",
       "      <td>Bauspenglerei</td>\n",
       "      <td>http://www.spenglerei-schmid.ch/</td>\n",
       "      <td>NaN</td>\n",
       "      <td>NaN</td>\n",
       "      <td>Kesselstrasse 12\\n8200 Schaffhausen</td>\n",
       "      <td>https://www.google.com/maps/place/Kesselstrass...</td>\n",
       "      <td>bad link</td>\n",
       "    </tr>\n",
       "  </tbody>\n",
       "</table>\n",
       "</div>"
      ],
      "text/plain": [
       "                          company_name  \\\n",
       "996        Garage du Lac F. Dougoud SA   \n",
       "997              Bau GmbH André Bucher   \n",
       "998   Stefan Thalmann AG, Baugeschäft,   \n",
       "999          Print-Fix Drucktechnik AG   \n",
       "1000            Spenglerei Schmid GmbH   \n",
       "\n",
       "                                               industry  \\\n",
       "996   Detailhandel mit Motorenkraftstoffen (Tankstel...   \n",
       "997   Anbringen von Stuckaturen, Gipserei und Verput...   \n",
       "998   Allgemeiner Hoch- und Tiefbau ohne ausgeprägte...   \n",
       "999   Grosshandel mit Datenverarbeitungsgeräten und ...   \n",
       "1000                                      Bauspenglerei   \n",
       "\n",
       "                               website          telephone                fax  \\\n",
       "996                                NaN                NaN                NaN   \n",
       "997                                NaN                NaN                NaN   \n",
       "998        http://www.thalmann-bau.ch/  tel:041 660 43 68  fax:041 660 99 81   \n",
       "999                                NaN  tel:041 930 00 91                NaN   \n",
       "1000  http://www.spenglerei-schmid.ch/                NaN                NaN   \n",
       "\n",
       "                                           address  \\\n",
       "996   Rte de la Gruyère 115\\n1644 Avry-devant-Pont   \n",
       "997                        Grossweid 28\\n6026 Rain   \n",
       "998                      Dörfli 9\\n6060 Ramersberg   \n",
       "999             Krümmigasse 15\\n6221 Rickenbach LU   \n",
       "1000           Kesselstrasse 12\\n8200 Schaffhausen   \n",
       "\n",
       "                                        address_maplink  \\\n",
       "996   https://www.google.com/maps/place/Rte%20de%20l...   \n",
       "997   https://www.google.com/maps/place/Grossweid%20...   \n",
       "998   https://www.google.com/maps/place/D%C3%B6rfli%...   \n",
       "999   https://www.google.com/maps/place/Kr%C3%BCmmig...   \n",
       "1000  https://www.google.com/maps/place/Kesselstrass...   \n",
       "\n",
       "                       email  \n",
       "996   website not accessible  \n",
       "997   website not accessible  \n",
       "998                     None  \n",
       "999   website not accessible  \n",
       "1000                bad link  "
      ]
     },
     "execution_count": 166,
     "metadata": {},
     "output_type": "execute_result"
    }
   ],
   "source": [
    "df.tail()"
   ]
  },
  {
   "cell_type": "code",
   "execution_count": 167,
   "id": "a6a48435",
   "metadata": {},
   "outputs": [
    {
     "data": {
      "text/html": [
       "<div>\n",
       "<style scoped>\n",
       "    .dataframe tbody tr th:only-of-type {\n",
       "        vertical-align: middle;\n",
       "    }\n",
       "\n",
       "    .dataframe tbody tr th {\n",
       "        vertical-align: top;\n",
       "    }\n",
       "\n",
       "    .dataframe thead th {\n",
       "        text-align: right;\n",
       "    }\n",
       "</style>\n",
       "<table border=\"1\" class=\"dataframe\">\n",
       "  <thead>\n",
       "    <tr style=\"text-align: right;\">\n",
       "      <th></th>\n",
       "      <th>company_name</th>\n",
       "      <th>industry</th>\n",
       "      <th>website</th>\n",
       "      <th>telephone</th>\n",
       "      <th>fax</th>\n",
       "      <th>address</th>\n",
       "      <th>address_maplink</th>\n",
       "      <th>email</th>\n",
       "    </tr>\n",
       "  </thead>\n",
       "  <tbody>\n",
       "    <tr>\n",
       "      <th>0</th>\n",
       "      <td>True</td>\n",
       "      <td>True</td>\n",
       "      <td>True</td>\n",
       "      <td>True</td>\n",
       "      <td>True</td>\n",
       "      <td>True</td>\n",
       "      <td>True</td>\n",
       "      <td>True</td>\n",
       "    </tr>\n",
       "    <tr>\n",
       "      <th>1</th>\n",
       "      <td>True</td>\n",
       "      <td>True</td>\n",
       "      <td>True</td>\n",
       "      <td>True</td>\n",
       "      <td>True</td>\n",
       "      <td>True</td>\n",
       "      <td>True</td>\n",
       "      <td>True</td>\n",
       "    </tr>\n",
       "    <tr>\n",
       "      <th>2</th>\n",
       "      <td>True</td>\n",
       "      <td>True</td>\n",
       "      <td>True</td>\n",
       "      <td>True</td>\n",
       "      <td>True</td>\n",
       "      <td>True</td>\n",
       "      <td>True</td>\n",
       "      <td>True</td>\n",
       "    </tr>\n",
       "    <tr>\n",
       "      <th>3</th>\n",
       "      <td>True</td>\n",
       "      <td>True</td>\n",
       "      <td>True</td>\n",
       "      <td>True</td>\n",
       "      <td>False</td>\n",
       "      <td>True</td>\n",
       "      <td>True</td>\n",
       "      <td>True</td>\n",
       "    </tr>\n",
       "    <tr>\n",
       "      <th>4</th>\n",
       "      <td>True</td>\n",
       "      <td>True</td>\n",
       "      <td>True</td>\n",
       "      <td>True</td>\n",
       "      <td>False</td>\n",
       "      <td>True</td>\n",
       "      <td>True</td>\n",
       "      <td>True</td>\n",
       "    </tr>\n",
       "  </tbody>\n",
       "</table>\n",
       "</div>"
      ],
      "text/plain": [
       "   company_name  industry  website  telephone    fax  address  \\\n",
       "0          True      True     True       True   True     True   \n",
       "1          True      True     True       True   True     True   \n",
       "2          True      True     True       True   True     True   \n",
       "3          True      True     True       True  False     True   \n",
       "4          True      True     True       True  False     True   \n",
       "\n",
       "   address_maplink  email  \n",
       "0             True   True  \n",
       "1             True   True  \n",
       "2             True   True  \n",
       "3             True   True  \n",
       "4             True   True  "
      ]
     },
     "execution_count": 167,
     "metadata": {},
     "output_type": "execute_result"
    }
   ],
   "source": [
    "df.head()==df1.head()"
   ]
  },
  {
   "cell_type": "code",
   "execution_count": 168,
   "id": "1a03de5f",
   "metadata": {},
   "outputs": [
    {
     "data": {
      "text/html": [
       "<div>\n",
       "<style scoped>\n",
       "    .dataframe tbody tr th:only-of-type {\n",
       "        vertical-align: middle;\n",
       "    }\n",
       "\n",
       "    .dataframe tbody tr th {\n",
       "        vertical-align: top;\n",
       "    }\n",
       "\n",
       "    .dataframe thead th {\n",
       "        text-align: right;\n",
       "    }\n",
       "</style>\n",
       "<table border=\"1\" class=\"dataframe\">\n",
       "  <thead>\n",
       "    <tr style=\"text-align: right;\">\n",
       "      <th></th>\n",
       "      <th>company_name</th>\n",
       "      <th>industry</th>\n",
       "      <th>website</th>\n",
       "      <th>telephone</th>\n",
       "      <th>fax</th>\n",
       "      <th>address</th>\n",
       "      <th>address_maplink</th>\n",
       "      <th>email</th>\n",
       "    </tr>\n",
       "  </thead>\n",
       "  <tbody>\n",
       "    <tr>\n",
       "      <th>996</th>\n",
       "      <td>True</td>\n",
       "      <td>True</td>\n",
       "      <td>False</td>\n",
       "      <td>False</td>\n",
       "      <td>False</td>\n",
       "      <td>True</td>\n",
       "      <td>True</td>\n",
       "      <td>True</td>\n",
       "    </tr>\n",
       "    <tr>\n",
       "      <th>997</th>\n",
       "      <td>True</td>\n",
       "      <td>True</td>\n",
       "      <td>False</td>\n",
       "      <td>False</td>\n",
       "      <td>False</td>\n",
       "      <td>True</td>\n",
       "      <td>True</td>\n",
       "      <td>True</td>\n",
       "    </tr>\n",
       "    <tr>\n",
       "      <th>998</th>\n",
       "      <td>True</td>\n",
       "      <td>True</td>\n",
       "      <td>True</td>\n",
       "      <td>True</td>\n",
       "      <td>True</td>\n",
       "      <td>True</td>\n",
       "      <td>True</td>\n",
       "      <td>False</td>\n",
       "    </tr>\n",
       "    <tr>\n",
       "      <th>999</th>\n",
       "      <td>True</td>\n",
       "      <td>True</td>\n",
       "      <td>False</td>\n",
       "      <td>True</td>\n",
       "      <td>False</td>\n",
       "      <td>True</td>\n",
       "      <td>True</td>\n",
       "      <td>True</td>\n",
       "    </tr>\n",
       "    <tr>\n",
       "      <th>1000</th>\n",
       "      <td>True</td>\n",
       "      <td>True</td>\n",
       "      <td>True</td>\n",
       "      <td>False</td>\n",
       "      <td>False</td>\n",
       "      <td>True</td>\n",
       "      <td>True</td>\n",
       "      <td>True</td>\n",
       "    </tr>\n",
       "  </tbody>\n",
       "</table>\n",
       "</div>"
      ],
      "text/plain": [
       "      company_name  industry  website  telephone    fax  address  \\\n",
       "996           True      True    False      False  False     True   \n",
       "997           True      True    False      False  False     True   \n",
       "998           True      True     True       True   True     True   \n",
       "999           True      True    False       True  False     True   \n",
       "1000          True      True     True      False  False     True   \n",
       "\n",
       "      address_maplink  email  \n",
       "996              True   True  \n",
       "997              True   True  \n",
       "998              True  False  \n",
       "999              True   True  \n",
       "1000             True   True  "
      ]
     },
     "execution_count": 168,
     "metadata": {},
     "output_type": "execute_result"
    }
   ],
   "source": [
    "df.tail()==df7.tail()"
   ]
  },
  {
   "cell_type": "markdown",
   "id": "239547b4",
   "metadata": {},
   "source": [
    "### xxxxxxxxxxxxxxx Push to Github xxxxxxxxxxxxxxxxxxxx"
   ]
  },
  {
   "cell_type": "markdown",
   "id": "6ba36fc8",
   "metadata": {},
   "source": [
    "### Batch-8, batch_size = 1000, batch_start_index = 7001\n"
   ]
  },
  {
   "cell_type": "markdown",
   "id": "df64ac18",
   "metadata": {},
   "source": [
    "#### !Cell is executed. Uncomment (Ctrl + A followed by Ctrl + /) and execute (Shift + Enter) again only if you want to run the batch again."
   ]
  },
  {
   "cell_type": "code",
   "execution_count": 169,
   "id": "fa261c3e",
   "metadata": {},
   "outputs": [],
   "source": [
    "# # Extract info of interst\n",
    "# start_time = time.time()\n",
    "# batch8_initial = extract_info_of_interest(unique_company_profile_urls, batch_size = 1000, batch_start_index = 7001, sleep=5)\n",
    "# end_time = time.time()\n",
    "# execution_time = end_time - start_time\n",
    "# print('execution time: ', execution_time)"
   ]
  },
  {
   "cell_type": "markdown",
   "id": "05745a66",
   "metadata": {},
   "source": [
    "### Checkpoint-1"
   ]
  },
  {
   "cell_type": "code",
   "execution_count": 170,
   "id": "d20e9f17",
   "metadata": {},
   "outputs": [],
   "source": [
    "# # Test-Block !Uncomment and execute only if running batch again\n",
    "# print(len(batch8_initial))\n",
    "# print(len(batch8_initial[-1]))"
   ]
  },
  {
   "cell_type": "code",
   "execution_count": 171,
   "id": "c187202d",
   "metadata": {},
   "outputs": [],
   "source": [
    "# # Test-Block !Uncomment and execute only if running batch again\n",
    "# print(batch8_initial[:3])"
   ]
  },
  {
   "cell_type": "markdown",
   "id": "e295c1bb",
   "metadata": {},
   "source": [
    "### End of Checkpoint-1"
   ]
  },
  {
   "cell_type": "code",
   "execution_count": 172,
   "id": "3030c4d7",
   "metadata": {},
   "outputs": [],
   "source": [
    "batch8df = pd.read_csv('batch8.csv')"
   ]
  },
  {
   "cell_type": "code",
   "execution_count": 173,
   "id": "8a22ffc0",
   "metadata": {},
   "outputs": [],
   "source": [
    "batch8df_initial = batch8df.drop(['email'], axis = 1)"
   ]
  },
  {
   "cell_type": "code",
   "execution_count": 174,
   "id": "d3ee1102",
   "metadata": {
    "scrolled": true
   },
   "outputs": [
    {
     "name": "stdout",
     "output_type": "stream",
     "text": [
      "<class 'pandas.core.frame.DataFrame'>\n",
      "RangeIndex: 1001 entries, 0 to 1000\n",
      "Data columns (total 7 columns):\n",
      " #   Column           Non-Null Count  Dtype \n",
      "---  ------           --------------  ----- \n",
      " 0   company_name     964 non-null    object\n",
      " 1   industry         965 non-null    object\n",
      " 2   website          570 non-null    object\n",
      " 3   telephone        865 non-null    object\n",
      " 4   fax              549 non-null    object\n",
      " 5   address          964 non-null    object\n",
      " 6   address_maplink  964 non-null    object\n",
      "dtypes: object(7)\n",
      "memory usage: 54.9+ KB\n"
     ]
    }
   ],
   "source": [
    "batch8df_initial.info()"
   ]
  },
  {
   "cell_type": "code",
   "execution_count": 175,
   "id": "07905cd4",
   "metadata": {},
   "outputs": [
    {
     "name": "stdout",
     "output_type": "stream",
     "text": [
      "[['Ringler + Strahm Storenbau AG', 'Sonstige Bauinstallation', 'http://www.ringler-strahm.ch/', 'tel:033 345 22 55', 'fax:033 345 55 19', 'Uetendorfstrasse 20\\n3634 Thierachern', 'https://www.google.com/maps/place/Uetendorfstrasse%2020+3634+Thierachern', 'info@ringler-strahm.ch'], ['Grob & Partner Architektur AG', 'Architekturbüros', 'http://www.grobarchitektur.ch/', 'tel:081 720 02 00', 'fax:081 720 02 05', 'Bahnhofstrasse 3\\n7320 Sargans', 'https://www.google.com/maps/place/Bahnhofstrasse%20%203+7320+Sargans', '8c4075d5481d476e945486754f783364@sentry.io'], ['Lauclair AG', 'Schreinerarbeiten im Innenausbau', 'http://www.lauclair.ch/', 'tel:031 879 01 69', 'fax:031 879 20 69', 'Lyssstrasse 27\\n3054 Schüpfen', 'https://www.google.com/maps/place/Lyssstrasse%2027+3054+Sch%C3%BCpfen', '98181273782d9a9g3251e7d066b95071@2x.jpg']]\n"
     ]
    }
   ],
   "source": [
    "batch8_initial = batch8df_initial.values.tolist()\n",
    "print(batch1_initial[:3])"
   ]
  },
  {
   "cell_type": "markdown",
   "id": "3f78be24",
   "metadata": {},
   "source": [
    "#### Following Function Extracts emails from Home Page Only (Takes Less Time: 1 sec per page)"
   ]
  },
  {
   "cell_type": "code",
   "execution_count": 176,
   "id": "565b2958",
   "metadata": {},
   "outputs": [
    {
     "name": "stderr",
     "output_type": "stream",
     "text": [
      "C:\\Users\\Admin\\miniconda3\\lib\\site-packages\\bs4\\builder\\__init__.py:545: XMLParsedAsHTMLWarning: It looks like you're parsing an XML document using an HTML parser. If this really is an HTML document (maybe it's XHTML?), you can ignore or filter this warning. If it's XML, you should know that using an XML parser will be more reliable. To parse this document as XML, make sure you have the lxml package installed, and pass the keyword argument `features=\"xml\"` into the BeautifulSoup constructor.\n",
      "  warnings.warn(\n"
     ]
    },
    {
     "name": "stdout",
     "output_type": "stream",
     "text": [
      "No of emails found:  331\n",
      "execution time:  1186.8682489395142\n"
     ]
    }
   ],
   "source": [
    "# Extract emails\n",
    "start_time = time.time()\n",
    "pattern = r'\\b[A-Za-z0-9._%+-]+@[A-Za-z0-9.-]+\\.[A-Z|a-z]{2,}\\b'\n",
    "batch8 = extract_emails_from_homepage(batch8_initial, pattern = pattern , index=2)\n",
    "end_time = time.time()\n",
    "execution_time = end_time - start_time\n",
    "\n",
    "print('execution time: ', execution_time)"
   ]
  },
  {
   "cell_type": "markdown",
   "id": "c0a02aeb",
   "metadata": {},
   "source": [
    "### Checkpoint-2"
   ]
  },
  {
   "cell_type": "code",
   "execution_count": 177,
   "id": "a4b4714a",
   "metadata": {},
   "outputs": [
    {
     "name": "stdout",
     "output_type": "stream",
     "text": [
      "1001\n",
      "8\n",
      "[['Baumann Immobilien-+ Bau AG', 'Vermittlung von Grundstücken, Gebäuden und Wohnungen für Dritte', nan, 'tel:031 307 70 75', 'fax:031 307 70 73', 'Untere Zollgasse 28\\n3072 Ostermundigen', 'https://www.google.com/maps/place/Untere%20Zollgasse%2028+3072+Ostermundigen', 'website not accessible'], ['Auto Baier AG', 'lnstandhaltung und Reparatur von Automobilen', 'http://www.auto-baier.ch/', 'tel:071 351 44 92', 'fax:071 351 44 82', 'Degersheimerstrasse 78\\n9100 Herisau', 'https://www.google.com/maps/place/Degersheimerstrasse%2078+9100+Herisau', 'lager@auto-baier.ch'], ['Ako-Clean AG', 'Allgemeine Gebäudereinigung', 'http://www.akogroup.ch/', 'tel:044 774 17 17', 'fax:044 774 17 16', 'Lenggenbachstrasse 3\\n8951 Fahrweid', 'https://www.google.com/maps/place/Lenggenbachstrasse%203+8951+Fahrweid', 'info@akogroup.ch'], ['Daniel Kamber', 'Architekturbüros', 'http://www.kagi-architektur.ch/', 'tel:062 298 22 88', 'fax:062 298 34 83', 'Trottenackerstrasse 14\\n4654 Lostorf', 'https://www.google.com/maps/place/Trottenackerstrasse%2014+4654+Lostorf', 'kagi54@bluewin.ch'], ['c+j immo AG', 'Kauf und Verkauf von eigenen Grundstücken, Gebäuden und Wohnungen', nan, nan, nan, 'Industriestrasse 21\\n6055 Alpnach Dorf', 'https://www.google.com/maps/place/Industriestrasse%2021+6055+Alpnach%20Dorf', 'website not accessible']]\n"
     ]
    }
   ],
   "source": [
    "print(len(batch8)) # should be same as batch_size i.e. 1000\n",
    "print(len(batch8[-1])) # should be 8\n",
    "print(batch8[-5:]) #should have 8 items in each list with emails or remarks added"
   ]
  },
  {
   "cell_type": "markdown",
   "id": "52248564",
   "metadata": {},
   "source": [
    "### End of Checkpoint-2"
   ]
  },
  {
   "cell_type": "code",
   "execution_count": 178,
   "id": "faf95c3a",
   "metadata": {},
   "outputs": [],
   "source": [
    "# # Convert to Dataframe batch8\n",
    "df8 = pd.DataFrame(batch8, columns=columns)\n"
   ]
  },
  {
   "cell_type": "markdown",
   "id": "1061ebba",
   "metadata": {},
   "source": [
    "### Checkpoint-3"
   ]
  },
  {
   "cell_type": "code",
   "execution_count": 179,
   "id": "bf4e0deb",
   "metadata": {},
   "outputs": [
    {
     "name": "stdout",
     "output_type": "stream",
     "text": [
      "<class 'pandas.core.frame.DataFrame'>\n",
      "RangeIndex: 1001 entries, 0 to 1000\n",
      "Data columns (total 8 columns):\n",
      " #   Column           Non-Null Count  Dtype \n",
      "---  ------           --------------  ----- \n",
      " 0   company_name     964 non-null    object\n",
      " 1   industry         965 non-null    object\n",
      " 2   website          570 non-null    object\n",
      " 3   telephone        865 non-null    object\n",
      " 4   fax              549 non-null    object\n",
      " 5   address          964 non-null    object\n",
      " 6   address_maplink  964 non-null    object\n",
      " 7   email            856 non-null    object\n",
      "dtypes: object(8)\n",
      "memory usage: 62.7+ KB\n"
     ]
    }
   ],
   "source": [
    "df8.info()"
   ]
  },
  {
   "cell_type": "code",
   "execution_count": 180,
   "id": "e4949bf3",
   "metadata": {},
   "outputs": [],
   "source": [
    "# save as csv\n",
    "df8.to_csv('batch8.csv', index = False)"
   ]
  },
  {
   "cell_type": "markdown",
   "id": "272d462f",
   "metadata": {},
   "source": [
    "### End of Checkpoint-3"
   ]
  },
  {
   "cell_type": "code",
   "execution_count": 181,
   "id": "bb57b460",
   "metadata": {},
   "outputs": [],
   "source": [
    "#### Merge the two dataframes\n",
    "df = pd.concat([df, df8])"
   ]
  },
  {
   "cell_type": "markdown",
   "id": "99da49d5",
   "metadata": {},
   "source": [
    "### Checkpoint-4"
   ]
  },
  {
   "cell_type": "code",
   "execution_count": 182,
   "id": "a16a2cfd",
   "metadata": {},
   "outputs": [
    {
     "name": "stdout",
     "output_type": "stream",
     "text": [
      "<class 'pandas.core.frame.DataFrame'>\n",
      "Int64Index: 8008 entries, 0 to 1000\n",
      "Data columns (total 8 columns):\n",
      " #   Column           Non-Null Count  Dtype \n",
      "---  ------           --------------  ----- \n",
      " 0   company_name     7939 non-null   object\n",
      " 1   industry         7942 non-null   object\n",
      " 2   website          4593 non-null   object\n",
      " 3   telephone        7021 non-null   object\n",
      " 4   fax              4460 non-null   object\n",
      " 5   address          7939 non-null   object\n",
      " 6   address_maplink  7971 non-null   object\n",
      " 7   email            6913 non-null   object\n",
      "dtypes: object(8)\n",
      "memory usage: 563.1+ KB\n"
     ]
    }
   ],
   "source": [
    "df.info()"
   ]
  },
  {
   "cell_type": "code",
   "execution_count": 183,
   "id": "6e423cd9",
   "metadata": {},
   "outputs": [
    {
     "data": {
      "text/html": [
       "<div>\n",
       "<style scoped>\n",
       "    .dataframe tbody tr th:only-of-type {\n",
       "        vertical-align: middle;\n",
       "    }\n",
       "\n",
       "    .dataframe tbody tr th {\n",
       "        vertical-align: top;\n",
       "    }\n",
       "\n",
       "    .dataframe thead th {\n",
       "        text-align: right;\n",
       "    }\n",
       "</style>\n",
       "<table border=\"1\" class=\"dataframe\">\n",
       "  <thead>\n",
       "    <tr style=\"text-align: right;\">\n",
       "      <th></th>\n",
       "      <th>company_name</th>\n",
       "      <th>industry</th>\n",
       "      <th>website</th>\n",
       "      <th>telephone</th>\n",
       "      <th>fax</th>\n",
       "      <th>address</th>\n",
       "      <th>address_maplink</th>\n",
       "      <th>email</th>\n",
       "    </tr>\n",
       "  </thead>\n",
       "  <tbody>\n",
       "    <tr>\n",
       "      <th>0</th>\n",
       "      <td>Ringler + Strahm Storenbau AG</td>\n",
       "      <td>Sonstige Bauinstallation</td>\n",
       "      <td>http://www.ringler-strahm.ch/</td>\n",
       "      <td>tel:033 345 22 55</td>\n",
       "      <td>fax:033 345 55 19</td>\n",
       "      <td>Uetendorfstrasse 20\\n3634 Thierachern</td>\n",
       "      <td>https://www.google.com/maps/place/Uetendorfstr...</td>\n",
       "      <td>info@ringler-strahm.ch</td>\n",
       "    </tr>\n",
       "    <tr>\n",
       "      <th>1</th>\n",
       "      <td>Grob &amp; Partner Architektur AG</td>\n",
       "      <td>Architekturbüros</td>\n",
       "      <td>http://www.grobarchitektur.ch/</td>\n",
       "      <td>tel:081 720 02 00</td>\n",
       "      <td>fax:081 720 02 05</td>\n",
       "      <td>Bahnhofstrasse 3\\n7320 Sargans</td>\n",
       "      <td>https://www.google.com/maps/place/Bahnhofstras...</td>\n",
       "      <td>8c4075d5481d476e945486754f783364@sentry.io</td>\n",
       "    </tr>\n",
       "    <tr>\n",
       "      <th>2</th>\n",
       "      <td>Lauclair AG</td>\n",
       "      <td>Schreinerarbeiten im Innenausbau</td>\n",
       "      <td>http://www.lauclair.ch/</td>\n",
       "      <td>tel:031 879 01 69</td>\n",
       "      <td>fax:031 879 20 69</td>\n",
       "      <td>Lyssstrasse 27\\n3054 Schüpfen</td>\n",
       "      <td>https://www.google.com/maps/place/Lyssstrasse%...</td>\n",
       "      <td>98181273782d9a9g3251e7d066b95071@2x.jpg</td>\n",
       "    </tr>\n",
       "    <tr>\n",
       "      <th>3</th>\n",
       "      <td>Club Goldwand</td>\n",
       "      <td>Kauf und Verkauf von eigenen Grundstücken, Geb...</td>\n",
       "      <td>http://www.clubgoldwand.ch/</td>\n",
       "      <td>tel:056 282 30 50</td>\n",
       "      <td>NaN</td>\n",
       "      <td>Landstrasse 6\\n5415 Nussbaumen AG</td>\n",
       "      <td>https://www.google.com/maps/place/Landstrasse%...</td>\n",
       "      <td>info@clubgoldwand.ch</td>\n",
       "    </tr>\n",
       "    <tr>\n",
       "      <th>4</th>\n",
       "      <td>NICOLE DIEM Horgen</td>\n",
       "      <td>Detailhandel mit Brillen und anderen Sehhilfen</td>\n",
       "      <td>http://www.nicolediem.ch/</td>\n",
       "      <td>tel:044 770 10 40</td>\n",
       "      <td>NaN</td>\n",
       "      <td>Dorfplatz 3\\n8810 Horgen</td>\n",
       "      <td>https://www.google.com/maps/place/Dorfplatz%20...</td>\n",
       "      <td>johndoe@domain.com</td>\n",
       "    </tr>\n",
       "  </tbody>\n",
       "</table>\n",
       "</div>"
      ],
      "text/plain": [
       "                    company_name  \\\n",
       "0  Ringler + Strahm Storenbau AG   \n",
       "1  Grob & Partner Architektur AG   \n",
       "2                    Lauclair AG   \n",
       "3                  Club Goldwand   \n",
       "4             NICOLE DIEM Horgen   \n",
       "\n",
       "                                            industry  \\\n",
       "0                           Sonstige Bauinstallation   \n",
       "1                                   Architekturbüros   \n",
       "2                   Schreinerarbeiten im Innenausbau   \n",
       "3  Kauf und Verkauf von eigenen Grundstücken, Geb...   \n",
       "4     Detailhandel mit Brillen und anderen Sehhilfen   \n",
       "\n",
       "                          website          telephone                fax  \\\n",
       "0   http://www.ringler-strahm.ch/  tel:033 345 22 55  fax:033 345 55 19   \n",
       "1  http://www.grobarchitektur.ch/  tel:081 720 02 00  fax:081 720 02 05   \n",
       "2         http://www.lauclair.ch/  tel:031 879 01 69  fax:031 879 20 69   \n",
       "3     http://www.clubgoldwand.ch/  tel:056 282 30 50                NaN   \n",
       "4       http://www.nicolediem.ch/  tel:044 770 10 40                NaN   \n",
       "\n",
       "                                 address  \\\n",
       "0  Uetendorfstrasse 20\\n3634 Thierachern   \n",
       "1         Bahnhofstrasse 3\\n7320 Sargans   \n",
       "2          Lyssstrasse 27\\n3054 Schüpfen   \n",
       "3      Landstrasse 6\\n5415 Nussbaumen AG   \n",
       "4               Dorfplatz 3\\n8810 Horgen   \n",
       "\n",
       "                                     address_maplink  \\\n",
       "0  https://www.google.com/maps/place/Uetendorfstr...   \n",
       "1  https://www.google.com/maps/place/Bahnhofstras...   \n",
       "2  https://www.google.com/maps/place/Lyssstrasse%...   \n",
       "3  https://www.google.com/maps/place/Landstrasse%...   \n",
       "4  https://www.google.com/maps/place/Dorfplatz%20...   \n",
       "\n",
       "                                        email  \n",
       "0                      info@ringler-strahm.ch  \n",
       "1  8c4075d5481d476e945486754f783364@sentry.io  \n",
       "2     98181273782d9a9g3251e7d066b95071@2x.jpg  \n",
       "3                        info@clubgoldwand.ch  \n",
       "4                          johndoe@domain.com  "
      ]
     },
     "execution_count": 183,
     "metadata": {},
     "output_type": "execute_result"
    }
   ],
   "source": [
    "df.head()"
   ]
  },
  {
   "cell_type": "code",
   "execution_count": 184,
   "id": "7dec1f1b",
   "metadata": {},
   "outputs": [
    {
     "data": {
      "text/html": [
       "<div>\n",
       "<style scoped>\n",
       "    .dataframe tbody tr th:only-of-type {\n",
       "        vertical-align: middle;\n",
       "    }\n",
       "\n",
       "    .dataframe tbody tr th {\n",
       "        vertical-align: top;\n",
       "    }\n",
       "\n",
       "    .dataframe thead th {\n",
       "        text-align: right;\n",
       "    }\n",
       "</style>\n",
       "<table border=\"1\" class=\"dataframe\">\n",
       "  <thead>\n",
       "    <tr style=\"text-align: right;\">\n",
       "      <th></th>\n",
       "      <th>company_name</th>\n",
       "      <th>industry</th>\n",
       "      <th>website</th>\n",
       "      <th>telephone</th>\n",
       "      <th>fax</th>\n",
       "      <th>address</th>\n",
       "      <th>address_maplink</th>\n",
       "      <th>email</th>\n",
       "    </tr>\n",
       "  </thead>\n",
       "  <tbody>\n",
       "    <tr>\n",
       "      <th>0</th>\n",
       "      <td>True</td>\n",
       "      <td>True</td>\n",
       "      <td>True</td>\n",
       "      <td>True</td>\n",
       "      <td>True</td>\n",
       "      <td>True</td>\n",
       "      <td>True</td>\n",
       "      <td>True</td>\n",
       "    </tr>\n",
       "    <tr>\n",
       "      <th>1</th>\n",
       "      <td>True</td>\n",
       "      <td>True</td>\n",
       "      <td>True</td>\n",
       "      <td>True</td>\n",
       "      <td>True</td>\n",
       "      <td>True</td>\n",
       "      <td>True</td>\n",
       "      <td>True</td>\n",
       "    </tr>\n",
       "    <tr>\n",
       "      <th>2</th>\n",
       "      <td>True</td>\n",
       "      <td>True</td>\n",
       "      <td>True</td>\n",
       "      <td>True</td>\n",
       "      <td>True</td>\n",
       "      <td>True</td>\n",
       "      <td>True</td>\n",
       "      <td>True</td>\n",
       "    </tr>\n",
       "    <tr>\n",
       "      <th>3</th>\n",
       "      <td>True</td>\n",
       "      <td>True</td>\n",
       "      <td>True</td>\n",
       "      <td>True</td>\n",
       "      <td>False</td>\n",
       "      <td>True</td>\n",
       "      <td>True</td>\n",
       "      <td>True</td>\n",
       "    </tr>\n",
       "    <tr>\n",
       "      <th>4</th>\n",
       "      <td>True</td>\n",
       "      <td>True</td>\n",
       "      <td>True</td>\n",
       "      <td>True</td>\n",
       "      <td>False</td>\n",
       "      <td>True</td>\n",
       "      <td>True</td>\n",
       "      <td>True</td>\n",
       "    </tr>\n",
       "  </tbody>\n",
       "</table>\n",
       "</div>"
      ],
      "text/plain": [
       "   company_name  industry  website  telephone    fax  address  \\\n",
       "0          True      True     True       True   True     True   \n",
       "1          True      True     True       True   True     True   \n",
       "2          True      True     True       True   True     True   \n",
       "3          True      True     True       True  False     True   \n",
       "4          True      True     True       True  False     True   \n",
       "\n",
       "   address_maplink  email  \n",
       "0             True   True  \n",
       "1             True   True  \n",
       "2             True   True  \n",
       "3             True   True  \n",
       "4             True   True  "
      ]
     },
     "execution_count": 184,
     "metadata": {},
     "output_type": "execute_result"
    }
   ],
   "source": [
    "df.head() == df1.head()"
   ]
  },
  {
   "cell_type": "code",
   "execution_count": 185,
   "id": "4f2bbb68",
   "metadata": {},
   "outputs": [
    {
     "data": {
      "text/html": [
       "<div>\n",
       "<style scoped>\n",
       "    .dataframe tbody tr th:only-of-type {\n",
       "        vertical-align: middle;\n",
       "    }\n",
       "\n",
       "    .dataframe tbody tr th {\n",
       "        vertical-align: top;\n",
       "    }\n",
       "\n",
       "    .dataframe thead th {\n",
       "        text-align: right;\n",
       "    }\n",
       "</style>\n",
       "<table border=\"1\" class=\"dataframe\">\n",
       "  <thead>\n",
       "    <tr style=\"text-align: right;\">\n",
       "      <th></th>\n",
       "      <th>company_name</th>\n",
       "      <th>industry</th>\n",
       "      <th>website</th>\n",
       "      <th>telephone</th>\n",
       "      <th>fax</th>\n",
       "      <th>address</th>\n",
       "      <th>address_maplink</th>\n",
       "      <th>email</th>\n",
       "    </tr>\n",
       "  </thead>\n",
       "  <tbody>\n",
       "    <tr>\n",
       "      <th>996</th>\n",
       "      <td>True</td>\n",
       "      <td>True</td>\n",
       "      <td>False</td>\n",
       "      <td>True</td>\n",
       "      <td>True</td>\n",
       "      <td>True</td>\n",
       "      <td>True</td>\n",
       "      <td>True</td>\n",
       "    </tr>\n",
       "    <tr>\n",
       "      <th>997</th>\n",
       "      <td>True</td>\n",
       "      <td>True</td>\n",
       "      <td>True</td>\n",
       "      <td>True</td>\n",
       "      <td>True</td>\n",
       "      <td>True</td>\n",
       "      <td>True</td>\n",
       "      <td>True</td>\n",
       "    </tr>\n",
       "    <tr>\n",
       "      <th>998</th>\n",
       "      <td>True</td>\n",
       "      <td>True</td>\n",
       "      <td>True</td>\n",
       "      <td>True</td>\n",
       "      <td>True</td>\n",
       "      <td>True</td>\n",
       "      <td>True</td>\n",
       "      <td>True</td>\n",
       "    </tr>\n",
       "    <tr>\n",
       "      <th>999</th>\n",
       "      <td>True</td>\n",
       "      <td>True</td>\n",
       "      <td>True</td>\n",
       "      <td>True</td>\n",
       "      <td>True</td>\n",
       "      <td>True</td>\n",
       "      <td>True</td>\n",
       "      <td>True</td>\n",
       "    </tr>\n",
       "    <tr>\n",
       "      <th>1000</th>\n",
       "      <td>True</td>\n",
       "      <td>True</td>\n",
       "      <td>False</td>\n",
       "      <td>False</td>\n",
       "      <td>False</td>\n",
       "      <td>True</td>\n",
       "      <td>True</td>\n",
       "      <td>True</td>\n",
       "    </tr>\n",
       "  </tbody>\n",
       "</table>\n",
       "</div>"
      ],
      "text/plain": [
       "      company_name  industry  website  telephone    fax  address  \\\n",
       "996           True      True    False       True   True     True   \n",
       "997           True      True     True       True   True     True   \n",
       "998           True      True     True       True   True     True   \n",
       "999           True      True     True       True   True     True   \n",
       "1000          True      True    False      False  False     True   \n",
       "\n",
       "      address_maplink  email  \n",
       "996              True   True  \n",
       "997              True   True  \n",
       "998              True   True  \n",
       "999              True   True  \n",
       "1000             True   True  "
      ]
     },
     "execution_count": 185,
     "metadata": {},
     "output_type": "execute_result"
    }
   ],
   "source": [
    "df.tail() == df8.tail()"
   ]
  },
  {
   "cell_type": "markdown",
   "id": "75d41ed9",
   "metadata": {},
   "source": [
    "### End of Checkpoint-4"
   ]
  },
  {
   "cell_type": "markdown",
   "id": "ac7b83f1",
   "metadata": {},
   "source": [
    "### xxxxxxxxxxxxxxxxxxxxx Push to Github xxxxxxxxxxxxxxxxxxxxxxxxx"
   ]
  },
  {
   "cell_type": "markdown",
   "id": "43a72133",
   "metadata": {},
   "source": [
    "### Batch-9, batch_size = 1000, batch_start_index = 8001\n"
   ]
  },
  {
   "cell_type": "markdown",
   "id": "923ed13e",
   "metadata": {},
   "source": [
    "#### !Cell is executed. Uncomment (Ctrl + A followed by Ctrl + /) and execute (Shift + Enter) again only if you want to run the batch again."
   ]
  },
  {
   "cell_type": "code",
   "execution_count": 186,
   "id": "b7de2025",
   "metadata": {
    "scrolled": false
   },
   "outputs": [],
   "source": [
    "# # Extract info of interst\n",
    "# start_time = time.time()\n",
    "# batch9_initial = extract_info_of_interest(unique_company_profile_urls, batch_size = 1000, batch_start_index = 8001, sleep=5)\n",
    "# end_time = time.time()\n",
    "# execution_time = end_time - start_time\n",
    "# print('execution time: ', execution_time)"
   ]
  },
  {
   "cell_type": "markdown",
   "id": "90b88b96",
   "metadata": {},
   "source": [
    "### Checkpoint-1"
   ]
  },
  {
   "cell_type": "code",
   "execution_count": 187,
   "id": "e580e8e5",
   "metadata": {},
   "outputs": [],
   "source": [
    "# # Test-Block !Uncomment and execute only if running the batch again\n",
    "# print(len(batch9_initial))\n",
    "# print(len(batch9_initial[-1]))"
   ]
  },
  {
   "cell_type": "code",
   "execution_count": 188,
   "id": "1b2c6089",
   "metadata": {},
   "outputs": [],
   "source": [
    "# # Test-Block !Uncomment and execute only if running the batch again\n",
    "# print(batch9_initial[:3])"
   ]
  },
  {
   "cell_type": "markdown",
   "id": "c6f47470",
   "metadata": {},
   "source": [
    "### End of Checkpoint-1"
   ]
  },
  {
   "cell_type": "code",
   "execution_count": 189,
   "id": "4bab36ac",
   "metadata": {},
   "outputs": [],
   "source": [
    "batch9df = pd.read_csv('batch9.csv')"
   ]
  },
  {
   "cell_type": "code",
   "execution_count": 190,
   "id": "4ef949b5",
   "metadata": {},
   "outputs": [],
   "source": [
    "batch9df_initial = batch9df.drop(['email'], axis = 1)"
   ]
  },
  {
   "cell_type": "code",
   "execution_count": 191,
   "id": "25769242",
   "metadata": {
    "scrolled": true
   },
   "outputs": [
    {
     "name": "stdout",
     "output_type": "stream",
     "text": [
      "<class 'pandas.core.frame.DataFrame'>\n",
      "RangeIndex: 1001 entries, 0 to 1000\n",
      "Data columns (total 7 columns):\n",
      " #   Column           Non-Null Count  Dtype \n",
      "---  ------           --------------  ----- \n",
      " 0   company_name     964 non-null    object\n",
      " 1   industry         965 non-null    object\n",
      " 2   website          570 non-null    object\n",
      " 3   telephone        865 non-null    object\n",
      " 4   fax              549 non-null    object\n",
      " 5   address          964 non-null    object\n",
      " 6   address_maplink  964 non-null    object\n",
      "dtypes: object(7)\n",
      "memory usage: 54.9+ KB\n"
     ]
    }
   ],
   "source": [
    "batch9df_initial.info()"
   ]
  },
  {
   "cell_type": "code",
   "execution_count": 192,
   "id": "d74f551d",
   "metadata": {},
   "outputs": [
    {
     "name": "stdout",
     "output_type": "stream",
     "text": [
      "[['Feger Wohnen AG', 'Bewertungen', 'http://www.moebelfeger.ch/', 'tel:071 446 25 46', 'fax:071 446 25 60', 'Rebhaldenstrasse 9\\n9320 Arbon', 'https://www.google.com/maps/place/Rebhaldenstrasse%209+9320+Arbon'], ['Restaurant Höfli', 'Restaurants, Imbissstuben, Tea-Rooms und Gelaterias', 'http://www.dorfplatz-zentrum-mm.ch/', 'tel:033 346 00 70', nan, 'Dorfstrasse 12\\n3662 Seftigen', 'https://www.google.com/maps/place/Dorfstrasse%2012+3662+Seftigen'], ['Werner Rieder', 'Sonstiges Körperpflegegewerbe', nan, 'tel:061 971 57 57', nan, 'Stücklerweg 1b\\n4441 Thürnen', 'https://www.google.com/maps/place/St%C3%BCcklerweg%201b+4441+Th%C3%BCrnen']]\n"
     ]
    }
   ],
   "source": [
    "batch9_initial = batch9df_initial.values.tolist()\n",
    "print(batch9_initial[:3])"
   ]
  },
  {
   "cell_type": "markdown",
   "id": "2f926a34",
   "metadata": {},
   "source": [
    "#### Following Function Extracts emails from Home Page Only (Takes Less Time: 1 sec per page)"
   ]
  },
  {
   "cell_type": "code",
   "execution_count": 193,
   "id": "10adfb4c",
   "metadata": {},
   "outputs": [
    {
     "name": "stderr",
     "output_type": "stream",
     "text": [
      "C:\\Users\\Admin\\miniconda3\\lib\\site-packages\\bs4\\builder\\__init__.py:545: XMLParsedAsHTMLWarning: It looks like you're parsing an XML document using an HTML parser. If this really is an HTML document (maybe it's XHTML?), you can ignore or filter this warning. If it's XML, you should know that using an XML parser will be more reliable. To parse this document as XML, make sure you have the lxml package installed, and pass the keyword argument `features=\"xml\"` into the BeautifulSoup constructor.\n",
      "  warnings.warn(\n"
     ]
    },
    {
     "name": "stdout",
     "output_type": "stream",
     "text": [
      "No of emails found:  329\n",
      "execution time:  1407.403419494629\n"
     ]
    }
   ],
   "source": [
    "# Extract emails\n",
    "start_time = time.time()\n",
    "pattern = r'\\b[A-Za-z0-9._%+-]+@[A-Za-z0-9.-]+\\.[A-Z|a-z]{2,}\\b'\n",
    "batch9 = extract_emails_from_homepage(batch9_initial, pattern = pattern , index=2)\n",
    "end_time = time.time()\n",
    "execution_time = end_time - start_time\n",
    "print('execution time: ', execution_time)"
   ]
  },
  {
   "cell_type": "markdown",
   "id": "ba28ed08",
   "metadata": {},
   "source": [
    "### Checkpoint-2"
   ]
  },
  {
   "cell_type": "code",
   "execution_count": 194,
   "id": "9f4e1f6d",
   "metadata": {},
   "outputs": [
    {
     "name": "stdout",
     "output_type": "stream",
     "text": [
      "1001\n",
      "8\n",
      "[['Baumann Immobilien-+ Bau AG', 'Vermittlung von Grundstücken, Gebäuden und Wohnungen für Dritte', nan, 'tel:031 307 70 75', 'fax:031 307 70 73', 'Untere Zollgasse 28\\n3072 Ostermundigen', 'https://www.google.com/maps/place/Untere%20Zollgasse%2028+3072+Ostermundigen', 'website not accessible'], ['Auto Baier AG', 'lnstandhaltung und Reparatur von Automobilen', 'http://www.auto-baier.ch/', 'tel:071 351 44 92', 'fax:071 351 44 82', 'Degersheimerstrasse 78\\n9100 Herisau', 'https://www.google.com/maps/place/Degersheimerstrasse%2078+9100+Herisau', 'lager@auto-baier.ch'], ['Ako-Clean AG', 'Allgemeine Gebäudereinigung', 'http://www.akogroup.ch/', 'tel:044 774 17 17', 'fax:044 774 17 16', 'Lenggenbachstrasse 3\\n8951 Fahrweid', 'https://www.google.com/maps/place/Lenggenbachstrasse%203+8951+Fahrweid', 'info@akogroup.ch'], ['Daniel Kamber', 'Architekturbüros', 'http://www.kagi-architektur.ch/', 'tel:062 298 22 88', 'fax:062 298 34 83', 'Trottenackerstrasse 14\\n4654 Lostorf', 'https://www.google.com/maps/place/Trottenackerstrasse%2014+4654+Lostorf', 'kagi54@bluewin.ch'], ['c+j immo AG', 'Kauf und Verkauf von eigenen Grundstücken, Gebäuden und Wohnungen', nan, nan, nan, 'Industriestrasse 21\\n6055 Alpnach Dorf', 'https://www.google.com/maps/place/Industriestrasse%2021+6055+Alpnach%20Dorf', 'website not accessible']]\n"
     ]
    }
   ],
   "source": [
    "print(len(batch9)) # should be same as batch_size i.e. 1000\n",
    "print(len(batch9[-1])) # should be 8\n",
    "print(batch9[-5:]) #should have 8 items in each list with emails or remarks added"
   ]
  },
  {
   "cell_type": "markdown",
   "id": "59c364b6",
   "metadata": {},
   "source": [
    "### End of Checkpoint-2"
   ]
  },
  {
   "cell_type": "code",
   "execution_count": 195,
   "id": "b4aed99e",
   "metadata": {},
   "outputs": [],
   "source": [
    "# # Convert to Dataframe batch9\n",
    "df9 = pd.DataFrame(batch9, columns=columns)\n"
   ]
  },
  {
   "cell_type": "markdown",
   "id": "1ab6e3b4",
   "metadata": {},
   "source": [
    "### Checkpoint-3"
   ]
  },
  {
   "cell_type": "code",
   "execution_count": 196,
   "id": "f0b2cc25",
   "metadata": {},
   "outputs": [
    {
     "name": "stdout",
     "output_type": "stream",
     "text": [
      "<class 'pandas.core.frame.DataFrame'>\n",
      "RangeIndex: 1001 entries, 0 to 1000\n",
      "Data columns (total 8 columns):\n",
      " #   Column           Non-Null Count  Dtype \n",
      "---  ------           --------------  ----- \n",
      " 0   company_name     964 non-null    object\n",
      " 1   industry         965 non-null    object\n",
      " 2   website          570 non-null    object\n",
      " 3   telephone        865 non-null    object\n",
      " 4   fax              549 non-null    object\n",
      " 5   address          964 non-null    object\n",
      " 6   address_maplink  964 non-null    object\n",
      " 7   email            854 non-null    object\n",
      "dtypes: object(8)\n",
      "memory usage: 62.7+ KB\n"
     ]
    }
   ],
   "source": [
    "df9.info()"
   ]
  },
  {
   "cell_type": "code",
   "execution_count": 197,
   "id": "286ac91d",
   "metadata": {},
   "outputs": [],
   "source": [
    "# save as csv\n",
    "df9.to_csv('batch9.csv', index = False)"
   ]
  },
  {
   "cell_type": "markdown",
   "id": "b219a4ae",
   "metadata": {},
   "source": [
    "### End of Checkpoint-3"
   ]
  },
  {
   "cell_type": "code",
   "execution_count": 198,
   "id": "41c6da3c",
   "metadata": {},
   "outputs": [],
   "source": [
    "#### Merge the two dataframes\n",
    "df = pd.concat([df, df9])"
   ]
  },
  {
   "cell_type": "markdown",
   "id": "d468f87b",
   "metadata": {},
   "source": [
    "### Checkpoint-4"
   ]
  },
  {
   "cell_type": "code",
   "execution_count": 199,
   "id": "4f305a2e",
   "metadata": {},
   "outputs": [
    {
     "name": "stdout",
     "output_type": "stream",
     "text": [
      "<class 'pandas.core.frame.DataFrame'>\n",
      "Int64Index: 9009 entries, 0 to 1000\n",
      "Data columns (total 8 columns):\n",
      " #   Column           Non-Null Count  Dtype \n",
      "---  ------           --------------  ----- \n",
      " 0   company_name     8903 non-null   object\n",
      " 1   industry         8907 non-null   object\n",
      " 2   website          5163 non-null   object\n",
      " 3   telephone        7886 non-null   object\n",
      " 4   fax              5009 non-null   object\n",
      " 5   address          8903 non-null   object\n",
      " 6   address_maplink  8935 non-null   object\n",
      " 7   email            7767 non-null   object\n",
      "dtypes: object(8)\n",
      "memory usage: 633.4+ KB\n"
     ]
    }
   ],
   "source": [
    "df.info()"
   ]
  },
  {
   "cell_type": "code",
   "execution_count": 200,
   "id": "76271d30",
   "metadata": {},
   "outputs": [
    {
     "data": {
      "text/html": [
       "<div>\n",
       "<style scoped>\n",
       "    .dataframe tbody tr th:only-of-type {\n",
       "        vertical-align: middle;\n",
       "    }\n",
       "\n",
       "    .dataframe tbody tr th {\n",
       "        vertical-align: top;\n",
       "    }\n",
       "\n",
       "    .dataframe thead th {\n",
       "        text-align: right;\n",
       "    }\n",
       "</style>\n",
       "<table border=\"1\" class=\"dataframe\">\n",
       "  <thead>\n",
       "    <tr style=\"text-align: right;\">\n",
       "      <th></th>\n",
       "      <th>company_name</th>\n",
       "      <th>industry</th>\n",
       "      <th>website</th>\n",
       "      <th>telephone</th>\n",
       "      <th>fax</th>\n",
       "      <th>address</th>\n",
       "      <th>address_maplink</th>\n",
       "      <th>email</th>\n",
       "    </tr>\n",
       "  </thead>\n",
       "  <tbody>\n",
       "    <tr>\n",
       "      <th>0</th>\n",
       "      <td>Ringler + Strahm Storenbau AG</td>\n",
       "      <td>Sonstige Bauinstallation</td>\n",
       "      <td>http://www.ringler-strahm.ch/</td>\n",
       "      <td>tel:033 345 22 55</td>\n",
       "      <td>fax:033 345 55 19</td>\n",
       "      <td>Uetendorfstrasse 20\\n3634 Thierachern</td>\n",
       "      <td>https://www.google.com/maps/place/Uetendorfstr...</td>\n",
       "      <td>info@ringler-strahm.ch</td>\n",
       "    </tr>\n",
       "    <tr>\n",
       "      <th>1</th>\n",
       "      <td>Grob &amp; Partner Architektur AG</td>\n",
       "      <td>Architekturbüros</td>\n",
       "      <td>http://www.grobarchitektur.ch/</td>\n",
       "      <td>tel:081 720 02 00</td>\n",
       "      <td>fax:081 720 02 05</td>\n",
       "      <td>Bahnhofstrasse 3\\n7320 Sargans</td>\n",
       "      <td>https://www.google.com/maps/place/Bahnhofstras...</td>\n",
       "      <td>8c4075d5481d476e945486754f783364@sentry.io</td>\n",
       "    </tr>\n",
       "    <tr>\n",
       "      <th>2</th>\n",
       "      <td>Lauclair AG</td>\n",
       "      <td>Schreinerarbeiten im Innenausbau</td>\n",
       "      <td>http://www.lauclair.ch/</td>\n",
       "      <td>tel:031 879 01 69</td>\n",
       "      <td>fax:031 879 20 69</td>\n",
       "      <td>Lyssstrasse 27\\n3054 Schüpfen</td>\n",
       "      <td>https://www.google.com/maps/place/Lyssstrasse%...</td>\n",
       "      <td>98181273782d9a9g3251e7d066b95071@2x.jpg</td>\n",
       "    </tr>\n",
       "    <tr>\n",
       "      <th>3</th>\n",
       "      <td>Club Goldwand</td>\n",
       "      <td>Kauf und Verkauf von eigenen Grundstücken, Geb...</td>\n",
       "      <td>http://www.clubgoldwand.ch/</td>\n",
       "      <td>tel:056 282 30 50</td>\n",
       "      <td>NaN</td>\n",
       "      <td>Landstrasse 6\\n5415 Nussbaumen AG</td>\n",
       "      <td>https://www.google.com/maps/place/Landstrasse%...</td>\n",
       "      <td>info@clubgoldwand.ch</td>\n",
       "    </tr>\n",
       "    <tr>\n",
       "      <th>4</th>\n",
       "      <td>NICOLE DIEM Horgen</td>\n",
       "      <td>Detailhandel mit Brillen und anderen Sehhilfen</td>\n",
       "      <td>http://www.nicolediem.ch/</td>\n",
       "      <td>tel:044 770 10 40</td>\n",
       "      <td>NaN</td>\n",
       "      <td>Dorfplatz 3\\n8810 Horgen</td>\n",
       "      <td>https://www.google.com/maps/place/Dorfplatz%20...</td>\n",
       "      <td>johndoe@domain.com</td>\n",
       "    </tr>\n",
       "  </tbody>\n",
       "</table>\n",
       "</div>"
      ],
      "text/plain": [
       "                    company_name  \\\n",
       "0  Ringler + Strahm Storenbau AG   \n",
       "1  Grob & Partner Architektur AG   \n",
       "2                    Lauclair AG   \n",
       "3                  Club Goldwand   \n",
       "4             NICOLE DIEM Horgen   \n",
       "\n",
       "                                            industry  \\\n",
       "0                           Sonstige Bauinstallation   \n",
       "1                                   Architekturbüros   \n",
       "2                   Schreinerarbeiten im Innenausbau   \n",
       "3  Kauf und Verkauf von eigenen Grundstücken, Geb...   \n",
       "4     Detailhandel mit Brillen und anderen Sehhilfen   \n",
       "\n",
       "                          website          telephone                fax  \\\n",
       "0   http://www.ringler-strahm.ch/  tel:033 345 22 55  fax:033 345 55 19   \n",
       "1  http://www.grobarchitektur.ch/  tel:081 720 02 00  fax:081 720 02 05   \n",
       "2         http://www.lauclair.ch/  tel:031 879 01 69  fax:031 879 20 69   \n",
       "3     http://www.clubgoldwand.ch/  tel:056 282 30 50                NaN   \n",
       "4       http://www.nicolediem.ch/  tel:044 770 10 40                NaN   \n",
       "\n",
       "                                 address  \\\n",
       "0  Uetendorfstrasse 20\\n3634 Thierachern   \n",
       "1         Bahnhofstrasse 3\\n7320 Sargans   \n",
       "2          Lyssstrasse 27\\n3054 Schüpfen   \n",
       "3      Landstrasse 6\\n5415 Nussbaumen AG   \n",
       "4               Dorfplatz 3\\n8810 Horgen   \n",
       "\n",
       "                                     address_maplink  \\\n",
       "0  https://www.google.com/maps/place/Uetendorfstr...   \n",
       "1  https://www.google.com/maps/place/Bahnhofstras...   \n",
       "2  https://www.google.com/maps/place/Lyssstrasse%...   \n",
       "3  https://www.google.com/maps/place/Landstrasse%...   \n",
       "4  https://www.google.com/maps/place/Dorfplatz%20...   \n",
       "\n",
       "                                        email  \n",
       "0                      info@ringler-strahm.ch  \n",
       "1  8c4075d5481d476e945486754f783364@sentry.io  \n",
       "2     98181273782d9a9g3251e7d066b95071@2x.jpg  \n",
       "3                        info@clubgoldwand.ch  \n",
       "4                          johndoe@domain.com  "
      ]
     },
     "execution_count": 200,
     "metadata": {},
     "output_type": "execute_result"
    }
   ],
   "source": [
    "df.head()"
   ]
  },
  {
   "cell_type": "code",
   "execution_count": 201,
   "id": "d17bb3db",
   "metadata": {},
   "outputs": [
    {
     "data": {
      "text/html": [
       "<div>\n",
       "<style scoped>\n",
       "    .dataframe tbody tr th:only-of-type {\n",
       "        vertical-align: middle;\n",
       "    }\n",
       "\n",
       "    .dataframe tbody tr th {\n",
       "        vertical-align: top;\n",
       "    }\n",
       "\n",
       "    .dataframe thead th {\n",
       "        text-align: right;\n",
       "    }\n",
       "</style>\n",
       "<table border=\"1\" class=\"dataframe\">\n",
       "  <thead>\n",
       "    <tr style=\"text-align: right;\">\n",
       "      <th></th>\n",
       "      <th>company_name</th>\n",
       "      <th>industry</th>\n",
       "      <th>website</th>\n",
       "      <th>telephone</th>\n",
       "      <th>fax</th>\n",
       "      <th>address</th>\n",
       "      <th>address_maplink</th>\n",
       "      <th>email</th>\n",
       "    </tr>\n",
       "  </thead>\n",
       "  <tbody>\n",
       "    <tr>\n",
       "      <th>0</th>\n",
       "      <td>True</td>\n",
       "      <td>True</td>\n",
       "      <td>True</td>\n",
       "      <td>True</td>\n",
       "      <td>True</td>\n",
       "      <td>True</td>\n",
       "      <td>True</td>\n",
       "      <td>True</td>\n",
       "    </tr>\n",
       "    <tr>\n",
       "      <th>1</th>\n",
       "      <td>True</td>\n",
       "      <td>True</td>\n",
       "      <td>True</td>\n",
       "      <td>True</td>\n",
       "      <td>True</td>\n",
       "      <td>True</td>\n",
       "      <td>True</td>\n",
       "      <td>True</td>\n",
       "    </tr>\n",
       "    <tr>\n",
       "      <th>2</th>\n",
       "      <td>True</td>\n",
       "      <td>True</td>\n",
       "      <td>True</td>\n",
       "      <td>True</td>\n",
       "      <td>True</td>\n",
       "      <td>True</td>\n",
       "      <td>True</td>\n",
       "      <td>True</td>\n",
       "    </tr>\n",
       "    <tr>\n",
       "      <th>3</th>\n",
       "      <td>True</td>\n",
       "      <td>True</td>\n",
       "      <td>True</td>\n",
       "      <td>True</td>\n",
       "      <td>False</td>\n",
       "      <td>True</td>\n",
       "      <td>True</td>\n",
       "      <td>True</td>\n",
       "    </tr>\n",
       "    <tr>\n",
       "      <th>4</th>\n",
       "      <td>True</td>\n",
       "      <td>True</td>\n",
       "      <td>True</td>\n",
       "      <td>True</td>\n",
       "      <td>False</td>\n",
       "      <td>True</td>\n",
       "      <td>True</td>\n",
       "      <td>True</td>\n",
       "    </tr>\n",
       "  </tbody>\n",
       "</table>\n",
       "</div>"
      ],
      "text/plain": [
       "   company_name  industry  website  telephone    fax  address  \\\n",
       "0          True      True     True       True   True     True   \n",
       "1          True      True     True       True   True     True   \n",
       "2          True      True     True       True   True     True   \n",
       "3          True      True     True       True  False     True   \n",
       "4          True      True     True       True  False     True   \n",
       "\n",
       "   address_maplink  email  \n",
       "0             True   True  \n",
       "1             True   True  \n",
       "2             True   True  \n",
       "3             True   True  \n",
       "4             True   True  "
      ]
     },
     "execution_count": 201,
     "metadata": {},
     "output_type": "execute_result"
    }
   ],
   "source": [
    "df.head() == df1.head()"
   ]
  },
  {
   "cell_type": "code",
   "execution_count": 202,
   "id": "7d0df691",
   "metadata": {},
   "outputs": [
    {
     "data": {
      "text/html": [
       "<div>\n",
       "<style scoped>\n",
       "    .dataframe tbody tr th:only-of-type {\n",
       "        vertical-align: middle;\n",
       "    }\n",
       "\n",
       "    .dataframe tbody tr th {\n",
       "        vertical-align: top;\n",
       "    }\n",
       "\n",
       "    .dataframe thead th {\n",
       "        text-align: right;\n",
       "    }\n",
       "</style>\n",
       "<table border=\"1\" class=\"dataframe\">\n",
       "  <thead>\n",
       "    <tr style=\"text-align: right;\">\n",
       "      <th></th>\n",
       "      <th>company_name</th>\n",
       "      <th>industry</th>\n",
       "      <th>website</th>\n",
       "      <th>telephone</th>\n",
       "      <th>fax</th>\n",
       "      <th>address</th>\n",
       "      <th>address_maplink</th>\n",
       "      <th>email</th>\n",
       "    </tr>\n",
       "  </thead>\n",
       "  <tbody>\n",
       "    <tr>\n",
       "      <th>996</th>\n",
       "      <td>True</td>\n",
       "      <td>True</td>\n",
       "      <td>False</td>\n",
       "      <td>True</td>\n",
       "      <td>True</td>\n",
       "      <td>True</td>\n",
       "      <td>True</td>\n",
       "      <td>True</td>\n",
       "    </tr>\n",
       "    <tr>\n",
       "      <th>997</th>\n",
       "      <td>True</td>\n",
       "      <td>True</td>\n",
       "      <td>True</td>\n",
       "      <td>True</td>\n",
       "      <td>True</td>\n",
       "      <td>True</td>\n",
       "      <td>True</td>\n",
       "      <td>True</td>\n",
       "    </tr>\n",
       "    <tr>\n",
       "      <th>998</th>\n",
       "      <td>True</td>\n",
       "      <td>True</td>\n",
       "      <td>True</td>\n",
       "      <td>True</td>\n",
       "      <td>True</td>\n",
       "      <td>True</td>\n",
       "      <td>True</td>\n",
       "      <td>True</td>\n",
       "    </tr>\n",
       "    <tr>\n",
       "      <th>999</th>\n",
       "      <td>True</td>\n",
       "      <td>True</td>\n",
       "      <td>True</td>\n",
       "      <td>True</td>\n",
       "      <td>True</td>\n",
       "      <td>True</td>\n",
       "      <td>True</td>\n",
       "      <td>True</td>\n",
       "    </tr>\n",
       "    <tr>\n",
       "      <th>1000</th>\n",
       "      <td>True</td>\n",
       "      <td>True</td>\n",
       "      <td>False</td>\n",
       "      <td>False</td>\n",
       "      <td>False</td>\n",
       "      <td>True</td>\n",
       "      <td>True</td>\n",
       "      <td>True</td>\n",
       "    </tr>\n",
       "  </tbody>\n",
       "</table>\n",
       "</div>"
      ],
      "text/plain": [
       "      company_name  industry  website  telephone    fax  address  \\\n",
       "996           True      True    False       True   True     True   \n",
       "997           True      True     True       True   True     True   \n",
       "998           True      True     True       True   True     True   \n",
       "999           True      True     True       True   True     True   \n",
       "1000          True      True    False      False  False     True   \n",
       "\n",
       "      address_maplink  email  \n",
       "996              True   True  \n",
       "997              True   True  \n",
       "998              True   True  \n",
       "999              True   True  \n",
       "1000             True   True  "
      ]
     },
     "execution_count": 202,
     "metadata": {},
     "output_type": "execute_result"
    }
   ],
   "source": [
    "df.tail() == df9.tail()"
   ]
  },
  {
   "cell_type": "markdown",
   "id": "248e4c11",
   "metadata": {},
   "source": [
    "### End of Checkpoint-4"
   ]
  },
  {
   "cell_type": "markdown",
   "id": "5514656a",
   "metadata": {},
   "source": [
    "### xxxxxxxxxxxxxxxxxxxxxxxx Push to Github xxxxxxxxxxxxxxxxxxxxxxxxxxxxxxx"
   ]
  },
  {
   "cell_type": "markdown",
   "id": "ca8d0dac",
   "metadata": {},
   "source": [
    "### Batch-10, batch_size = 1000, batch_start_index = 9001\n"
   ]
  },
  {
   "cell_type": "markdown",
   "id": "c272b8d9",
   "metadata": {},
   "source": [
    "#### !Cell is executed. Uncomment (Ctrl + A followed by Ctrl + /) and execute (Shift + Enter) again only if you want to run the batch again."
   ]
  },
  {
   "cell_type": "code",
   "execution_count": 203,
   "id": "b028a873",
   "metadata": {},
   "outputs": [],
   "source": [
    "# # Extract info of interst\n",
    "# start_time = time.time()\n",
    "# batch10_initial = extract_info_of_interest(unique_company_profile_urls, batch_size = 1000, batch_start_index = 9001, sleep=5)\n",
    "# end_time = time.time()\n",
    "# execution_time = end_time - start_time\n",
    "# print('execution time: ', execution_time)"
   ]
  },
  {
   "cell_type": "markdown",
   "id": "ea560d61",
   "metadata": {},
   "source": [
    "### Checkpoint-1"
   ]
  },
  {
   "cell_type": "code",
   "execution_count": 204,
   "id": "6199eea8",
   "metadata": {},
   "outputs": [],
   "source": [
    "# # Test-Block !Uncomment and execute only if running the batch again\n",
    "# print(len(batch10_initial))\n",
    "# print(len(batch10_initial[-1]))"
   ]
  },
  {
   "cell_type": "code",
   "execution_count": 205,
   "id": "8947e692",
   "metadata": {},
   "outputs": [],
   "source": [
    "# # Test-Block !Uncomment and execute only if running the batch again\n",
    "# print(batch10_initial[:3])"
   ]
  },
  {
   "cell_type": "markdown",
   "id": "3c6e8850",
   "metadata": {},
   "source": [
    "### End of Checkpoint-1"
   ]
  },
  {
   "cell_type": "code",
   "execution_count": 206,
   "id": "59e8ba88",
   "metadata": {},
   "outputs": [],
   "source": [
    "batch10df = pd.read_csv('batch10.csv')"
   ]
  },
  {
   "cell_type": "code",
   "execution_count": 207,
   "id": "c6528418",
   "metadata": {},
   "outputs": [],
   "source": [
    "batch10df_initial = batch10df.drop(['email'], axis = 1)"
   ]
  },
  {
   "cell_type": "code",
   "execution_count": 208,
   "id": "efe3874f",
   "metadata": {
    "scrolled": true
   },
   "outputs": [
    {
     "name": "stdout",
     "output_type": "stream",
     "text": [
      "<class 'pandas.core.frame.DataFrame'>\n",
      "RangeIndex: 1001 entries, 0 to 1000\n",
      "Data columns (total 7 columns):\n",
      " #   Column           Non-Null Count  Dtype \n",
      "---  ------           --------------  ----- \n",
      " 0   company_name     964 non-null    object\n",
      " 1   industry         965 non-null    object\n",
      " 2   website          570 non-null    object\n",
      " 3   telephone        865 non-null    object\n",
      " 4   fax              549 non-null    object\n",
      " 5   address          964 non-null    object\n",
      " 6   address_maplink  964 non-null    object\n",
      "dtypes: object(7)\n",
      "memory usage: 54.9+ KB\n"
     ]
    }
   ],
   "source": [
    "batch10df_initial.info()"
   ]
  },
  {
   "cell_type": "code",
   "execution_count": 209,
   "id": "08b045e3",
   "metadata": {},
   "outputs": [
    {
     "name": "stdout",
     "output_type": "stream",
     "text": [
      "[['Feger Wohnen AG', 'Bewertungen', 'http://www.moebelfeger.ch/', 'tel:071 446 25 46', 'fax:071 446 25 60', 'Rebhaldenstrasse 9\\n9320 Arbon', 'https://www.google.com/maps/place/Rebhaldenstrasse%209+9320+Arbon'], ['Restaurant Höfli', 'Restaurants, Imbissstuben, Tea-Rooms und Gelaterias', 'http://www.dorfplatz-zentrum-mm.ch/', 'tel:033 346 00 70', nan, 'Dorfstrasse 12\\n3662 Seftigen', 'https://www.google.com/maps/place/Dorfstrasse%2012+3662+Seftigen'], ['Werner Rieder', 'Sonstiges Körperpflegegewerbe', nan, 'tel:061 971 57 57', nan, 'Stücklerweg 1b\\n4441 Thürnen', 'https://www.google.com/maps/place/St%C3%BCcklerweg%201b+4441+Th%C3%BCrnen']]\n"
     ]
    }
   ],
   "source": [
    "batch10_initial = batch10df_initial.values.tolist()\n",
    "print(batch10_initial[:3])"
   ]
  },
  {
   "cell_type": "markdown",
   "id": "38b5d30b",
   "metadata": {},
   "source": [
    "#### Following Function Extracts emails from Home Page Only (Takes Less Time: 1 sec per page)"
   ]
  },
  {
   "cell_type": "code",
   "execution_count": 210,
   "id": "57e862a2",
   "metadata": {},
   "outputs": [
    {
     "name": "stderr",
     "output_type": "stream",
     "text": [
      "C:\\Users\\Admin\\miniconda3\\lib\\site-packages\\bs4\\builder\\__init__.py:545: XMLParsedAsHTMLWarning: It looks like you're parsing an XML document using an HTML parser. If this really is an HTML document (maybe it's XHTML?), you can ignore or filter this warning. If it's XML, you should know that using an XML parser will be more reliable. To parse this document as XML, make sure you have the lxml package installed, and pass the keyword argument `features=\"xml\"` into the BeautifulSoup constructor.\n",
      "  warnings.warn(\n"
     ]
    },
    {
     "name": "stdout",
     "output_type": "stream",
     "text": [
      "No of emails found:  331\n",
      "execution time:  1104.5043427944183\n"
     ]
    }
   ],
   "source": [
    "# Extract emails\n",
    "start_time = time.time()\n",
    "pattern = r'\\b[A-Za-z0-9._%+-]+@[A-Za-z0-9.-]+\\.[A-Z|a-z]{2,}\\b'\n",
    "batch10 = extract_emails_from_homepage(batch10_initial, pattern = pattern , index=2)\n",
    "end_time = time.time()\n",
    "execution_time = end_time - start_time\n",
    "print('execution time: ', execution_time)"
   ]
  },
  {
   "cell_type": "markdown",
   "id": "cf43a677",
   "metadata": {},
   "source": [
    "### Checkpoint-2"
   ]
  },
  {
   "cell_type": "code",
   "execution_count": 211,
   "id": "b37006c4",
   "metadata": {},
   "outputs": [
    {
     "name": "stdout",
     "output_type": "stream",
     "text": [
      "1001\n",
      "8\n",
      "[['Baumann Immobilien-+ Bau AG', 'Vermittlung von Grundstücken, Gebäuden und Wohnungen für Dritte', nan, 'tel:031 307 70 75', 'fax:031 307 70 73', 'Untere Zollgasse 28\\n3072 Ostermundigen', 'https://www.google.com/maps/place/Untere%20Zollgasse%2028+3072+Ostermundigen', 'website not accessible'], ['Auto Baier AG', 'lnstandhaltung und Reparatur von Automobilen', 'http://www.auto-baier.ch/', 'tel:071 351 44 92', 'fax:071 351 44 82', 'Degersheimerstrasse 78\\n9100 Herisau', 'https://www.google.com/maps/place/Degersheimerstrasse%2078+9100+Herisau', 'lager@auto-baier.ch'], ['Ako-Clean AG', 'Allgemeine Gebäudereinigung', 'http://www.akogroup.ch/', 'tel:044 774 17 17', 'fax:044 774 17 16', 'Lenggenbachstrasse 3\\n8951 Fahrweid', 'https://www.google.com/maps/place/Lenggenbachstrasse%203+8951+Fahrweid', 'info@akogroup.ch'], ['Daniel Kamber', 'Architekturbüros', 'http://www.kagi-architektur.ch/', 'tel:062 298 22 88', 'fax:062 298 34 83', 'Trottenackerstrasse 14\\n4654 Lostorf', 'https://www.google.com/maps/place/Trottenackerstrasse%2014+4654+Lostorf', 'kagi54@bluewin.ch'], ['c+j immo AG', 'Kauf und Verkauf von eigenen Grundstücken, Gebäuden und Wohnungen', nan, nan, nan, 'Industriestrasse 21\\n6055 Alpnach Dorf', 'https://www.google.com/maps/place/Industriestrasse%2021+6055+Alpnach%20Dorf', 'website not accessible']]\n"
     ]
    }
   ],
   "source": [
    "print(len(batch10)) # should be same as batch_size i.e. 1000\n",
    "print(len(batch10[-1])) # should be 8\n",
    "print(batch10[-5:]) #should have 8 items in each list with emails or remarks added"
   ]
  },
  {
   "cell_type": "markdown",
   "id": "ee6dac80",
   "metadata": {},
   "source": [
    "### End of Checkpoint-2"
   ]
  },
  {
   "cell_type": "code",
   "execution_count": 212,
   "id": "d28a31b5",
   "metadata": {},
   "outputs": [],
   "source": [
    "# # Convert to Dataframe batch10\n",
    "df10 = pd.DataFrame(batch10, columns=columns)\n"
   ]
  },
  {
   "cell_type": "markdown",
   "id": "aac388b0",
   "metadata": {},
   "source": [
    "### Checkpoint-3"
   ]
  },
  {
   "cell_type": "code",
   "execution_count": 213,
   "id": "e6b603f1",
   "metadata": {},
   "outputs": [
    {
     "name": "stdout",
     "output_type": "stream",
     "text": [
      "<class 'pandas.core.frame.DataFrame'>\n",
      "RangeIndex: 1001 entries, 0 to 1000\n",
      "Data columns (total 8 columns):\n",
      " #   Column           Non-Null Count  Dtype \n",
      "---  ------           --------------  ----- \n",
      " 0   company_name     964 non-null    object\n",
      " 1   industry         965 non-null    object\n",
      " 2   website          570 non-null    object\n",
      " 3   telephone        865 non-null    object\n",
      " 4   fax              549 non-null    object\n",
      " 5   address          964 non-null    object\n",
      " 6   address_maplink  964 non-null    object\n",
      " 7   email            856 non-null    object\n",
      "dtypes: object(8)\n",
      "memory usage: 62.7+ KB\n"
     ]
    }
   ],
   "source": [
    "df10.info()"
   ]
  },
  {
   "cell_type": "code",
   "execution_count": 214,
   "id": "857bc7fb",
   "metadata": {},
   "outputs": [],
   "source": [
    "# save as csv\n",
    "df10.to_csv('batch10.csv', index = False)"
   ]
  },
  {
   "cell_type": "markdown",
   "id": "13122bfc",
   "metadata": {},
   "source": [
    "### End of Checkpoint-3"
   ]
  },
  {
   "cell_type": "code",
   "execution_count": 215,
   "id": "9bb935a3",
   "metadata": {},
   "outputs": [],
   "source": [
    "#### Merge the two dataframes\n",
    "df = pd.concat([df, df10])"
   ]
  },
  {
   "cell_type": "markdown",
   "id": "3a232954",
   "metadata": {},
   "source": [
    "### Checkpoint-4"
   ]
  },
  {
   "cell_type": "code",
   "execution_count": 216,
   "id": "9f886b38",
   "metadata": {},
   "outputs": [
    {
     "name": "stdout",
     "output_type": "stream",
     "text": [
      "<class 'pandas.core.frame.DataFrame'>\n",
      "Int64Index: 10010 entries, 0 to 1000\n",
      "Data columns (total 8 columns):\n",
      " #   Column           Non-Null Count  Dtype \n",
      "---  ------           --------------  ----- \n",
      " 0   company_name     9867 non-null   object\n",
      " 1   industry         9872 non-null   object\n",
      " 2   website          5733 non-null   object\n",
      " 3   telephone        8751 non-null   object\n",
      " 4   fax              5558 non-null   object\n",
      " 5   address          9867 non-null   object\n",
      " 6   address_maplink  9899 non-null   object\n",
      " 7   email            8623 non-null   object\n",
      "dtypes: object(8)\n",
      "memory usage: 703.8+ KB\n"
     ]
    }
   ],
   "source": [
    "df.info()"
   ]
  },
  {
   "cell_type": "code",
   "execution_count": 217,
   "id": "c9686ea4",
   "metadata": {},
   "outputs": [
    {
     "data": {
      "text/html": [
       "<div>\n",
       "<style scoped>\n",
       "    .dataframe tbody tr th:only-of-type {\n",
       "        vertical-align: middle;\n",
       "    }\n",
       "\n",
       "    .dataframe tbody tr th {\n",
       "        vertical-align: top;\n",
       "    }\n",
       "\n",
       "    .dataframe thead th {\n",
       "        text-align: right;\n",
       "    }\n",
       "</style>\n",
       "<table border=\"1\" class=\"dataframe\">\n",
       "  <thead>\n",
       "    <tr style=\"text-align: right;\">\n",
       "      <th></th>\n",
       "      <th>company_name</th>\n",
       "      <th>industry</th>\n",
       "      <th>website</th>\n",
       "      <th>telephone</th>\n",
       "      <th>fax</th>\n",
       "      <th>address</th>\n",
       "      <th>address_maplink</th>\n",
       "      <th>email</th>\n",
       "    </tr>\n",
       "  </thead>\n",
       "  <tbody>\n",
       "    <tr>\n",
       "      <th>0</th>\n",
       "      <td>Ringler + Strahm Storenbau AG</td>\n",
       "      <td>Sonstige Bauinstallation</td>\n",
       "      <td>http://www.ringler-strahm.ch/</td>\n",
       "      <td>tel:033 345 22 55</td>\n",
       "      <td>fax:033 345 55 19</td>\n",
       "      <td>Uetendorfstrasse 20\\n3634 Thierachern</td>\n",
       "      <td>https://www.google.com/maps/place/Uetendorfstr...</td>\n",
       "      <td>info@ringler-strahm.ch</td>\n",
       "    </tr>\n",
       "    <tr>\n",
       "      <th>1</th>\n",
       "      <td>Grob &amp; Partner Architektur AG</td>\n",
       "      <td>Architekturbüros</td>\n",
       "      <td>http://www.grobarchitektur.ch/</td>\n",
       "      <td>tel:081 720 02 00</td>\n",
       "      <td>fax:081 720 02 05</td>\n",
       "      <td>Bahnhofstrasse 3\\n7320 Sargans</td>\n",
       "      <td>https://www.google.com/maps/place/Bahnhofstras...</td>\n",
       "      <td>8c4075d5481d476e945486754f783364@sentry.io</td>\n",
       "    </tr>\n",
       "    <tr>\n",
       "      <th>2</th>\n",
       "      <td>Lauclair AG</td>\n",
       "      <td>Schreinerarbeiten im Innenausbau</td>\n",
       "      <td>http://www.lauclair.ch/</td>\n",
       "      <td>tel:031 879 01 69</td>\n",
       "      <td>fax:031 879 20 69</td>\n",
       "      <td>Lyssstrasse 27\\n3054 Schüpfen</td>\n",
       "      <td>https://www.google.com/maps/place/Lyssstrasse%...</td>\n",
       "      <td>98181273782d9a9g3251e7d066b95071@2x.jpg</td>\n",
       "    </tr>\n",
       "    <tr>\n",
       "      <th>3</th>\n",
       "      <td>Club Goldwand</td>\n",
       "      <td>Kauf und Verkauf von eigenen Grundstücken, Geb...</td>\n",
       "      <td>http://www.clubgoldwand.ch/</td>\n",
       "      <td>tel:056 282 30 50</td>\n",
       "      <td>NaN</td>\n",
       "      <td>Landstrasse 6\\n5415 Nussbaumen AG</td>\n",
       "      <td>https://www.google.com/maps/place/Landstrasse%...</td>\n",
       "      <td>info@clubgoldwand.ch</td>\n",
       "    </tr>\n",
       "    <tr>\n",
       "      <th>4</th>\n",
       "      <td>NICOLE DIEM Horgen</td>\n",
       "      <td>Detailhandel mit Brillen und anderen Sehhilfen</td>\n",
       "      <td>http://www.nicolediem.ch/</td>\n",
       "      <td>tel:044 770 10 40</td>\n",
       "      <td>NaN</td>\n",
       "      <td>Dorfplatz 3\\n8810 Horgen</td>\n",
       "      <td>https://www.google.com/maps/place/Dorfplatz%20...</td>\n",
       "      <td>johndoe@domain.com</td>\n",
       "    </tr>\n",
       "  </tbody>\n",
       "</table>\n",
       "</div>"
      ],
      "text/plain": [
       "                    company_name  \\\n",
       "0  Ringler + Strahm Storenbau AG   \n",
       "1  Grob & Partner Architektur AG   \n",
       "2                    Lauclair AG   \n",
       "3                  Club Goldwand   \n",
       "4             NICOLE DIEM Horgen   \n",
       "\n",
       "                                            industry  \\\n",
       "0                           Sonstige Bauinstallation   \n",
       "1                                   Architekturbüros   \n",
       "2                   Schreinerarbeiten im Innenausbau   \n",
       "3  Kauf und Verkauf von eigenen Grundstücken, Geb...   \n",
       "4     Detailhandel mit Brillen und anderen Sehhilfen   \n",
       "\n",
       "                          website          telephone                fax  \\\n",
       "0   http://www.ringler-strahm.ch/  tel:033 345 22 55  fax:033 345 55 19   \n",
       "1  http://www.grobarchitektur.ch/  tel:081 720 02 00  fax:081 720 02 05   \n",
       "2         http://www.lauclair.ch/  tel:031 879 01 69  fax:031 879 20 69   \n",
       "3     http://www.clubgoldwand.ch/  tel:056 282 30 50                NaN   \n",
       "4       http://www.nicolediem.ch/  tel:044 770 10 40                NaN   \n",
       "\n",
       "                                 address  \\\n",
       "0  Uetendorfstrasse 20\\n3634 Thierachern   \n",
       "1         Bahnhofstrasse 3\\n7320 Sargans   \n",
       "2          Lyssstrasse 27\\n3054 Schüpfen   \n",
       "3      Landstrasse 6\\n5415 Nussbaumen AG   \n",
       "4               Dorfplatz 3\\n8810 Horgen   \n",
       "\n",
       "                                     address_maplink  \\\n",
       "0  https://www.google.com/maps/place/Uetendorfstr...   \n",
       "1  https://www.google.com/maps/place/Bahnhofstras...   \n",
       "2  https://www.google.com/maps/place/Lyssstrasse%...   \n",
       "3  https://www.google.com/maps/place/Landstrasse%...   \n",
       "4  https://www.google.com/maps/place/Dorfplatz%20...   \n",
       "\n",
       "                                        email  \n",
       "0                      info@ringler-strahm.ch  \n",
       "1  8c4075d5481d476e945486754f783364@sentry.io  \n",
       "2     98181273782d9a9g3251e7d066b95071@2x.jpg  \n",
       "3                        info@clubgoldwand.ch  \n",
       "4                          johndoe@domain.com  "
      ]
     },
     "execution_count": 217,
     "metadata": {},
     "output_type": "execute_result"
    }
   ],
   "source": [
    "df.head()"
   ]
  },
  {
   "cell_type": "code",
   "execution_count": 218,
   "id": "bf0dcdca",
   "metadata": {},
   "outputs": [
    {
     "data": {
      "text/html": [
       "<div>\n",
       "<style scoped>\n",
       "    .dataframe tbody tr th:only-of-type {\n",
       "        vertical-align: middle;\n",
       "    }\n",
       "\n",
       "    .dataframe tbody tr th {\n",
       "        vertical-align: top;\n",
       "    }\n",
       "\n",
       "    .dataframe thead th {\n",
       "        text-align: right;\n",
       "    }\n",
       "</style>\n",
       "<table border=\"1\" class=\"dataframe\">\n",
       "  <thead>\n",
       "    <tr style=\"text-align: right;\">\n",
       "      <th></th>\n",
       "      <th>company_name</th>\n",
       "      <th>industry</th>\n",
       "      <th>website</th>\n",
       "      <th>telephone</th>\n",
       "      <th>fax</th>\n",
       "      <th>address</th>\n",
       "      <th>address_maplink</th>\n",
       "      <th>email</th>\n",
       "    </tr>\n",
       "  </thead>\n",
       "  <tbody>\n",
       "    <tr>\n",
       "      <th>996</th>\n",
       "      <td>Baumann Immobilien-+ Bau AG</td>\n",
       "      <td>Vermittlung von Grundstücken, Gebäuden und Woh...</td>\n",
       "      <td>NaN</td>\n",
       "      <td>tel:031 307 70 75</td>\n",
       "      <td>fax:031 307 70 73</td>\n",
       "      <td>Untere Zollgasse 28\\n3072 Ostermundigen</td>\n",
       "      <td>https://www.google.com/maps/place/Untere%20Zol...</td>\n",
       "      <td>website not accessible</td>\n",
       "    </tr>\n",
       "    <tr>\n",
       "      <th>997</th>\n",
       "      <td>Auto Baier AG</td>\n",
       "      <td>lnstandhaltung und Reparatur von Automobilen</td>\n",
       "      <td>http://www.auto-baier.ch/</td>\n",
       "      <td>tel:071 351 44 92</td>\n",
       "      <td>fax:071 351 44 82</td>\n",
       "      <td>Degersheimerstrasse 78\\n9100 Herisau</td>\n",
       "      <td>https://www.google.com/maps/place/Degersheimer...</td>\n",
       "      <td>lager@auto-baier.ch</td>\n",
       "    </tr>\n",
       "    <tr>\n",
       "      <th>998</th>\n",
       "      <td>Ako-Clean AG</td>\n",
       "      <td>Allgemeine Gebäudereinigung</td>\n",
       "      <td>http://www.akogroup.ch/</td>\n",
       "      <td>tel:044 774 17 17</td>\n",
       "      <td>fax:044 774 17 16</td>\n",
       "      <td>Lenggenbachstrasse 3\\n8951 Fahrweid</td>\n",
       "      <td>https://www.google.com/maps/place/Lenggenbachs...</td>\n",
       "      <td>info@akogroup.ch</td>\n",
       "    </tr>\n",
       "    <tr>\n",
       "      <th>999</th>\n",
       "      <td>Daniel Kamber</td>\n",
       "      <td>Architekturbüros</td>\n",
       "      <td>http://www.kagi-architektur.ch/</td>\n",
       "      <td>tel:062 298 22 88</td>\n",
       "      <td>fax:062 298 34 83</td>\n",
       "      <td>Trottenackerstrasse 14\\n4654 Lostorf</td>\n",
       "      <td>https://www.google.com/maps/place/Trottenacker...</td>\n",
       "      <td>kagi54@bluewin.ch</td>\n",
       "    </tr>\n",
       "    <tr>\n",
       "      <th>1000</th>\n",
       "      <td>c+j immo AG</td>\n",
       "      <td>Kauf und Verkauf von eigenen Grundstücken, Geb...</td>\n",
       "      <td>NaN</td>\n",
       "      <td>NaN</td>\n",
       "      <td>NaN</td>\n",
       "      <td>Industriestrasse 21\\n6055 Alpnach Dorf</td>\n",
       "      <td>https://www.google.com/maps/place/Industriestr...</td>\n",
       "      <td>website not accessible</td>\n",
       "    </tr>\n",
       "  </tbody>\n",
       "</table>\n",
       "</div>"
      ],
      "text/plain": [
       "                     company_name  \\\n",
       "996   Baumann Immobilien-+ Bau AG   \n",
       "997                 Auto Baier AG   \n",
       "998                  Ako-Clean AG   \n",
       "999                 Daniel Kamber   \n",
       "1000                  c+j immo AG   \n",
       "\n",
       "                                               industry  \\\n",
       "996   Vermittlung von Grundstücken, Gebäuden und Woh...   \n",
       "997        lnstandhaltung und Reparatur von Automobilen   \n",
       "998                         Allgemeine Gebäudereinigung   \n",
       "999                                    Architekturbüros   \n",
       "1000  Kauf und Verkauf von eigenen Grundstücken, Geb...   \n",
       "\n",
       "                              website          telephone                fax  \\\n",
       "996                               NaN  tel:031 307 70 75  fax:031 307 70 73   \n",
       "997         http://www.auto-baier.ch/  tel:071 351 44 92  fax:071 351 44 82   \n",
       "998           http://www.akogroup.ch/  tel:044 774 17 17  fax:044 774 17 16   \n",
       "999   http://www.kagi-architektur.ch/  tel:062 298 22 88  fax:062 298 34 83   \n",
       "1000                              NaN                NaN                NaN   \n",
       "\n",
       "                                      address  \\\n",
       "996   Untere Zollgasse 28\\n3072 Ostermundigen   \n",
       "997      Degersheimerstrasse 78\\n9100 Herisau   \n",
       "998       Lenggenbachstrasse 3\\n8951 Fahrweid   \n",
       "999      Trottenackerstrasse 14\\n4654 Lostorf   \n",
       "1000   Industriestrasse 21\\n6055 Alpnach Dorf   \n",
       "\n",
       "                                        address_maplink  \\\n",
       "996   https://www.google.com/maps/place/Untere%20Zol...   \n",
       "997   https://www.google.com/maps/place/Degersheimer...   \n",
       "998   https://www.google.com/maps/place/Lenggenbachs...   \n",
       "999   https://www.google.com/maps/place/Trottenacker...   \n",
       "1000  https://www.google.com/maps/place/Industriestr...   \n",
       "\n",
       "                       email  \n",
       "996   website not accessible  \n",
       "997      lager@auto-baier.ch  \n",
       "998         info@akogroup.ch  \n",
       "999        kagi54@bluewin.ch  \n",
       "1000  website not accessible  "
      ]
     },
     "execution_count": 218,
     "metadata": {},
     "output_type": "execute_result"
    }
   ],
   "source": [
    "df.tail()"
   ]
  },
  {
   "cell_type": "code",
   "execution_count": 219,
   "id": "ba5bb26d",
   "metadata": {},
   "outputs": [
    {
     "data": {
      "text/html": [
       "<div>\n",
       "<style scoped>\n",
       "    .dataframe tbody tr th:only-of-type {\n",
       "        vertical-align: middle;\n",
       "    }\n",
       "\n",
       "    .dataframe tbody tr th {\n",
       "        vertical-align: top;\n",
       "    }\n",
       "\n",
       "    .dataframe thead th {\n",
       "        text-align: right;\n",
       "    }\n",
       "</style>\n",
       "<table border=\"1\" class=\"dataframe\">\n",
       "  <thead>\n",
       "    <tr style=\"text-align: right;\">\n",
       "      <th></th>\n",
       "      <th>company_name</th>\n",
       "      <th>industry</th>\n",
       "      <th>website</th>\n",
       "      <th>telephone</th>\n",
       "      <th>fax</th>\n",
       "      <th>address</th>\n",
       "      <th>address_maplink</th>\n",
       "      <th>email</th>\n",
       "    </tr>\n",
       "  </thead>\n",
       "  <tbody>\n",
       "    <tr>\n",
       "      <th>0</th>\n",
       "      <td>True</td>\n",
       "      <td>True</td>\n",
       "      <td>True</td>\n",
       "      <td>True</td>\n",
       "      <td>True</td>\n",
       "      <td>True</td>\n",
       "      <td>True</td>\n",
       "      <td>True</td>\n",
       "    </tr>\n",
       "    <tr>\n",
       "      <th>1</th>\n",
       "      <td>True</td>\n",
       "      <td>True</td>\n",
       "      <td>True</td>\n",
       "      <td>True</td>\n",
       "      <td>True</td>\n",
       "      <td>True</td>\n",
       "      <td>True</td>\n",
       "      <td>True</td>\n",
       "    </tr>\n",
       "    <tr>\n",
       "      <th>2</th>\n",
       "      <td>True</td>\n",
       "      <td>True</td>\n",
       "      <td>True</td>\n",
       "      <td>True</td>\n",
       "      <td>True</td>\n",
       "      <td>True</td>\n",
       "      <td>True</td>\n",
       "      <td>True</td>\n",
       "    </tr>\n",
       "    <tr>\n",
       "      <th>3</th>\n",
       "      <td>True</td>\n",
       "      <td>True</td>\n",
       "      <td>True</td>\n",
       "      <td>True</td>\n",
       "      <td>False</td>\n",
       "      <td>True</td>\n",
       "      <td>True</td>\n",
       "      <td>True</td>\n",
       "    </tr>\n",
       "    <tr>\n",
       "      <th>4</th>\n",
       "      <td>True</td>\n",
       "      <td>True</td>\n",
       "      <td>True</td>\n",
       "      <td>True</td>\n",
       "      <td>False</td>\n",
       "      <td>True</td>\n",
       "      <td>True</td>\n",
       "      <td>True</td>\n",
       "    </tr>\n",
       "  </tbody>\n",
       "</table>\n",
       "</div>"
      ],
      "text/plain": [
       "   company_name  industry  website  telephone    fax  address  \\\n",
       "0          True      True     True       True   True     True   \n",
       "1          True      True     True       True   True     True   \n",
       "2          True      True     True       True   True     True   \n",
       "3          True      True     True       True  False     True   \n",
       "4          True      True     True       True  False     True   \n",
       "\n",
       "   address_maplink  email  \n",
       "0             True   True  \n",
       "1             True   True  \n",
       "2             True   True  \n",
       "3             True   True  \n",
       "4             True   True  "
      ]
     },
     "execution_count": 219,
     "metadata": {},
     "output_type": "execute_result"
    }
   ],
   "source": [
    "df.head() == df1.head()"
   ]
  },
  {
   "cell_type": "code",
   "execution_count": 220,
   "id": "85d25682",
   "metadata": {},
   "outputs": [
    {
     "data": {
      "text/html": [
       "<div>\n",
       "<style scoped>\n",
       "    .dataframe tbody tr th:only-of-type {\n",
       "        vertical-align: middle;\n",
       "    }\n",
       "\n",
       "    .dataframe tbody tr th {\n",
       "        vertical-align: top;\n",
       "    }\n",
       "\n",
       "    .dataframe thead th {\n",
       "        text-align: right;\n",
       "    }\n",
       "</style>\n",
       "<table border=\"1\" class=\"dataframe\">\n",
       "  <thead>\n",
       "    <tr style=\"text-align: right;\">\n",
       "      <th></th>\n",
       "      <th>company_name</th>\n",
       "      <th>industry</th>\n",
       "      <th>website</th>\n",
       "      <th>telephone</th>\n",
       "      <th>fax</th>\n",
       "      <th>address</th>\n",
       "      <th>address_maplink</th>\n",
       "      <th>email</th>\n",
       "    </tr>\n",
       "  </thead>\n",
       "  <tbody>\n",
       "    <tr>\n",
       "      <th>996</th>\n",
       "      <td>True</td>\n",
       "      <td>True</td>\n",
       "      <td>False</td>\n",
       "      <td>True</td>\n",
       "      <td>True</td>\n",
       "      <td>True</td>\n",
       "      <td>True</td>\n",
       "      <td>True</td>\n",
       "    </tr>\n",
       "    <tr>\n",
       "      <th>997</th>\n",
       "      <td>True</td>\n",
       "      <td>True</td>\n",
       "      <td>True</td>\n",
       "      <td>True</td>\n",
       "      <td>True</td>\n",
       "      <td>True</td>\n",
       "      <td>True</td>\n",
       "      <td>True</td>\n",
       "    </tr>\n",
       "    <tr>\n",
       "      <th>998</th>\n",
       "      <td>True</td>\n",
       "      <td>True</td>\n",
       "      <td>True</td>\n",
       "      <td>True</td>\n",
       "      <td>True</td>\n",
       "      <td>True</td>\n",
       "      <td>True</td>\n",
       "      <td>True</td>\n",
       "    </tr>\n",
       "    <tr>\n",
       "      <th>999</th>\n",
       "      <td>True</td>\n",
       "      <td>True</td>\n",
       "      <td>True</td>\n",
       "      <td>True</td>\n",
       "      <td>True</td>\n",
       "      <td>True</td>\n",
       "      <td>True</td>\n",
       "      <td>True</td>\n",
       "    </tr>\n",
       "    <tr>\n",
       "      <th>1000</th>\n",
       "      <td>True</td>\n",
       "      <td>True</td>\n",
       "      <td>False</td>\n",
       "      <td>False</td>\n",
       "      <td>False</td>\n",
       "      <td>True</td>\n",
       "      <td>True</td>\n",
       "      <td>True</td>\n",
       "    </tr>\n",
       "  </tbody>\n",
       "</table>\n",
       "</div>"
      ],
      "text/plain": [
       "      company_name  industry  website  telephone    fax  address  \\\n",
       "996           True      True    False       True   True     True   \n",
       "997           True      True     True       True   True     True   \n",
       "998           True      True     True       True   True     True   \n",
       "999           True      True     True       True   True     True   \n",
       "1000          True      True    False      False  False     True   \n",
       "\n",
       "      address_maplink  email  \n",
       "996              True   True  \n",
       "997              True   True  \n",
       "998              True   True  \n",
       "999              True   True  \n",
       "1000             True   True  "
      ]
     },
     "execution_count": 220,
     "metadata": {},
     "output_type": "execute_result"
    }
   ],
   "source": [
    "df.tail() == df10.tail()"
   ]
  },
  {
   "cell_type": "markdown",
   "id": "a8716704",
   "metadata": {},
   "source": [
    "### End of Checkpoint-4"
   ]
  },
  {
   "cell_type": "markdown",
   "id": "a3bc5800",
   "metadata": {},
   "source": [
    "### xxxxxxxxxxxxxxxxxxx Push to Github xxxxxxxxxxxxxxxxxxxxxxxx"
   ]
  },
  {
   "cell_type": "markdown",
   "id": "385c4265",
   "metadata": {},
   "source": [
    "### Batch-11, batch_size = 1000, batch_start_index = 10001\n"
   ]
  },
  {
   "cell_type": "markdown",
   "id": "72059b90",
   "metadata": {},
   "source": [
    "#### !Cell is executed. Uncomment (Ctrl + A followed by Ctrl + /) and execute (Shift + Enter) again only if you want to run the batch again."
   ]
  },
  {
   "cell_type": "code",
   "execution_count": 221,
   "id": "dd89b17b",
   "metadata": {},
   "outputs": [],
   "source": [
    "# # Extract info of interst\n",
    "# start_time = time.time()\n",
    "# batch11_initial = extract_info_of_interest(unique_company_profile_urls, batch_size = 1000, batch_start_index = 10001, sleep=5)\n",
    "# end_time = time.time()\n",
    "# execution_time = end_time - start_time\n",
    "# print('execution time: ', execution_time)"
   ]
  },
  {
   "cell_type": "markdown",
   "id": "3312827a",
   "metadata": {},
   "source": [
    "### Checkpoint-1"
   ]
  },
  {
   "cell_type": "code",
   "execution_count": 222,
   "id": "6ce28817",
   "metadata": {},
   "outputs": [],
   "source": [
    "# # Test-Block !Uncomment and execute only if running the batch again\n",
    "# print(len(batch11_initial))\n",
    "# print(len(batch11_initial[-1]))"
   ]
  },
  {
   "cell_type": "code",
   "execution_count": 223,
   "id": "2cec08cf",
   "metadata": {},
   "outputs": [],
   "source": [
    "# # # Test-Block !Uncomment and execute only if running the batch again\n",
    "# print(batch11_initial[:3])"
   ]
  },
  {
   "cell_type": "markdown",
   "id": "9a8570e5",
   "metadata": {},
   "source": [
    "### End of Checkpoint-1"
   ]
  },
  {
   "cell_type": "code",
   "execution_count": 224,
   "id": "e765813e",
   "metadata": {},
   "outputs": [],
   "source": [
    "batch11df = pd.read_csv('batch11.csv')"
   ]
  },
  {
   "cell_type": "code",
   "execution_count": 225,
   "id": "12d69d7e",
   "metadata": {},
   "outputs": [],
   "source": [
    "batch11df_initial = batch11df.drop(['email'], axis = 1)"
   ]
  },
  {
   "cell_type": "code",
   "execution_count": 226,
   "id": "a5324380",
   "metadata": {
    "scrolled": true
   },
   "outputs": [
    {
     "name": "stdout",
     "output_type": "stream",
     "text": [
      "<class 'pandas.core.frame.DataFrame'>\n",
      "RangeIndex: 1001 entries, 0 to 1000\n",
      "Data columns (total 7 columns):\n",
      " #   Column           Non-Null Count  Dtype \n",
      "---  ------           --------------  ----- \n",
      " 0   company_name     1000 non-null   object\n",
      " 1   industry         1001 non-null   object\n",
      " 2   website          546 non-null    object\n",
      " 3   telephone        895 non-null    object\n",
      " 4   fax              549 non-null    object\n",
      " 5   address          1000 non-null   object\n",
      " 6   address_maplink  1000 non-null   object\n",
      "dtypes: object(7)\n",
      "memory usage: 54.9+ KB\n"
     ]
    }
   ],
   "source": [
    "batch11df_initial.info()"
   ]
  },
  {
   "cell_type": "code",
   "execution_count": 227,
   "id": "6b86c668",
   "metadata": {},
   "outputs": [
    {
     "name": "stdout",
     "output_type": "stream",
     "text": [
      "[['c+j immo AG', 'Kauf und Verkauf von eigenen Grundstücken, Gebäuden und Wohnungen', nan, nan, nan, 'Industriestrasse 21\\n6055 Alpnach Dorf', 'https://www.google.com/maps/place/Industriestrasse%2021+6055+Alpnach%20Dorf'], ['Dr.iur. Marco Ettisberger', 'Advokatur-, Notariatsbüros', 'http://www.eplaw.ch/', 'tel:081 254 38 00', 'fax:081 254 38 09', 'Hinterm Bach 40\\n7002 Chur', 'https://www.google.com/maps/place/Hinterm%20Bach%2040+7002+Chur'], ['Techno AG', 'Grosshandel mit Automobilteilen und -zubehör', nan, 'tel:061 717 90 00', 'fax:061 711 38 58', 'Butthollenring 31\\n4147 Aesch BL', 'https://www.google.com/maps/place/Butthollenring%2031+4147+Aesch%20BL']]\n"
     ]
    }
   ],
   "source": [
    "batch11_initial = batch11df_initial.values.tolist()\n",
    "print(batch11_initial[:3])"
   ]
  },
  {
   "cell_type": "markdown",
   "id": "f6806d10",
   "metadata": {},
   "source": [
    "#### Following Function Extracts emails from Home Page Only (Takes Less Time: 1 sec per page)"
   ]
  },
  {
   "cell_type": "code",
   "execution_count": 228,
   "id": "f92b88af",
   "metadata": {},
   "outputs": [
    {
     "name": "stdout",
     "output_type": "stream",
     "text": [
      "No of emails found:  312\n",
      "execution time:  1062.1289672851562\n"
     ]
    }
   ],
   "source": [
    "# Extract emails\n",
    "start_time = time.time()\n",
    "pattern = r'\\b[A-Za-z0-9._%+-]+@[A-Za-z0-9.-]+\\.[A-Z|a-z]{2,}\\b'\n",
    "batch11 = extract_emails_from_homepage(batch11_initial, pattern = pattern , index=2)\n",
    "end_time = time.time()\n",
    "execution_time = end_time - start_time\n",
    "print('execution time: ', execution_time)"
   ]
  },
  {
   "cell_type": "markdown",
   "id": "e8894ed0",
   "metadata": {},
   "source": [
    "### Checkpoint-2"
   ]
  },
  {
   "cell_type": "code",
   "execution_count": 229,
   "id": "e1ea3fd1",
   "metadata": {},
   "outputs": [
    {
     "name": "stdout",
     "output_type": "stream",
     "text": [
      "1001\n",
      "7\n",
      "[['Büro Weber AG', 'Detailhandel mit Möbeln', 'http://www.buero-weber.ch/', 'tel:056 622 20 50', 'fax:056 622 86 64', 'Gewerbering 23\\n5610 Wohlen AG', 'https://www.google.com/maps/place/Gewerbering%2023+5610+Wohlen%20AG'], ['W. Kamm AG', 'lnstallation von Heizungs-, Lüftungs- und Klimaanlagen', nan, 'tel:071 971 10 55', nan, 'Bahnhofstrasse 3\\n8360 Eschlikon TG', 'https://www.google.com/maps/place/Bahnhofstrasse%203+8360+Eschlikon%20TG', 'website not accessible'], ['Mebrag GmbH', 'Herstellung von Metallkonstruktionen', 'http://www.mebrag.ch/', 'tel:032 387 25 70', nan, 'Mühleweg 6\\n3253 Schnottwil', 'https://www.google.com/maps/place/M%C3%BChleweg%206+3253+Schnottwil'], ['Garage Elmiger AG', 'Detailhandel mit Motorenkraftstoffen (Tankstellen)', nan, nan, nan, 'Luzernerstrasse 32\\n6285 Hitzkirch', 'https://www.google.com/maps/place/Luzernerstrasse%2032+6285+Hitzkirch', 'website not accessible'], ['Sajade AG', 'Sonstiger Detailhandel mit Metallwaren, Anstrichmitteln, Bau- und Heimwerkerbedarf', 'http://www.sajade.ch/', 'tel:061 692 28 19', nan, 'Lehenmattstr. 137\\n4052 Basel', 'https://www.google.com/maps/place/Lehenmattstr.%20137+4052+Basel']]\n"
     ]
    }
   ],
   "source": [
    "print(len(batch11)) # should be same as batch_size i.e. 1000\n",
    "print(len(batch11[-1])) # should be 8\n",
    "print(batch11[-5:]) #should have 8 items in each list with emails or remarks added"
   ]
  },
  {
   "cell_type": "markdown",
   "id": "b5debf58",
   "metadata": {},
   "source": [
    "### End of Checkpoint-2"
   ]
  },
  {
   "cell_type": "code",
   "execution_count": 230,
   "id": "acd1e770",
   "metadata": {},
   "outputs": [],
   "source": [
    "# # Convert to Dataframe batch11\n",
    "df11 = pd.DataFrame(batch11, columns=columns)\n"
   ]
  },
  {
   "cell_type": "markdown",
   "id": "97ce883a",
   "metadata": {},
   "source": [
    "### Checkpoint-3"
   ]
  },
  {
   "cell_type": "code",
   "execution_count": 231,
   "id": "f609a6eb",
   "metadata": {},
   "outputs": [
    {
     "name": "stdout",
     "output_type": "stream",
     "text": [
      "<class 'pandas.core.frame.DataFrame'>\n",
      "RangeIndex: 1001 entries, 0 to 1000\n",
      "Data columns (total 8 columns):\n",
      " #   Column           Non-Null Count  Dtype \n",
      "---  ------           --------------  ----- \n",
      " 0   company_name     1000 non-null   object\n",
      " 1   industry         1001 non-null   object\n",
      " 2   website          546 non-null    object\n",
      " 3   telephone        895 non-null    object\n",
      " 4   fax              549 non-null    object\n",
      " 5   address          1000 non-null   object\n",
      " 6   address_maplink  1000 non-null   object\n",
      " 7   email            850 non-null    object\n",
      "dtypes: object(8)\n",
      "memory usage: 62.7+ KB\n"
     ]
    }
   ],
   "source": [
    "df11.info()"
   ]
  },
  {
   "cell_type": "code",
   "execution_count": 232,
   "id": "458ce032",
   "metadata": {},
   "outputs": [],
   "source": [
    "# save as csv\n",
    "df11.to_csv('batch11.csv', index = False)"
   ]
  },
  {
   "cell_type": "markdown",
   "id": "6dbd8578",
   "metadata": {},
   "source": [
    "### End of Checkpoint-3"
   ]
  },
  {
   "cell_type": "code",
   "execution_count": 233,
   "id": "31abdb83",
   "metadata": {},
   "outputs": [],
   "source": [
    "#### Merge the two dataframes\n",
    "df = pd.concat([df, df11])"
   ]
  },
  {
   "cell_type": "markdown",
   "id": "e940a2a1",
   "metadata": {},
   "source": [
    "### Checkpoint-4"
   ]
  },
  {
   "cell_type": "code",
   "execution_count": 234,
   "id": "a9f1cf09",
   "metadata": {},
   "outputs": [
    {
     "name": "stdout",
     "output_type": "stream",
     "text": [
      "<class 'pandas.core.frame.DataFrame'>\n",
      "Int64Index: 11011 entries, 0 to 1000\n",
      "Data columns (total 8 columns):\n",
      " #   Column           Non-Null Count  Dtype \n",
      "---  ------           --------------  ----- \n",
      " 0   company_name     10867 non-null  object\n",
      " 1   industry         10873 non-null  object\n",
      " 2   website          6279 non-null   object\n",
      " 3   telephone        9646 non-null   object\n",
      " 4   fax              6107 non-null   object\n",
      " 5   address          10867 non-null  object\n",
      " 6   address_maplink  10899 non-null  object\n",
      " 7   email            9473 non-null   object\n",
      "dtypes: object(8)\n",
      "memory usage: 774.2+ KB\n"
     ]
    }
   ],
   "source": [
    "df.info()"
   ]
  },
  {
   "cell_type": "code",
   "execution_count": 235,
   "id": "e3a90972",
   "metadata": {},
   "outputs": [
    {
     "data": {
      "text/html": [
       "<div>\n",
       "<style scoped>\n",
       "    .dataframe tbody tr th:only-of-type {\n",
       "        vertical-align: middle;\n",
       "    }\n",
       "\n",
       "    .dataframe tbody tr th {\n",
       "        vertical-align: top;\n",
       "    }\n",
       "\n",
       "    .dataframe thead th {\n",
       "        text-align: right;\n",
       "    }\n",
       "</style>\n",
       "<table border=\"1\" class=\"dataframe\">\n",
       "  <thead>\n",
       "    <tr style=\"text-align: right;\">\n",
       "      <th></th>\n",
       "      <th>company_name</th>\n",
       "      <th>industry</th>\n",
       "      <th>website</th>\n",
       "      <th>telephone</th>\n",
       "      <th>fax</th>\n",
       "      <th>address</th>\n",
       "      <th>address_maplink</th>\n",
       "      <th>email</th>\n",
       "    </tr>\n",
       "  </thead>\n",
       "  <tbody>\n",
       "    <tr>\n",
       "      <th>0</th>\n",
       "      <td>Ringler + Strahm Storenbau AG</td>\n",
       "      <td>Sonstige Bauinstallation</td>\n",
       "      <td>http://www.ringler-strahm.ch/</td>\n",
       "      <td>tel:033 345 22 55</td>\n",
       "      <td>fax:033 345 55 19</td>\n",
       "      <td>Uetendorfstrasse 20\\n3634 Thierachern</td>\n",
       "      <td>https://www.google.com/maps/place/Uetendorfstr...</td>\n",
       "      <td>info@ringler-strahm.ch</td>\n",
       "    </tr>\n",
       "    <tr>\n",
       "      <th>1</th>\n",
       "      <td>Grob &amp; Partner Architektur AG</td>\n",
       "      <td>Architekturbüros</td>\n",
       "      <td>http://www.grobarchitektur.ch/</td>\n",
       "      <td>tel:081 720 02 00</td>\n",
       "      <td>fax:081 720 02 05</td>\n",
       "      <td>Bahnhofstrasse 3\\n7320 Sargans</td>\n",
       "      <td>https://www.google.com/maps/place/Bahnhofstras...</td>\n",
       "      <td>8c4075d5481d476e945486754f783364@sentry.io</td>\n",
       "    </tr>\n",
       "    <tr>\n",
       "      <th>2</th>\n",
       "      <td>Lauclair AG</td>\n",
       "      <td>Schreinerarbeiten im Innenausbau</td>\n",
       "      <td>http://www.lauclair.ch/</td>\n",
       "      <td>tel:031 879 01 69</td>\n",
       "      <td>fax:031 879 20 69</td>\n",
       "      <td>Lyssstrasse 27\\n3054 Schüpfen</td>\n",
       "      <td>https://www.google.com/maps/place/Lyssstrasse%...</td>\n",
       "      <td>98181273782d9a9g3251e7d066b95071@2x.jpg</td>\n",
       "    </tr>\n",
       "    <tr>\n",
       "      <th>3</th>\n",
       "      <td>Club Goldwand</td>\n",
       "      <td>Kauf und Verkauf von eigenen Grundstücken, Geb...</td>\n",
       "      <td>http://www.clubgoldwand.ch/</td>\n",
       "      <td>tel:056 282 30 50</td>\n",
       "      <td>NaN</td>\n",
       "      <td>Landstrasse 6\\n5415 Nussbaumen AG</td>\n",
       "      <td>https://www.google.com/maps/place/Landstrasse%...</td>\n",
       "      <td>info@clubgoldwand.ch</td>\n",
       "    </tr>\n",
       "    <tr>\n",
       "      <th>4</th>\n",
       "      <td>NICOLE DIEM Horgen</td>\n",
       "      <td>Detailhandel mit Brillen und anderen Sehhilfen</td>\n",
       "      <td>http://www.nicolediem.ch/</td>\n",
       "      <td>tel:044 770 10 40</td>\n",
       "      <td>NaN</td>\n",
       "      <td>Dorfplatz 3\\n8810 Horgen</td>\n",
       "      <td>https://www.google.com/maps/place/Dorfplatz%20...</td>\n",
       "      <td>johndoe@domain.com</td>\n",
       "    </tr>\n",
       "  </tbody>\n",
       "</table>\n",
       "</div>"
      ],
      "text/plain": [
       "                    company_name  \\\n",
       "0  Ringler + Strahm Storenbau AG   \n",
       "1  Grob & Partner Architektur AG   \n",
       "2                    Lauclair AG   \n",
       "3                  Club Goldwand   \n",
       "4             NICOLE DIEM Horgen   \n",
       "\n",
       "                                            industry  \\\n",
       "0                           Sonstige Bauinstallation   \n",
       "1                                   Architekturbüros   \n",
       "2                   Schreinerarbeiten im Innenausbau   \n",
       "3  Kauf und Verkauf von eigenen Grundstücken, Geb...   \n",
       "4     Detailhandel mit Brillen und anderen Sehhilfen   \n",
       "\n",
       "                          website          telephone                fax  \\\n",
       "0   http://www.ringler-strahm.ch/  tel:033 345 22 55  fax:033 345 55 19   \n",
       "1  http://www.grobarchitektur.ch/  tel:081 720 02 00  fax:081 720 02 05   \n",
       "2         http://www.lauclair.ch/  tel:031 879 01 69  fax:031 879 20 69   \n",
       "3     http://www.clubgoldwand.ch/  tel:056 282 30 50                NaN   \n",
       "4       http://www.nicolediem.ch/  tel:044 770 10 40                NaN   \n",
       "\n",
       "                                 address  \\\n",
       "0  Uetendorfstrasse 20\\n3634 Thierachern   \n",
       "1         Bahnhofstrasse 3\\n7320 Sargans   \n",
       "2          Lyssstrasse 27\\n3054 Schüpfen   \n",
       "3      Landstrasse 6\\n5415 Nussbaumen AG   \n",
       "4               Dorfplatz 3\\n8810 Horgen   \n",
       "\n",
       "                                     address_maplink  \\\n",
       "0  https://www.google.com/maps/place/Uetendorfstr...   \n",
       "1  https://www.google.com/maps/place/Bahnhofstras...   \n",
       "2  https://www.google.com/maps/place/Lyssstrasse%...   \n",
       "3  https://www.google.com/maps/place/Landstrasse%...   \n",
       "4  https://www.google.com/maps/place/Dorfplatz%20...   \n",
       "\n",
       "                                        email  \n",
       "0                      info@ringler-strahm.ch  \n",
       "1  8c4075d5481d476e945486754f783364@sentry.io  \n",
       "2     98181273782d9a9g3251e7d066b95071@2x.jpg  \n",
       "3                        info@clubgoldwand.ch  \n",
       "4                          johndoe@domain.com  "
      ]
     },
     "execution_count": 235,
     "metadata": {},
     "output_type": "execute_result"
    }
   ],
   "source": [
    "df.head()"
   ]
  },
  {
   "cell_type": "code",
   "execution_count": 236,
   "id": "e7b9edea",
   "metadata": {},
   "outputs": [
    {
     "data": {
      "text/html": [
       "<div>\n",
       "<style scoped>\n",
       "    .dataframe tbody tr th:only-of-type {\n",
       "        vertical-align: middle;\n",
       "    }\n",
       "\n",
       "    .dataframe tbody tr th {\n",
       "        vertical-align: top;\n",
       "    }\n",
       "\n",
       "    .dataframe thead th {\n",
       "        text-align: right;\n",
       "    }\n",
       "</style>\n",
       "<table border=\"1\" class=\"dataframe\">\n",
       "  <thead>\n",
       "    <tr style=\"text-align: right;\">\n",
       "      <th></th>\n",
       "      <th>company_name</th>\n",
       "      <th>industry</th>\n",
       "      <th>website</th>\n",
       "      <th>telephone</th>\n",
       "      <th>fax</th>\n",
       "      <th>address</th>\n",
       "      <th>address_maplink</th>\n",
       "      <th>email</th>\n",
       "    </tr>\n",
       "  </thead>\n",
       "  <tbody>\n",
       "    <tr>\n",
       "      <th>996</th>\n",
       "      <td>Büro Weber AG</td>\n",
       "      <td>Detailhandel mit Möbeln</td>\n",
       "      <td>http://www.buero-weber.ch/</td>\n",
       "      <td>tel:056 622 20 50</td>\n",
       "      <td>fax:056 622 86 64</td>\n",
       "      <td>Gewerbering 23\\n5610 Wohlen AG</td>\n",
       "      <td>https://www.google.com/maps/place/Gewerbering%...</td>\n",
       "      <td>None</td>\n",
       "    </tr>\n",
       "    <tr>\n",
       "      <th>997</th>\n",
       "      <td>W. Kamm AG</td>\n",
       "      <td>lnstallation von Heizungs-, Lüftungs- und Klim...</td>\n",
       "      <td>NaN</td>\n",
       "      <td>tel:071 971 10 55</td>\n",
       "      <td>NaN</td>\n",
       "      <td>Bahnhofstrasse 3\\n8360 Eschlikon TG</td>\n",
       "      <td>https://www.google.com/maps/place/Bahnhofstras...</td>\n",
       "      <td>website not accessible</td>\n",
       "    </tr>\n",
       "    <tr>\n",
       "      <th>998</th>\n",
       "      <td>Mebrag GmbH</td>\n",
       "      <td>Herstellung von Metallkonstruktionen</td>\n",
       "      <td>http://www.mebrag.ch/</td>\n",
       "      <td>tel:032 387 25 70</td>\n",
       "      <td>NaN</td>\n",
       "      <td>Mühleweg 6\\n3253 Schnottwil</td>\n",
       "      <td>https://www.google.com/maps/place/M%C3%BChlewe...</td>\n",
       "      <td>None</td>\n",
       "    </tr>\n",
       "    <tr>\n",
       "      <th>999</th>\n",
       "      <td>Garage Elmiger AG</td>\n",
       "      <td>Detailhandel mit Motorenkraftstoffen (Tankstel...</td>\n",
       "      <td>NaN</td>\n",
       "      <td>NaN</td>\n",
       "      <td>NaN</td>\n",
       "      <td>Luzernerstrasse 32\\n6285 Hitzkirch</td>\n",
       "      <td>https://www.google.com/maps/place/Luzernerstra...</td>\n",
       "      <td>website not accessible</td>\n",
       "    </tr>\n",
       "    <tr>\n",
       "      <th>1000</th>\n",
       "      <td>Sajade AG</td>\n",
       "      <td>Sonstiger Detailhandel mit Metallwaren, Anstri...</td>\n",
       "      <td>http://www.sajade.ch/</td>\n",
       "      <td>tel:061 692 28 19</td>\n",
       "      <td>NaN</td>\n",
       "      <td>Lehenmattstr. 137\\n4052 Basel</td>\n",
       "      <td>https://www.google.com/maps/place/Lehenmattstr...</td>\n",
       "      <td>None</td>\n",
       "    </tr>\n",
       "  </tbody>\n",
       "</table>\n",
       "</div>"
      ],
      "text/plain": [
       "           company_name                                           industry  \\\n",
       "996       Büro Weber AG                            Detailhandel mit Möbeln   \n",
       "997          W. Kamm AG  lnstallation von Heizungs-, Lüftungs- und Klim...   \n",
       "998         Mebrag GmbH               Herstellung von Metallkonstruktionen   \n",
       "999   Garage Elmiger AG  Detailhandel mit Motorenkraftstoffen (Tankstel...   \n",
       "1000          Sajade AG  Sonstiger Detailhandel mit Metallwaren, Anstri...   \n",
       "\n",
       "                         website          telephone                fax  \\\n",
       "996   http://www.buero-weber.ch/  tel:056 622 20 50  fax:056 622 86 64   \n",
       "997                          NaN  tel:071 971 10 55                NaN   \n",
       "998        http://www.mebrag.ch/  tel:032 387 25 70                NaN   \n",
       "999                          NaN                NaN                NaN   \n",
       "1000       http://www.sajade.ch/  tel:061 692 28 19                NaN   \n",
       "\n",
       "                                  address  \\\n",
       "996        Gewerbering 23\\n5610 Wohlen AG   \n",
       "997   Bahnhofstrasse 3\\n8360 Eschlikon TG   \n",
       "998           Mühleweg 6\\n3253 Schnottwil   \n",
       "999    Luzernerstrasse 32\\n6285 Hitzkirch   \n",
       "1000        Lehenmattstr. 137\\n4052 Basel   \n",
       "\n",
       "                                        address_maplink  \\\n",
       "996   https://www.google.com/maps/place/Gewerbering%...   \n",
       "997   https://www.google.com/maps/place/Bahnhofstras...   \n",
       "998   https://www.google.com/maps/place/M%C3%BChlewe...   \n",
       "999   https://www.google.com/maps/place/Luzernerstra...   \n",
       "1000  https://www.google.com/maps/place/Lehenmattstr...   \n",
       "\n",
       "                       email  \n",
       "996                     None  \n",
       "997   website not accessible  \n",
       "998                     None  \n",
       "999   website not accessible  \n",
       "1000                    None  "
      ]
     },
     "execution_count": 236,
     "metadata": {},
     "output_type": "execute_result"
    }
   ],
   "source": [
    "df.tail()"
   ]
  },
  {
   "cell_type": "code",
   "execution_count": 237,
   "id": "6cb47949",
   "metadata": {},
   "outputs": [
    {
     "data": {
      "text/html": [
       "<div>\n",
       "<style scoped>\n",
       "    .dataframe tbody tr th:only-of-type {\n",
       "        vertical-align: middle;\n",
       "    }\n",
       "\n",
       "    .dataframe tbody tr th {\n",
       "        vertical-align: top;\n",
       "    }\n",
       "\n",
       "    .dataframe thead th {\n",
       "        text-align: right;\n",
       "    }\n",
       "</style>\n",
       "<table border=\"1\" class=\"dataframe\">\n",
       "  <thead>\n",
       "    <tr style=\"text-align: right;\">\n",
       "      <th></th>\n",
       "      <th>company_name</th>\n",
       "      <th>industry</th>\n",
       "      <th>website</th>\n",
       "      <th>telephone</th>\n",
       "      <th>fax</th>\n",
       "      <th>address</th>\n",
       "      <th>address_maplink</th>\n",
       "      <th>email</th>\n",
       "    </tr>\n",
       "  </thead>\n",
       "  <tbody>\n",
       "    <tr>\n",
       "      <th>0</th>\n",
       "      <td>True</td>\n",
       "      <td>True</td>\n",
       "      <td>True</td>\n",
       "      <td>True</td>\n",
       "      <td>True</td>\n",
       "      <td>True</td>\n",
       "      <td>True</td>\n",
       "      <td>True</td>\n",
       "    </tr>\n",
       "    <tr>\n",
       "      <th>1</th>\n",
       "      <td>True</td>\n",
       "      <td>True</td>\n",
       "      <td>True</td>\n",
       "      <td>True</td>\n",
       "      <td>True</td>\n",
       "      <td>True</td>\n",
       "      <td>True</td>\n",
       "      <td>True</td>\n",
       "    </tr>\n",
       "    <tr>\n",
       "      <th>2</th>\n",
       "      <td>True</td>\n",
       "      <td>True</td>\n",
       "      <td>True</td>\n",
       "      <td>True</td>\n",
       "      <td>True</td>\n",
       "      <td>True</td>\n",
       "      <td>True</td>\n",
       "      <td>True</td>\n",
       "    </tr>\n",
       "    <tr>\n",
       "      <th>3</th>\n",
       "      <td>True</td>\n",
       "      <td>True</td>\n",
       "      <td>True</td>\n",
       "      <td>True</td>\n",
       "      <td>False</td>\n",
       "      <td>True</td>\n",
       "      <td>True</td>\n",
       "      <td>True</td>\n",
       "    </tr>\n",
       "    <tr>\n",
       "      <th>4</th>\n",
       "      <td>True</td>\n",
       "      <td>True</td>\n",
       "      <td>True</td>\n",
       "      <td>True</td>\n",
       "      <td>False</td>\n",
       "      <td>True</td>\n",
       "      <td>True</td>\n",
       "      <td>True</td>\n",
       "    </tr>\n",
       "  </tbody>\n",
       "</table>\n",
       "</div>"
      ],
      "text/plain": [
       "   company_name  industry  website  telephone    fax  address  \\\n",
       "0          True      True     True       True   True     True   \n",
       "1          True      True     True       True   True     True   \n",
       "2          True      True     True       True   True     True   \n",
       "3          True      True     True       True  False     True   \n",
       "4          True      True     True       True  False     True   \n",
       "\n",
       "   address_maplink  email  \n",
       "0             True   True  \n",
       "1             True   True  \n",
       "2             True   True  \n",
       "3             True   True  \n",
       "4             True   True  "
      ]
     },
     "execution_count": 237,
     "metadata": {},
     "output_type": "execute_result"
    }
   ],
   "source": [
    "df.head() == df1.head()"
   ]
  },
  {
   "cell_type": "code",
   "execution_count": 238,
   "id": "2e2722a1",
   "metadata": {},
   "outputs": [
    {
     "data": {
      "text/html": [
       "<div>\n",
       "<style scoped>\n",
       "    .dataframe tbody tr th:only-of-type {\n",
       "        vertical-align: middle;\n",
       "    }\n",
       "\n",
       "    .dataframe tbody tr th {\n",
       "        vertical-align: top;\n",
       "    }\n",
       "\n",
       "    .dataframe thead th {\n",
       "        text-align: right;\n",
       "    }\n",
       "</style>\n",
       "<table border=\"1\" class=\"dataframe\">\n",
       "  <thead>\n",
       "    <tr style=\"text-align: right;\">\n",
       "      <th></th>\n",
       "      <th>company_name</th>\n",
       "      <th>industry</th>\n",
       "      <th>website</th>\n",
       "      <th>telephone</th>\n",
       "      <th>fax</th>\n",
       "      <th>address</th>\n",
       "      <th>address_maplink</th>\n",
       "      <th>email</th>\n",
       "    </tr>\n",
       "  </thead>\n",
       "  <tbody>\n",
       "    <tr>\n",
       "      <th>996</th>\n",
       "      <td>True</td>\n",
       "      <td>True</td>\n",
       "      <td>True</td>\n",
       "      <td>True</td>\n",
       "      <td>True</td>\n",
       "      <td>True</td>\n",
       "      <td>True</td>\n",
       "      <td>False</td>\n",
       "    </tr>\n",
       "    <tr>\n",
       "      <th>997</th>\n",
       "      <td>True</td>\n",
       "      <td>True</td>\n",
       "      <td>False</td>\n",
       "      <td>True</td>\n",
       "      <td>False</td>\n",
       "      <td>True</td>\n",
       "      <td>True</td>\n",
       "      <td>True</td>\n",
       "    </tr>\n",
       "    <tr>\n",
       "      <th>998</th>\n",
       "      <td>True</td>\n",
       "      <td>True</td>\n",
       "      <td>True</td>\n",
       "      <td>True</td>\n",
       "      <td>False</td>\n",
       "      <td>True</td>\n",
       "      <td>True</td>\n",
       "      <td>False</td>\n",
       "    </tr>\n",
       "    <tr>\n",
       "      <th>999</th>\n",
       "      <td>True</td>\n",
       "      <td>True</td>\n",
       "      <td>False</td>\n",
       "      <td>False</td>\n",
       "      <td>False</td>\n",
       "      <td>True</td>\n",
       "      <td>True</td>\n",
       "      <td>True</td>\n",
       "    </tr>\n",
       "    <tr>\n",
       "      <th>1000</th>\n",
       "      <td>True</td>\n",
       "      <td>True</td>\n",
       "      <td>True</td>\n",
       "      <td>True</td>\n",
       "      <td>False</td>\n",
       "      <td>True</td>\n",
       "      <td>True</td>\n",
       "      <td>False</td>\n",
       "    </tr>\n",
       "  </tbody>\n",
       "</table>\n",
       "</div>"
      ],
      "text/plain": [
       "      company_name  industry  website  telephone    fax  address  \\\n",
       "996           True      True     True       True   True     True   \n",
       "997           True      True    False       True  False     True   \n",
       "998           True      True     True       True  False     True   \n",
       "999           True      True    False      False  False     True   \n",
       "1000          True      True     True       True  False     True   \n",
       "\n",
       "      address_maplink  email  \n",
       "996              True  False  \n",
       "997              True   True  \n",
       "998              True  False  \n",
       "999              True   True  \n",
       "1000             True  False  "
      ]
     },
     "execution_count": 238,
     "metadata": {},
     "output_type": "execute_result"
    }
   ],
   "source": [
    "df.tail() == df11.tail()"
   ]
  },
  {
   "cell_type": "markdown",
   "id": "9bcdfaf2",
   "metadata": {},
   "source": [
    "### End of Checkpoint-4"
   ]
  },
  {
   "cell_type": "markdown",
   "id": "2bb7dbe9",
   "metadata": {},
   "source": [
    "### xxxxxxxxxxxxxxxxxxxxxxxx Push to Github xxxxxxxxxxxxxxxxxxxxxxxxx"
   ]
  },
  {
   "cell_type": "markdown",
   "id": "83e6aed1",
   "metadata": {},
   "source": [
    "### Batch-12, batch_size = 1000, batch_start_index = 11001\n"
   ]
  },
  {
   "cell_type": "markdown",
   "id": "8bcc210c",
   "metadata": {},
   "source": [
    "#### !Cell is executed. Uncomment (Ctrl + A followed by Ctrl + /) and execute (Shift + Enter) again only if you want to run the batch again."
   ]
  },
  {
   "cell_type": "code",
   "execution_count": 239,
   "id": "4a7c6747",
   "metadata": {},
   "outputs": [],
   "source": [
    "# # Extract info of interst\n",
    "# start_time = time.time()\n",
    "# batch12_initial = extract_info_of_interest(unique_company_profile_urls, batch_size = 1000, batch_start_index = 11001, sleep=5)\n",
    "# end_time = time.time()\n",
    "# execution_time = end_time - start_time\n",
    "# print('execution time: ', execution_time)"
   ]
  },
  {
   "cell_type": "markdown",
   "id": "f04531bc",
   "metadata": {},
   "source": [
    "### Checkpoint-1"
   ]
  },
  {
   "cell_type": "code",
   "execution_count": 240,
   "id": "07a0a60d",
   "metadata": {},
   "outputs": [],
   "source": [
    "# # Test-Block !Uncomment and execute only if running the batch again\n",
    "# print(len(batch12_initial))\n",
    "# print(len(batch12_initial[-1]))"
   ]
  },
  {
   "cell_type": "code",
   "execution_count": 241,
   "id": "4fb2c941",
   "metadata": {
    "scrolled": true
   },
   "outputs": [],
   "source": [
    "# # # Test-Block !Uncomment and execute only if running the batch again\n",
    "# print(batch12_initial[:3])"
   ]
  },
  {
   "cell_type": "markdown",
   "id": "1fb46602",
   "metadata": {},
   "source": [
    "### End of Checkpoint-1"
   ]
  },
  {
   "cell_type": "code",
   "execution_count": 242,
   "id": "648a5c37",
   "metadata": {},
   "outputs": [],
   "source": [
    "batch12df = pd.read_csv('batch12.csv')"
   ]
  },
  {
   "cell_type": "code",
   "execution_count": 243,
   "id": "393a6041",
   "metadata": {},
   "outputs": [],
   "source": [
    "batch12df_initial = batch12df.drop(['email'], axis = 1)"
   ]
  },
  {
   "cell_type": "code",
   "execution_count": 244,
   "id": "4acf6ad7",
   "metadata": {
    "scrolled": true
   },
   "outputs": [
    {
     "name": "stdout",
     "output_type": "stream",
     "text": [
      "<class 'pandas.core.frame.DataFrame'>\n",
      "RangeIndex: 1001 entries, 0 to 1000\n",
      "Data columns (total 7 columns):\n",
      " #   Column           Non-Null Count  Dtype \n",
      "---  ------           --------------  ----- \n",
      " 0   company_name     1000 non-null   object\n",
      " 1   industry         1001 non-null   object\n",
      " 2   website          538 non-null    object\n",
      " 3   telephone        864 non-null    object\n",
      " 4   fax              548 non-null    object\n",
      " 5   address          1000 non-null   object\n",
      " 6   address_maplink  1000 non-null   object\n",
      "dtypes: object(7)\n",
      "memory usage: 54.9+ KB\n"
     ]
    }
   ],
   "source": [
    "batch12df_initial.info()"
   ]
  },
  {
   "cell_type": "code",
   "execution_count": 245,
   "id": "3cbadf43",
   "metadata": {
    "scrolled": true
   },
   "outputs": [],
   "source": [
    "batch12_initial = batch12df_initial.values.tolist()\n"
   ]
  },
  {
   "cell_type": "code",
   "execution_count": 246,
   "id": "e6d7e742",
   "metadata": {},
   "outputs": [
    {
     "name": "stdout",
     "output_type": "stream",
     "text": [
      "[['Sajade AG', 'Sonstiger Detailhandel mit Metallwaren, Anstrichmitteln, Bau- und Heimwerkerbedarf', 'http://www.sajade.ch/', 'tel:061 692 28 19', nan, 'Lehenmattstr. 137\\n4052 Basel', 'https://www.google.com/maps/place/Lehenmattstr.%20137+4052+Basel'], ['Gasthof zum Schütz', 'Bewertungen', nan, 'tel:031 781 01 17', nan, 'Bernstrasse 5\\n3629 Oppligen', 'https://www.google.com/maps/place/Bernstrasse%205+3629+Oppligen'], ['HW-Handel Inh. Wirthlin', 'Sonstiger Detailhandel mit Metallwaren, Anstrichmitteln, Bau- und Heimwerkerbedarf', nan, nan, nan, 'Gewerbepark Bata\\n4313 Möhlin', 'https://www.google.com/maps/place/Gewerbepark%20Bata+4313+M%C3%B6hlin']]\n"
     ]
    }
   ],
   "source": [
    "print(batch12_initial[:3])"
   ]
  },
  {
   "cell_type": "markdown",
   "id": "724bab2f",
   "metadata": {},
   "source": [
    "#### Following Function Extracts emails from Home Page Only (Takes Less Time: 1 sec per page)"
   ]
  },
  {
   "cell_type": "code",
   "execution_count": 247,
   "id": "8cc44cf8",
   "metadata": {},
   "outputs": [
    {
     "name": "stderr",
     "output_type": "stream",
     "text": [
      "C:\\Users\\Admin\\miniconda3\\lib\\site-packages\\bs4\\builder\\__init__.py:545: XMLParsedAsHTMLWarning: It looks like you're parsing an XML document using an HTML parser. If this really is an HTML document (maybe it's XHTML?), you can ignore or filter this warning. If it's XML, you should know that using an XML parser will be more reliable. To parse this document as XML, make sure you have the lxml package installed, and pass the keyword argument `features=\"xml\"` into the BeautifulSoup constructor.\n",
      "  warnings.warn(\n"
     ]
    },
    {
     "name": "stdout",
     "output_type": "stream",
     "text": [
      "No of emails found:  302\n",
      "execution time:  1139.0677425861359\n"
     ]
    }
   ],
   "source": [
    "# Extract emails\n",
    "start_time = time.time()\n",
    "pattern = r'\\b[A-Za-z0-9._%+-]+@[A-Za-z0-9.-]+\\.[A-Z|a-z]{2,}\\b'\n",
    "batch12 = extract_emails_from_homepage(batch12_initial, pattern = pattern , index=2)\n",
    "end_time = time.time()\n",
    "execution_time = end_time - start_time\n",
    "print('execution time: ', execution_time)"
   ]
  },
  {
   "cell_type": "markdown",
   "id": "88488d0a",
   "metadata": {},
   "source": [
    "### Checkpoint-2"
   ]
  },
  {
   "cell_type": "code",
   "execution_count": 248,
   "id": "046e5327",
   "metadata": {},
   "outputs": [
    {
     "name": "stdout",
     "output_type": "stream",
     "text": [
      "1001\n",
      "8\n",
      "[['Felix Enzler Unterlagsböden AG', 'Verlegen von Fussboden', 'http://www.enzlerag.ch/', 'tel:071 433 19 55', 'fax:071 433 22 55', 'Lerchenstrasse 22a\\n9304 Bernhardzell', 'https://www.google.com/maps/place/Lerchenstrasse%2022a+9304+Bernhardzell', 'website not accessible'], ['Claudio Beer', 'Schreinerarbeiten im Innenausbau', nan, 'tel:081 252 48 62', 'fax:081 253 31 49', 'Grünbergstrasse 16\\n7000 Chur', 'https://www.google.com/maps/place/Gr%C3%BCnbergstrasse%2016+7000+Chur', 'website not accessible'], ['PBH IDEA AG', 'Grosshandel mit Baustoffen', 'http://www.pbh-idea.ch/', nan, nan, 'Bösch 21\\n6331 Hünenberg', 'https://www.google.com/maps/place/B%C3%B6sch%2021+6331+H%C3%BCnenberg'], ['Imwinkelried Lüftung und Klima AG', 'lnstallation von Heizungs-, Lüftungs- und Klimaanlagen', 'http://www.imwinkelried.ch/', 'tel:027 948 07 20', 'fax:027 948 07 25', 'Torweg 10\\n3930 Visp', 'https://www.google.com/maps/place/Torweg%2010+3930+Visp', 'bad link'], ['Wohnbaugenoss.Reigoldswil', 'Kauf und Verkauf von eigenen Grundstücken, Gebäuden und Wohnungen', nan, 'tel:061 941 21 72', 'fax:061 943 10 06', 'Ischlagweg 19\\n4418 Reigoldswil', 'https://www.google.com/maps/place/Ischlagweg%2019+4418+Reigoldswil', 'website not accessible']]\n"
     ]
    }
   ],
   "source": [
    "print(len(batch12)) # should be same as batch_size i.e. 1000\n",
    "print(len(batch12[-1])) # should be 8\n",
    "print(batch12[-5:]) #should have 8 items in each list with emails or remarks added"
   ]
  },
  {
   "cell_type": "markdown",
   "id": "071a12a5",
   "metadata": {},
   "source": [
    "### End of Checkpoint-2"
   ]
  },
  {
   "cell_type": "code",
   "execution_count": 249,
   "id": "d14e7e0c",
   "metadata": {},
   "outputs": [],
   "source": [
    "# # Convert to Dataframe batch11\n",
    "df12 = pd.DataFrame(batch12, columns=columns)\n"
   ]
  },
  {
   "cell_type": "markdown",
   "id": "1dd53271",
   "metadata": {},
   "source": [
    "### Checkpoint-3"
   ]
  },
  {
   "cell_type": "code",
   "execution_count": 250,
   "id": "7b2701e8",
   "metadata": {},
   "outputs": [
    {
     "name": "stdout",
     "output_type": "stream",
     "text": [
      "<class 'pandas.core.frame.DataFrame'>\n",
      "RangeIndex: 1001 entries, 0 to 1000\n",
      "Data columns (total 8 columns):\n",
      " #   Column           Non-Null Count  Dtype \n",
      "---  ------           --------------  ----- \n",
      " 0   company_name     1000 non-null   object\n",
      " 1   industry         1001 non-null   object\n",
      " 2   website          538 non-null    object\n",
      " 3   telephone        864 non-null    object\n",
      " 4   fax              548 non-null    object\n",
      " 5   address          1000 non-null   object\n",
      " 6   address_maplink  1000 non-null   object\n",
      " 7   email            863 non-null    object\n",
      "dtypes: object(8)\n",
      "memory usage: 62.7+ KB\n"
     ]
    }
   ],
   "source": [
    "df12.info()"
   ]
  },
  {
   "cell_type": "code",
   "execution_count": 251,
   "id": "55d34dd2",
   "metadata": {},
   "outputs": [],
   "source": [
    "# save as csv\n",
    "df12.to_csv('batch12.csv', index = False)"
   ]
  },
  {
   "cell_type": "markdown",
   "id": "15d2a25f",
   "metadata": {},
   "source": [
    "### End of Checkpoint-3"
   ]
  },
  {
   "cell_type": "code",
   "execution_count": 252,
   "id": "f9a42d73",
   "metadata": {},
   "outputs": [],
   "source": [
    "#### Merge the two dataframes\n",
    "df = pd.concat([df, df12])"
   ]
  },
  {
   "cell_type": "markdown",
   "id": "e6bee89f",
   "metadata": {},
   "source": [
    "### Checkpoint-4"
   ]
  },
  {
   "cell_type": "code",
   "execution_count": 253,
   "id": "cf69b937",
   "metadata": {},
   "outputs": [
    {
     "name": "stdout",
     "output_type": "stream",
     "text": [
      "<class 'pandas.core.frame.DataFrame'>\n",
      "Int64Index: 12012 entries, 0 to 1000\n",
      "Data columns (total 8 columns):\n",
      " #   Column           Non-Null Count  Dtype \n",
      "---  ------           --------------  ----- \n",
      " 0   company_name     11867 non-null  object\n",
      " 1   industry         11874 non-null  object\n",
      " 2   website          6817 non-null   object\n",
      " 3   telephone        10510 non-null  object\n",
      " 4   fax              6655 non-null   object\n",
      " 5   address          11867 non-null  object\n",
      " 6   address_maplink  11899 non-null  object\n",
      " 7   email            10336 non-null  object\n",
      "dtypes: object(8)\n",
      "memory usage: 844.6+ KB\n"
     ]
    }
   ],
   "source": [
    "df.info()"
   ]
  },
  {
   "cell_type": "code",
   "execution_count": 254,
   "id": "a0c5d11c",
   "metadata": {},
   "outputs": [
    {
     "data": {
      "text/html": [
       "<div>\n",
       "<style scoped>\n",
       "    .dataframe tbody tr th:only-of-type {\n",
       "        vertical-align: middle;\n",
       "    }\n",
       "\n",
       "    .dataframe tbody tr th {\n",
       "        vertical-align: top;\n",
       "    }\n",
       "\n",
       "    .dataframe thead th {\n",
       "        text-align: right;\n",
       "    }\n",
       "</style>\n",
       "<table border=\"1\" class=\"dataframe\">\n",
       "  <thead>\n",
       "    <tr style=\"text-align: right;\">\n",
       "      <th></th>\n",
       "      <th>company_name</th>\n",
       "      <th>industry</th>\n",
       "      <th>website</th>\n",
       "      <th>telephone</th>\n",
       "      <th>fax</th>\n",
       "      <th>address</th>\n",
       "      <th>address_maplink</th>\n",
       "      <th>email</th>\n",
       "    </tr>\n",
       "  </thead>\n",
       "  <tbody>\n",
       "    <tr>\n",
       "      <th>0</th>\n",
       "      <td>Ringler + Strahm Storenbau AG</td>\n",
       "      <td>Sonstige Bauinstallation</td>\n",
       "      <td>http://www.ringler-strahm.ch/</td>\n",
       "      <td>tel:033 345 22 55</td>\n",
       "      <td>fax:033 345 55 19</td>\n",
       "      <td>Uetendorfstrasse 20\\n3634 Thierachern</td>\n",
       "      <td>https://www.google.com/maps/place/Uetendorfstr...</td>\n",
       "      <td>info@ringler-strahm.ch</td>\n",
       "    </tr>\n",
       "    <tr>\n",
       "      <th>1</th>\n",
       "      <td>Grob &amp; Partner Architektur AG</td>\n",
       "      <td>Architekturbüros</td>\n",
       "      <td>http://www.grobarchitektur.ch/</td>\n",
       "      <td>tel:081 720 02 00</td>\n",
       "      <td>fax:081 720 02 05</td>\n",
       "      <td>Bahnhofstrasse 3\\n7320 Sargans</td>\n",
       "      <td>https://www.google.com/maps/place/Bahnhofstras...</td>\n",
       "      <td>8c4075d5481d476e945486754f783364@sentry.io</td>\n",
       "    </tr>\n",
       "    <tr>\n",
       "      <th>2</th>\n",
       "      <td>Lauclair AG</td>\n",
       "      <td>Schreinerarbeiten im Innenausbau</td>\n",
       "      <td>http://www.lauclair.ch/</td>\n",
       "      <td>tel:031 879 01 69</td>\n",
       "      <td>fax:031 879 20 69</td>\n",
       "      <td>Lyssstrasse 27\\n3054 Schüpfen</td>\n",
       "      <td>https://www.google.com/maps/place/Lyssstrasse%...</td>\n",
       "      <td>98181273782d9a9g3251e7d066b95071@2x.jpg</td>\n",
       "    </tr>\n",
       "    <tr>\n",
       "      <th>3</th>\n",
       "      <td>Club Goldwand</td>\n",
       "      <td>Kauf und Verkauf von eigenen Grundstücken, Geb...</td>\n",
       "      <td>http://www.clubgoldwand.ch/</td>\n",
       "      <td>tel:056 282 30 50</td>\n",
       "      <td>NaN</td>\n",
       "      <td>Landstrasse 6\\n5415 Nussbaumen AG</td>\n",
       "      <td>https://www.google.com/maps/place/Landstrasse%...</td>\n",
       "      <td>info@clubgoldwand.ch</td>\n",
       "    </tr>\n",
       "    <tr>\n",
       "      <th>4</th>\n",
       "      <td>NICOLE DIEM Horgen</td>\n",
       "      <td>Detailhandel mit Brillen und anderen Sehhilfen</td>\n",
       "      <td>http://www.nicolediem.ch/</td>\n",
       "      <td>tel:044 770 10 40</td>\n",
       "      <td>NaN</td>\n",
       "      <td>Dorfplatz 3\\n8810 Horgen</td>\n",
       "      <td>https://www.google.com/maps/place/Dorfplatz%20...</td>\n",
       "      <td>johndoe@domain.com</td>\n",
       "    </tr>\n",
       "  </tbody>\n",
       "</table>\n",
       "</div>"
      ],
      "text/plain": [
       "                    company_name  \\\n",
       "0  Ringler + Strahm Storenbau AG   \n",
       "1  Grob & Partner Architektur AG   \n",
       "2                    Lauclair AG   \n",
       "3                  Club Goldwand   \n",
       "4             NICOLE DIEM Horgen   \n",
       "\n",
       "                                            industry  \\\n",
       "0                           Sonstige Bauinstallation   \n",
       "1                                   Architekturbüros   \n",
       "2                   Schreinerarbeiten im Innenausbau   \n",
       "3  Kauf und Verkauf von eigenen Grundstücken, Geb...   \n",
       "4     Detailhandel mit Brillen und anderen Sehhilfen   \n",
       "\n",
       "                          website          telephone                fax  \\\n",
       "0   http://www.ringler-strahm.ch/  tel:033 345 22 55  fax:033 345 55 19   \n",
       "1  http://www.grobarchitektur.ch/  tel:081 720 02 00  fax:081 720 02 05   \n",
       "2         http://www.lauclair.ch/  tel:031 879 01 69  fax:031 879 20 69   \n",
       "3     http://www.clubgoldwand.ch/  tel:056 282 30 50                NaN   \n",
       "4       http://www.nicolediem.ch/  tel:044 770 10 40                NaN   \n",
       "\n",
       "                                 address  \\\n",
       "0  Uetendorfstrasse 20\\n3634 Thierachern   \n",
       "1         Bahnhofstrasse 3\\n7320 Sargans   \n",
       "2          Lyssstrasse 27\\n3054 Schüpfen   \n",
       "3      Landstrasse 6\\n5415 Nussbaumen AG   \n",
       "4               Dorfplatz 3\\n8810 Horgen   \n",
       "\n",
       "                                     address_maplink  \\\n",
       "0  https://www.google.com/maps/place/Uetendorfstr...   \n",
       "1  https://www.google.com/maps/place/Bahnhofstras...   \n",
       "2  https://www.google.com/maps/place/Lyssstrasse%...   \n",
       "3  https://www.google.com/maps/place/Landstrasse%...   \n",
       "4  https://www.google.com/maps/place/Dorfplatz%20...   \n",
       "\n",
       "                                        email  \n",
       "0                      info@ringler-strahm.ch  \n",
       "1  8c4075d5481d476e945486754f783364@sentry.io  \n",
       "2     98181273782d9a9g3251e7d066b95071@2x.jpg  \n",
       "3                        info@clubgoldwand.ch  \n",
       "4                          johndoe@domain.com  "
      ]
     },
     "execution_count": 254,
     "metadata": {},
     "output_type": "execute_result"
    }
   ],
   "source": [
    "df.head()"
   ]
  },
  {
   "cell_type": "code",
   "execution_count": 255,
   "id": "917d2f31",
   "metadata": {},
   "outputs": [
    {
     "data": {
      "text/html": [
       "<div>\n",
       "<style scoped>\n",
       "    .dataframe tbody tr th:only-of-type {\n",
       "        vertical-align: middle;\n",
       "    }\n",
       "\n",
       "    .dataframe tbody tr th {\n",
       "        vertical-align: top;\n",
       "    }\n",
       "\n",
       "    .dataframe thead th {\n",
       "        text-align: right;\n",
       "    }\n",
       "</style>\n",
       "<table border=\"1\" class=\"dataframe\">\n",
       "  <thead>\n",
       "    <tr style=\"text-align: right;\">\n",
       "      <th></th>\n",
       "      <th>company_name</th>\n",
       "      <th>industry</th>\n",
       "      <th>website</th>\n",
       "      <th>telephone</th>\n",
       "      <th>fax</th>\n",
       "      <th>address</th>\n",
       "      <th>address_maplink</th>\n",
       "      <th>email</th>\n",
       "    </tr>\n",
       "  </thead>\n",
       "  <tbody>\n",
       "    <tr>\n",
       "      <th>996</th>\n",
       "      <td>Felix Enzler Unterlagsböden AG</td>\n",
       "      <td>Verlegen von Fussboden</td>\n",
       "      <td>http://www.enzlerag.ch/</td>\n",
       "      <td>tel:071 433 19 55</td>\n",
       "      <td>fax:071 433 22 55</td>\n",
       "      <td>Lerchenstrasse 22a\\n9304 Bernhardzell</td>\n",
       "      <td>https://www.google.com/maps/place/Lerchenstras...</td>\n",
       "      <td>website not accessible</td>\n",
       "    </tr>\n",
       "    <tr>\n",
       "      <th>997</th>\n",
       "      <td>Claudio Beer</td>\n",
       "      <td>Schreinerarbeiten im Innenausbau</td>\n",
       "      <td>NaN</td>\n",
       "      <td>tel:081 252 48 62</td>\n",
       "      <td>fax:081 253 31 49</td>\n",
       "      <td>Grünbergstrasse 16\\n7000 Chur</td>\n",
       "      <td>https://www.google.com/maps/place/Gr%C3%BCnber...</td>\n",
       "      <td>website not accessible</td>\n",
       "    </tr>\n",
       "    <tr>\n",
       "      <th>998</th>\n",
       "      <td>PBH IDEA AG</td>\n",
       "      <td>Grosshandel mit Baustoffen</td>\n",
       "      <td>http://www.pbh-idea.ch/</td>\n",
       "      <td>NaN</td>\n",
       "      <td>NaN</td>\n",
       "      <td>Bösch 21\\n6331 Hünenberg</td>\n",
       "      <td>https://www.google.com/maps/place/B%C3%B6sch%2...</td>\n",
       "      <td>None</td>\n",
       "    </tr>\n",
       "    <tr>\n",
       "      <th>999</th>\n",
       "      <td>Imwinkelried Lüftung und Klima AG</td>\n",
       "      <td>lnstallation von Heizungs-, Lüftungs- und Klim...</td>\n",
       "      <td>http://www.imwinkelried.ch/</td>\n",
       "      <td>tel:027 948 07 20</td>\n",
       "      <td>fax:027 948 07 25</td>\n",
       "      <td>Torweg 10\\n3930 Visp</td>\n",
       "      <td>https://www.google.com/maps/place/Torweg%2010+...</td>\n",
       "      <td>bad link</td>\n",
       "    </tr>\n",
       "    <tr>\n",
       "      <th>1000</th>\n",
       "      <td>Wohnbaugenoss.Reigoldswil</td>\n",
       "      <td>Kauf und Verkauf von eigenen Grundstücken, Geb...</td>\n",
       "      <td>NaN</td>\n",
       "      <td>tel:061 941 21 72</td>\n",
       "      <td>fax:061 943 10 06</td>\n",
       "      <td>Ischlagweg 19\\n4418 Reigoldswil</td>\n",
       "      <td>https://www.google.com/maps/place/Ischlagweg%2...</td>\n",
       "      <td>website not accessible</td>\n",
       "    </tr>\n",
       "  </tbody>\n",
       "</table>\n",
       "</div>"
      ],
      "text/plain": [
       "                           company_name  \\\n",
       "996      Felix Enzler Unterlagsböden AG   \n",
       "997                        Claudio Beer   \n",
       "998                         PBH IDEA AG   \n",
       "999   Imwinkelried Lüftung und Klima AG   \n",
       "1000          Wohnbaugenoss.Reigoldswil   \n",
       "\n",
       "                                               industry  \\\n",
       "996                              Verlegen von Fussboden   \n",
       "997                    Schreinerarbeiten im Innenausbau   \n",
       "998                          Grosshandel mit Baustoffen   \n",
       "999   lnstallation von Heizungs-, Lüftungs- und Klim...   \n",
       "1000  Kauf und Verkauf von eigenen Grundstücken, Geb...   \n",
       "\n",
       "                          website          telephone                fax  \\\n",
       "996       http://www.enzlerag.ch/  tel:071 433 19 55  fax:071 433 22 55   \n",
       "997                           NaN  tel:081 252 48 62  fax:081 253 31 49   \n",
       "998       http://www.pbh-idea.ch/                NaN                NaN   \n",
       "999   http://www.imwinkelried.ch/  tel:027 948 07 20  fax:027 948 07 25   \n",
       "1000                          NaN  tel:061 941 21 72  fax:061 943 10 06   \n",
       "\n",
       "                                    address  \\\n",
       "996   Lerchenstrasse 22a\\n9304 Bernhardzell   \n",
       "997           Grünbergstrasse 16\\n7000 Chur   \n",
       "998                Bösch 21\\n6331 Hünenberg   \n",
       "999                    Torweg 10\\n3930 Visp   \n",
       "1000        Ischlagweg 19\\n4418 Reigoldswil   \n",
       "\n",
       "                                        address_maplink  \\\n",
       "996   https://www.google.com/maps/place/Lerchenstras...   \n",
       "997   https://www.google.com/maps/place/Gr%C3%BCnber...   \n",
       "998   https://www.google.com/maps/place/B%C3%B6sch%2...   \n",
       "999   https://www.google.com/maps/place/Torweg%2010+...   \n",
       "1000  https://www.google.com/maps/place/Ischlagweg%2...   \n",
       "\n",
       "                       email  \n",
       "996   website not accessible  \n",
       "997   website not accessible  \n",
       "998                     None  \n",
       "999                 bad link  \n",
       "1000  website not accessible  "
      ]
     },
     "execution_count": 255,
     "metadata": {},
     "output_type": "execute_result"
    }
   ],
   "source": [
    "df.tail()"
   ]
  },
  {
   "cell_type": "code",
   "execution_count": 256,
   "id": "e646a1ae",
   "metadata": {},
   "outputs": [
    {
     "data": {
      "text/html": [
       "<div>\n",
       "<style scoped>\n",
       "    .dataframe tbody tr th:only-of-type {\n",
       "        vertical-align: middle;\n",
       "    }\n",
       "\n",
       "    .dataframe tbody tr th {\n",
       "        vertical-align: top;\n",
       "    }\n",
       "\n",
       "    .dataframe thead th {\n",
       "        text-align: right;\n",
       "    }\n",
       "</style>\n",
       "<table border=\"1\" class=\"dataframe\">\n",
       "  <thead>\n",
       "    <tr style=\"text-align: right;\">\n",
       "      <th></th>\n",
       "      <th>company_name</th>\n",
       "      <th>industry</th>\n",
       "      <th>website</th>\n",
       "      <th>telephone</th>\n",
       "      <th>fax</th>\n",
       "      <th>address</th>\n",
       "      <th>address_maplink</th>\n",
       "      <th>email</th>\n",
       "    </tr>\n",
       "  </thead>\n",
       "  <tbody>\n",
       "    <tr>\n",
       "      <th>0</th>\n",
       "      <td>True</td>\n",
       "      <td>True</td>\n",
       "      <td>True</td>\n",
       "      <td>True</td>\n",
       "      <td>True</td>\n",
       "      <td>True</td>\n",
       "      <td>True</td>\n",
       "      <td>True</td>\n",
       "    </tr>\n",
       "    <tr>\n",
       "      <th>1</th>\n",
       "      <td>True</td>\n",
       "      <td>True</td>\n",
       "      <td>True</td>\n",
       "      <td>True</td>\n",
       "      <td>True</td>\n",
       "      <td>True</td>\n",
       "      <td>True</td>\n",
       "      <td>True</td>\n",
       "    </tr>\n",
       "    <tr>\n",
       "      <th>2</th>\n",
       "      <td>True</td>\n",
       "      <td>True</td>\n",
       "      <td>True</td>\n",
       "      <td>True</td>\n",
       "      <td>True</td>\n",
       "      <td>True</td>\n",
       "      <td>True</td>\n",
       "      <td>True</td>\n",
       "    </tr>\n",
       "    <tr>\n",
       "      <th>3</th>\n",
       "      <td>True</td>\n",
       "      <td>True</td>\n",
       "      <td>True</td>\n",
       "      <td>True</td>\n",
       "      <td>False</td>\n",
       "      <td>True</td>\n",
       "      <td>True</td>\n",
       "      <td>True</td>\n",
       "    </tr>\n",
       "    <tr>\n",
       "      <th>4</th>\n",
       "      <td>True</td>\n",
       "      <td>True</td>\n",
       "      <td>True</td>\n",
       "      <td>True</td>\n",
       "      <td>False</td>\n",
       "      <td>True</td>\n",
       "      <td>True</td>\n",
       "      <td>True</td>\n",
       "    </tr>\n",
       "  </tbody>\n",
       "</table>\n",
       "</div>"
      ],
      "text/plain": [
       "   company_name  industry  website  telephone    fax  address  \\\n",
       "0          True      True     True       True   True     True   \n",
       "1          True      True     True       True   True     True   \n",
       "2          True      True     True       True   True     True   \n",
       "3          True      True     True       True  False     True   \n",
       "4          True      True     True       True  False     True   \n",
       "\n",
       "   address_maplink  email  \n",
       "0             True   True  \n",
       "1             True   True  \n",
       "2             True   True  \n",
       "3             True   True  \n",
       "4             True   True  "
      ]
     },
     "execution_count": 256,
     "metadata": {},
     "output_type": "execute_result"
    }
   ],
   "source": [
    "df.head() == df1.head()"
   ]
  },
  {
   "cell_type": "code",
   "execution_count": 257,
   "id": "69f67d0f",
   "metadata": {},
   "outputs": [
    {
     "data": {
      "text/html": [
       "<div>\n",
       "<style scoped>\n",
       "    .dataframe tbody tr th:only-of-type {\n",
       "        vertical-align: middle;\n",
       "    }\n",
       "\n",
       "    .dataframe tbody tr th {\n",
       "        vertical-align: top;\n",
       "    }\n",
       "\n",
       "    .dataframe thead th {\n",
       "        text-align: right;\n",
       "    }\n",
       "</style>\n",
       "<table border=\"1\" class=\"dataframe\">\n",
       "  <thead>\n",
       "    <tr style=\"text-align: right;\">\n",
       "      <th></th>\n",
       "      <th>company_name</th>\n",
       "      <th>industry</th>\n",
       "      <th>website</th>\n",
       "      <th>telephone</th>\n",
       "      <th>fax</th>\n",
       "      <th>address</th>\n",
       "      <th>address_maplink</th>\n",
       "      <th>email</th>\n",
       "    </tr>\n",
       "  </thead>\n",
       "  <tbody>\n",
       "    <tr>\n",
       "      <th>996</th>\n",
       "      <td>True</td>\n",
       "      <td>True</td>\n",
       "      <td>True</td>\n",
       "      <td>True</td>\n",
       "      <td>True</td>\n",
       "      <td>True</td>\n",
       "      <td>True</td>\n",
       "      <td>True</td>\n",
       "    </tr>\n",
       "    <tr>\n",
       "      <th>997</th>\n",
       "      <td>True</td>\n",
       "      <td>True</td>\n",
       "      <td>False</td>\n",
       "      <td>True</td>\n",
       "      <td>True</td>\n",
       "      <td>True</td>\n",
       "      <td>True</td>\n",
       "      <td>True</td>\n",
       "    </tr>\n",
       "    <tr>\n",
       "      <th>998</th>\n",
       "      <td>True</td>\n",
       "      <td>True</td>\n",
       "      <td>True</td>\n",
       "      <td>False</td>\n",
       "      <td>False</td>\n",
       "      <td>True</td>\n",
       "      <td>True</td>\n",
       "      <td>False</td>\n",
       "    </tr>\n",
       "    <tr>\n",
       "      <th>999</th>\n",
       "      <td>True</td>\n",
       "      <td>True</td>\n",
       "      <td>True</td>\n",
       "      <td>True</td>\n",
       "      <td>True</td>\n",
       "      <td>True</td>\n",
       "      <td>True</td>\n",
       "      <td>True</td>\n",
       "    </tr>\n",
       "    <tr>\n",
       "      <th>1000</th>\n",
       "      <td>True</td>\n",
       "      <td>True</td>\n",
       "      <td>False</td>\n",
       "      <td>True</td>\n",
       "      <td>True</td>\n",
       "      <td>True</td>\n",
       "      <td>True</td>\n",
       "      <td>True</td>\n",
       "    </tr>\n",
       "  </tbody>\n",
       "</table>\n",
       "</div>"
      ],
      "text/plain": [
       "      company_name  industry  website  telephone    fax  address  \\\n",
       "996           True      True     True       True   True     True   \n",
       "997           True      True    False       True   True     True   \n",
       "998           True      True     True      False  False     True   \n",
       "999           True      True     True       True   True     True   \n",
       "1000          True      True    False       True   True     True   \n",
       "\n",
       "      address_maplink  email  \n",
       "996              True   True  \n",
       "997              True   True  \n",
       "998              True  False  \n",
       "999              True   True  \n",
       "1000             True   True  "
      ]
     },
     "execution_count": 257,
     "metadata": {},
     "output_type": "execute_result"
    }
   ],
   "source": [
    "df.tail() == df12.tail()"
   ]
  },
  {
   "cell_type": "markdown",
   "id": "d25eabed",
   "metadata": {},
   "source": [
    "### End of Checkpoint-4"
   ]
  },
  {
   "cell_type": "markdown",
   "id": "c8ad6fd8",
   "metadata": {},
   "source": [
    "### xxxxxxxxxxxxxxxxxxxxxxx Push to Github xxxxxxxxxxxxxxxxxxxxxxxx"
   ]
  },
  {
   "cell_type": "markdown",
   "id": "acf1cbb5",
   "metadata": {},
   "source": [
    "### Batch-13, batch_size = 1000, batch_start_index = 12001\n"
   ]
  },
  {
   "cell_type": "markdown",
   "id": "a755b04e",
   "metadata": {},
   "source": [
    "#### !Cell is executed. Uncomment (Ctrl + A followed by Ctrl + /) and execute (Shift + Enter) again only if you want to run the batch again."
   ]
  },
  {
   "cell_type": "code",
   "execution_count": 258,
   "id": "f7f26809",
   "metadata": {},
   "outputs": [],
   "source": [
    "# # Extract info of interst\n",
    "# start_time = time.time()\n",
    "# batch13_initial = extract_info_of_interest(unique_company_profile_urls, batch_size = 1000, batch_start_index = 12001, sleep=5)\n",
    "# end_time = time.time()\n",
    "# execution_time = end_time - start_time\n",
    "# print('execution time: ', execution_time)"
   ]
  },
  {
   "cell_type": "markdown",
   "id": "cbde741f",
   "metadata": {},
   "source": [
    "### Checkpoint-1"
   ]
  },
  {
   "cell_type": "code",
   "execution_count": 259,
   "id": "26dfb12c",
   "metadata": {},
   "outputs": [],
   "source": [
    "# # Test-Block !Uncomment and execute only if running the batch again\n",
    "# print(len(batch13_initial))\n",
    "# print(len(batch13_initial[-1]))"
   ]
  },
  {
   "cell_type": "code",
   "execution_count": 260,
   "id": "ed8d48a5",
   "metadata": {},
   "outputs": [],
   "source": [
    "# # # Test-Block !Uncomment and execute only if running the batch again\n",
    "# print(batch13_initial[:3])"
   ]
  },
  {
   "cell_type": "markdown",
   "id": "49427992",
   "metadata": {},
   "source": [
    "### End of Checkpoint-1"
   ]
  },
  {
   "cell_type": "code",
   "execution_count": 261,
   "id": "90f8e6fe",
   "metadata": {},
   "outputs": [],
   "source": [
    "batch13df = pd.read_csv('batch13.csv')"
   ]
  },
  {
   "cell_type": "code",
   "execution_count": 262,
   "id": "23af254b",
   "metadata": {},
   "outputs": [],
   "source": [
    "batch13df_initial = batch13df.drop(['email'], axis = 1)"
   ]
  },
  {
   "cell_type": "code",
   "execution_count": 263,
   "id": "b4ad71f4",
   "metadata": {
    "scrolled": true
   },
   "outputs": [
    {
     "name": "stdout",
     "output_type": "stream",
     "text": [
      "<class 'pandas.core.frame.DataFrame'>\n",
      "RangeIndex: 1001 entries, 0 to 1000\n",
      "Data columns (total 7 columns):\n",
      " #   Column           Non-Null Count  Dtype \n",
      "---  ------           --------------  ----- \n",
      " 0   company_name     980 non-null    object\n",
      " 1   industry         980 non-null    object\n",
      " 2   website          550 non-null    object\n",
      " 3   telephone        864 non-null    object\n",
      " 4   fax              554 non-null    object\n",
      " 5   address          980 non-null    object\n",
      " 6   address_maplink  980 non-null    object\n",
      "dtypes: object(7)\n",
      "memory usage: 54.9+ KB\n"
     ]
    }
   ],
   "source": [
    "batch13df_initial.info()"
   ]
  },
  {
   "cell_type": "code",
   "execution_count": 264,
   "id": "13b9dbc6",
   "metadata": {},
   "outputs": [
    {
     "name": "stdout",
     "output_type": "stream",
     "text": [
      "[['Wohnbaugenoss.Reigoldswil', 'Kauf und Verkauf von eigenen Grundstücken, Gebäuden und Wohnungen', nan, 'tel:061 941 21 72', 'fax:061 943 10 06', 'Ischlagweg 19\\n4418 Reigoldswil', 'https://www.google.com/maps/place/Ischlagweg%2019+4418+Reigoldswil'], ['Silvestro Castelli GmbH', 'Werbeagenturen', nan, 'tel:041 203 27 70', nan, 'St.Karlistrasse 13b\\n6004 Luzern', 'https://www.google.com/maps/place/St.Karlistrasse%2013b+6004+Luzern'], ['Erwin & Bruno Brühwiler AG', 'Schreinerarbeiten im Innenausbau', 'http://www.bruehwiler-schreinerei.ch/', 'tel:071 969 69 00', 'fax:071 966 13 05', 'Fischingerstrasse 108\\n8372 Wiezikon b. Sirnach', 'https://www.google.com/maps/place/Fischingerstrasse%20108+8372+Wiezikon%20b.%20Sirnach']]\n"
     ]
    }
   ],
   "source": [
    "batch13_initial = batch13df_initial.values.tolist()\n",
    "print(batch13_initial[:3])"
   ]
  },
  {
   "cell_type": "markdown",
   "id": "cd0784e1",
   "metadata": {},
   "source": [
    "#### Following Function Extracts emails from Home Page Only (Takes Less Time: 1 sec per page)"
   ]
  },
  {
   "cell_type": "code",
   "execution_count": 265,
   "id": "9c8c3760",
   "metadata": {},
   "outputs": [
    {
     "name": "stdout",
     "output_type": "stream",
     "text": [
      "No of emails found:  314\n",
      "execution time:  1082.9126479625702\n"
     ]
    }
   ],
   "source": [
    "# Extract emails\n",
    "start_time = time.time()\n",
    "pattern = r'\\b[A-Za-z0-9._%+-]+@[A-Za-z0-9.-]+\\.[A-Z|a-z]{2,}\\b'\n",
    "batch13 = extract_emails_from_homepage(batch13_initial, pattern = pattern , index=2)\n",
    "end_time = time.time()\n",
    "execution_time = end_time - start_time\n",
    "print('execution time: ', execution_time)"
   ]
  },
  {
   "cell_type": "markdown",
   "id": "e03ba863",
   "metadata": {},
   "source": [
    "### Checkpoint-2"
   ]
  },
  {
   "cell_type": "code",
   "execution_count": 266,
   "id": "fd3f6801",
   "metadata": {},
   "outputs": [
    {
     "name": "stdout",
     "output_type": "stream",
     "text": [
      "1001\n",
      "8\n",
      "[['on3 neues wohnen AG', 'Aktivitäten der Generalunternehmen im Baugewerbe', nan, 'tel:061 511 79 00', nan, 'St. Johanns-Vorstadt 17\\n4056 Basel', 'https://www.google.com/maps/place/St.%20Johanns-Vorstadt%2017+4056+Basel', 'website not accessible'], ['Due 4 You Coiffure Rüegger Judith', 'Coiffeursalons', 'http://www.4youcoiffure.ch/', 'tel:062 794 41 45', nan, 'Sennhofweg 12\\n4852 Rothrist', 'https://www.google.com/maps/place/Sennhofweg%2012+4852+Rothrist'], ['Garage Auto Kunz AG', 'lnstandhaltung und Reparatur von Automobilen', 'http://www.autokunz.ch/', 'tel:056 622 13 43', 'fax:056 619 70 80', 'Bremgarterstrasse 38+75\\n5610 Wohlen AG', 'https://www.google.com/maps/place/Bremgarterstrasse%2038+75+5610+Wohlen%20AG', 'werkstatt@autokunz.ch'], ['Duss Baumanagement AG', 'Architekturbüros', nan, 'tel:041 620 00 01', 'fax:041 620 00 02', 'Vorderlinden 2\\n6374 Buochs', 'https://www.google.com/maps/place/Vorderlinden%202+6374+Buochs', 'website not accessible'], ['Cleanetta Trading GmbH', 'Bewertungen', nan, 'tel:056 633 64 22', 'fax:056 631 76 67', 'Birkenweg 5\\n5615 Fahrwangen', 'https://www.google.com/maps/place/Birkenweg%205+5615+Fahrwangen', 'website not accessible']]\n"
     ]
    }
   ],
   "source": [
    "print(len(batch13)) # should be same as batch_size i.e. 1000\n",
    "print(len(batch13[-1])) # should be 8\n",
    "print(batch13[-5:]) #should have 8 items in each list with emails or remarks added"
   ]
  },
  {
   "cell_type": "markdown",
   "id": "79287140",
   "metadata": {},
   "source": [
    "### End of Checkpoint-2"
   ]
  },
  {
   "cell_type": "code",
   "execution_count": 267,
   "id": "b30f1812",
   "metadata": {},
   "outputs": [],
   "source": [
    "# # Convert to Dataframe batch11\n",
    "df13 = pd.DataFrame(batch13, columns=columns)\n"
   ]
  },
  {
   "cell_type": "markdown",
   "id": "6961984f",
   "metadata": {},
   "source": [
    "### Checkpoint-3"
   ]
  },
  {
   "cell_type": "code",
   "execution_count": 268,
   "id": "abe4b455",
   "metadata": {},
   "outputs": [
    {
     "name": "stdout",
     "output_type": "stream",
     "text": [
      "<class 'pandas.core.frame.DataFrame'>\n",
      "RangeIndex: 1001 entries, 0 to 1000\n",
      "Data columns (total 8 columns):\n",
      " #   Column           Non-Null Count  Dtype \n",
      "---  ------           --------------  ----- \n",
      " 0   company_name     980 non-null    object\n",
      " 1   industry         980 non-null    object\n",
      " 2   website          550 non-null    object\n",
      " 3   telephone        864 non-null    object\n",
      " 4   fax              554 non-null    object\n",
      " 5   address          980 non-null    object\n",
      " 6   address_maplink  980 non-null    object\n",
      " 7   email            855 non-null    object\n",
      "dtypes: object(8)\n",
      "memory usage: 62.7+ KB\n"
     ]
    }
   ],
   "source": [
    "df13.info()"
   ]
  },
  {
   "cell_type": "code",
   "execution_count": 269,
   "id": "74ae5aa6",
   "metadata": {},
   "outputs": [],
   "source": [
    "# save as csv\n",
    "df13.to_csv('batch13.csv', index = False)"
   ]
  },
  {
   "cell_type": "markdown",
   "id": "72631f94",
   "metadata": {},
   "source": [
    "### End of Checkpoint-3"
   ]
  },
  {
   "cell_type": "code",
   "execution_count": 270,
   "id": "c509db37",
   "metadata": {},
   "outputs": [],
   "source": [
    "#### Merge the two dataframes\n",
    "df = pd.concat([df, df13])"
   ]
  },
  {
   "cell_type": "markdown",
   "id": "0bdeb9b1",
   "metadata": {},
   "source": [
    "### Checkpoint-4"
   ]
  },
  {
   "cell_type": "code",
   "execution_count": 271,
   "id": "11a17505",
   "metadata": {},
   "outputs": [
    {
     "name": "stdout",
     "output_type": "stream",
     "text": [
      "<class 'pandas.core.frame.DataFrame'>\n",
      "Int64Index: 13013 entries, 0 to 1000\n",
      "Data columns (total 8 columns):\n",
      " #   Column           Non-Null Count  Dtype \n",
      "---  ------           --------------  ----- \n",
      " 0   company_name     12847 non-null  object\n",
      " 1   industry         12854 non-null  object\n",
      " 2   website          7367 non-null   object\n",
      " 3   telephone        11374 non-null  object\n",
      " 4   fax              7209 non-null   object\n",
      " 5   address          12847 non-null  object\n",
      " 6   address_maplink  12879 non-null  object\n",
      " 7   email            11191 non-null  object\n",
      "dtypes: object(8)\n",
      "memory usage: 915.0+ KB\n"
     ]
    }
   ],
   "source": [
    "df.info()"
   ]
  },
  {
   "cell_type": "code",
   "execution_count": 272,
   "id": "7c2d547b",
   "metadata": {},
   "outputs": [
    {
     "data": {
      "text/html": [
       "<div>\n",
       "<style scoped>\n",
       "    .dataframe tbody tr th:only-of-type {\n",
       "        vertical-align: middle;\n",
       "    }\n",
       "\n",
       "    .dataframe tbody tr th {\n",
       "        vertical-align: top;\n",
       "    }\n",
       "\n",
       "    .dataframe thead th {\n",
       "        text-align: right;\n",
       "    }\n",
       "</style>\n",
       "<table border=\"1\" class=\"dataframe\">\n",
       "  <thead>\n",
       "    <tr style=\"text-align: right;\">\n",
       "      <th></th>\n",
       "      <th>company_name</th>\n",
       "      <th>industry</th>\n",
       "      <th>website</th>\n",
       "      <th>telephone</th>\n",
       "      <th>fax</th>\n",
       "      <th>address</th>\n",
       "      <th>address_maplink</th>\n",
       "      <th>email</th>\n",
       "    </tr>\n",
       "  </thead>\n",
       "  <tbody>\n",
       "    <tr>\n",
       "      <th>0</th>\n",
       "      <td>Ringler + Strahm Storenbau AG</td>\n",
       "      <td>Sonstige Bauinstallation</td>\n",
       "      <td>http://www.ringler-strahm.ch/</td>\n",
       "      <td>tel:033 345 22 55</td>\n",
       "      <td>fax:033 345 55 19</td>\n",
       "      <td>Uetendorfstrasse 20\\n3634 Thierachern</td>\n",
       "      <td>https://www.google.com/maps/place/Uetendorfstr...</td>\n",
       "      <td>info@ringler-strahm.ch</td>\n",
       "    </tr>\n",
       "    <tr>\n",
       "      <th>1</th>\n",
       "      <td>Grob &amp; Partner Architektur AG</td>\n",
       "      <td>Architekturbüros</td>\n",
       "      <td>http://www.grobarchitektur.ch/</td>\n",
       "      <td>tel:081 720 02 00</td>\n",
       "      <td>fax:081 720 02 05</td>\n",
       "      <td>Bahnhofstrasse 3\\n7320 Sargans</td>\n",
       "      <td>https://www.google.com/maps/place/Bahnhofstras...</td>\n",
       "      <td>8c4075d5481d476e945486754f783364@sentry.io</td>\n",
       "    </tr>\n",
       "    <tr>\n",
       "      <th>2</th>\n",
       "      <td>Lauclair AG</td>\n",
       "      <td>Schreinerarbeiten im Innenausbau</td>\n",
       "      <td>http://www.lauclair.ch/</td>\n",
       "      <td>tel:031 879 01 69</td>\n",
       "      <td>fax:031 879 20 69</td>\n",
       "      <td>Lyssstrasse 27\\n3054 Schüpfen</td>\n",
       "      <td>https://www.google.com/maps/place/Lyssstrasse%...</td>\n",
       "      <td>98181273782d9a9g3251e7d066b95071@2x.jpg</td>\n",
       "    </tr>\n",
       "    <tr>\n",
       "      <th>3</th>\n",
       "      <td>Club Goldwand</td>\n",
       "      <td>Kauf und Verkauf von eigenen Grundstücken, Geb...</td>\n",
       "      <td>http://www.clubgoldwand.ch/</td>\n",
       "      <td>tel:056 282 30 50</td>\n",
       "      <td>NaN</td>\n",
       "      <td>Landstrasse 6\\n5415 Nussbaumen AG</td>\n",
       "      <td>https://www.google.com/maps/place/Landstrasse%...</td>\n",
       "      <td>info@clubgoldwand.ch</td>\n",
       "    </tr>\n",
       "    <tr>\n",
       "      <th>4</th>\n",
       "      <td>NICOLE DIEM Horgen</td>\n",
       "      <td>Detailhandel mit Brillen und anderen Sehhilfen</td>\n",
       "      <td>http://www.nicolediem.ch/</td>\n",
       "      <td>tel:044 770 10 40</td>\n",
       "      <td>NaN</td>\n",
       "      <td>Dorfplatz 3\\n8810 Horgen</td>\n",
       "      <td>https://www.google.com/maps/place/Dorfplatz%20...</td>\n",
       "      <td>johndoe@domain.com</td>\n",
       "    </tr>\n",
       "  </tbody>\n",
       "</table>\n",
       "</div>"
      ],
      "text/plain": [
       "                    company_name  \\\n",
       "0  Ringler + Strahm Storenbau AG   \n",
       "1  Grob & Partner Architektur AG   \n",
       "2                    Lauclair AG   \n",
       "3                  Club Goldwand   \n",
       "4             NICOLE DIEM Horgen   \n",
       "\n",
       "                                            industry  \\\n",
       "0                           Sonstige Bauinstallation   \n",
       "1                                   Architekturbüros   \n",
       "2                   Schreinerarbeiten im Innenausbau   \n",
       "3  Kauf und Verkauf von eigenen Grundstücken, Geb...   \n",
       "4     Detailhandel mit Brillen und anderen Sehhilfen   \n",
       "\n",
       "                          website          telephone                fax  \\\n",
       "0   http://www.ringler-strahm.ch/  tel:033 345 22 55  fax:033 345 55 19   \n",
       "1  http://www.grobarchitektur.ch/  tel:081 720 02 00  fax:081 720 02 05   \n",
       "2         http://www.lauclair.ch/  tel:031 879 01 69  fax:031 879 20 69   \n",
       "3     http://www.clubgoldwand.ch/  tel:056 282 30 50                NaN   \n",
       "4       http://www.nicolediem.ch/  tel:044 770 10 40                NaN   \n",
       "\n",
       "                                 address  \\\n",
       "0  Uetendorfstrasse 20\\n3634 Thierachern   \n",
       "1         Bahnhofstrasse 3\\n7320 Sargans   \n",
       "2          Lyssstrasse 27\\n3054 Schüpfen   \n",
       "3      Landstrasse 6\\n5415 Nussbaumen AG   \n",
       "4               Dorfplatz 3\\n8810 Horgen   \n",
       "\n",
       "                                     address_maplink  \\\n",
       "0  https://www.google.com/maps/place/Uetendorfstr...   \n",
       "1  https://www.google.com/maps/place/Bahnhofstras...   \n",
       "2  https://www.google.com/maps/place/Lyssstrasse%...   \n",
       "3  https://www.google.com/maps/place/Landstrasse%...   \n",
       "4  https://www.google.com/maps/place/Dorfplatz%20...   \n",
       "\n",
       "                                        email  \n",
       "0                      info@ringler-strahm.ch  \n",
       "1  8c4075d5481d476e945486754f783364@sentry.io  \n",
       "2     98181273782d9a9g3251e7d066b95071@2x.jpg  \n",
       "3                        info@clubgoldwand.ch  \n",
       "4                          johndoe@domain.com  "
      ]
     },
     "execution_count": 272,
     "metadata": {},
     "output_type": "execute_result"
    }
   ],
   "source": [
    "df.head()"
   ]
  },
  {
   "cell_type": "code",
   "execution_count": 273,
   "id": "4f1e6c66",
   "metadata": {},
   "outputs": [
    {
     "data": {
      "text/html": [
       "<div>\n",
       "<style scoped>\n",
       "    .dataframe tbody tr th:only-of-type {\n",
       "        vertical-align: middle;\n",
       "    }\n",
       "\n",
       "    .dataframe tbody tr th {\n",
       "        vertical-align: top;\n",
       "    }\n",
       "\n",
       "    .dataframe thead th {\n",
       "        text-align: right;\n",
       "    }\n",
       "</style>\n",
       "<table border=\"1\" class=\"dataframe\">\n",
       "  <thead>\n",
       "    <tr style=\"text-align: right;\">\n",
       "      <th></th>\n",
       "      <th>company_name</th>\n",
       "      <th>industry</th>\n",
       "      <th>website</th>\n",
       "      <th>telephone</th>\n",
       "      <th>fax</th>\n",
       "      <th>address</th>\n",
       "      <th>address_maplink</th>\n",
       "      <th>email</th>\n",
       "    </tr>\n",
       "  </thead>\n",
       "  <tbody>\n",
       "    <tr>\n",
       "      <th>996</th>\n",
       "      <td>on3 neues wohnen AG</td>\n",
       "      <td>Aktivitäten der Generalunternehmen im Baugewerbe</td>\n",
       "      <td>NaN</td>\n",
       "      <td>tel:061 511 79 00</td>\n",
       "      <td>NaN</td>\n",
       "      <td>St. Johanns-Vorstadt 17\\n4056 Basel</td>\n",
       "      <td>https://www.google.com/maps/place/St.%20Johann...</td>\n",
       "      <td>website not accessible</td>\n",
       "    </tr>\n",
       "    <tr>\n",
       "      <th>997</th>\n",
       "      <td>Due 4 You Coiffure Rüegger Judith</td>\n",
       "      <td>Coiffeursalons</td>\n",
       "      <td>http://www.4youcoiffure.ch/</td>\n",
       "      <td>tel:062 794 41 45</td>\n",
       "      <td>NaN</td>\n",
       "      <td>Sennhofweg 12\\n4852 Rothrist</td>\n",
       "      <td>https://www.google.com/maps/place/Sennhofweg%2...</td>\n",
       "      <td>None</td>\n",
       "    </tr>\n",
       "    <tr>\n",
       "      <th>998</th>\n",
       "      <td>Garage Auto Kunz AG</td>\n",
       "      <td>lnstandhaltung und Reparatur von Automobilen</td>\n",
       "      <td>http://www.autokunz.ch/</td>\n",
       "      <td>tel:056 622 13 43</td>\n",
       "      <td>fax:056 619 70 80</td>\n",
       "      <td>Bremgarterstrasse 38+75\\n5610 Wohlen AG</td>\n",
       "      <td>https://www.google.com/maps/place/Bremgarterst...</td>\n",
       "      <td>werkstatt@autokunz.ch</td>\n",
       "    </tr>\n",
       "    <tr>\n",
       "      <th>999</th>\n",
       "      <td>Duss Baumanagement AG</td>\n",
       "      <td>Architekturbüros</td>\n",
       "      <td>NaN</td>\n",
       "      <td>tel:041 620 00 01</td>\n",
       "      <td>fax:041 620 00 02</td>\n",
       "      <td>Vorderlinden 2\\n6374 Buochs</td>\n",
       "      <td>https://www.google.com/maps/place/Vorderlinden...</td>\n",
       "      <td>website not accessible</td>\n",
       "    </tr>\n",
       "    <tr>\n",
       "      <th>1000</th>\n",
       "      <td>Cleanetta Trading GmbH</td>\n",
       "      <td>Bewertungen</td>\n",
       "      <td>NaN</td>\n",
       "      <td>tel:056 633 64 22</td>\n",
       "      <td>fax:056 631 76 67</td>\n",
       "      <td>Birkenweg 5\\n5615 Fahrwangen</td>\n",
       "      <td>https://www.google.com/maps/place/Birkenweg%20...</td>\n",
       "      <td>website not accessible</td>\n",
       "    </tr>\n",
       "  </tbody>\n",
       "</table>\n",
       "</div>"
      ],
      "text/plain": [
       "                           company_name  \\\n",
       "996                 on3 neues wohnen AG   \n",
       "997   Due 4 You Coiffure Rüegger Judith   \n",
       "998                 Garage Auto Kunz AG   \n",
       "999               Duss Baumanagement AG   \n",
       "1000             Cleanetta Trading GmbH   \n",
       "\n",
       "                                              industry  \\\n",
       "996   Aktivitäten der Generalunternehmen im Baugewerbe   \n",
       "997                                     Coiffeursalons   \n",
       "998       lnstandhaltung und Reparatur von Automobilen   \n",
       "999                                   Architekturbüros   \n",
       "1000                                       Bewertungen   \n",
       "\n",
       "                          website          telephone                fax  \\\n",
       "996                           NaN  tel:061 511 79 00                NaN   \n",
       "997   http://www.4youcoiffure.ch/  tel:062 794 41 45                NaN   \n",
       "998       http://www.autokunz.ch/  tel:056 622 13 43  fax:056 619 70 80   \n",
       "999                           NaN  tel:041 620 00 01  fax:041 620 00 02   \n",
       "1000                          NaN  tel:056 633 64 22  fax:056 631 76 67   \n",
       "\n",
       "                                      address  \\\n",
       "996       St. Johanns-Vorstadt 17\\n4056 Basel   \n",
       "997              Sennhofweg 12\\n4852 Rothrist   \n",
       "998   Bremgarterstrasse 38+75\\n5610 Wohlen AG   \n",
       "999               Vorderlinden 2\\n6374 Buochs   \n",
       "1000             Birkenweg 5\\n5615 Fahrwangen   \n",
       "\n",
       "                                        address_maplink  \\\n",
       "996   https://www.google.com/maps/place/St.%20Johann...   \n",
       "997   https://www.google.com/maps/place/Sennhofweg%2...   \n",
       "998   https://www.google.com/maps/place/Bremgarterst...   \n",
       "999   https://www.google.com/maps/place/Vorderlinden...   \n",
       "1000  https://www.google.com/maps/place/Birkenweg%20...   \n",
       "\n",
       "                       email  \n",
       "996   website not accessible  \n",
       "997                     None  \n",
       "998    werkstatt@autokunz.ch  \n",
       "999   website not accessible  \n",
       "1000  website not accessible  "
      ]
     },
     "execution_count": 273,
     "metadata": {},
     "output_type": "execute_result"
    }
   ],
   "source": [
    "df.tail()"
   ]
  },
  {
   "cell_type": "code",
   "execution_count": 274,
   "id": "a6f050d8",
   "metadata": {},
   "outputs": [
    {
     "data": {
      "text/html": [
       "<div>\n",
       "<style scoped>\n",
       "    .dataframe tbody tr th:only-of-type {\n",
       "        vertical-align: middle;\n",
       "    }\n",
       "\n",
       "    .dataframe tbody tr th {\n",
       "        vertical-align: top;\n",
       "    }\n",
       "\n",
       "    .dataframe thead th {\n",
       "        text-align: right;\n",
       "    }\n",
       "</style>\n",
       "<table border=\"1\" class=\"dataframe\">\n",
       "  <thead>\n",
       "    <tr style=\"text-align: right;\">\n",
       "      <th></th>\n",
       "      <th>company_name</th>\n",
       "      <th>industry</th>\n",
       "      <th>website</th>\n",
       "      <th>telephone</th>\n",
       "      <th>fax</th>\n",
       "      <th>address</th>\n",
       "      <th>address_maplink</th>\n",
       "      <th>email</th>\n",
       "    </tr>\n",
       "  </thead>\n",
       "  <tbody>\n",
       "    <tr>\n",
       "      <th>0</th>\n",
       "      <td>True</td>\n",
       "      <td>True</td>\n",
       "      <td>True</td>\n",
       "      <td>True</td>\n",
       "      <td>True</td>\n",
       "      <td>True</td>\n",
       "      <td>True</td>\n",
       "      <td>True</td>\n",
       "    </tr>\n",
       "    <tr>\n",
       "      <th>1</th>\n",
       "      <td>True</td>\n",
       "      <td>True</td>\n",
       "      <td>True</td>\n",
       "      <td>True</td>\n",
       "      <td>True</td>\n",
       "      <td>True</td>\n",
       "      <td>True</td>\n",
       "      <td>True</td>\n",
       "    </tr>\n",
       "    <tr>\n",
       "      <th>2</th>\n",
       "      <td>True</td>\n",
       "      <td>True</td>\n",
       "      <td>True</td>\n",
       "      <td>True</td>\n",
       "      <td>True</td>\n",
       "      <td>True</td>\n",
       "      <td>True</td>\n",
       "      <td>True</td>\n",
       "    </tr>\n",
       "    <tr>\n",
       "      <th>3</th>\n",
       "      <td>True</td>\n",
       "      <td>True</td>\n",
       "      <td>True</td>\n",
       "      <td>True</td>\n",
       "      <td>False</td>\n",
       "      <td>True</td>\n",
       "      <td>True</td>\n",
       "      <td>True</td>\n",
       "    </tr>\n",
       "    <tr>\n",
       "      <th>4</th>\n",
       "      <td>True</td>\n",
       "      <td>True</td>\n",
       "      <td>True</td>\n",
       "      <td>True</td>\n",
       "      <td>False</td>\n",
       "      <td>True</td>\n",
       "      <td>True</td>\n",
       "      <td>True</td>\n",
       "    </tr>\n",
       "  </tbody>\n",
       "</table>\n",
       "</div>"
      ],
      "text/plain": [
       "   company_name  industry  website  telephone    fax  address  \\\n",
       "0          True      True     True       True   True     True   \n",
       "1          True      True     True       True   True     True   \n",
       "2          True      True     True       True   True     True   \n",
       "3          True      True     True       True  False     True   \n",
       "4          True      True     True       True  False     True   \n",
       "\n",
       "   address_maplink  email  \n",
       "0             True   True  \n",
       "1             True   True  \n",
       "2             True   True  \n",
       "3             True   True  \n",
       "4             True   True  "
      ]
     },
     "execution_count": 274,
     "metadata": {},
     "output_type": "execute_result"
    }
   ],
   "source": [
    "df.head() == df1.head()"
   ]
  },
  {
   "cell_type": "code",
   "execution_count": 275,
   "id": "6c417fb8",
   "metadata": {},
   "outputs": [
    {
     "data": {
      "text/html": [
       "<div>\n",
       "<style scoped>\n",
       "    .dataframe tbody tr th:only-of-type {\n",
       "        vertical-align: middle;\n",
       "    }\n",
       "\n",
       "    .dataframe tbody tr th {\n",
       "        vertical-align: top;\n",
       "    }\n",
       "\n",
       "    .dataframe thead th {\n",
       "        text-align: right;\n",
       "    }\n",
       "</style>\n",
       "<table border=\"1\" class=\"dataframe\">\n",
       "  <thead>\n",
       "    <tr style=\"text-align: right;\">\n",
       "      <th></th>\n",
       "      <th>company_name</th>\n",
       "      <th>industry</th>\n",
       "      <th>website</th>\n",
       "      <th>telephone</th>\n",
       "      <th>fax</th>\n",
       "      <th>address</th>\n",
       "      <th>address_maplink</th>\n",
       "      <th>email</th>\n",
       "    </tr>\n",
       "  </thead>\n",
       "  <tbody>\n",
       "    <tr>\n",
       "      <th>996</th>\n",
       "      <td>True</td>\n",
       "      <td>True</td>\n",
       "      <td>False</td>\n",
       "      <td>True</td>\n",
       "      <td>False</td>\n",
       "      <td>True</td>\n",
       "      <td>True</td>\n",
       "      <td>True</td>\n",
       "    </tr>\n",
       "    <tr>\n",
       "      <th>997</th>\n",
       "      <td>True</td>\n",
       "      <td>True</td>\n",
       "      <td>True</td>\n",
       "      <td>True</td>\n",
       "      <td>False</td>\n",
       "      <td>True</td>\n",
       "      <td>True</td>\n",
       "      <td>False</td>\n",
       "    </tr>\n",
       "    <tr>\n",
       "      <th>998</th>\n",
       "      <td>True</td>\n",
       "      <td>True</td>\n",
       "      <td>True</td>\n",
       "      <td>True</td>\n",
       "      <td>True</td>\n",
       "      <td>True</td>\n",
       "      <td>True</td>\n",
       "      <td>True</td>\n",
       "    </tr>\n",
       "    <tr>\n",
       "      <th>999</th>\n",
       "      <td>True</td>\n",
       "      <td>True</td>\n",
       "      <td>False</td>\n",
       "      <td>True</td>\n",
       "      <td>True</td>\n",
       "      <td>True</td>\n",
       "      <td>True</td>\n",
       "      <td>True</td>\n",
       "    </tr>\n",
       "    <tr>\n",
       "      <th>1000</th>\n",
       "      <td>True</td>\n",
       "      <td>True</td>\n",
       "      <td>False</td>\n",
       "      <td>True</td>\n",
       "      <td>True</td>\n",
       "      <td>True</td>\n",
       "      <td>True</td>\n",
       "      <td>True</td>\n",
       "    </tr>\n",
       "  </tbody>\n",
       "</table>\n",
       "</div>"
      ],
      "text/plain": [
       "      company_name  industry  website  telephone    fax  address  \\\n",
       "996           True      True    False       True  False     True   \n",
       "997           True      True     True       True  False     True   \n",
       "998           True      True     True       True   True     True   \n",
       "999           True      True    False       True   True     True   \n",
       "1000          True      True    False       True   True     True   \n",
       "\n",
       "      address_maplink  email  \n",
       "996              True   True  \n",
       "997              True  False  \n",
       "998              True   True  \n",
       "999              True   True  \n",
       "1000             True   True  "
      ]
     },
     "execution_count": 275,
     "metadata": {},
     "output_type": "execute_result"
    }
   ],
   "source": [
    "df.tail() == df13.tail()"
   ]
  },
  {
   "cell_type": "markdown",
   "id": "8d959ee5",
   "metadata": {},
   "source": [
    "### End of Checkpoint-4"
   ]
  },
  {
   "cell_type": "markdown",
   "id": "7fe124b5",
   "metadata": {},
   "source": [
    "### xxxxxxxxxxxxxxxxxxxxxxxxx Push to Github xxxxxxxxxxxxxxxxxxxxxx"
   ]
  },
  {
   "cell_type": "markdown",
   "id": "b67932da",
   "metadata": {},
   "source": [
    "### Batch-14, batch_size = 1227, batch_start_index = 13001\n"
   ]
  },
  {
   "cell_type": "markdown",
   "id": "09b4b2f6",
   "metadata": {},
   "source": [
    "#### !Cell is executed. Uncomment (Ctrl + A followed by Ctrl + /) and execute (Shift + Enter) again only if you want to run the batch again."
   ]
  },
  {
   "cell_type": "code",
   "execution_count": 276,
   "id": "50953c5e",
   "metadata": {},
   "outputs": [],
   "source": [
    "# # Extract info of interst\n",
    "# start_time = time.time()\n",
    "# batch14_initial = extract_info_of_interest(unique_company_profile_urls, batch_size = 1227, batch_start_index = 13001, sleep=5)\n",
    "# end_time = time.time()\n",
    "# execution_time = end_time - start_time\n",
    "# print('execution time: ', execution_time)"
   ]
  },
  {
   "cell_type": "markdown",
   "id": "86383b74",
   "metadata": {},
   "source": [
    "### Checkpoint-1"
   ]
  },
  {
   "cell_type": "code",
   "execution_count": 277,
   "id": "d120315b",
   "metadata": {},
   "outputs": [],
   "source": [
    "# # Test_Block !Uncomment and execute only if running the batch again\n",
    "# print(len(batch14_initial))\n",
    "# print(len(batch14_initial[-1]))"
   ]
  },
  {
   "cell_type": "code",
   "execution_count": 278,
   "id": "80b2a760",
   "metadata": {},
   "outputs": [],
   "source": [
    "# # Test_Block !Uncomment and execute only if running the batch again\n",
    "# print(batch14_initial[:3])"
   ]
  },
  {
   "cell_type": "markdown",
   "id": "410de574",
   "metadata": {},
   "source": [
    "### End of Checkpoint-1"
   ]
  },
  {
   "cell_type": "code",
   "execution_count": 279,
   "id": "344b3642",
   "metadata": {},
   "outputs": [],
   "source": [
    "batch14df = pd.read_csv('batch14.csv')"
   ]
  },
  {
   "cell_type": "code",
   "execution_count": 280,
   "id": "a723f22b",
   "metadata": {},
   "outputs": [],
   "source": [
    "batch14df_initial = batch14df.drop(['email'], axis = 1)"
   ]
  },
  {
   "cell_type": "code",
   "execution_count": 281,
   "id": "01a78b25",
   "metadata": {
    "scrolled": true
   },
   "outputs": [
    {
     "name": "stdout",
     "output_type": "stream",
     "text": [
      "<class 'pandas.core.frame.DataFrame'>\n",
      "RangeIndex: 1226 entries, 0 to 1225\n",
      "Data columns (total 7 columns):\n",
      " #   Column           Non-Null Count  Dtype \n",
      "---  ------           --------------  ----- \n",
      " 0   company_name     1224 non-null   object\n",
      " 1   industry         1226 non-null   object\n",
      " 2   website          696 non-null    object\n",
      " 3   telephone        1092 non-null   object\n",
      " 4   fax              672 non-null    object\n",
      " 5   address          1224 non-null   object\n",
      " 6   address_maplink  1224 non-null   object\n",
      "dtypes: object(7)\n",
      "memory usage: 67.2+ KB\n"
     ]
    }
   ],
   "source": [
    "batch14df_initial.info()"
   ]
  },
  {
   "cell_type": "code",
   "execution_count": 282,
   "id": "b68864d0",
   "metadata": {},
   "outputs": [
    {
     "name": "stdout",
     "output_type": "stream",
     "text": [
      "[['Cleanetta Trading GmbH', 'Bewertungen', nan, 'tel:056 633 64 22', 'fax:056 631 76 67', 'Birkenweg 5\\n5615 Fahrwangen', 'https://www.google.com/maps/place/Birkenweg%205+5615+Fahrwangen'], ['Karl Barth AG', 'Herstellung von sonstigen nicht wirtschaftszweigspezifischen Maschinen a. n. g.', 'http://www.kbarth.ch/', 'tel:052 301 00 13', 'fax:052 301 00 19', 'Unterdorf 27\\n8421 Dättlikon', 'https://www.google.com/maps/place/Unterdorf%2027+8421+D%C3%A4ttlikon'], ['clevergie ag', 'Elektrizitätserzeugung', 'http://www.clevergie.ch/', 'tel:062 966 00 66', nan, 'Möösli 307\\n4954 Wyssachen', 'https://www.google.com/maps/place/M%C3%B6%C3%B6sli%20307+4954+Wyssachen']]\n"
     ]
    }
   ],
   "source": [
    "batch14_initial = batch14df_initial.values.tolist()\n",
    "print(batch14_initial[:3])"
   ]
  },
  {
   "cell_type": "markdown",
   "id": "8b6753a3",
   "metadata": {},
   "source": [
    "#### Following Function Extracts emails from Home Page Only (Takes Less Time: 1 sec per page)"
   ]
  },
  {
   "cell_type": "code",
   "execution_count": 283,
   "id": "3d48e068",
   "metadata": {},
   "outputs": [
    {
     "name": "stderr",
     "output_type": "stream",
     "text": [
      "C:\\Users\\Admin\\miniconda3\\lib\\site-packages\\bs4\\builder\\__init__.py:545: XMLParsedAsHTMLWarning: It looks like you're parsing an XML document using an HTML parser. If this really is an HTML document (maybe it's XHTML?), you can ignore or filter this warning. If it's XML, you should know that using an XML parser will be more reliable. To parse this document as XML, make sure you have the lxml package installed, and pass the keyword argument `features=\"xml\"` into the BeautifulSoup constructor.\n",
      "  warnings.warn(\n"
     ]
    },
    {
     "name": "stdout",
     "output_type": "stream",
     "text": [
      "No of emails found:  403\n",
      "execution time:  1377.8417155742645\n"
     ]
    }
   ],
   "source": [
    "# Extract emails\n",
    "start_time = time.time()\n",
    "pattern = r'\\b[A-Za-z0-9._%+-]+@[A-Za-z0-9.-]+\\.[A-Z|a-z]{2,}\\b'\n",
    "batch14 = extract_emails_from_homepage(batch14_initial, pattern = pattern , index=2)\n",
    "end_time = time.time()\n",
    "execution_time = end_time - start_time\n",
    "print('execution time: ', execution_time)"
   ]
  },
  {
   "cell_type": "markdown",
   "id": "cc81b97d",
   "metadata": {},
   "source": [
    "### Checkpoint-2"
   ]
  },
  {
   "cell_type": "code",
   "execution_count": 284,
   "id": "5fdc1368",
   "metadata": {},
   "outputs": [
    {
     "name": "stdout",
     "output_type": "stream",
     "text": [
      "1226\n",
      "8\n",
      "[['HWB-Finger AG', 'Bauschreinerei, Fenster und Türen', 'http://www.hwb-fingerag.ch/', 'tel:076 330 44 40', nan, 'Alte Aarestrasse 3a\\n3627 Heimberg', 'https://www.google.com/maps/place/Alte%20Aarestrasse%203a+3627+Heimberg', 'Info@hwb-fingerag.ch'], ['Wenger + Wirz AG', 'Elektroinstallation', nan, 'tel:052 657 41 11', 'fax:052 657 30 55', 'Schlattingerbuck\\n8253 Diessenhofen', 'https://www.google.com/maps/place/Schlattingerbuck+8253+Diessenhofen', 'website not accessible'], ['AHG-Cars Biel AG', 'lnstandhaltung und Reparatur von Automobilen', 'http://www.ahg-cars.ch/', 'tel:032 328 66 03', 'fax:032 328 66 00', 'Bözingenstrasse 100\\n2502 Biel/Bienne', 'https://www.google.com/maps/place/B%C3%B6zingenstrasse%20100+2502+Biel/Bienne', 'hotline@ahg-cars.ch'], ['Ochsner + Ochsner AG', 'Architekturbüros', 'http://www.ochsner-ochsner.ch/', 'tel:041 711 41 01', 'fax:041 711 41 03', 'Gubelstrasse 17\\n6304 Zug', 'https://www.google.com/maps/place/Gubelstrasse%2017+6304+Zug', 'bad link'], ['KARL GUBLER METALLWAREN', 'Herstellung von Metallkonstruktionen', nan, 'tel:062 723 16 72', 'fax:062 723 48 49', 'Hint.Bahnhofstrasse 3\\n5034 Suhr', 'https://www.google.com/maps/place/Hint.Bahnhofstrasse%203+5034+Suhr', 'website not accessible']]\n"
     ]
    }
   ],
   "source": [
    "print(len(batch14)) # should be same as batch_size i.e. 1000\n",
    "print(len(batch14[-1])) # should be 8\n",
    "print(batch14[-5:]) #should have 8 items in each list with emails or remarks added"
   ]
  },
  {
   "cell_type": "markdown",
   "id": "391ed0d5",
   "metadata": {},
   "source": [
    "### End of Checkpoint-2"
   ]
  },
  {
   "cell_type": "code",
   "execution_count": 285,
   "id": "8ada1a62",
   "metadata": {},
   "outputs": [],
   "source": [
    "# # Convert to Dataframe batch11\n",
    "df14 = pd.DataFrame(batch14, columns=columns)\n"
   ]
  },
  {
   "cell_type": "markdown",
   "id": "7ec7d3f9",
   "metadata": {},
   "source": [
    "### Checkpoint-3"
   ]
  },
  {
   "cell_type": "code",
   "execution_count": 286,
   "id": "a3f2d97e",
   "metadata": {},
   "outputs": [
    {
     "name": "stdout",
     "output_type": "stream",
     "text": [
      "<class 'pandas.core.frame.DataFrame'>\n",
      "RangeIndex: 1226 entries, 0 to 1225\n",
      "Data columns (total 8 columns):\n",
      " #   Column           Non-Null Count  Dtype \n",
      "---  ------           --------------  ----- \n",
      " 0   company_name     1224 non-null   object\n",
      " 1   industry         1226 non-null   object\n",
      " 2   website          696 non-null    object\n",
      " 3   telephone        1092 non-null   object\n",
      " 4   fax              672 non-null    object\n",
      " 5   address          1224 non-null   object\n",
      " 6   address_maplink  1224 non-null   object\n",
      " 7   email            1063 non-null   object\n",
      "dtypes: object(8)\n",
      "memory usage: 76.8+ KB\n"
     ]
    }
   ],
   "source": [
    "df14.info()"
   ]
  },
  {
   "cell_type": "code",
   "execution_count": 287,
   "id": "5911ad0c",
   "metadata": {},
   "outputs": [],
   "source": [
    "# save as csv\n",
    "df14.to_csv('batch14.csv', index = False)"
   ]
  },
  {
   "cell_type": "markdown",
   "id": "dc507329",
   "metadata": {},
   "source": [
    "### End of Checkpoint-3"
   ]
  },
  {
   "cell_type": "code",
   "execution_count": 288,
   "id": "ca6e167e",
   "metadata": {},
   "outputs": [],
   "source": [
    "#### Merge the two dataframes\n",
    "df = pd.concat([df, df14])"
   ]
  },
  {
   "cell_type": "markdown",
   "id": "14298eab",
   "metadata": {},
   "source": [
    "### Checkpoing-4"
   ]
  },
  {
   "cell_type": "code",
   "execution_count": 289,
   "id": "34458d1c",
   "metadata": {
    "scrolled": true
   },
   "outputs": [
    {
     "name": "stdout",
     "output_type": "stream",
     "text": [
      "<class 'pandas.core.frame.DataFrame'>\n",
      "Int64Index: 14239 entries, 0 to 1225\n",
      "Data columns (total 8 columns):\n",
      " #   Column           Non-Null Count  Dtype \n",
      "---  ------           --------------  ----- \n",
      " 0   company_name     14071 non-null  object\n",
      " 1   industry         14080 non-null  object\n",
      " 2   website          8063 non-null   object\n",
      " 3   telephone        12466 non-null  object\n",
      " 4   fax              7881 non-null   object\n",
      " 5   address          14071 non-null  object\n",
      " 6   address_maplink  14103 non-null  object\n",
      " 7   email            12254 non-null  object\n",
      "dtypes: object(8)\n",
      "memory usage: 1001.2+ KB\n"
     ]
    }
   ],
   "source": [
    "df.info()"
   ]
  },
  {
   "cell_type": "code",
   "execution_count": 290,
   "id": "c5e4d313",
   "metadata": {},
   "outputs": [
    {
     "data": {
      "text/html": [
       "<div>\n",
       "<style scoped>\n",
       "    .dataframe tbody tr th:only-of-type {\n",
       "        vertical-align: middle;\n",
       "    }\n",
       "\n",
       "    .dataframe tbody tr th {\n",
       "        vertical-align: top;\n",
       "    }\n",
       "\n",
       "    .dataframe thead th {\n",
       "        text-align: right;\n",
       "    }\n",
       "</style>\n",
       "<table border=\"1\" class=\"dataframe\">\n",
       "  <thead>\n",
       "    <tr style=\"text-align: right;\">\n",
       "      <th></th>\n",
       "      <th>company_name</th>\n",
       "      <th>industry</th>\n",
       "      <th>website</th>\n",
       "      <th>telephone</th>\n",
       "      <th>fax</th>\n",
       "      <th>address</th>\n",
       "      <th>address_maplink</th>\n",
       "      <th>email</th>\n",
       "    </tr>\n",
       "  </thead>\n",
       "  <tbody>\n",
       "    <tr>\n",
       "      <th>0</th>\n",
       "      <td>Ringler + Strahm Storenbau AG</td>\n",
       "      <td>Sonstige Bauinstallation</td>\n",
       "      <td>http://www.ringler-strahm.ch/</td>\n",
       "      <td>tel:033 345 22 55</td>\n",
       "      <td>fax:033 345 55 19</td>\n",
       "      <td>Uetendorfstrasse 20\\n3634 Thierachern</td>\n",
       "      <td>https://www.google.com/maps/place/Uetendorfstr...</td>\n",
       "      <td>info@ringler-strahm.ch</td>\n",
       "    </tr>\n",
       "    <tr>\n",
       "      <th>1</th>\n",
       "      <td>Grob &amp; Partner Architektur AG</td>\n",
       "      <td>Architekturbüros</td>\n",
       "      <td>http://www.grobarchitektur.ch/</td>\n",
       "      <td>tel:081 720 02 00</td>\n",
       "      <td>fax:081 720 02 05</td>\n",
       "      <td>Bahnhofstrasse 3\\n7320 Sargans</td>\n",
       "      <td>https://www.google.com/maps/place/Bahnhofstras...</td>\n",
       "      <td>8c4075d5481d476e945486754f783364@sentry.io</td>\n",
       "    </tr>\n",
       "    <tr>\n",
       "      <th>2</th>\n",
       "      <td>Lauclair AG</td>\n",
       "      <td>Schreinerarbeiten im Innenausbau</td>\n",
       "      <td>http://www.lauclair.ch/</td>\n",
       "      <td>tel:031 879 01 69</td>\n",
       "      <td>fax:031 879 20 69</td>\n",
       "      <td>Lyssstrasse 27\\n3054 Schüpfen</td>\n",
       "      <td>https://www.google.com/maps/place/Lyssstrasse%...</td>\n",
       "      <td>98181273782d9a9g3251e7d066b95071@2x.jpg</td>\n",
       "    </tr>\n",
       "    <tr>\n",
       "      <th>3</th>\n",
       "      <td>Club Goldwand</td>\n",
       "      <td>Kauf und Verkauf von eigenen Grundstücken, Geb...</td>\n",
       "      <td>http://www.clubgoldwand.ch/</td>\n",
       "      <td>tel:056 282 30 50</td>\n",
       "      <td>NaN</td>\n",
       "      <td>Landstrasse 6\\n5415 Nussbaumen AG</td>\n",
       "      <td>https://www.google.com/maps/place/Landstrasse%...</td>\n",
       "      <td>info@clubgoldwand.ch</td>\n",
       "    </tr>\n",
       "    <tr>\n",
       "      <th>4</th>\n",
       "      <td>NICOLE DIEM Horgen</td>\n",
       "      <td>Detailhandel mit Brillen und anderen Sehhilfen</td>\n",
       "      <td>http://www.nicolediem.ch/</td>\n",
       "      <td>tel:044 770 10 40</td>\n",
       "      <td>NaN</td>\n",
       "      <td>Dorfplatz 3\\n8810 Horgen</td>\n",
       "      <td>https://www.google.com/maps/place/Dorfplatz%20...</td>\n",
       "      <td>johndoe@domain.com</td>\n",
       "    </tr>\n",
       "  </tbody>\n",
       "</table>\n",
       "</div>"
      ],
      "text/plain": [
       "                    company_name  \\\n",
       "0  Ringler + Strahm Storenbau AG   \n",
       "1  Grob & Partner Architektur AG   \n",
       "2                    Lauclair AG   \n",
       "3                  Club Goldwand   \n",
       "4             NICOLE DIEM Horgen   \n",
       "\n",
       "                                            industry  \\\n",
       "0                           Sonstige Bauinstallation   \n",
       "1                                   Architekturbüros   \n",
       "2                   Schreinerarbeiten im Innenausbau   \n",
       "3  Kauf und Verkauf von eigenen Grundstücken, Geb...   \n",
       "4     Detailhandel mit Brillen und anderen Sehhilfen   \n",
       "\n",
       "                          website          telephone                fax  \\\n",
       "0   http://www.ringler-strahm.ch/  tel:033 345 22 55  fax:033 345 55 19   \n",
       "1  http://www.grobarchitektur.ch/  tel:081 720 02 00  fax:081 720 02 05   \n",
       "2         http://www.lauclair.ch/  tel:031 879 01 69  fax:031 879 20 69   \n",
       "3     http://www.clubgoldwand.ch/  tel:056 282 30 50                NaN   \n",
       "4       http://www.nicolediem.ch/  tel:044 770 10 40                NaN   \n",
       "\n",
       "                                 address  \\\n",
       "0  Uetendorfstrasse 20\\n3634 Thierachern   \n",
       "1         Bahnhofstrasse 3\\n7320 Sargans   \n",
       "2          Lyssstrasse 27\\n3054 Schüpfen   \n",
       "3      Landstrasse 6\\n5415 Nussbaumen AG   \n",
       "4               Dorfplatz 3\\n8810 Horgen   \n",
       "\n",
       "                                     address_maplink  \\\n",
       "0  https://www.google.com/maps/place/Uetendorfstr...   \n",
       "1  https://www.google.com/maps/place/Bahnhofstras...   \n",
       "2  https://www.google.com/maps/place/Lyssstrasse%...   \n",
       "3  https://www.google.com/maps/place/Landstrasse%...   \n",
       "4  https://www.google.com/maps/place/Dorfplatz%20...   \n",
       "\n",
       "                                        email  \n",
       "0                      info@ringler-strahm.ch  \n",
       "1  8c4075d5481d476e945486754f783364@sentry.io  \n",
       "2     98181273782d9a9g3251e7d066b95071@2x.jpg  \n",
       "3                        info@clubgoldwand.ch  \n",
       "4                          johndoe@domain.com  "
      ]
     },
     "execution_count": 290,
     "metadata": {},
     "output_type": "execute_result"
    }
   ],
   "source": [
    "df.head()"
   ]
  },
  {
   "cell_type": "code",
   "execution_count": 291,
   "id": "3215e422",
   "metadata": {},
   "outputs": [
    {
     "data": {
      "text/html": [
       "<div>\n",
       "<style scoped>\n",
       "    .dataframe tbody tr th:only-of-type {\n",
       "        vertical-align: middle;\n",
       "    }\n",
       "\n",
       "    .dataframe tbody tr th {\n",
       "        vertical-align: top;\n",
       "    }\n",
       "\n",
       "    .dataframe thead th {\n",
       "        text-align: right;\n",
       "    }\n",
       "</style>\n",
       "<table border=\"1\" class=\"dataframe\">\n",
       "  <thead>\n",
       "    <tr style=\"text-align: right;\">\n",
       "      <th></th>\n",
       "      <th>company_name</th>\n",
       "      <th>industry</th>\n",
       "      <th>website</th>\n",
       "      <th>telephone</th>\n",
       "      <th>fax</th>\n",
       "      <th>address</th>\n",
       "      <th>address_maplink</th>\n",
       "      <th>email</th>\n",
       "    </tr>\n",
       "  </thead>\n",
       "  <tbody>\n",
       "    <tr>\n",
       "      <th>1221</th>\n",
       "      <td>HWB-Finger AG</td>\n",
       "      <td>Bauschreinerei, Fenster und Türen</td>\n",
       "      <td>http://www.hwb-fingerag.ch/</td>\n",
       "      <td>tel:076 330 44 40</td>\n",
       "      <td>NaN</td>\n",
       "      <td>Alte Aarestrasse 3a\\n3627 Heimberg</td>\n",
       "      <td>https://www.google.com/maps/place/Alte%20Aares...</td>\n",
       "      <td>Info@hwb-fingerag.ch</td>\n",
       "    </tr>\n",
       "    <tr>\n",
       "      <th>1222</th>\n",
       "      <td>Wenger + Wirz AG</td>\n",
       "      <td>Elektroinstallation</td>\n",
       "      <td>NaN</td>\n",
       "      <td>tel:052 657 41 11</td>\n",
       "      <td>fax:052 657 30 55</td>\n",
       "      <td>Schlattingerbuck\\n8253 Diessenhofen</td>\n",
       "      <td>https://www.google.com/maps/place/Schlattinger...</td>\n",
       "      <td>website not accessible</td>\n",
       "    </tr>\n",
       "    <tr>\n",
       "      <th>1223</th>\n",
       "      <td>AHG-Cars Biel AG</td>\n",
       "      <td>lnstandhaltung und Reparatur von Automobilen</td>\n",
       "      <td>http://www.ahg-cars.ch/</td>\n",
       "      <td>tel:032 328 66 03</td>\n",
       "      <td>fax:032 328 66 00</td>\n",
       "      <td>Bözingenstrasse 100\\n2502 Biel/Bienne</td>\n",
       "      <td>https://www.google.com/maps/place/B%C3%B6zinge...</td>\n",
       "      <td>hotline@ahg-cars.ch</td>\n",
       "    </tr>\n",
       "    <tr>\n",
       "      <th>1224</th>\n",
       "      <td>Ochsner + Ochsner AG</td>\n",
       "      <td>Architekturbüros</td>\n",
       "      <td>http://www.ochsner-ochsner.ch/</td>\n",
       "      <td>tel:041 711 41 01</td>\n",
       "      <td>fax:041 711 41 03</td>\n",
       "      <td>Gubelstrasse 17\\n6304 Zug</td>\n",
       "      <td>https://www.google.com/maps/place/Gubelstrasse...</td>\n",
       "      <td>bad link</td>\n",
       "    </tr>\n",
       "    <tr>\n",
       "      <th>1225</th>\n",
       "      <td>KARL GUBLER METALLWAREN</td>\n",
       "      <td>Herstellung von Metallkonstruktionen</td>\n",
       "      <td>NaN</td>\n",
       "      <td>tel:062 723 16 72</td>\n",
       "      <td>fax:062 723 48 49</td>\n",
       "      <td>Hint.Bahnhofstrasse 3\\n5034 Suhr</td>\n",
       "      <td>https://www.google.com/maps/place/Hint.Bahnhof...</td>\n",
       "      <td>website not accessible</td>\n",
       "    </tr>\n",
       "  </tbody>\n",
       "</table>\n",
       "</div>"
      ],
      "text/plain": [
       "                 company_name                                      industry  \\\n",
       "1221            HWB-Finger AG             Bauschreinerei, Fenster und Türen   \n",
       "1222         Wenger + Wirz AG                           Elektroinstallation   \n",
       "1223         AHG-Cars Biel AG  lnstandhaltung und Reparatur von Automobilen   \n",
       "1224     Ochsner + Ochsner AG                              Architekturbüros   \n",
       "1225  KARL GUBLER METALLWAREN          Herstellung von Metallkonstruktionen   \n",
       "\n",
       "                             website          telephone                fax  \\\n",
       "1221     http://www.hwb-fingerag.ch/  tel:076 330 44 40                NaN   \n",
       "1222                             NaN  tel:052 657 41 11  fax:052 657 30 55   \n",
       "1223         http://www.ahg-cars.ch/  tel:032 328 66 03  fax:032 328 66 00   \n",
       "1224  http://www.ochsner-ochsner.ch/  tel:041 711 41 01  fax:041 711 41 03   \n",
       "1225                             NaN  tel:062 723 16 72  fax:062 723 48 49   \n",
       "\n",
       "                                    address  \\\n",
       "1221     Alte Aarestrasse 3a\\n3627 Heimberg   \n",
       "1222    Schlattingerbuck\\n8253 Diessenhofen   \n",
       "1223  Bözingenstrasse 100\\n2502 Biel/Bienne   \n",
       "1224              Gubelstrasse 17\\n6304 Zug   \n",
       "1225       Hint.Bahnhofstrasse 3\\n5034 Suhr   \n",
       "\n",
       "                                        address_maplink  \\\n",
       "1221  https://www.google.com/maps/place/Alte%20Aares...   \n",
       "1222  https://www.google.com/maps/place/Schlattinger...   \n",
       "1223  https://www.google.com/maps/place/B%C3%B6zinge...   \n",
       "1224  https://www.google.com/maps/place/Gubelstrasse...   \n",
       "1225  https://www.google.com/maps/place/Hint.Bahnhof...   \n",
       "\n",
       "                       email  \n",
       "1221    Info@hwb-fingerag.ch  \n",
       "1222  website not accessible  \n",
       "1223     hotline@ahg-cars.ch  \n",
       "1224                bad link  \n",
       "1225  website not accessible  "
      ]
     },
     "execution_count": 291,
     "metadata": {},
     "output_type": "execute_result"
    }
   ],
   "source": [
    "df.tail()"
   ]
  },
  {
   "cell_type": "code",
   "execution_count": 292,
   "id": "a233c06c",
   "metadata": {},
   "outputs": [
    {
     "data": {
      "text/html": [
       "<div>\n",
       "<style scoped>\n",
       "    .dataframe tbody tr th:only-of-type {\n",
       "        vertical-align: middle;\n",
       "    }\n",
       "\n",
       "    .dataframe tbody tr th {\n",
       "        vertical-align: top;\n",
       "    }\n",
       "\n",
       "    .dataframe thead th {\n",
       "        text-align: right;\n",
       "    }\n",
       "</style>\n",
       "<table border=\"1\" class=\"dataframe\">\n",
       "  <thead>\n",
       "    <tr style=\"text-align: right;\">\n",
       "      <th></th>\n",
       "      <th>company_name</th>\n",
       "      <th>industry</th>\n",
       "      <th>website</th>\n",
       "      <th>telephone</th>\n",
       "      <th>fax</th>\n",
       "      <th>address</th>\n",
       "      <th>address_maplink</th>\n",
       "      <th>email</th>\n",
       "    </tr>\n",
       "  </thead>\n",
       "  <tbody>\n",
       "    <tr>\n",
       "      <th>0</th>\n",
       "      <td>True</td>\n",
       "      <td>True</td>\n",
       "      <td>True</td>\n",
       "      <td>True</td>\n",
       "      <td>True</td>\n",
       "      <td>True</td>\n",
       "      <td>True</td>\n",
       "      <td>True</td>\n",
       "    </tr>\n",
       "    <tr>\n",
       "      <th>1</th>\n",
       "      <td>True</td>\n",
       "      <td>True</td>\n",
       "      <td>True</td>\n",
       "      <td>True</td>\n",
       "      <td>True</td>\n",
       "      <td>True</td>\n",
       "      <td>True</td>\n",
       "      <td>True</td>\n",
       "    </tr>\n",
       "    <tr>\n",
       "      <th>2</th>\n",
       "      <td>True</td>\n",
       "      <td>True</td>\n",
       "      <td>True</td>\n",
       "      <td>True</td>\n",
       "      <td>True</td>\n",
       "      <td>True</td>\n",
       "      <td>True</td>\n",
       "      <td>True</td>\n",
       "    </tr>\n",
       "    <tr>\n",
       "      <th>3</th>\n",
       "      <td>True</td>\n",
       "      <td>True</td>\n",
       "      <td>True</td>\n",
       "      <td>True</td>\n",
       "      <td>False</td>\n",
       "      <td>True</td>\n",
       "      <td>True</td>\n",
       "      <td>True</td>\n",
       "    </tr>\n",
       "    <tr>\n",
       "      <th>4</th>\n",
       "      <td>True</td>\n",
       "      <td>True</td>\n",
       "      <td>True</td>\n",
       "      <td>True</td>\n",
       "      <td>False</td>\n",
       "      <td>True</td>\n",
       "      <td>True</td>\n",
       "      <td>True</td>\n",
       "    </tr>\n",
       "  </tbody>\n",
       "</table>\n",
       "</div>"
      ],
      "text/plain": [
       "   company_name  industry  website  telephone    fax  address  \\\n",
       "0          True      True     True       True   True     True   \n",
       "1          True      True     True       True   True     True   \n",
       "2          True      True     True       True   True     True   \n",
       "3          True      True     True       True  False     True   \n",
       "4          True      True     True       True  False     True   \n",
       "\n",
       "   address_maplink  email  \n",
       "0             True   True  \n",
       "1             True   True  \n",
       "2             True   True  \n",
       "3             True   True  \n",
       "4             True   True  "
      ]
     },
     "execution_count": 292,
     "metadata": {},
     "output_type": "execute_result"
    }
   ],
   "source": [
    "df.head() == df1.head()"
   ]
  },
  {
   "cell_type": "code",
   "execution_count": 293,
   "id": "f2c3455e",
   "metadata": {},
   "outputs": [
    {
     "data": {
      "text/html": [
       "<div>\n",
       "<style scoped>\n",
       "    .dataframe tbody tr th:only-of-type {\n",
       "        vertical-align: middle;\n",
       "    }\n",
       "\n",
       "    .dataframe tbody tr th {\n",
       "        vertical-align: top;\n",
       "    }\n",
       "\n",
       "    .dataframe thead th {\n",
       "        text-align: right;\n",
       "    }\n",
       "</style>\n",
       "<table border=\"1\" class=\"dataframe\">\n",
       "  <thead>\n",
       "    <tr style=\"text-align: right;\">\n",
       "      <th></th>\n",
       "      <th>company_name</th>\n",
       "      <th>industry</th>\n",
       "      <th>website</th>\n",
       "      <th>telephone</th>\n",
       "      <th>fax</th>\n",
       "      <th>address</th>\n",
       "      <th>address_maplink</th>\n",
       "      <th>email</th>\n",
       "    </tr>\n",
       "  </thead>\n",
       "  <tbody>\n",
       "    <tr>\n",
       "      <th>1221</th>\n",
       "      <td>True</td>\n",
       "      <td>True</td>\n",
       "      <td>True</td>\n",
       "      <td>True</td>\n",
       "      <td>False</td>\n",
       "      <td>True</td>\n",
       "      <td>True</td>\n",
       "      <td>True</td>\n",
       "    </tr>\n",
       "    <tr>\n",
       "      <th>1222</th>\n",
       "      <td>True</td>\n",
       "      <td>True</td>\n",
       "      <td>False</td>\n",
       "      <td>True</td>\n",
       "      <td>True</td>\n",
       "      <td>True</td>\n",
       "      <td>True</td>\n",
       "      <td>True</td>\n",
       "    </tr>\n",
       "    <tr>\n",
       "      <th>1223</th>\n",
       "      <td>True</td>\n",
       "      <td>True</td>\n",
       "      <td>True</td>\n",
       "      <td>True</td>\n",
       "      <td>True</td>\n",
       "      <td>True</td>\n",
       "      <td>True</td>\n",
       "      <td>True</td>\n",
       "    </tr>\n",
       "    <tr>\n",
       "      <th>1224</th>\n",
       "      <td>True</td>\n",
       "      <td>True</td>\n",
       "      <td>True</td>\n",
       "      <td>True</td>\n",
       "      <td>True</td>\n",
       "      <td>True</td>\n",
       "      <td>True</td>\n",
       "      <td>True</td>\n",
       "    </tr>\n",
       "    <tr>\n",
       "      <th>1225</th>\n",
       "      <td>True</td>\n",
       "      <td>True</td>\n",
       "      <td>False</td>\n",
       "      <td>True</td>\n",
       "      <td>True</td>\n",
       "      <td>True</td>\n",
       "      <td>True</td>\n",
       "      <td>True</td>\n",
       "    </tr>\n",
       "  </tbody>\n",
       "</table>\n",
       "</div>"
      ],
      "text/plain": [
       "      company_name  industry  website  telephone    fax  address  \\\n",
       "1221          True      True     True       True  False     True   \n",
       "1222          True      True    False       True   True     True   \n",
       "1223          True      True     True       True   True     True   \n",
       "1224          True      True     True       True   True     True   \n",
       "1225          True      True    False       True   True     True   \n",
       "\n",
       "      address_maplink  email  \n",
       "1221             True   True  \n",
       "1222             True   True  \n",
       "1223             True   True  \n",
       "1224             True   True  \n",
       "1225             True   True  "
      ]
     },
     "execution_count": 293,
     "metadata": {},
     "output_type": "execute_result"
    }
   ],
   "source": [
    "df.tail() == df14.tail()"
   ]
  },
  {
   "cell_type": "code",
   "execution_count": 294,
   "id": "940ec32a",
   "metadata": {
    "scrolled": true
   },
   "outputs": [
    {
     "name": "stdout",
     "output_type": "stream",
     "text": [
      "<class 'pandas.core.frame.DataFrame'>\n",
      "Int64Index: 14239 entries, 0 to 1225\n",
      "Data columns (total 8 columns):\n",
      " #   Column           Non-Null Count  Dtype \n",
      "---  ------           --------------  ----- \n",
      " 0   company_name     14071 non-null  object\n",
      " 1   industry         14080 non-null  object\n",
      " 2   website          8063 non-null   object\n",
      " 3   telephone        12466 non-null  object\n",
      " 4   fax              7881 non-null   object\n",
      " 5   address          14071 non-null  object\n",
      " 6   address_maplink  14103 non-null  object\n",
      " 7   email            12254 non-null  object\n",
      "dtypes: object(8)\n",
      "memory usage: 1001.2+ KB\n"
     ]
    }
   ],
   "source": [
    "## verify\n",
    "df.info()"
   ]
  },
  {
   "cell_type": "code",
   "execution_count": 295,
   "id": "77b86c49",
   "metadata": {},
   "outputs": [],
   "source": [
    "## Save all batches in a csv file\n",
    "df.to_csv('all_batches_home.csv', index = False)"
   ]
  },
  {
   "cell_type": "markdown",
   "id": "bf15607d",
   "metadata": {},
   "source": [
    "### End of Checkpoint-4"
   ]
  },
  {
   "cell_type": "markdown",
   "id": "e873f763",
   "metadata": {},
   "source": [
    "### xxxxxxxxxxxxxxxxxxxxxx Push to Github xxxxxxxxxxxxxxxxxxxxxxxxx"
   ]
  },
  {
   "cell_type": "code",
   "execution_count": null,
   "id": "c5f9c56a",
   "metadata": {},
   "outputs": [],
   "source": []
  }
 ],
 "metadata": {
  "kernelspec": {
   "display_name": "Python 3 (ipykernel)",
   "language": "python",
   "name": "python3"
  },
  "language_info": {
   "codemirror_mode": {
    "name": "ipython",
    "version": 3
   },
   "file_extension": ".py",
   "mimetype": "text/x-python",
   "name": "python",
   "nbconvert_exporter": "python",
   "pygments_lexer": "ipython3",
   "version": "3.10.9"
  }
 },
 "nbformat": 4,
 "nbformat_minor": 5
}
